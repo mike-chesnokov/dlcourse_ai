{
 "cells": [
  {
   "cell_type": "markdown",
   "metadata": {
    "colab_type": "text",
    "id": "AbwmoJusmueU"
   },
   "source": [
    "# Reinforcement Learning"
   ]
  },
  {
   "cell_type": "markdown",
   "metadata": {
    "colab_type": "text",
    "id": "7xcuGNp-mueX"
   },
   "source": [
    "В этом задании постараемся разобраться в проблеме обучения с подкреплением, реализуем алгоритм REINFORCE и научим агента с помощью этого алгоритма играть в игру Cartpole."
   ]
  },
  {
   "cell_type": "markdown",
   "metadata": {
    "colab_type": "text",
    "id": "4HoHMD_GmueZ"
   },
   "source": [
    "Установим и импортируем необходимые библиотеки, а также вспомогательные функции для визуализации игры агента."
   ]
  },
  {
   "cell_type": "code",
   "execution_count": 0,
   "metadata": {
    "colab": {},
    "colab_type": "code",
    "id": "kHKfskxa7kaI"
   },
   "outputs": [],
   "source": [
    "!pip install gym pandas torch matplotlib pyvirtualdisplay > /dev/null 2>&1\n",
    "!apt-get install -y xvfb python-opengl ffmpeg x11-utils > /dev/null 2>&1"
   ]
  },
  {
   "cell_type": "code",
   "execution_count": 1,
   "metadata": {
    "ExecuteTime": {
     "end_time": "2019-09-15T18:25:37.209515Z",
     "start_time": "2019-09-15T18:25:37.087201Z"
    },
    "colab": {},
    "colab_type": "code",
    "id": "WiX0JVM3z0Ru"
   },
   "outputs": [],
   "source": [
    "from IPython.display import clear_output, HTML\n",
    "from IPython import display as ipythondisplay\n",
    "import matplotlib.pyplot as plt\n",
    "%matplotlib inline"
   ]
  },
  {
   "cell_type": "code",
   "execution_count": 2,
   "metadata": {
    "ExecuteTime": {
     "end_time": "2019-09-15T18:25:38.296190Z",
     "start_time": "2019-09-15T18:25:38.019475Z"
    },
    "colab": {},
    "colab_type": "code",
    "id": "IsjSHknYl1rj"
   },
   "outputs": [],
   "source": [
    "from itertools import count\n",
    "import numpy as np\n",
    "import glob\n",
    "import time\n",
    "import io\n",
    "import base64\n",
    "import gym\n",
    "from gym.wrappers import Monitor\n",
    "import torch\n",
    "import collections\n",
    "import pandas as pd\n",
    "from torch import nn\n",
    "from torch.optim import Adam\n",
    "from torch.distributions import Categorical"
   ]
  },
  {
   "cell_type": "code",
   "execution_count": 3,
   "metadata": {
    "ExecuteTime": {
     "end_time": "2019-09-15T18:25:38.888406Z",
     "start_time": "2019-09-15T18:25:38.833043Z"
    },
    "colab": {},
    "colab_type": "code",
    "id": "b5KfVGq1n_8s"
   },
   "outputs": [
    {
     "data": {
      "text/plain": [
       "<Display cmd_param=['Xvfb', '-br', '-nolisten', 'tcp', '-screen', '0', '1400x900x24', ':1001'] cmd=['Xvfb', '-br', '-nolisten', 'tcp', '-screen', '0', '1400x900x24', ':1001'] oserror=None return_code=None stdout=\"None\" stderr=\"None\" timeout_happened=False>"
      ]
     },
     "execution_count": 3,
     "metadata": {},
     "output_type": "execute_result"
    }
   ],
   "source": [
    "from pyvirtualdisplay import Display\n",
    "display = Display(visible=0, size=(1400, 900))\n",
    "display.start()"
   ]
  },
  {
   "cell_type": "code",
   "execution_count": 4,
   "metadata": {
    "ExecuteTime": {
     "end_time": "2019-09-15T18:25:39.943104Z",
     "start_time": "2019-09-15T18:25:39.939543Z"
    },
    "colab": {},
    "colab_type": "code",
    "id": "4xGh4QxDnlFw"
   },
   "outputs": [],
   "source": [
    "\"\"\"\n",
    "Utility functions to enable video recording of gym environment and displaying it\n",
    "To enable video, just do \"env = wrap_env(env)\"\"\n",
    "\"\"\"\n",
    "\n",
    "def show_video():\n",
    "    mp4list = glob.glob('video/*.mp4')\n",
    "    if len(mp4list) > 0:\n",
    "        mp4 = mp4list[0]\n",
    "        video = io.open(mp4, 'r+b').read()\n",
    "        encoded = base64.b64encode(video)\n",
    "        ipythondisplay.display(HTML(data='''<video alt=\"test\" autoplay \n",
    "                loop controls style=\"height: 400px;\">\n",
    "                <source src=\"data:video/mp4;base64,{0}\" type=\"video/mp4\" />\n",
    "             </video>'''.format(encoded.decode('ascii'))))\n",
    "    else: \n",
    "        print(\"Could not find video\")\n",
    "    \n",
    "\n",
    "def wrap_env(env):\n",
    "    env = Monitor(env, './video', force=True)\n",
    "    return env"
   ]
  },
  {
   "cell_type": "code",
   "execution_count": 5,
   "metadata": {
    "ExecuteTime": {
     "end_time": "2019-09-15T18:25:41.622213Z",
     "start_time": "2019-09-15T18:25:41.603699Z"
    },
    "colab": {},
    "colab_type": "code",
    "id": "Dfi89tXjmuet"
   },
   "outputs": [],
   "source": [
    "device = torch.device('cuda:0' if torch.cuda.is_available() else 'cpu') \n",
    "#позволяет перенести тензор на GPU, если он доступен в системе"
   ]
  },
  {
   "cell_type": "markdown",
   "metadata": {
    "colab_type": "text",
    "id": "AhDVTPxymuez"
   },
   "source": [
    "## OpenAI Gym"
   ]
  },
  {
   "cell_type": "markdown",
   "metadata": {
    "colab_type": "text",
    "id": "VZb-IIq4muez"
   },
   "source": [
    "[OpenAI Gym](https://gym.openai.com) это набор сред для разработки и сравнения алгоритмов обучения с подкреплением."
   ]
  },
  {
   "cell_type": "markdown",
   "metadata": {
    "colab_type": "text",
    "id": "fFkuRjxNmue2"
   },
   "source": [
    "OpenAI Gym предоставляет простой и универсальный API ко многим средам с разными свойствами, как простым так и сложным:\n",
    "* Классические задачи управления и игрушечные примеры, которые можно найти в учебниках и на которых демонстрируется работа алгоритмов обучения с подкреплением (одна из этих сред используется в этом задании)\n",
    "* Игры Atari (оказали огромное влияние на достижения в обучении с подкреплением в последние годы)\n",
    "* 2D и 3D среды для контроля роботов в симуляции (используют проприетарный движок [Mojuco](http://www.mujoco.org))"
   ]
  },
  {
   "cell_type": "markdown",
   "metadata": {
    "colab_type": "text",
    "id": "NIu0Uhj7mue5"
   },
   "source": [
    "Рассмотрим, как устроена среда [CartPole-v0](https://gym.openai.com/envs/CartPole-v0), с которой мы будем работать."
   ]
  },
  {
   "cell_type": "markdown",
   "metadata": {
    "colab_type": "text",
    "id": "KYHUeiMXmue6"
   },
   "source": [
    "Для этого создадим среду и выведем ее описание."
   ]
  },
  {
   "cell_type": "code",
   "execution_count": 6,
   "metadata": {
    "ExecuteTime": {
     "end_time": "2019-09-15T18:25:43.376177Z",
     "start_time": "2019-09-15T18:25:43.366644Z"
    },
    "colab": {},
    "colab_type": "code",
    "id": "b9BRqxoDmue7"
   },
   "outputs": [
    {
     "name": "stdout",
     "output_type": "stream",
     "text": [
      "\n",
      "    Description:\n",
      "        A pole is attached by an un-actuated joint to a cart, which moves along a frictionless track. The pendulum starts upright, and the goal is to prevent it from falling over by increasing and reducing the cart's velocity.\n",
      "\n",
      "    Source:\n",
      "        This environment corresponds to the version of the cart-pole problem described by Barto, Sutton, and Anderson\n",
      "\n",
      "    Observation: \n",
      "        Type: Box(4)\n",
      "        Num\tObservation                 Min         Max\n",
      "        0\tCart Position             -4.8            4.8\n",
      "        1\tCart Velocity             -Inf            Inf\n",
      "        2\tPole Angle                 -24 deg        24 deg\n",
      "        3\tPole Velocity At Tip      -Inf            Inf\n",
      "        \n",
      "    Actions:\n",
      "        Type: Discrete(2)\n",
      "        Num\tAction\n",
      "        0\tPush cart to the left\n",
      "        1\tPush cart to the right\n",
      "        \n",
      "        Note: The amount the velocity that is reduced or increased is not fixed; it depends on the angle the pole is pointing. This is because the center of gravity of the pole increases the amount of energy needed to move the cart underneath it\n",
      "\n",
      "    Reward:\n",
      "        Reward is 1 for every step taken, including the termination step\n",
      "\n",
      "    Starting State:\n",
      "        All observations are assigned a uniform random value in [-0.05..0.05]\n",
      "\n",
      "    Episode Termination:\n",
      "        Pole Angle is more than 12 degrees\n",
      "        Cart Position is more than 2.4 (center of the cart reaches the edge of the display)\n",
      "        Episode length is greater than 200\n",
      "        Solved Requirements\n",
      "        Considered solved when the average reward is greater than or equal to 195.0 over 100 consecutive trials.\n",
      "    \n"
     ]
    }
   ],
   "source": [
    "env = gym.make(\"CartPole-v0\")\n",
    "print(env.env.__doc__)"
   ]
  },
  {
   "cell_type": "markdown",
   "metadata": {
    "colab_type": "text",
    "id": "tovAoT5dmufD"
   },
   "source": [
    "Из этого описания мы можем узнать, как устроены пространства состояний и действий в этой среды, какие награды получаются на каждом шаге, а также, что нам необходимо сделать, чтобы научиться \"решать\" эту среду, а именно достич средней награды больше 195.0 или больше за 100 последовательных запусков агента в этой среде. Именно такого агента мы и попробуем создать и обучить."
   ]
  },
  {
   "cell_type": "markdown",
   "metadata": {
    "colab_type": "text",
    "id": "hZ98fYaxmufF"
   },
   "source": [
    "Но для начала напишем вспомогательную функцию, которая будет принимать на вход среду, агента и число эпизодов, и возвращать среднюю награду за 100 эпизодов. С помощью этой функции мы сможем протестировать, насколько хорошо обучился наш агент, а также визуализировать его поведение в среде."
   ]
  },
  {
   "cell_type": "code",
   "execution_count": 7,
   "metadata": {
    "ExecuteTime": {
     "end_time": "2019-09-15T18:25:45.407786Z",
     "start_time": "2019-09-15T18:25:45.394725Z"
    },
    "colab": {},
    "colab_type": "code",
    "id": "0jXEOwd7njUm"
   },
   "outputs": [],
   "source": [
    "def test_agent(env, agent=None, n_episodes=100):\n",
    "    \"\"\"Runs agent for n_episodes in environment and calclates mean reward.\n",
    "    \n",
    "    Args:\n",
    "        env: The environment for agent to play in\n",
    "        agent: The agent to play with. Defaults to None - \n",
    "            in this case random agent is used.\n",
    "        n_episodes: Number of episodes to play. Defaults to 100.\n",
    "\n",
    "    Returns:\n",
    "        Mean reward for 100 episodes.\n",
    "    \"\"\"\n",
    "    total_reward = []\n",
    "    for episode in range(n_episodes):\n",
    "        episode_reward = 0\n",
    "        observation = env.reset()\n",
    "        t = 0\n",
    "        while True:\n",
    "            if agent:\n",
    "                with torch.no_grad():\n",
    "                    probs = agent(torch.FloatTensor(observation).to(device))\n",
    "                    dist = Categorical(probs)\n",
    "                    action = dist.sample().item()\n",
    "            else:\n",
    "                action = env.action_space.sample()\n",
    "            observation, reward, done, info = env.step(action)\n",
    "            episode_reward += reward\n",
    "            t += 1\n",
    "            if done:\n",
    "                print(\"Episode {} finished after {} timesteps\".format(episode+1, t+1))\n",
    "                break\n",
    "        total_reward.append(episode_reward)\n",
    "        env.close()\n",
    "                   \n",
    "    return np.mean(total_reward)"
   ]
  },
  {
   "cell_type": "markdown",
   "metadata": {
    "colab_type": "text",
    "id": "TqnYqFVSmufL"
   },
   "source": [
    "Протестируем и визуализируем случайного агента (параметр ```agent=False```)."
   ]
  },
  {
   "cell_type": "code",
   "execution_count": 8,
   "metadata": {
    "ExecuteTime": {
     "end_time": "2019-09-15T18:25:47.317629Z",
     "start_time": "2019-09-15T18:25:47.293555Z"
    },
    "colab": {},
    "colab_type": "code",
    "id": "yqVokBDFmufM",
    "scrolled": true
   },
   "outputs": [
    {
     "name": "stdout",
     "output_type": "stream",
     "text": [
      "Episode 1 finished after 23 timesteps\n",
      "Episode 2 finished after 21 timesteps\n",
      "Episode 3 finished after 24 timesteps\n",
      "Episode 4 finished after 22 timesteps\n",
      "Episode 5 finished after 23 timesteps\n",
      "Episode 6 finished after 40 timesteps\n",
      "Episode 7 finished after 21 timesteps\n",
      "Episode 8 finished after 13 timesteps\n",
      "Episode 9 finished after 18 timesteps\n",
      "Episode 10 finished after 14 timesteps\n",
      "Episode 11 finished after 12 timesteps\n",
      "Episode 12 finished after 26 timesteps\n",
      "Episode 13 finished after 19 timesteps\n",
      "Episode 14 finished after 29 timesteps\n",
      "Episode 15 finished after 14 timesteps\n",
      "Episode 16 finished after 25 timesteps\n",
      "Episode 17 finished after 19 timesteps\n",
      "Episode 18 finished after 25 timesteps\n",
      "Episode 19 finished after 19 timesteps\n",
      "Episode 20 finished after 20 timesteps\n",
      "Episode 21 finished after 10 timesteps\n",
      "Episode 22 finished after 18 timesteps\n",
      "Episode 23 finished after 30 timesteps\n",
      "Episode 24 finished after 14 timesteps\n",
      "Episode 25 finished after 19 timesteps\n",
      "Episode 26 finished after 32 timesteps\n",
      "Episode 27 finished after 27 timesteps\n",
      "Episode 28 finished after 13 timesteps\n",
      "Episode 29 finished after 18 timesteps\n",
      "Episode 30 finished after 10 timesteps\n",
      "Episode 31 finished after 16 timesteps\n",
      "Episode 32 finished after 24 timesteps\n",
      "Episode 33 finished after 19 timesteps\n",
      "Episode 34 finished after 44 timesteps\n",
      "Episode 35 finished after 35 timesteps\n",
      "Episode 36 finished after 23 timesteps\n",
      "Episode 37 finished after 17 timesteps\n",
      "Episode 38 finished after 13 timesteps\n",
      "Episode 39 finished after 41 timesteps\n",
      "Episode 40 finished after 22 timesteps\n",
      "Episode 41 finished after 49 timesteps\n",
      "Episode 42 finished after 12 timesteps\n",
      "Episode 43 finished after 27 timesteps\n",
      "Episode 44 finished after 21 timesteps\n",
      "Episode 45 finished after 10 timesteps\n",
      "Episode 46 finished after 9 timesteps\n",
      "Episode 47 finished after 28 timesteps\n",
      "Episode 48 finished after 41 timesteps\n",
      "Episode 49 finished after 13 timesteps\n",
      "Episode 50 finished after 20 timesteps\n",
      "Episode 51 finished after 28 timesteps\n",
      "Episode 52 finished after 15 timesteps\n",
      "Episode 53 finished after 15 timesteps\n",
      "Episode 54 finished after 45 timesteps\n",
      "Episode 55 finished after 36 timesteps\n",
      "Episode 56 finished after 15 timesteps\n",
      "Episode 57 finished after 65 timesteps\n",
      "Episode 58 finished after 25 timesteps\n",
      "Episode 59 finished after 25 timesteps\n",
      "Episode 60 finished after 18 timesteps\n",
      "Episode 61 finished after 15 timesteps\n",
      "Episode 62 finished after 17 timesteps\n",
      "Episode 63 finished after 17 timesteps\n",
      "Episode 64 finished after 20 timesteps\n",
      "Episode 65 finished after 13 timesteps\n",
      "Episode 66 finished after 22 timesteps\n",
      "Episode 67 finished after 21 timesteps\n",
      "Episode 68 finished after 11 timesteps\n",
      "Episode 69 finished after 24 timesteps\n",
      "Episode 70 finished after 15 timesteps\n",
      "Episode 71 finished after 22 timesteps\n",
      "Episode 72 finished after 49 timesteps\n",
      "Episode 73 finished after 44 timesteps\n",
      "Episode 74 finished after 14 timesteps\n",
      "Episode 75 finished after 17 timesteps\n",
      "Episode 76 finished after 22 timesteps\n",
      "Episode 77 finished after 10 timesteps\n",
      "Episode 78 finished after 20 timesteps\n",
      "Episode 79 finished after 14 timesteps\n",
      "Episode 80 finished after 51 timesteps\n",
      "Episode 81 finished after 12 timesteps\n",
      "Episode 82 finished after 16 timesteps\n",
      "Episode 83 finished after 13 timesteps\n",
      "Episode 84 finished after 21 timesteps\n",
      "Episode 85 finished after 58 timesteps\n",
      "Episode 86 finished after 19 timesteps\n",
      "Episode 87 finished after 32 timesteps\n",
      "Episode 88 finished after 15 timesteps\n",
      "Episode 89 finished after 24 timesteps\n",
      "Episode 90 finished after 14 timesteps\n",
      "Episode 91 finished after 20 timesteps\n",
      "Episode 92 finished after 23 timesteps\n",
      "Episode 93 finished after 17 timesteps\n",
      "Episode 94 finished after 15 timesteps\n",
      "Episode 95 finished after 12 timesteps\n",
      "Episode 96 finished after 13 timesteps\n",
      "Episode 97 finished after 22 timesteps\n",
      "Episode 98 finished after 25 timesteps\n",
      "Episode 99 finished after 17 timesteps\n",
      "Episode 100 finished after 19 timesteps\n"
     ]
    },
    {
     "data": {
      "text/plain": [
       "21.34"
      ]
     },
     "execution_count": 8,
     "metadata": {},
     "output_type": "execute_result"
    }
   ],
   "source": [
    "test_agent(env, agent=False, n_episodes=100)"
   ]
  },
  {
   "cell_type": "markdown",
   "metadata": {
    "colab_type": "text",
    "id": "8bzNtyllmufS"
   },
   "source": [
    "Как видно, наш случайный агент выступает не очень хорошо и в среднем может удержать шест всего около 20 шагов."
   ]
  },
  {
   "cell_type": "markdown",
   "metadata": {
    "colab_type": "text",
    "id": "BNcZLQpzmufU"
   },
   "source": [
    "Напишем функцию для визуализации агента и посмотрим на случайного агента."
   ]
  },
  {
   "cell_type": "code",
   "execution_count": 9,
   "metadata": {
    "ExecuteTime": {
     "end_time": "2019-09-15T18:25:50.135401Z",
     "start_time": "2019-09-15T18:25:50.123112Z"
    },
    "colab": {},
    "colab_type": "code",
    "id": "GgThoRPgoMcs"
   },
   "outputs": [],
   "source": [
    "def agent_viz(env=\"CartPole-v0\", agent=None):\n",
    "    \"\"\"Visualizes agent play in the given environment.\n",
    "    \n",
    "    Args:\n",
    "        env: The environment for agent to play in. Defaults to CartPole-v0.\n",
    "        agent: The agent to play with. Defaults to None - \n",
    "            in this case random agent is used.\n",
    "\n",
    "    Returns:\n",
    "        Nothing is returned. Visualization is created and can be showed\n",
    "            with show_video() function.\n",
    "    \"\"\"\n",
    "    env = wrap_env(gym.make(env))\n",
    "    observation = env.reset()\n",
    "    while True:\n",
    "        env.render() \n",
    "        if agent:\n",
    "            with torch.no_grad():\n",
    "                probs = agent(torch.FloatTensor(observation).to(device))\n",
    "                dist = Categorical(probs)\n",
    "                action = dist.sample().item()\n",
    "        else:\n",
    "            action = env.action_space.sample()\n",
    "        observation, reward, done, info = env.step(action)\n",
    "        if done:\n",
    "            break\n",
    "            \n",
    "    env.close()"
   ]
  },
  {
   "cell_type": "code",
   "execution_count": 10,
   "metadata": {
    "ExecuteTime": {
     "end_time": "2019-09-15T18:25:54.993107Z",
     "start_time": "2019-09-15T18:25:54.646555Z"
    },
    "colab": {},
    "colab_type": "code",
    "id": "b5FLllE_pHSf"
   },
   "outputs": [
    {
     "data": {
      "text/html": [
       "<video alt=\"test\" autoplay \n",
       "                loop controls style=\"height: 400px;\">\n",
       "                <source src=\"data:video/mp4;base64,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\" type=\"video/mp4\" />\n",
       "             </video>"
      ],
      "text/plain": [
       "<IPython.core.display.HTML object>"
      ]
     },
     "metadata": {},
     "output_type": "display_data"
    }
   ],
   "source": [
    "agent_viz()\n",
    "show_video()"
   ]
  },
  {
   "cell_type": "markdown",
   "metadata": {
    "colab_type": "text",
    "id": "hpQF0xgJmufW"
   },
   "source": [
    "Попробуем применить обучение с подкреплением и алгоритм REINFORCE для того, чтобы в среднем за 100 эпиздов мы держали шест не менее 195 шагов."
   ]
  },
  {
   "cell_type": "markdown",
   "metadata": {
    "colab_type": "text",
    "id": "M2SkO__WmufX"
   },
   "source": [
    "## REINFORCE"
   ]
  },
  {
   "cell_type": "markdown",
   "metadata": {
    "colab_type": "text",
    "id": "QW95huRpmufY"
   },
   "source": [
    "Вспомним, что из себя представляет алгоритм REINFORCE (Sutton & Barto) <img src=\"//i.imgur.com/bnASTrY.png\" width=\"700\">"
   ]
  },
  {
   "cell_type": "markdown",
   "metadata": {
    "colab_type": "text",
    "id": "CFD7oH9mmufZ"
   },
   "source": [
    "1. Инициализуем политику (в качестве политики мы будем использовать глубокую нейронную сеть).\n",
    "2. \"Играем\" в среде эпизод, используя нашу политику, или несколько (мы будем использовать последний вариант) и собираем данные о состояниях, действиях и полученных наградах. \n",
    "3. Для каждого состояния в собранных эпизодах вычисляем сумму дисконтированных наград, полученных из этого состояния, а также логорифм правдоподобия предпринятого действия в этом состоянии для нашей политики.\n",
    "4. Обновляем параметры нашей политики по формуле на схеме."
   ]
  },
  {
   "cell_type": "markdown",
   "metadata": {
    "colab_type": "text",
    "id": "Zjhox1Rdmufa"
   },
   "source": [
    "### Политика"
   ]
  },
  {
   "cell_type": "markdown",
   "metadata": {
    "colab_type": "text",
    "id": "v5KOdiJrmufb"
   },
   "source": [
    "Наша политика должна принимать на вход состояние среды, а на выходе выдавать распределение по действиям, которые мы можем осуществлять в среде.\n",
    "\n",
    "**Задание:** Создать класс нейронной сети со следующей архитектурой ```Linear -> ReLU -> Linear -> Softmax```. Параметрами инициализации должны служить размерности пространства состояний, пространства действий и размер скрытого слоя."
   ]
  },
  {
   "cell_type": "code",
   "execution_count": 11,
   "metadata": {
    "ExecuteTime": {
     "end_time": "2019-09-15T18:26:00.570336Z",
     "start_time": "2019-09-15T18:26:00.566984Z"
    },
    "colab": {},
    "colab_type": "code",
    "id": "BSbzinGQidFm"
   },
   "outputs": [],
   "source": [
    "class Policy(nn.Module):\n",
    "    \"\"\"Policy to be used by agent.\n",
    "\n",
    "    Attributes:\n",
    "        state_size: Dimention of the state space of the environment.\n",
    "        act_size: Dimention of the action space of the environment.\n",
    "        hidden_size: Dimention of the hidden state of the agent's policy.\n",
    "    \"\"\"\n",
    "    def __init__(self, state_size, act_size, hidden_size):\n",
    "        super().__init__()\n",
    "        \n",
    "        self.model = nn.Sequential(\n",
    "            nn.Linear(state_size, hidden_size),\n",
    "            nn.ReLU(),\n",
    "            nn.Linear(hidden_size, act_size),\n",
    "            nn.Softmax(dim=-1)\n",
    "        )\n",
    "        \n",
    "    def forward(self, inputs):\n",
    "        return self.model(inputs)"
   ]
  },
  {
   "cell_type": "markdown",
   "metadata": {
    "colab_type": "text",
    "id": "E0bYNhJ_mufh"
   },
   "source": [
    "### Оценка правдоподобия и расчет суммы дисконтированных наград"
   ]
  },
  {
   "cell_type": "markdown",
   "metadata": {
    "colab_type": "text",
    "id": "QMZIoW8pmufi"
   },
   "source": [
    "**Задание:** Напишем вспомогательная функцию, которая принимает на вход политику, батч траекторий и фактор дисконтирования, и должна вернуть следующие величины: \n",
    "* правдоподобие действия на каждом шаге на траектории посчитанные для всего батча;\n",
    "* дисконтированные суммы наград (reward-to-go) из каждого состояния среды на траектории посчитанные для всего батча;"
   ]
  },
  {
   "cell_type": "markdown",
   "metadata": {
    "colab_type": "text",
    "id": "rcs_Xi-jmufl"
   },
   "source": [
    "**Hint**: Представим батч траекторий как ```list```, в котром также хранится ```list``` для каждой траектории, в котором каждый шаг хранится, как ```namedtuple```:\n",
    "```transition = collections.namedtuple(\"transition\", [\"state\", \"action\", \"reward\"])```"
   ]
  },
  {
   "cell_type": "code",
   "execution_count": 12,
   "metadata": {
    "ExecuteTime": {
     "end_time": "2019-09-15T18:26:03.803296Z",
     "start_time": "2019-09-15T18:26:03.797892Z"
    },
    "colab": {},
    "colab_type": "code",
    "id": "eGHfushNmufl"
   },
   "outputs": [],
   "source": [
    "def process_traj_batch(policy, batch, discount):\n",
    "    \"\"\"Computes log probabilities for each action \n",
    "        and rewards-to-go for each state in the batch of trajectories.\n",
    "    \n",
    "    Args:\n",
    "        policy: Policy of the agent.\n",
    "        batch (list of list of collections.namedtuple): Batch of trajectories.\n",
    "        discount (float): Discount factor for rewards-to-go calculation.\n",
    "\n",
    "    Returns:\n",
    "        log_probs (list of torch.FloatTensor): List of log probabilities for\n",
    "            each action in the batch of trajectories.\n",
    "        returns (list of rewards-to-go): List of rewards-to-go for \n",
    "            each state in the batch of trajectories.\n",
    "    \"\"\"\n",
    "    # calculate probs\n",
    "    policy = policy.to(device)\n",
    "    state_batch = torch.stack([el.state for b in batch for el in b]).to(device)\n",
    "    batch_len = len(state_batch)\n",
    "    \n",
    "    actions_batch = torch.stack([el.action for b in batch for el in b]).to(device)\n",
    "    log_probs = policy.forward(state_batch)\n",
    "    #print(log_probs)\n",
    "    log_probs = torch.log(log_probs.gather(1, actions_batch.view(batch_len, -1)))\n",
    "    #print(log_probs, sum(log_probs))\n",
    "    \n",
    "    # calculate rewards\n",
    "    returns = [[el.reward  for el in b] for b in batch]\n",
    "    returns_discounted = []\n",
    "    \n",
    "    for ret in returns:\n",
    "        for i in range(len(ret)):\n",
    "            # sum rewards for every step till the end of episode\n",
    "            cur_ret = 0\n",
    "            for j in range(len(ret)-i):\n",
    "                cur_ret += ret[j] * (discount)**j\n",
    "            returns_discounted.append(cur_ret)\n",
    "    #print(returns_discounted, sum(returns_discounted))\n",
    "    \n",
    "    return log_probs, returns_discounted"
   ]
  },
  {
   "cell_type": "markdown",
   "metadata": {
    "colab_type": "text",
    "id": "mp6xKRWXmufp"
   },
   "source": [
    "Ваша реализация функции должна проходить следующий тест."
   ]
  },
  {
   "cell_type": "code",
   "execution_count": 147,
   "metadata": {
    "ExecuteTime": {
     "end_time": "2019-09-15T14:28:19.302110Z",
     "start_time": "2019-09-15T14:28:19.297096Z"
    },
    "collapsed": true
   },
   "outputs": [
    {
     "data": {
      "text/plain": [
       "[[transition(state=tensor([ 0.0462, -0.0018,  0.0372,  0.0063]), action=tensor(0), reward=1.0),\n",
       "  transition(state=tensor([ 0.0462, -0.1975,  0.0373,  0.3105]), action=tensor(1), reward=1.0),\n",
       "  transition(state=tensor([ 0.0422, -0.0029,  0.0435,  0.0298]), action=tensor(0), reward=1.0),\n",
       "  transition(state=tensor([ 0.0422, -0.1986,  0.0441,  0.3359]), action=tensor(0), reward=1.0)],\n",
       " [transition(state=tensor([ 0.0382, -0.3943,  0.0508,  0.6421]), action=tensor(1), reward=1.0),\n",
       "  transition(state=tensor([ 0.0303, -0.2000,  0.0637,  0.3659]), action=tensor(1), reward=1.0),\n",
       "  transition(state=tensor([ 0.0263, -0.0058,  0.0710,  0.0939]), action=tensor(1), reward=1.0),\n",
       "  transition(state=tensor([ 0.0262,  0.1882,  0.0729, -0.1755]), action=tensor(0), reward=1.0)]]"
      ]
     },
     "execution_count": 147,
     "metadata": {},
     "output_type": "execute_result"
    }
   ],
   "source": [
    "batch"
   ]
  },
  {
   "cell_type": "code",
   "execution_count": 173,
   "metadata": {
    "ExecuteTime": {
     "end_time": "2019-09-15T14:46:16.941842Z",
     "start_time": "2019-09-15T14:46:16.938483Z"
    }
   },
   "outputs": [
    {
     "data": {
      "text/plain": [
       "[1.0, 1.0, 1.0, 1.0, 1.0, 1.0, 1.0, 1.0]"
      ]
     },
     "execution_count": 173,
     "metadata": {},
     "output_type": "execute_result"
    }
   ],
   "source": [
    "[el.reward for b in batch for ind, el in enumerate(b)]"
   ]
  },
  {
   "cell_type": "code",
   "execution_count": 194,
   "metadata": {
    "ExecuteTime": {
     "end_time": "2019-09-15T15:07:40.331372Z",
     "start_time": "2019-09-15T15:07:40.322277Z"
    },
    "collapsed": true
   },
   "outputs": [
    {
     "name": "stdout",
     "output_type": "stream",
     "text": [
      "[[1.0, 1.0, 1.0, 1.0], [1.0, 1.0, 1.0, 1.0]]\n",
      "0 0 1.0\n",
      "0 1 0.9\n",
      "0 2 0.81\n",
      "0 3 0.7290000000000001\n",
      "1 0 1.0\n",
      "1 1 0.9\n",
      "1 2 0.81\n",
      "2 0 1.0\n",
      "2 1 0.9\n",
      "3 0 1.0\n",
      "0 0 1.0\n",
      "0 1 0.9\n",
      "0 2 0.81\n",
      "0 3 0.7290000000000001\n",
      "1 0 1.0\n",
      "1 1 0.9\n",
      "1 2 0.81\n",
      "2 0 1.0\n",
      "2 1 0.9\n",
      "3 0 1.0\n"
     ]
    }
   ],
   "source": [
    "returns = [[el.reward  for el in b] for b in batch]\n",
    "print(returns)\n",
    "returns_discounted = []\n",
    "for ret in returns:\n",
    "    for i in range(len(ret)):\n",
    "        cur_ret = 0\n",
    "        for j in range(len(ret)-i):\n",
    "            print(i,j, ret[j] * (0.9)**j)\n",
    "            cur_ret += ret[j] * (0.9)**j\n",
    "        returns_discounted.append(cur_ret)"
   ]
  },
  {
   "cell_type": "code",
   "execution_count": 195,
   "metadata": {
    "ExecuteTime": {
     "end_time": "2019-09-15T15:07:41.575516Z",
     "start_time": "2019-09-15T15:07:41.567015Z"
    }
   },
   "outputs": [
    {
     "data": {
      "text/plain": [
       "[3.439, 2.71, 1.9, 1.0, 3.439, 2.71, 1.9, 1.0]"
      ]
     },
     "execution_count": 195,
     "metadata": {},
     "output_type": "execute_result"
    }
   ],
   "source": [
    "returns_discounted"
   ]
  },
  {
   "cell_type": "code",
   "execution_count": 14,
   "metadata": {
    "ExecuteTime": {
     "end_time": "2019-09-15T18:26:19.310828Z",
     "start_time": "2019-09-15T18:26:19.297353Z"
    }
   },
   "outputs": [],
   "source": [
    "transition = collections.namedtuple(\"transition\", [\"state\", \"action\", \"reward\"])\n",
    "batch = [\n",
    "        [\n",
    "            transition(state=torch.tensor([ 0.0462, -0.0018,  0.0372,  0.0063]), action=torch.tensor(0), reward=1.0), \n",
    "            transition(state=torch.tensor([ 0.0462, -0.1975,  0.0373,  0.3105]), action=torch.tensor(1), reward=1.0), \n",
    "            transition(state=torch.tensor([ 0.0422, -0.0029,  0.0435,  0.0298]), action=torch.tensor(0), reward=1.0), \n",
    "            transition(state=torch.tensor([ 0.0422, -0.1986,  0.0441,  0.3359]), action=torch.tensor(0), reward=1.0), \n",
    "        ],\n",
    "        [\n",
    "            transition(state=torch.tensor([ 0.0382, -0.3943,  0.0508,  0.6421]), action=torch.tensor(1), reward=1.0), \n",
    "            transition(state=torch.tensor([ 0.0303, -0.2000,  0.0637,  0.3659]), action=torch.tensor(1), reward=1.0), \n",
    "            transition(state=torch.tensor([ 0.0263, -0.0058,  0.0710,  0.0939]), action=torch.tensor(1), reward=1.0), \n",
    "            transition(state=torch.tensor([ 0.0262,  0.1882,  0.0729, -0.1755]), action=torch.tensor(0), reward=1.0)\n",
    "        ]\n",
    "]"
   ]
  },
  {
   "cell_type": "code",
   "execution_count": 15,
   "metadata": {
    "ExecuteTime": {
     "end_time": "2019-09-15T18:26:22.042303Z",
     "start_time": "2019-09-15T18:26:20.312421Z"
    }
   },
   "outputs": [],
   "source": [
    "class HelperPolicy(nn.Module):\n",
    "    def __init__(self):\n",
    "        super(HelperPolicy, self).__init__()\n",
    "        \n",
    "        self.act = nn.Sequential(\n",
    "                nn.Linear(4, 2),\n",
    "                nn.Softmax(dim=1),\n",
    "        )\n",
    "        \n",
    "    def forward(self, x):\n",
    "        return self.act(x)\n",
    "        \n",
    "policy = HelperPolicy()\n",
    "for name, param in policy.named_parameters():\n",
    "    if name == \"act.0.weight\":\n",
    "        param.data = torch.tensor([[1.7492, -0.2471, 0.3310, 1.1494],\n",
    "                                       [0.6171, -0.6026, 0.5025, -0.3196]])\n",
    "    else:\n",
    "        param.data = torch.tensor([0.0262, 0.1882])\n",
    "log_probs, returns = process_traj_batch(policy, batch, 0.9)"
   ]
  },
  {
   "cell_type": "code",
   "execution_count": 16,
   "metadata": {
    "ExecuteTime": {
     "end_time": "2019-09-15T18:26:24.936675Z",
     "start_time": "2019-09-15T18:26:24.926142Z"
    },
    "colab": {},
    "colab_type": "code",
    "id": "qVJnolh-mufq"
   },
   "outputs": [],
   "source": [
    "def test_process_traj_batch(process_traj_batch):\n",
    "    \n",
    "    transition = collections.namedtuple(\"transition\", [\"state\", \"action\", \"reward\"])\n",
    "    \n",
    "    class HelperPolicy(nn.Module):\n",
    "        def __init__(self):\n",
    "            super(HelperPolicy, self).__init__()\n",
    "        \n",
    "            self.act = nn.Sequential(\n",
    "                nn.Linear(4, 2),\n",
    "                nn.Softmax(dim=-1),\n",
    "            )\n",
    "        \n",
    "        def forward(self, x):\n",
    "            return self.act(x)\n",
    "        \n",
    "    policy = HelperPolicy().to(device)\n",
    "    \n",
    "    for name, param in policy.named_parameters():\n",
    "        if name == \"act.0.weight\":\n",
    "            param.data = torch.tensor([[1.7492, -0.2471, 0.3310, 1.1494],\n",
    "                                       [0.6171, -0.6026, 0.5025, -0.3196]])\n",
    "        else:\n",
    "            param.data = torch.tensor([0.0262, 0.1882])\n",
    "            \n",
    "    batch = [\n",
    "        [\n",
    "            transition(state=torch.tensor([ 0.0462, -0.0018,  0.0372,  0.0063]), action=torch.tensor(0), reward=1.0), \n",
    "            transition(state=torch.tensor([ 0.0462, -0.1975,  0.0373,  0.3105]), action=torch.tensor(1), reward=1.0), \n",
    "            transition(state=torch.tensor([ 0.0422, -0.0029,  0.0435,  0.0298]), action=torch.tensor(0), reward=1.0), \n",
    "            transition(state=torch.tensor([ 0.0422, -0.1986,  0.0441,  0.3359]), action=torch.tensor(0), reward=1.0), \n",
    "        ],\n",
    "        [\n",
    "            transition(state=torch.tensor([ 0.0382, -0.3943,  0.0508,  0.6421]), action=torch.tensor(1), reward=1.0), \n",
    "            transition(state=torch.tensor([ 0.0303, -0.2000,  0.0637,  0.3659]), action=torch.tensor(1), reward=1.0), \n",
    "            transition(state=torch.tensor([ 0.0263, -0.0058,  0.0710,  0.0939]), action=torch.tensor(1), reward=1.0), \n",
    "            transition(state=torch.tensor([ 0.0262,  0.1882,  0.0729, -0.1755]), action=torch.tensor(0), reward=1.0)\n",
    "        ]\n",
    "    ]\n",
    "    \n",
    "    log_probs, returns = process_traj_batch(policy, batch, 0.9)\n",
    "    assert sum(log_probs).item() == -6.3940582275390625, \"Log probabilities calculation is incorrect!!!\"\n",
    "    assert sum(returns) == 18.098, \"Log probabilities calculation is incorrect!!!\"\n",
    "    print(\"Correct!\")"
   ]
  },
  {
   "cell_type": "code",
   "execution_count": 17,
   "metadata": {
    "ExecuteTime": {
     "end_time": "2019-09-15T18:26:25.814583Z",
     "start_time": "2019-09-15T18:26:25.811003Z"
    },
    "colab": {},
    "colab_type": "code",
    "id": "_qKrJpyBmufu"
   },
   "outputs": [
    {
     "name": "stdout",
     "output_type": "stream",
     "text": [
      "Correct!\n"
     ]
    }
   ],
   "source": [
    "test_process_traj_batch(process_traj_batch)"
   ]
  },
  {
   "cell_type": "markdown",
   "metadata": {
    "colab_type": "text",
    "id": "7_y4MJPxmufz"
   },
   "source": [
    "### Вспомогательные функции и гиперпараметры"
   ]
  },
  {
   "cell_type": "markdown",
   "metadata": {
    "colab_type": "text",
    "id": "PKF5itlpmuf0"
   },
   "source": [
    "Функция для расчета скользящего среднего - ее мы будем использовать для визуализации наград по эпизодам."
   ]
  },
  {
   "cell_type": "code",
   "execution_count": 18,
   "metadata": {
    "ExecuteTime": {
     "end_time": "2019-09-15T18:26:27.944301Z",
     "start_time": "2019-09-15T18:26:27.941372Z"
    },
    "colab": {},
    "colab_type": "code",
    "id": "tHgXs9aPmuf2"
   },
   "outputs": [],
   "source": [
    "moving_average = lambda x, **kw: pd.DataFrame({'x':np.asarray(x)}).x.ewm(**kw).mean().values"
   ]
  },
  {
   "cell_type": "markdown",
   "metadata": {
    "colab_type": "text",
    "id": "P3oqmQmxmuf6"
   },
   "source": [
    "Определим также гиперпараметры."
   ]
  },
  {
   "cell_type": "code",
   "execution_count": 19,
   "metadata": {
    "ExecuteTime": {
     "end_time": "2019-09-15T18:26:29.848896Z",
     "start_time": "2019-09-15T18:26:29.845584Z"
    },
    "colab": {},
    "colab_type": "code",
    "id": "cFSLjGjOms0m"
   },
   "outputs": [],
   "source": [
    "STATE_SIZE  = env.observation_space.shape[0] # размерность пространства состояний среды\n",
    "ACT_SIZE = env.action_space.n # размерность пространства действий среды\n",
    "HIDDEN_SIZE = 256 # размер скрытого слоя для политики\n",
    "NUM_EPISODES = 1000 # количество эпиздов, которые будут сыграны для обучения\n",
    "DISCOUNT = 0.99 # фактор дисконтирования\n",
    "TRAIN_EVERY = 20\n",
    "\n",
    "transition = collections.namedtuple(\"transition\", [\"state\", \"action\", \"reward\"])"
   ]
  },
  {
   "cell_type": "markdown",
   "metadata": {
    "colab_type": "text",
    "id": "d1RZfo_1muf-"
   },
   "source": [
    "Инициализуем политику и алгоритм оптимизации - мы будем использовать Adam c праметрами по умолчанию."
   ]
  },
  {
   "cell_type": "code",
   "execution_count": 16,
   "metadata": {
    "ExecuteTime": {
     "end_time": "2019-09-15T18:16:20.035745Z",
     "start_time": "2019-09-15T18:16:20.027573Z"
    },
    "colab": {},
    "colab_type": "code",
    "id": "zEKqg4Ykmuf_"
   },
   "outputs": [],
   "source": [
    "policy = Policy(STATE_SIZE, ACT_SIZE, HIDDEN_SIZE).to(device)\n",
    "optimizer = Adam(policy.parameters())"
   ]
  },
  {
   "cell_type": "markdown",
   "metadata": {
    "colab_type": "text",
    "id": "jRRCJTnimugE"
   },
   "source": [
    "### Основной цикл обучения"
   ]
  },
  {
   "cell_type": "markdown",
   "metadata": {
    "colab_type": "text",
    "id": "FcQ4-JMymugE"
   },
   "source": [
    "Теперь, когда мы опредлели вспомогательные функции, то нам следует написать основной цикл обучения агент.\n",
    "В цикле должно происходить следующее:"
   ]
  },
  {
   "cell_type": "markdown",
   "metadata": {
    "colab_type": "text",
    "id": "1wih2vIYmugG"
   },
   "source": [
    "1. Играем количество эпизодов, определенное в гиперпараметре ```NUM_EPISODES```.\n",
    "2. В каждом эпизоде сохраняем информацию о шагах на траектории - состояние, действие и награду.\n",
    "3. В конце каждого эпизода сохраняем вышеуказанную информацию о траектории. \n",
    "4. Периодически обучаемся на собранных эпизодах каждые ```TRAIN_EVERY``` эпизодов:  \n",
    "    4.1. Считаем для собранного батча для каждого шага на трактории правдоподобие и сумму дисконтированных наград.  \n",
    "    4.2. Обновляем параметры политики агента по формуле, приведенной на схеме."
   ]
  },
  {
   "cell_type": "markdown",
   "metadata": {
    "colab_type": "text",
    "id": "gb1eIuJqmugI"
   },
   "source": [
    "**Задание:** Реализовать алгоритм обучения, описанный на схеме и в тексте выше. Шаблон кода алгоритма представлен ниже. При этом следует сохранять сумму ревордов для каждого эпизода в переменную ```returns_history```. Алгоритму потребуется около 1000 эпизодов игры, для того чтобы научиться играть в игру (если после 1000 эпизодов агент играет немного хуже, чем для победы в игре, попробуйте обучать его немного дольше или установите критерий останова - когда средняя награда за 100 последних эпизодов превышает значение в ```env.spec.reward_threshold``` )"
   ]
  },
  {
   "cell_type": "code",
   "execution_count": 20,
   "metadata": {
    "ExecuteTime": {
     "end_time": "2019-09-15T18:29:20.104890Z",
     "start_time": "2019-09-15T18:26:42.383443Z"
    }
   },
   "outputs": [
    {
     "data": {
      "image/png": "[encoded data removed]",
      "text/plain": [
       "<Figure size 864x432 with 1 Axes>"
      ]
     },
     "metadata": {
      "needs_background": "light"
     },
     "output_type": "display_data"
    }
   ],
   "source": [
    "policy = Policy(STATE_SIZE, ACT_SIZE, HIDDEN_SIZE).to(device)\n",
    "optimizer = Adam(policy.parameters(), lr = 1e-3)\n",
    "\n",
    "returns_history = []\n",
    "traj_batch = []\n",
    "\n",
    "for i in range(NUM_EPISODES):\n",
    "        \n",
    "    # TO DO\n",
    "    rewards = 0\n",
    "    observation = env.reset()\n",
    "    traj_cur = []\n",
    "    for t in count():\n",
    "        #print(observation)\n",
    "        probs = policy(torch.FloatTensor(observation).view(-1, len(observation)).to(device))\n",
    "        dist = Categorical(probs)\n",
    "        action = dist.sample().item()\n",
    "        next_observation, reward, done, info = env.step(action)\n",
    "        rewards += reward\n",
    "        \n",
    "        # save observation\n",
    "        traj = transition(state=torch.FloatTensor(observation), \n",
    "                          action=torch.tensor(action), \n",
    "                          reward=reward)\n",
    "        traj_cur.append(traj) \n",
    "        \n",
    "        if done:\n",
    "            print(\"Episode {} finished after {} timesteps\".format(i+1, t+1))\n",
    "            break\n",
    "        else:\n",
    "            observation = next_observation.copy()\n",
    "    \n",
    "    returns_history.append(rewards)       \n",
    "    traj_batch.append(traj_cur)\n",
    "\n",
    "    if i % TRAIN_EVERY:\n",
    "        log_probs, returns = process_traj_batch(policy, traj_batch, DISCOUNT)\n",
    "        #loss = (torch.sum(log_probs * torch.FloatTensor(returns).to(device).mul(-1), -1))\n",
    "        loss = -(log_probs * torch.FloatTensor(returns).to(device)).sum()\n",
    "        optimizer.zero_grad()\n",
    "        loss.backward()\n",
    "        optimizer.step()\n",
    "        \n",
    "        traj_batch = []\n",
    "\n",
    "    if i % 10:\n",
    "        clear_output(True)\n",
    "        plt.figure(figsize=[12, 6])\n",
    "        plt.title('Returns'); plt.grid()\n",
    "        plt.scatter(np.arange(len(returns_history)), returns_history, alpha=0.1)\n",
    "        plt.plot(moving_average(returns_history, span=10, min_periods=10))\n",
    "        plt.show()"
   ]
  },
  {
   "cell_type": "code",
   "execution_count": 23,
   "metadata": {
    "ExecuteTime": {
     "end_time": "2019-09-15T18:21:34.454869Z",
     "start_time": "2019-09-15T18:18:39.614990Z"
    },
    "colab": {},
    "colab_type": "code",
    "id": "cvEwjezan5tl",
    "scrolled": false
   },
   "outputs": [
    {
     "data": {
      "image/png": "[encoded data removed]",
      "text/plain": [
       "<Figure size 864x432 with 1 Axes>"
      ]
     },
     "metadata": {
      "needs_background": "light"
     },
     "output_type": "display_data"
    }
   ],
   "source": [
    "policy = Policy(STATE_SIZE, ACT_SIZE, HIDDEN_SIZE).to(device)\n",
    "optimizer = Adam(policy.parameters(), lr = 1e-3)\n",
    "\n",
    "returns_history = []\n",
    "traj_batch = []\n",
    "\n",
    "for i in range(NUM_EPISODES):\n",
    "        \n",
    "    # TO DO\n",
    "    rewards = 0\n",
    "    observation = env.reset()\n",
    "    traj_cur = []\n",
    "    for t in count():\n",
    "        #print(observation)\n",
    "        probs = policy(torch.FloatTensor(observation).view(-1, len(observation)).to(device))\n",
    "        dist = Categorical(probs)\n",
    "        action = dist.sample().item()\n",
    "        next_observation, reward, done, info = env.step(action)\n",
    "        rewards += reward\n",
    "        \n",
    "        # save observation\n",
    "        traj = transition(state=torch.FloatTensor(observation), \n",
    "                          action=torch.tensor(action), \n",
    "                          reward=reward)\n",
    "        traj_cur.append(traj) \n",
    "        \n",
    "        if done:\n",
    "            print(\"Episode {} finished after {} timesteps\".format(i+1, t+1))\n",
    "            break\n",
    "        else:\n",
    "            observation = next_observation.copy()\n",
    "    \n",
    "    returns_history.append(rewards)       \n",
    "    traj_batch.append(traj_cur)\n",
    "\n",
    "    if i % TRAIN_EVERY:\n",
    "        log_probs, returns = process_traj_batch(policy, traj_batch, DISCOUNT)\n",
    "        #loss = (torch.sum(log_probs * torch.FloatTensor(returns).to(device).mul(-1), -1))\n",
    "        loss = -(log_probs * torch.FloatTensor(returns).to(device)).sum()\n",
    "        optimizer.zero_grad()\n",
    "        loss.backward()\n",
    "        optimizer.step()\n",
    "        \n",
    "        traj_batch = []\n",
    "\n",
    "    if i % 10:\n",
    "        clear_output(True)\n",
    "        plt.figure(figsize=[12, 6])\n",
    "        plt.title('Returns'); plt.grid()\n",
    "        plt.scatter(np.arange(len(returns_history)), returns_history, alpha=0.1)\n",
    "        plt.plot(moving_average(returns_history, span=10, min_periods=10))\n",
    "        plt.show()"
   ]
  },
  {
   "cell_type": "markdown",
   "metadata": {
    "colab_type": "text",
    "id": "Be9Zh-MamugN"
   },
   "source": [
    "Протестируем обученного агента."
   ]
  },
  {
   "cell_type": "code",
   "execution_count": 24,
   "metadata": {
    "ExecuteTime": {
     "end_time": "2019-09-15T18:21:52.538148Z",
     "start_time": "2019-09-15T18:21:47.622760Z"
    },
    "colab": {},
    "colab_type": "code",
    "id": "-ry9g_aBmugO",
    "scrolled": true
   },
   "outputs": [
    {
     "name": "stdout",
     "output_type": "stream",
     "text": [
      "Episode 1 finished after 201 timesteps\n",
      "Episode 2 finished after 145 timesteps\n",
      "Episode 3 finished after 153 timesteps\n",
      "Episode 4 finished after 156 timesteps\n",
      "Episode 5 finished after 201 timesteps\n",
      "Episode 6 finished after 133 timesteps\n",
      "Episode 7 finished after 201 timesteps\n",
      "Episode 8 finished after 201 timesteps\n",
      "Episode 9 finished after 140 timesteps\n",
      "Episode 10 finished after 171 timesteps\n",
      "Episode 11 finished after 149 timesteps\n",
      "Episode 12 finished after 201 timesteps\n",
      "Episode 13 finished after 201 timesteps\n",
      "Episode 14 finished after 201 timesteps\n",
      "Episode 15 finished after 165 timesteps\n",
      "Episode 16 finished after 201 timesteps\n",
      "Episode 17 finished after 201 timesteps\n",
      "Episode 18 finished after 201 timesteps\n",
      "Episode 19 finished after 201 timesteps\n",
      "Episode 20 finished after 178 timesteps\n",
      "Episode 21 finished after 201 timesteps\n",
      "Episode 22 finished after 201 timesteps\n",
      "Episode 23 finished after 201 timesteps\n",
      "Episode 24 finished after 201 timesteps\n",
      "Episode 25 finished after 201 timesteps\n",
      "Episode 26 finished after 201 timesteps\n",
      "Episode 27 finished after 201 timesteps\n",
      "Episode 28 finished after 146 timesteps\n",
      "Episode 29 finished after 201 timesteps\n",
      "Episode 30 finished after 201 timesteps\n",
      "Episode 31 finished after 201 timesteps\n",
      "Episode 32 finished after 133 timesteps\n",
      "Episode 33 finished after 201 timesteps\n",
      "Episode 34 finished after 157 timesteps\n",
      "Episode 35 finished after 201 timesteps\n",
      "Episode 36 finished after 201 timesteps\n",
      "Episode 37 finished after 201 timesteps\n",
      "Episode 38 finished after 201 timesteps\n",
      "Episode 39 finished after 201 timesteps\n",
      "Episode 40 finished after 165 timesteps\n",
      "Episode 41 finished after 201 timesteps\n",
      "Episode 42 finished after 201 timesteps\n",
      "Episode 43 finished after 201 timesteps\n",
      "Episode 44 finished after 201 timesteps\n",
      "Episode 45 finished after 195 timesteps\n",
      "Episode 46 finished after 201 timesteps\n",
      "Episode 47 finished after 201 timesteps\n",
      "Episode 48 finished after 201 timesteps\n",
      "Episode 49 finished after 201 timesteps\n",
      "Episode 50 finished after 201 timesteps\n",
      "Episode 51 finished after 201 timesteps\n",
      "Episode 52 finished after 201 timesteps\n",
      "Episode 53 finished after 131 timesteps\n",
      "Episode 54 finished after 151 timesteps\n",
      "Episode 55 finished after 152 timesteps\n",
      "Episode 56 finished after 155 timesteps\n",
      "Episode 57 finished after 201 timesteps\n",
      "Episode 58 finished after 201 timesteps\n",
      "Episode 59 finished after 201 timesteps\n",
      "Episode 60 finished after 128 timesteps\n",
      "Episode 61 finished after 164 timesteps\n",
      "Episode 62 finished after 201 timesteps\n",
      "Episode 63 finished after 201 timesteps\n",
      "Episode 64 finished after 201 timesteps\n",
      "Episode 65 finished after 201 timesteps\n",
      "Episode 66 finished after 139 timesteps\n",
      "Episode 67 finished after 176 timesteps\n",
      "Episode 68 finished after 201 timesteps\n",
      "Episode 69 finished after 201 timesteps\n",
      "Episode 70 finished after 201 timesteps\n",
      "Episode 71 finished after 201 timesteps\n",
      "Episode 72 finished after 201 timesteps\n",
      "Episode 73 finished after 201 timesteps\n",
      "Episode 74 finished after 161 timesteps\n",
      "Episode 75 finished after 201 timesteps\n",
      "Episode 76 finished after 201 timesteps\n",
      "Episode 77 finished after 125 timesteps\n",
      "Episode 78 finished after 201 timesteps\n",
      "Episode 79 finished after 201 timesteps\n",
      "Episode 80 finished after 154 timesteps\n",
      "Episode 81 finished after 201 timesteps\n",
      "Episode 82 finished after 201 timesteps\n",
      "Episode 83 finished after 191 timesteps\n",
      "Episode 84 finished after 201 timesteps\n",
      "Episode 85 finished after 124 timesteps\n",
      "Episode 86 finished after 201 timesteps\n",
      "Episode 87 finished after 201 timesteps\n",
      "Episode 88 finished after 201 timesteps\n",
      "Episode 89 finished after 201 timesteps\n",
      "Episode 90 finished after 201 timesteps\n",
      "Episode 91 finished after 201 timesteps\n",
      "Episode 92 finished after 163 timesteps\n",
      "Episode 93 finished after 201 timesteps\n",
      "Episode 94 finished after 201 timesteps\n",
      "Episode 95 finished after 146 timesteps\n",
      "Episode 96 finished after 201 timesteps\n",
      "Episode 97 finished after 201 timesteps\n",
      "Episode 98 finished after 201 timesteps\n",
      "Episode 99 finished after 201 timesteps\n",
      "Episode 100 finished after 201 timesteps\n"
     ]
    },
    {
     "data": {
      "text/plain": [
       "186.17"
      ]
     },
     "execution_count": 24,
     "metadata": {},
     "output_type": "execute_result"
    }
   ],
   "source": [
    "test_agent(env, agent=policy, n_episodes=100)"
   ]
  },
  {
   "cell_type": "code",
   "execution_count": 21,
   "metadata": {
    "ExecuteTime": {
     "end_time": "2019-09-15T18:29:34.599031Z",
     "start_time": "2019-09-15T18:29:30.137633Z"
    },
    "scrolled": true
   },
   "outputs": [
    {
     "name": "stdout",
     "output_type": "stream",
     "text": [
      "Episode 1 finished after 186 timesteps\n",
      "Episode 2 finished after 167 timesteps\n",
      "Episode 3 finished after 89 timesteps\n",
      "Episode 4 finished after 84 timesteps\n",
      "Episode 5 finished after 201 timesteps\n",
      "Episode 6 finished after 167 timesteps\n",
      "Episode 7 finished after 15 timesteps\n",
      "Episode 8 finished after 185 timesteps\n",
      "Episode 9 finished after 201 timesteps\n",
      "Episode 10 finished after 201 timesteps\n",
      "Episode 11 finished after 201 timesteps\n",
      "Episode 12 finished after 195 timesteps\n",
      "Episode 13 finished after 201 timesteps\n",
      "Episode 14 finished after 144 timesteps\n",
      "Episode 15 finished after 139 timesteps\n",
      "Episode 16 finished after 141 timesteps\n",
      "Episode 17 finished after 201 timesteps\n",
      "Episode 18 finished after 173 timesteps\n",
      "Episode 19 finished after 201 timesteps\n",
      "Episode 20 finished after 166 timesteps\n",
      "Episode 21 finished after 163 timesteps\n",
      "Episode 22 finished after 201 timesteps\n",
      "Episode 23 finished after 160 timesteps\n",
      "Episode 24 finished after 158 timesteps\n",
      "Episode 25 finished after 201 timesteps\n",
      "Episode 26 finished after 106 timesteps\n",
      "Episode 27 finished after 201 timesteps\n",
      "Episode 28 finished after 169 timesteps\n",
      "Episode 29 finished after 201 timesteps\n",
      "Episode 30 finished after 175 timesteps\n",
      "Episode 31 finished after 179 timesteps\n",
      "Episode 32 finished after 172 timesteps\n",
      "Episode 33 finished after 199 timesteps\n",
      "Episode 34 finished after 201 timesteps\n",
      "Episode 35 finished after 124 timesteps\n",
      "Episode 36 finished after 201 timesteps\n",
      "Episode 37 finished after 145 timesteps\n",
      "Episode 38 finished after 151 timesteps\n",
      "Episode 39 finished after 201 timesteps\n",
      "Episode 40 finished after 187 timesteps\n",
      "Episode 41 finished after 201 timesteps\n",
      "Episode 42 finished after 201 timesteps\n",
      "Episode 43 finished after 201 timesteps\n",
      "Episode 44 finished after 201 timesteps\n",
      "Episode 45 finished after 151 timesteps\n",
      "Episode 46 finished after 161 timesteps\n",
      "Episode 47 finished after 172 timesteps\n",
      "Episode 48 finished after 201 timesteps\n",
      "Episode 49 finished after 201 timesteps\n",
      "Episode 50 finished after 201 timesteps\n",
      "Episode 51 finished after 190 timesteps\n",
      "Episode 52 finished after 201 timesteps\n",
      "Episode 53 finished after 201 timesteps\n",
      "Episode 54 finished after 201 timesteps\n",
      "Episode 55 finished after 175 timesteps\n",
      "Episode 56 finished after 165 timesteps\n",
      "Episode 57 finished after 149 timesteps\n",
      "Episode 58 finished after 182 timesteps\n",
      "Episode 59 finished after 130 timesteps\n",
      "Episode 60 finished after 201 timesteps\n",
      "Episode 61 finished after 201 timesteps\n",
      "Episode 62 finished after 123 timesteps\n",
      "Episode 63 finished after 201 timesteps\n",
      "Episode 64 finished after 191 timesteps\n",
      "Episode 65 finished after 144 timesteps\n",
      "Episode 66 finished after 201 timesteps\n",
      "Episode 67 finished after 113 timesteps\n",
      "Episode 68 finished after 201 timesteps\n",
      "Episode 69 finished after 201 timesteps\n",
      "Episode 70 finished after 90 timesteps\n",
      "Episode 71 finished after 125 timesteps\n",
      "Episode 72 finished after 170 timesteps\n",
      "Episode 73 finished after 201 timesteps\n",
      "Episode 74 finished after 201 timesteps\n",
      "Episode 75 finished after 201 timesteps\n",
      "Episode 76 finished after 201 timesteps\n",
      "Episode 77 finished after 159 timesteps\n",
      "Episode 78 finished after 164 timesteps\n",
      "Episode 79 finished after 200 timesteps\n",
      "Episode 80 finished after 201 timesteps\n",
      "Episode 81 finished after 201 timesteps\n",
      "Episode 82 finished after 201 timesteps\n",
      "Episode 83 finished after 201 timesteps\n",
      "Episode 84 finished after 167 timesteps\n",
      "Episode 85 finished after 201 timesteps\n",
      "Episode 86 finished after 139 timesteps\n",
      "Episode 87 finished after 201 timesteps\n",
      "Episode 88 finished after 129 timesteps\n",
      "Episode 89 finished after 201 timesteps\n",
      "Episode 90 finished after 201 timesteps\n",
      "Episode 91 finished after 147 timesteps\n",
      "Episode 92 finished after 126 timesteps\n",
      "Episode 93 finished after 201 timesteps\n",
      "Episode 94 finished after 120 timesteps\n",
      "Episode 95 finished after 201 timesteps\n",
      "Episode 96 finished after 201 timesteps\n",
      "Episode 97 finished after 159 timesteps\n",
      "Episode 98 finished after 201 timesteps\n",
      "Episode 99 finished after 186 timesteps\n",
      "Episode 100 finished after 160 timesteps\n"
     ]
    },
    {
     "data": {
      "text/plain": [
       "173.72"
      ]
     },
     "execution_count": 21,
     "metadata": {},
     "output_type": "execute_result"
    }
   ],
   "source": [
    "test_agent(env, agent=policy, n_episodes=100)"
   ]
  },
  {
   "cell_type": "markdown",
   "metadata": {
    "colab_type": "text",
    "id": "rf18pOwCmugS"
   },
   "source": [
    "Обученный агент должен приближаться к искомому значению средней награды за 100 эпизодов 195."
   ]
  },
  {
   "cell_type": "markdown",
   "metadata": {
    "colab_type": "text",
    "id": "Gk3bQdF_mugT"
   },
   "source": [
    "Визуализируем обученного агента."
   ]
  },
  {
   "cell_type": "code",
   "execution_count": 22,
   "metadata": {
    "ExecuteTime": {
     "end_time": "2019-09-15T18:29:39.918901Z",
     "start_time": "2019-09-15T18:29:38.811009Z"
    },
    "colab": {},
    "colab_type": "code",
    "id": "c6QvXvwUsct6"
   },
   "outputs": [
    {
     "data": {
      "text/html": [
       "<video alt=\"test\" autoplay \n",
       "                loop controls style=\"height: 400px;\">\n",
       "                <source src=\"data:video/mp4;base64,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\" type=\"video/mp4\" />\n",
       "             </video>"
      ],
      "text/plain": [
       "<IPython.core.display.HTML object>"
      ]
     },
     "metadata": {},
     "output_type": "display_data"
    }
   ],
   "source": [
    "agent_viz(agent=policy)\n",
    "show_video()"
   ]
  },
  {
   "cell_type": "markdown",
   "metadata": {
    "colab_type": "text",
    "id": "YKkrymnnmugU"
   },
   "source": [
    "Как видно, агент выучил довольно хорошую стратегию для игры и способен долго удерживать шест."
   ]
  },
  {
   "cell_type": "markdown",
   "metadata": {
    "colab_type": "text",
    "id": "NHxdzJsQmugV"
   },
   "source": [
    "### REINFORCE with baselines (Опционально)"
   ]
  },
  {
   "cell_type": "markdown",
   "metadata": {
    "colab_type": "text",
    "id": "QM0DmpwlmugX"
   },
   "source": [
    "В лекциях вы слышали, что при расчете градиентов для обновления параметров политики агента мы можем вычесть из суммы дисконтированных наград ```baseline``` для уменьшения дисперсии градиентов и ускорения сходимости обучения - такой алгоритм называется REINFORCE with baselines. В качестве ```baseline``` мы можем использовать другую нейронную сеть, которая будет оценивать сумму дисконтированных наград из данного состояния *V(s)*. "
   ]
  },
  {
   "cell_type": "markdown",
   "metadata": {
    "colab_type": "text",
    "id": "jImFlpefmugX"
   },
   "source": [
    "Схема алгоритма REINFORCE with baselines (Sutton & Barto) <img src=\"//i.imgur.com/j3BcbHP.png\" width=\"700\">"
   ]
  },
  {
   "cell_type": "markdown",
   "metadata": {
    "colab_type": "text",
    "id": "ofDdKiKJmugY"
   },
   "source": [
    "**Задание**: Включите в уже разработанный алгоритм вторую нейронную сеть для оценки суммы дисконтированных наград *V(s)*. Используйте разницу между фактической суммой дисконтированных наград и оценкой в формуле функции потерь политики. В качестве функции потерь для *V(s)* используйте ```MSELoss```. Оцените скорость сходимости нового алгоритма."
   ]
  }
 ],
 "metadata": {
  "accelerator": "GPU",
  "colab": {
   "collapsed_sections": [],
   "name": "REINFORCE.ipynb",
   "private_outputs": true,
   "provenance": [],
   "version": "0.3.2"
  },
  "kernelspec": {
   "display_name": "Python 3",
   "language": "python",
   "name": "python3"
  },
  "language_info": {
   "codemirror_mode": {
    "name": "ipython",
    "version": 3
   },
   "file_extension": ".py",
   "mimetype": "text/x-python",
   "name": "python",
   "nbconvert_exporter": "python",
   "pygments_lexer": "ipython3",
   "version": "3.6.8"
  },
  "varInspector": {
   "cols": {
    "lenName": 16,
    "lenType": 16,
    "lenVar": 40
   },
   "kernels_config": {
    "python": {
     "delete_cmd_postfix": "",
     "delete_cmd_prefix": "del ",
     "library": "var_list.py",
     "varRefreshCmd": "print(var_dic_list())"
    },
    "r": {
     "delete_cmd_postfix": ") ",
     "delete_cmd_prefix": "rm(",
     "library": "var_list.r",
     "varRefreshCmd": "cat(var_dic_list()) "
    }
   },
   "types_to_exclude": [
    "module",
    "function",
    "builtin_function_or_method",
    "instance",
    "_Feature"
   ],
   "window_display": false
  }
 },
 "nbformat": 4,
 "nbformat_minor": 1
}
