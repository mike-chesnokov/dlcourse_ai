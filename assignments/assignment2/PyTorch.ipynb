{
 "cells": [
  {
   "cell_type": "markdown",
   "metadata": {},
   "source": [
    "# Задание 2.2 - Введение в PyTorch\n",
    "\n",
    "Для этого задания потребуется установить версию PyTorch 1.0\n",
    "\n",
    "https://pytorch.org/get-started/locally/\n",
    "\n",
    "В этом задании мы познакомимся с основными компонентами PyTorch и натренируем несколько небольших моделей.<br>\n",
    "GPU нам пока не понадобится.\n",
    "\n",
    "Основные ссылки:  \n",
    "https://pytorch.org/tutorials/beginner/deep_learning_60min_blitz.html  \n",
    "https://pytorch.org/docs/stable/nn.html  \n",
    "https://pytorch.org/docs/stable/torchvision/index.html  "
   ]
  },
  {
   "cell_type": "code",
   "execution_count": 1,
   "metadata": {
    "ExecuteTime": {
     "end_time": "2019-07-10T18:40:29.257879Z",
     "start_time": "2019-07-10T18:40:28.812898Z"
    },
    "scrolled": true
   },
   "outputs": [],
   "source": [
    "import torch\n",
    "import torch.nn as nn\n",
    "import torch.optim as optim\n",
    "from torch.utils.data.sampler import SubsetRandomSampler, Sampler\n",
    "\n",
    "import torchvision\n",
    "import torchvision.datasets as dset\n",
    "from torchvision import transforms\n",
    "\n",
    "import matplotlib.pyplot as plt\n",
    "%matplotlib inline\n",
    "\n",
    "import numpy as np"
   ]
  },
  {
   "cell_type": "markdown",
   "metadata": {},
   "source": [
    "## Pytorch tutorial\n",
    "\n",
    "### Pytorch tensor"
   ]
  },
  {
   "cell_type": "code",
   "execution_count": 4,
   "metadata": {
    "ExecuteTime": {
     "end_time": "2019-07-07T14:15:52.801422Z",
     "start_time": "2019-07-07T14:15:52.795788Z"
    }
   },
   "outputs": [
    {
     "name": "stdout",
     "output_type": "stream",
     "text": [
      "tensor([[-7.4240e-35,  4.5556e-41,  1.2059e-36],\n",
      "        [ 0.0000e+00,  1.4178e+02,  4.5556e-41],\n",
      "        [ 1.1996e-36,  0.0000e+00,  1.1996e-36],\n",
      "        [ 0.0000e+00,  3.7415e-43,  4.5556e-41],\n",
      "        [ 8.9683e-44,  0.0000e+00,  1.7937e-43]])\n"
     ]
    }
   ],
   "source": [
    "x = torch.empty(5, 3)\n",
    "print(x)"
   ]
  },
  {
   "cell_type": "code",
   "execution_count": 5,
   "metadata": {
    "ExecuteTime": {
     "end_time": "2019-07-07T14:16:05.731542Z",
     "start_time": "2019-07-07T14:16:05.715653Z"
    }
   },
   "outputs": [
    {
     "name": "stdout",
     "output_type": "stream",
     "text": [
      "tensor([[0.5838, 0.0435, 0.3676],\n",
      "        [0.6813, 0.3565, 0.5657],\n",
      "        [0.1262, 0.8064, 0.5536],\n",
      "        [0.8061, 0.6555, 0.5306],\n",
      "        [0.7796, 0.9546, 0.7445]])\n"
     ]
    }
   ],
   "source": [
    "x = torch.rand(5, 3)\n",
    "print(x)"
   ]
  },
  {
   "cell_type": "code",
   "execution_count": 6,
   "metadata": {
    "ExecuteTime": {
     "end_time": "2019-07-07T14:16:24.900372Z",
     "start_time": "2019-07-07T14:16:24.882126Z"
    }
   },
   "outputs": [
    {
     "name": "stdout",
     "output_type": "stream",
     "text": [
      "tensor([[0, 0, 0],\n",
      "        [0, 0, 0],\n",
      "        [0, 0, 0],\n",
      "        [0, 0, 0],\n",
      "        [0, 0, 0]])\n"
     ]
    }
   ],
   "source": [
    "x = torch.zeros(5, 3, dtype=torch.long)\n",
    "print(x)"
   ]
  },
  {
   "cell_type": "code",
   "execution_count": 7,
   "metadata": {
    "ExecuteTime": {
     "end_time": "2019-07-07T14:16:42.311292Z",
     "start_time": "2019-07-07T14:16:42.308182Z"
    }
   },
   "outputs": [
    {
     "name": "stdout",
     "output_type": "stream",
     "text": [
      "tensor([5.5000, 3.0000])\n"
     ]
    }
   ],
   "source": [
    "x = torch.tensor([5.5, 3])\n",
    "print(x)"
   ]
  },
  {
   "cell_type": "code",
   "execution_count": 8,
   "metadata": {
    "ExecuteTime": {
     "end_time": "2019-07-07T14:17:33.708796Z",
     "start_time": "2019-07-07T14:17:33.689795Z"
    }
   },
   "outputs": [
    {
     "name": "stdout",
     "output_type": "stream",
     "text": [
      "tensor([ 0.3618, -0.1347])\n"
     ]
    }
   ],
   "source": [
    "x = torch.randn_like(x, dtype=torch.float)    # override dtype!\n",
    "print(x)  "
   ]
  },
  {
   "cell_type": "code",
   "execution_count": 11,
   "metadata": {
    "ExecuteTime": {
     "end_time": "2019-07-07T14:18:19.159878Z",
     "start_time": "2019-07-07T14:18:19.154260Z"
    }
   },
   "outputs": [
    {
     "data": {
      "text/plain": [
       "torch.Size([2])"
      ]
     },
     "execution_count": 11,
     "metadata": {},
     "output_type": "execute_result"
    }
   ],
   "source": [
    "x.size()"
   ]
  },
  {
   "cell_type": "code",
   "execution_count": 13,
   "metadata": {
    "ExecuteTime": {
     "end_time": "2019-07-07T14:48:29.094056Z",
     "start_time": "2019-07-07T14:48:29.089831Z"
    }
   },
   "outputs": [
    {
     "name": "stdout",
     "output_type": "stream",
     "text": [
      "torch.Size([4, 4]) torch.Size([16]) torch.Size([2, 8])\n",
      "tensor([-0.0552,  0.4317,  0.7155,  1.2822, -0.9484,  0.6563,  0.5390,  0.5729,\n",
      "         0.6348, -0.0833,  1.4096, -1.3007, -0.1246, -0.9477, -1.5801,  1.5747])\n"
     ]
    }
   ],
   "source": [
    "x = torch.randn(4, 4)\n",
    "y = x.view(16)\n",
    "z = x.view(-1, 8)  # the size -1 is inferred from other dimensions\n",
    "print(x.size(), y.size(), z.size())\n",
    "print(y)"
   ]
  },
  {
   "cell_type": "code",
   "execution_count": 14,
   "metadata": {
    "ExecuteTime": {
     "end_time": "2019-07-07T14:52:13.386039Z",
     "start_time": "2019-07-07T14:52:13.343720Z"
    }
   },
   "outputs": [
    {
     "data": {
      "text/plain": [
       "True"
      ]
     },
     "execution_count": 14,
     "metadata": {},
     "output_type": "execute_result"
    }
   ],
   "source": [
    "torch.cuda.is_available()"
   ]
  },
  {
   "cell_type": "code",
   "execution_count": 16,
   "metadata": {
    "ExecuteTime": {
     "end_time": "2019-07-07T14:53:16.160070Z",
     "start_time": "2019-07-07T14:53:13.818223Z"
    }
   },
   "outputs": [],
   "source": [
    "if torch.cuda.is_available():\n",
    "    device = torch.device(\"cuda\")          # a CUDA device object\n",
    "    y = torch.ones_like(x, device=device)  # directly create a tensor on GPU\n",
    "    x = x.to(device)                       # or just use strings ``.to(\"cuda\")``\n",
    "    z = x + y"
   ]
  },
  {
   "cell_type": "code",
   "execution_count": 18,
   "metadata": {
    "ExecuteTime": {
     "end_time": "2019-07-07T14:53:49.850994Z",
     "start_time": "2019-07-07T14:53:49.827993Z"
    }
   },
   "outputs": [
    {
     "name": "stdout",
     "output_type": "stream",
     "text": [
      "tensor([[ 0.9448,  1.4317,  1.7155,  2.2822],\n",
      "        [ 0.0516,  1.6563,  1.5390,  1.5729],\n",
      "        [ 1.6348,  0.9167,  2.4096, -0.3007],\n",
      "        [ 0.8754,  0.0523, -0.5801,  2.5747]], device='cuda:0')\n",
      "tensor([[ 0.9448,  1.4317,  1.7155,  2.2822],\n",
      "        [ 0.0516,  1.6563,  1.5390,  1.5729],\n",
      "        [ 1.6348,  0.9167,  2.4096, -0.3007],\n",
      "        [ 0.8754,  0.0523, -0.5801,  2.5747]], dtype=torch.float64)\n"
     ]
    }
   ],
   "source": [
    "print(z)\n",
    "print(z.to(\"cpu\", torch.double)) "
   ]
  },
  {
   "cell_type": "markdown",
   "metadata": {},
   "source": [
    "### Pytorch Autograd"
   ]
  },
  {
   "cell_type": "code",
   "execution_count": 21,
   "metadata": {
    "ExecuteTime": {
     "end_time": "2019-07-07T15:01:26.057358Z",
     "start_time": "2019-07-07T15:01:26.053635Z"
    }
   },
   "outputs": [
    {
     "name": "stdout",
     "output_type": "stream",
     "text": [
      "tensor([[1., 1.],\n",
      "        [1., 1.]], requires_grad=True)\n",
      "tensor([[3., 3.],\n",
      "        [3., 3.]], grad_fn=<AddBackward0>)\n",
      "<AddBackward0 object at 0x7efdfd007128>\n"
     ]
    }
   ],
   "source": [
    "x = torch.ones(2, 2, requires_grad=True)\n",
    "print(x)\n",
    "y = x + 2\n",
    "print(y)\n",
    "print(y.grad_fn)"
   ]
  },
  {
   "cell_type": "code",
   "execution_count": 22,
   "metadata": {
    "ExecuteTime": {
     "end_time": "2019-07-07T15:01:44.886581Z",
     "start_time": "2019-07-07T15:01:44.866707Z"
    }
   },
   "outputs": [
    {
     "name": "stdout",
     "output_type": "stream",
     "text": [
      "tensor([[27., 27.],\n",
      "        [27., 27.]], grad_fn=<MulBackward0>) tensor(27., grad_fn=<MeanBackward0>)\n"
     ]
    }
   ],
   "source": [
    "z = y * y * 3\n",
    "out = z.mean()\n",
    "print(z, out)"
   ]
  },
  {
   "cell_type": "code",
   "execution_count": 24,
   "metadata": {
    "ExecuteTime": {
     "end_time": "2019-07-07T15:04:26.678294Z",
     "start_time": "2019-07-07T15:04:26.668594Z"
    }
   },
   "outputs": [],
   "source": [
    "out.backward()"
   ]
  },
  {
   "cell_type": "code",
   "execution_count": 25,
   "metadata": {
    "ExecuteTime": {
     "end_time": "2019-07-07T15:04:38.082404Z",
     "start_time": "2019-07-07T15:04:38.079497Z"
    }
   },
   "outputs": [
    {
     "name": "stdout",
     "output_type": "stream",
     "text": [
      "tensor([[4.5000, 4.5000],\n",
      "        [4.5000, 4.5000]])\n"
     ]
    }
   ],
   "source": [
    "print(x.grad)"
   ]
  },
  {
   "cell_type": "code",
   "execution_count": 23,
   "metadata": {
    "ExecuteTime": {
     "end_time": "2019-07-07T15:04:04.704626Z",
     "start_time": "2019-07-07T15:04:04.686031Z"
    }
   },
   "outputs": [
    {
     "name": "stdout",
     "output_type": "stream",
     "text": [
      "False\n",
      "True\n",
      "<SumBackward0 object at 0x7efdfd007898>\n"
     ]
    }
   ],
   "source": [
    "a = torch.randn(2, 2)\n",
    "a = ((a * 3) / (a - 1))\n",
    "print(a.requires_grad)\n",
    "a.requires_grad_(True)\n",
    "print(a.requires_grad)\n",
    "b = (a * a).sum()\n",
    "print(b.grad_fn)"
   ]
  },
  {
   "cell_type": "code",
   "execution_count": 26,
   "metadata": {
    "ExecuteTime": {
     "end_time": "2019-07-07T15:08:53.589786Z",
     "start_time": "2019-07-07T15:08:53.586908Z"
    }
   },
   "outputs": [],
   "source": [
    "b.backward()"
   ]
  },
  {
   "cell_type": "code",
   "execution_count": 27,
   "metadata": {
    "ExecuteTime": {
     "end_time": "2019-07-07T15:09:00.642458Z",
     "start_time": "2019-07-07T15:09:00.638770Z"
    }
   },
   "outputs": [
    {
     "data": {
      "text/plain": [
       "tensor([[ 1.1120, -9.0869],\n",
       "        [-0.5763, -4.9394]])"
      ]
     },
     "execution_count": 27,
     "metadata": {},
     "output_type": "execute_result"
    }
   ],
   "source": [
    "a.grad"
   ]
  },
  {
   "cell_type": "code",
   "execution_count": 28,
   "metadata": {
    "ExecuteTime": {
     "end_time": "2019-07-07T15:09:17.389687Z",
     "start_time": "2019-07-07T15:09:17.372327Z"
    }
   },
   "outputs": [
    {
     "name": "stdout",
     "output_type": "stream",
     "text": [
      "tensor([  114.1148, -1126.6935,   317.1498], grad_fn=<MulBackward0>)\n"
     ]
    }
   ],
   "source": [
    "x = torch.randn(3, requires_grad=True)\n",
    "y = x * 2\n",
    "while y.data.norm() < 1000:\n",
    "    y = y * 2\n",
    "print(y)"
   ]
  },
  {
   "cell_type": "markdown",
   "metadata": {},
   "source": [
    "### Pytorch nn"
   ]
  },
  {
   "cell_type": "code",
   "execution_count": 30,
   "metadata": {
    "ExecuteTime": {
     "end_time": "2019-07-07T15:23:59.259263Z",
     "start_time": "2019-07-07T15:23:59.249018Z"
    }
   },
   "outputs": [
    {
     "name": "stdout",
     "output_type": "stream",
     "text": [
      "Net(\n",
      "  (conv1): Conv2d(1, 6, kernel_size=(3, 3), stride=(1, 1))\n",
      "  (conv2): Conv2d(6, 16, kernel_size=(3, 3), stride=(1, 1))\n",
      "  (fc1): Linear(in_features=576, out_features=120, bias=True)\n",
      "  (fc2): Linear(in_features=120, out_features=84, bias=True)\n",
      "  (fc3): Linear(in_features=84, out_features=10, bias=True)\n",
      ")\n",
      "10\n",
      "torch.Size([6, 1, 3, 3])\n"
     ]
    }
   ],
   "source": [
    "import torch\n",
    "import torch.nn as nn\n",
    "import torch.nn.functional as F\n",
    "\n",
    "\n",
    "class Net(nn.Module):\n",
    "\n",
    "    def __init__(self):\n",
    "        super(Net, self).__init__()\n",
    "        # 1 input image channel, 6 output channels, 3x3 square convolution\n",
    "        # kernel\n",
    "        self.conv1 = nn.Conv2d(1, 6, 3)\n",
    "        self.conv2 = nn.Conv2d(6, 16, 3)\n",
    "        # an affine operation: y = Wx + b\n",
    "        self.fc1 = nn.Linear(16 * 6 * 6, 120)  # 6*6 from image dimension\n",
    "        self.fc2 = nn.Linear(120, 84)\n",
    "        self.fc3 = nn.Linear(84, 10)\n",
    "\n",
    "    def forward(self, x):\n",
    "        # Max pooling over a (2, 2) window\n",
    "        x = F.max_pool2d(F.relu(self.conv1(x)), (2, 2))\n",
    "        # If the size is a square you can only specify a single number\n",
    "        x = F.max_pool2d(F.relu(self.conv2(x)), 2)\n",
    "        x = x.view(-1, self.num_flat_features(x))\n",
    "        x = F.relu(self.fc1(x))\n",
    "        x = F.relu(self.fc2(x))\n",
    "        x = self.fc3(x)\n",
    "        return x\n",
    "\n",
    "    def num_flat_features(self, x):\n",
    "        size = x.size()[1:]  # all dimensions except the batch dimension\n",
    "        num_features = 1\n",
    "        for s in size:\n",
    "            num_features *= s\n",
    "        return num_features\n",
    "\n",
    "\n",
    "net = Net()\n",
    "print(net)\n",
    "\n",
    "params = list(net.parameters())\n",
    "print(len(params))\n",
    "print(params[0].size())"
   ]
  },
  {
   "cell_type": "code",
   "execution_count": 35,
   "metadata": {
    "ExecuteTime": {
     "end_time": "2019-07-07T15:29:45.484648Z",
     "start_time": "2019-07-07T15:29:45.464576Z"
    }
   },
   "outputs": [
    {
     "name": "stdout",
     "output_type": "stream",
     "text": [
      "tensor([[-0.0617, -0.1158,  0.0818,  0.1675, -0.0164, -0.0845,  0.0591,  0.0493,\n",
      "          0.0757, -0.0628]], grad_fn=<AddmmBackward>)\n"
     ]
    }
   ],
   "source": [
    "input_ = torch.randn(1, 1, 32, 32)\n",
    "out = net(input_)\n",
    "print(out)\n",
    "\n",
    "net.zero_grad()\n",
    "out.backward(torch.randn(1, 10))"
   ]
  },
  {
   "cell_type": "code",
   "execution_count": 42,
   "metadata": {
    "ExecuteTime": {
     "end_time": "2019-07-07T15:33:10.012214Z",
     "start_time": "2019-07-07T15:33:09.994469Z"
    }
   },
   "outputs": [
    {
     "name": "stdout",
     "output_type": "stream",
     "text": [
      "tensor(1.4515, grad_fn=<MseLossBackward>)\n"
     ]
    }
   ],
   "source": [
    "output = net(input_)\n",
    "target = torch.randn(10)  # a dummy target, for example\n",
    "target = target.view(1, -1)  # make it the same shape as output\n",
    "criterion = nn.MSELoss()\n",
    "\n",
    "loss = criterion(output, target)\n",
    "print(loss)"
   ]
  },
  {
   "cell_type": "code",
   "execution_count": 46,
   "metadata": {
    "ExecuteTime": {
     "end_time": "2019-07-07T15:36:17.473645Z",
     "start_time": "2019-07-07T15:36:17.468888Z"
    }
   },
   "outputs": [
    {
     "name": "stdout",
     "output_type": "stream",
     "text": [
      "<MseLossBackward object at 0x7efdfc3e1ba8>\n",
      "<AddmmBackward object at 0x7efdfc476e48>\n",
      "<AccumulateGrad object at 0x7efdfc476a90>\n"
     ]
    }
   ],
   "source": [
    "print(loss.grad_fn)  # MSELoss\n",
    "print(loss.grad_fn.next_functions[0][0])  # Linear\n",
    "print(loss.grad_fn.next_functions[0][0].next_functions[0][0])  "
   ]
  },
  {
   "cell_type": "code",
   "execution_count": 47,
   "metadata": {
    "ExecuteTime": {
     "end_time": "2019-07-07T15:37:18.884809Z",
     "start_time": "2019-07-07T15:37:18.860276Z"
    }
   },
   "outputs": [
    {
     "name": "stdout",
     "output_type": "stream",
     "text": [
      "conv1.bias.grad before backward\n",
      "tensor([0., 0., 0., 0., 0., 0.])\n",
      "conv1.bias.grad after backward\n",
      "tensor([-0.0030,  0.0183, -0.0040, -0.0137,  0.0154,  0.0105])\n"
     ]
    }
   ],
   "source": [
    "net.zero_grad()     # zeroes the gradient buffers of all parameters\n",
    "\n",
    "print('conv1.bias.grad before backward')\n",
    "print(net.conv1.bias.grad)\n",
    "\n",
    "loss.backward()\n",
    "\n",
    "print('conv1.bias.grad after backward')\n",
    "print(net.conv1.bias.grad)"
   ]
  },
  {
   "cell_type": "code",
   "execution_count": 50,
   "metadata": {
    "ExecuteTime": {
     "end_time": "2019-07-07T15:39:15.484238Z",
     "start_time": "2019-07-07T15:39:15.479320Z"
    }
   },
   "outputs": [
    {
     "data": {
      "text/plain": [
       "<generator object Module.parameters at 0x7efdfc299ca8>"
      ]
     },
     "execution_count": 50,
     "metadata": {},
     "output_type": "execute_result"
    }
   ],
   "source": [
    "net.parameters()"
   ]
  },
  {
   "cell_type": "code",
   "execution_count": 51,
   "metadata": {
    "ExecuteTime": {
     "end_time": "2019-07-07T15:39:18.257436Z",
     "start_time": "2019-07-07T15:39:18.252208Z"
    }
   },
   "outputs": [],
   "source": [
    "# weight = weight - learning_rate * gradient\n",
    "learning_rate = 0.01\n",
    "for f in net.parameters():\n",
    "    f.data.sub_(f.grad.data * learning_rate)"
   ]
  },
  {
   "cell_type": "code",
   "execution_count": 57,
   "metadata": {
    "ExecuteTime": {
     "end_time": "2019-07-07T15:42:09.311322Z",
     "start_time": "2019-07-07T15:42:09.284588Z"
    }
   },
   "outputs": [
    {
     "name": "stdout",
     "output_type": "stream",
     "text": [
      "tensor([0., 0., 0., 0., 0., 0.])\n",
      "Parameter containing:\n",
      "tensor([-0.1715,  0.0292,  0.2621, -0.2635, -0.1059,  0.0968],\n",
      "       requires_grad=True)\n",
      "tensor([-0.0061,  0.0088, -0.0124, -0.0080, -0.0059, -0.0037])\n",
      "Parameter containing:\n",
      "tensor([-0.1715,  0.0291,  0.2622, -0.2634, -0.1059,  0.0968],\n",
      "       requires_grad=True)\n"
     ]
    }
   ],
   "source": [
    "import torch.optim as optim\n",
    "\n",
    "# create your optimizer\n",
    "optimizer = optim.SGD(net.parameters(), lr=0.01)\n",
    "\n",
    "# in your training loop:\n",
    "optimizer.zero_grad()   # zero the gradient buffers\n",
    "output = net(input_)\n",
    "loss = criterion(output, target)\n",
    "print(net.conv1.bias.grad)\n",
    "print(net.conv1.bias)\n",
    "loss.backward()\n",
    "optimizer.step()    # Does the update\n",
    "print(net.conv1.bias.grad)\n",
    "print(net.conv1.bias)"
   ]
  },
  {
   "cell_type": "markdown",
   "metadata": {},
   "source": [
    "### Pytorch Classifier"
   ]
  },
  {
   "cell_type": "code",
   "execution_count": 61,
   "metadata": {
    "ExecuteTime": {
     "end_time": "2019-07-07T19:29:25.759996Z",
     "start_time": "2019-07-07T19:28:40.816607Z"
    }
   },
   "outputs": [
    {
     "name": "stdout",
     "output_type": "stream",
     "text": [
      "Downloading https://www.cs.toronto.edu/~kriz/cifar-10-python.tar.gz to ./data/cifar-10-python.tar.gz\n"
     ]
    },
    {
     "name": "stderr",
     "output_type": "stream",
     "text": [
      "9.5%"
     ]
    },
    {
     "data": {
      "text/html": [
       "<b>limit_output extension: Maximum message size of 10000 exceeded with 10001 characters</b>"
      ]
     },
     "metadata": {},
     "output_type": "display_data"
    }
   ],
   "source": [
    "transform = transforms.Compose(\n",
    "    [transforms.ToTensor(),\n",
    "     transforms.Normalize((0.5, 0.5, 0.5), (0.5, 0.5, 0.5))])\n",
    "\n",
    "trainset = torchvision.datasets.CIFAR10(root='./data', train=True,\n",
    "                                        download=True, transform=transform)\n",
    "trainloader = torch.utils.data.DataLoader(trainset, batch_size=4,\n",
    "                                          shuffle=True, num_workers=2)\n",
    "\n",
    "testset = torchvision.datasets.CIFAR10(root='./data', train=False,\n",
    "                                       download=True, transform=transform)\n",
    "testloader = torch.utils.data.DataLoader(testset, batch_size=4,\n",
    "                                         shuffle=False, num_workers=2)\n",
    "\n",
    "classes = ('plane', 'car', 'bird', 'cat',\n",
    "           'deer', 'dog', 'frog', 'horse', 'ship', 'truck')"
   ]
  },
  {
   "cell_type": "code",
   "execution_count": 62,
   "metadata": {
    "ExecuteTime": {
     "end_time": "2019-07-07T19:34:40.556182Z",
     "start_time": "2019-07-07T19:34:40.408958Z"
    }
   },
   "outputs": [
    {
     "data": {
      "image/png": "[encoded data removed]",
      "text/plain": [
       "<Figure size 432x288 with 1 Axes>"
      ]
     },
     "metadata": {
      "needs_background": "light"
     },
     "output_type": "display_data"
    },
    {
     "name": "stdout",
     "output_type": "stream",
     "text": [
      "plane  deer  deer  frog\n"
     ]
    }
   ],
   "source": [
    "def imshow(img):\n",
    "    img = img / 2 + 0.5     # unnormalize\n",
    "    npimg = img.numpy()\n",
    "    plt.imshow(np.transpose(npimg, (1, 2, 0)))\n",
    "    plt.show()\n",
    "    \n",
    "# get some random training images\n",
    "dataiter = iter(trainloader)\n",
    "images, labels = dataiter.next()\n",
    "\n",
    "# show images\n",
    "imshow(torchvision.utils.make_grid(images))\n",
    "# print labels\n",
    "print(' '.join('%5s' % classes[labels[j]] for j in range(4)))"
   ]
  },
  {
   "cell_type": "code",
   "execution_count": 77,
   "metadata": {
    "ExecuteTime": {
     "end_time": "2019-07-07T19:55:31.497482Z",
     "start_time": "2019-07-07T19:55:31.488367Z"
    }
   },
   "outputs": [],
   "source": [
    "class Net(nn.Module):\n",
    "    def __init__(self):\n",
    "        super(Net, self).__init__()\n",
    "        self.conv1 = nn.Conv2d(3, 32, 5)\n",
    "        self.pool = nn.MaxPool2d(2, 2)\n",
    "        self.conv2 = nn.Conv2d(32, 16, 5)\n",
    "        self.fc1 = nn.Linear(16 * 5 * 5, 120)\n",
    "        self.fc2 = nn.Linear(120, 84)\n",
    "        self.fc3 = nn.Linear(84, 10)\n",
    "\n",
    "    def forward(self, x):\n",
    "        x = self.pool(F.relu(self.conv1(x)))\n",
    "        x = self.pool(F.relu(self.conv2(x)))\n",
    "        x = x.view(-1, 16 * 5 * 5)\n",
    "        x = F.relu(self.fc1(x))\n",
    "        x = F.relu(self.fc2(x))\n",
    "        x = self.fc3(x)\n",
    "        return x\n",
    "    \n",
    "net = Net()\n",
    "\n",
    "import torch.optim as optim\n",
    "\n",
    "criterion = nn.CrossEntropyLoss()\n",
    "optimizer = optim.SGD(net.parameters(), lr=0.001, momentum=0.9)"
   ]
  },
  {
   "cell_type": "code",
   "execution_count": 64,
   "metadata": {
    "ExecuteTime": {
     "end_time": "2019-07-07T19:41:20.566525Z",
     "start_time": "2019-07-07T19:40:04.963552Z"
    }
   },
   "outputs": [
    {
     "name": "stdout",
     "output_type": "stream",
     "text": [
      "[1,  2000] loss: 2.244\n",
      "[1,  4000] loss: 1.911\n",
      "[1,  6000] loss: 1.697\n",
      "[1,  8000] loss: 1.580\n",
      "[1, 10000] loss: 1.504\n",
      "[1, 12000] loss: 1.458\n",
      "[2,  2000] loss: 1.400\n",
      "[2,  4000] loss: 1.368\n",
      "[2,  6000] loss: 1.374\n",
      "[2,  8000] loss: 1.318\n",
      "[2, 10000] loss: 1.283\n",
      "[2, 12000] loss: 1.272\n",
      "Finished Training\n"
     ]
    }
   ],
   "source": [
    "for epoch in range(2):  # loop over the dataset multiple times\n",
    "\n",
    "    running_loss = 0.0\n",
    "    for i, data in enumerate(trainloader, 0):\n",
    "        # get the inputs; data is a list of [inputs, labels]\n",
    "        inputs, labels = data\n",
    "\n",
    "        # zero the parameter gradients\n",
    "        optimizer.zero_grad()\n",
    "\n",
    "        # forward + backward + optimize\n",
    "        outputs = net(inputs)\n",
    "        loss = criterion(outputs, labels)\n",
    "        loss.backward()\n",
    "        optimizer.step()\n",
    "\n",
    "        # print statistics\n",
    "        running_loss += loss.item()\n",
    "        if i % 2000 == 1999:    # print every 2000 mini-batches\n",
    "            print('[%d, %5d] loss: %.3f' %\n",
    "                  (epoch + 1, i + 1, running_loss / 2000))\n",
    "            running_loss = 0.0\n",
    "\n",
    "print('Finished Training')"
   ]
  },
  {
   "cell_type": "code",
   "execution_count": 65,
   "metadata": {
    "ExecuteTime": {
     "end_time": "2019-07-07T19:41:36.184106Z",
     "start_time": "2019-07-07T19:41:36.040483Z"
    }
   },
   "outputs": [
    {
     "data": {
      "image/png": "[encoded data removed]",
      "text/plain": [
       "<Figure size 432x288 with 1 Axes>"
      ]
     },
     "metadata": {
      "needs_background": "light"
     },
     "output_type": "display_data"
    },
    {
     "name": "stdout",
     "output_type": "stream",
     "text": [
      "GroundTruth:    cat  ship  ship plane\n"
     ]
    }
   ],
   "source": [
    "dataiter = iter(testloader)\n",
    "images, labels = dataiter.next()\n",
    "\n",
    "# print images\n",
    "imshow(torchvision.utils.make_grid(images))\n",
    "print('GroundTruth: ', ' '.join('%5s' % classes[labels[j]] for j in range(4)))"
   ]
  },
  {
   "cell_type": "code",
   "execution_count": 66,
   "metadata": {
    "ExecuteTime": {
     "end_time": "2019-07-07T19:43:01.912586Z",
     "start_time": "2019-07-07T19:43:01.895622Z"
    }
   },
   "outputs": [
    {
     "name": "stdout",
     "output_type": "stream",
     "text": [
      "Predicted:    cat  ship   car  ship\n"
     ]
    }
   ],
   "source": [
    "outputs = net(images)\n",
    "_, predicted = torch.max(outputs, 1)\n",
    "print('Predicted: ', ' '.join('%5s' % classes[predicted[j]]\n",
    "                              for j in range(4)))"
   ]
  },
  {
   "cell_type": "code",
   "execution_count": 70,
   "metadata": {
    "ExecuteTime": {
     "end_time": "2019-07-07T19:44:49.299591Z",
     "start_time": "2019-07-07T19:44:46.565578Z"
    }
   },
   "outputs": [
    {
     "name": "stdout",
     "output_type": "stream",
     "text": [
      "Accuracy of the network on the 10000 test images: 55 %\n"
     ]
    }
   ],
   "source": [
    "correct = 0\n",
    "total = 0\n",
    "with torch.no_grad():\n",
    "    for data in testloader:\n",
    "        images, labels = data\n",
    "        outputs = net(images)\n",
    "        _, predicted = torch.max(outputs.data, 1)\n",
    "        total += labels.size(0)\n",
    "        correct += (predicted == labels).sum().item()\n",
    "\n",
    "print('Accuracy of the network on the 10000 test images: %d %%' % (\n",
    "    100 * correct / total))"
   ]
  },
  {
   "cell_type": "code",
   "execution_count": 71,
   "metadata": {
    "ExecuteTime": {
     "end_time": "2019-07-07T19:45:49.067663Z",
     "start_time": "2019-07-07T19:45:46.277003Z"
    }
   },
   "outputs": [
    {
     "name": "stdout",
     "output_type": "stream",
     "text": [
      "Accuracy of plane : 59 %\n",
      "Accuracy of   car : 82 %\n",
      "Accuracy of  bird : 43 %\n",
      "Accuracy of   cat : 33 %\n",
      "Accuracy of  deer : 32 %\n",
      "Accuracy of   dog : 48 %\n",
      "Accuracy of  frog : 80 %\n",
      "Accuracy of horse : 67 %\n",
      "Accuracy of  ship : 51 %\n",
      "Accuracy of truck : 51 %\n"
     ]
    }
   ],
   "source": [
    "class_correct = list(0. for i in range(10))\n",
    "class_total = list(0. for i in range(10))\n",
    "with torch.no_grad():\n",
    "    for data in testloader:\n",
    "        images, labels = data\n",
    "        outputs = net(images)\n",
    "        _, predicted = torch.max(outputs, 1)\n",
    "        c = (predicted == labels).squeeze()\n",
    "        for i in range(4):\n",
    "            label = labels[i]\n",
    "            class_correct[label] += c[i].item()\n",
    "            class_total[label] += 1\n",
    "\n",
    "\n",
    "for i in range(10):\n",
    "    print('Accuracy of %5s : %2d %%' % (\n",
    "        classes[i], 100 * class_correct[i] / class_total[i]))"
   ]
  },
  {
   "cell_type": "code",
   "execution_count": 72,
   "metadata": {
    "ExecuteTime": {
     "end_time": "2019-07-07T19:47:37.137472Z",
     "start_time": "2019-07-07T19:47:37.132198Z"
    }
   },
   "outputs": [
    {
     "name": "stdout",
     "output_type": "stream",
     "text": [
      "cuda:0\n"
     ]
    }
   ],
   "source": [
    "device = torch.device(\"cuda:0\" if torch.cuda.is_available() else \"cpu\")\n",
    "\n",
    "# Assuming that we are on a CUDA machine, this should print a CUDA device:\n",
    "print(device)"
   ]
  },
  {
   "cell_type": "code",
   "execution_count": 79,
   "metadata": {
    "ExecuteTime": {
     "end_time": "2019-07-07T19:56:47.398067Z",
     "start_time": "2019-07-07T19:56:47.395042Z"
    }
   },
   "outputs": [
    {
     "name": "stdout",
     "output_type": "stream",
     "text": [
      "GeForce GTX 1080 Ti\n",
      "500736\n",
      "2097152\n"
     ]
    }
   ],
   "source": [
    "print(torch.cuda.get_device_name(0))\n",
    "print(torch.cuda.memory_allocated())\n",
    "print(torch.cuda.memory_cached())"
   ]
  },
  {
   "cell_type": "code",
   "execution_count": 80,
   "metadata": {
    "ExecuteTime": {
     "end_time": "2019-07-07T19:59:31.511752Z",
     "start_time": "2019-07-07T19:58:41.377565Z"
    }
   },
   "outputs": [
    {
     "name": "stdout",
     "output_type": "stream",
     "text": [
      "[1,  2000] loss: 2.145\n",
      "[1,  4000] loss: 1.766\n",
      "[1,  6000] loss: 1.583\n",
      "[1,  8000] loss: 1.480\n",
      "[1, 10000] loss: 1.438\n",
      "[1, 12000] loss: 1.385\n",
      "[2,  2000] loss: 1.280\n",
      "[2,  4000] loss: 1.259\n",
      "[2,  6000] loss: 1.239\n",
      "[2,  8000] loss: 1.210\n",
      "[2, 10000] loss: 1.193\n",
      "[2, 12000] loss: 1.164\n",
      "Finished Training\n"
     ]
    }
   ],
   "source": [
    "net.to(device)\n",
    "\n",
    "for epoch in range(2):  # loop over the dataset multiple times\n",
    "\n",
    "    running_loss = 0.0\n",
    "    for i, data in enumerate(trainloader, 0):\n",
    "        # get the inputs; data is a list of [inputs, labels]\n",
    "        inputs, labels = data[0].to(device), data[1].to(device)\n",
    "\n",
    "        # zero the parameter gradients\n",
    "        optimizer.zero_grad()\n",
    "\n",
    "        # forward + backward + optimize\n",
    "        outputs = net(inputs)\n",
    "        loss = criterion(outputs, labels)\n",
    "        loss.backward()\n",
    "        optimizer.step()\n",
    "\n",
    "        # print statistics\n",
    "        running_loss += loss.item()\n",
    "        if i % 2000 == 1999:    # print every 2000 mini-batches\n",
    "            print('[%d, %5d] loss: %.3f' %\n",
    "                  (epoch + 1, i + 1, running_loss / 2000))\n",
    "            running_loss = 0.0\n",
    "\n",
    "print('Finished Training')"
   ]
  },
  {
   "cell_type": "markdown",
   "metadata": {},
   "source": [
    "## Как всегда, начинаем с загрузки данных\n",
    "\n",
    "PyTorch поддерживает загрузку SVHN из коробки."
   ]
  },
  {
   "cell_type": "code",
   "execution_count": 2,
   "metadata": {
    "ExecuteTime": {
     "end_time": "2019-07-10T18:40:44.295595Z",
     "start_time": "2019-07-10T18:40:42.507566Z"
    },
    "scrolled": true
   },
   "outputs": [],
   "source": [
    "# First, lets load the dataset\n",
    "transformer = transforms.Compose([\n",
    "                           transforms.ToTensor(),\n",
    "                           transforms.Normalize(mean=[0.43,0.44,0.47],\n",
    "                                                std=[0.20,0.20,0.20])                           \n",
    "                       ])\n",
    "data_train = dset.SVHN('./data/', split='train',\n",
    "                       transform=transformer\n",
    "                      )\n",
    "data_test = dset.SVHN('./data/', split='test', \n",
    "                      transform=transformer)"
   ]
  },
  {
   "cell_type": "markdown",
   "metadata": {},
   "source": [
    "Теперь мы разделим данные на training и validation с использованием классов `SubsetRandomSampler` и `DataLoader`.\n",
    "\n",
    "`DataLoader` подгружает данные, предоставляемые классом `Dataset`, во время тренировки и группирует их в батчи.\n",
    "Он дает возможность указать `Sampler`, который выбирает, какие примеры из датасета использовать для тренировки. Мы используем это, чтобы разделить данные на training и validation.\n",
    "\n",
    "Подробнее: https://pytorch.org/tutorials/beginner/data_loading_tutorial.html"
   ]
  },
  {
   "cell_type": "code",
   "execution_count": 3,
   "metadata": {
    "ExecuteTime": {
     "end_time": "2019-07-10T18:41:01.777606Z",
     "start_time": "2019-07-10T18:41:01.767956Z"
    },
    "scrolled": true
   },
   "outputs": [],
   "source": [
    "batch_size = 64\n",
    "\n",
    "data_size = data_train.data.shape[0]\n",
    "validation_split = .2\n",
    "split = int(np.floor(validation_split * data_size))\n",
    "indices = list(range(data_size))\n",
    "np.random.shuffle(indices)\n",
    "\n",
    "train_indices, val_indices = indices[split:], indices[:split]\n",
    "\n",
    "train_sampler = SubsetRandomSampler(train_indices)\n",
    "val_sampler = SubsetRandomSampler(val_indices)\n",
    "\n",
    "train_loader = torch.utils.data.DataLoader(data_train, \n",
    "                                           batch_size=batch_size, \n",
    "                                           sampler=train_sampler,\n",
    "                                           num_workers=8)\n",
    "val_loader = torch.utils.data.DataLoader(data_train, \n",
    "                                         batch_size=batch_size,\n",
    "                                         sampler=val_sampler,\n",
    "                                         num_workers=8)"
   ]
  },
  {
   "cell_type": "markdown",
   "metadata": {},
   "source": [
    "В нашей задаче мы получаем на вход изображения, но работаем с ними как с одномерными массивами. Чтобы превратить многомерный массив в одномерный, мы воспользуемся очень простым вспомогательным модулем `Flattener`."
   ]
  },
  {
   "cell_type": "code",
   "execution_count": 4,
   "metadata": {
    "ExecuteTime": {
     "end_time": "2019-07-10T18:41:04.089240Z",
     "start_time": "2019-07-10T18:41:04.048458Z"
    },
    "scrolled": true
   },
   "outputs": [
    {
     "name": "stdout",
     "output_type": "stream",
     "text": [
      "SVHN data sample shape:  torch.Size([3, 32, 32])\n"
     ]
    }
   ],
   "source": [
    "sample, label = data_train[0]\n",
    "print(\"SVHN data sample shape: \", sample.shape)\n",
    "# As you can see, the data is shaped like an image\n",
    "\n",
    "# We'll use a special helper module to shape it into a tensor\n",
    "class Flattener(nn.Module):\n",
    "    def forward(self, x):\n",
    "        batch_size, *_ = x.shape\n",
    "        return x.view(batch_size, -1)"
   ]
  },
  {
   "cell_type": "markdown",
   "metadata": {},
   "source": [
    "И наконец, мы создаем основные объекты PyTorch:\n",
    "- `nn_model` - собственно, модель с нейросетью\n",
    "- `loss` - функцию ошибки, в нашем случае `CrossEntropyLoss`\n",
    "- `optimizer` - алгоритм оптимизации, в нашем случае просто `SGD`"
   ]
  },
  {
   "cell_type": "code",
   "execution_count": 5,
   "metadata": {
    "ExecuteTime": {
     "end_time": "2019-07-09T19:36:12.915335Z",
     "start_time": "2019-07-09T19:36:12.896639Z"
    },
    "scrolled": true
   },
   "outputs": [],
   "source": [
    "nn_model = nn.Sequential(\n",
    "            Flattener(),\n",
    "            nn.Linear(3*32*32, 100),\n",
    "            nn.ReLU(inplace=True),\n",
    "            nn.Linear(100, 10), \n",
    "         )\n",
    "nn_model.type(torch.FloatTensor)\n",
    "\n",
    "# We will minimize cross-entropy between the ground truth and\n",
    "# network predictions using an SGD optimizer\n",
    "loss = nn.CrossEntropyLoss().type(torch.FloatTensor)\n",
    "optimizer = optim.SGD(nn_model.parameters(), lr=1e-2, weight_decay=1e-1)"
   ]
  },
  {
   "cell_type": "markdown",
   "metadata": {},
   "source": [
    "## Тренируем!\n",
    "\n",
    "Ниже приведена функция `train_model`, реализующая основной цикл тренировки PyTorch.\n",
    "\n",
    "Каждую эпоху эта функция вызывает функцию `compute_accuracy`, которая вычисляет точность на validation, эту последнюю функцию предлагается реализовать вам."
   ]
  },
  {
   "cell_type": "code",
   "execution_count": 6,
   "metadata": {
    "ExecuteTime": {
     "end_time": "2019-07-10T18:43:49.949531Z",
     "start_time": "2019-07-10T18:43:49.932206Z"
    },
    "scrolled": true
   },
   "outputs": [],
   "source": [
    "# This is how to implement the same main train loop in PyTorch. Pretty easy, right?\n",
    "\n",
    "def train_model(model, train_loader, val_loader, loss, optimizer, num_epochs, \n",
    "                scheduler=None,\n",
    "                use_gpu=False):    \n",
    "    \n",
    "    loss_history = []\n",
    "    train_history = []\n",
    "    val_history = []\n",
    "    \n",
    "    for epoch in range(num_epochs):\n",
    "        \n",
    "        if scheduler is not None:\n",
    "            # Decay Learning Rate\n",
    "            scheduler.step()\n",
    "            print('Epoch:', epoch,'LR:', scheduler.get_lr())\n",
    "        #if use_gpu:\n",
    "        #    model.cuda()    \n",
    "        model.train() # Enter train mode\n",
    "        \n",
    "        loss_accum = 0\n",
    "        correct_samples = 0\n",
    "        total_samples = 0\n",
    "        for i_step, (x, y) in enumerate(train_loader):\n",
    "            if use_gpu:\n",
    "                x = x.cuda()\n",
    "                y = y.cuda()\n",
    "                \n",
    "            prediction = model(x)    \n",
    "            loss_value = loss(prediction, y)\n",
    "            \n",
    "            optimizer.zero_grad()\n",
    "            loss_value.backward()\n",
    "            optimizer.step()\n",
    "            \n",
    "            _, indices = torch.max(prediction, 1)\n",
    "            correct_samples += torch.sum(indices == y)\n",
    "            total_samples += y.shape[0]\n",
    "            \n",
    "            loss_accum += loss_value\n",
    "\n",
    "        ave_loss = loss_accum / (i_step + 1)\n",
    "        train_accuracy = float(correct_samples) / total_samples\n",
    "        val_accuracy = compute_accuracy(model, val_loader, use_gpu)\n",
    "        \n",
    "        loss_history.append(float(ave_loss))\n",
    "        train_history.append(train_accuracy)\n",
    "        val_history.append(val_accuracy)\n",
    "        \n",
    "        print(\"Average loss: %f, Train accuracy: %f, Val accuracy: %f\" % (ave_loss, train_accuracy, val_accuracy))\n",
    "        \n",
    "    return loss_history, train_history, val_history\n",
    "        \n",
    "def compute_accuracy(model, loader, use_gpu=False):\n",
    "    \"\"\"\n",
    "    Computes accuracy on the dataset wrapped in a loader\n",
    "    \n",
    "    Returns: accuracy as a float value between 0 and 1\n",
    "    \"\"\"\n",
    "    model.eval() # Evaluation mode\n",
    "    # TODO: Implement the inference of the model on all of the batches from loader,\n",
    "    #       and compute the overall accuracy.\n",
    "    # Hint: PyTorch has the argmax function!\n",
    "    correct_samples = 0\n",
    "    total_samples = 0\n",
    "    for i_step, (x, y) in enumerate(loader):\n",
    "        if use_gpu:\n",
    "            x = x.cuda()\n",
    "            y = y.cuda()            \n",
    "        prediction = model(x)    \n",
    "            \n",
    "        _, indices = torch.max(prediction, 1)\n",
    "        correct_samples += torch.sum(indices == y)\n",
    "        total_samples += y.shape[0]    \n",
    "    \n",
    "    return float(correct_samples) / total_samples"
   ]
  },
  {
   "cell_type": "code",
   "execution_count": 6,
   "metadata": {
    "ExecuteTime": {
     "end_time": "2019-07-08T19:31:07.215965Z",
     "start_time": "2019-07-08T19:31:07.210414Z"
    }
   },
   "outputs": [
    {
     "data": {
      "text/plain": [
       "<torch.utils.data.dataloader.DataLoader at 0x7fbe544fbcc0>"
      ]
     },
     "execution_count": 6,
     "metadata": {},
     "output_type": "execute_result"
    }
   ],
   "source": [
    "val_loader"
   ]
  },
  {
   "cell_type": "code",
   "execution_count": 7,
   "metadata": {
    "ExecuteTime": {
     "end_time": "2019-07-08T19:32:52.542873Z",
     "start_time": "2019-07-08T19:32:52.448820Z"
    },
    "collapsed": true
   },
   "outputs": [
    {
     "name": "stdout",
     "output_type": "stream",
     "text": [
      "0 tensor([[[[ 1.5755,  1.5951,  1.7716,  ..., -0.2480, -0.4833, -0.6206],\n",
      "          [ 1.5951,  1.6147,  1.6147,  ...,  0.0265, -0.2676, -0.4833],\n",
      "          [ 1.6147,  1.6343,  1.6147,  ...,  0.3598, -0.0324, -0.3461],\n",
      "          ...,\n",
      "          [ 1.5755,  1.5951,  1.6343,  ..., -0.4049, -0.5422, -0.8167],\n",
      "          [ 1.5755,  1.6147,  1.6539,  ..., -0.6206, -0.7578, -0.9539],\n",
      "          [ 1.6343,  1.6931,  1.6735,  ..., -0.7971, -0.8755, -0.9735]],\n",
      "\n",
      "         [[ 1.6039,  1.6039,  1.7608,  ..., -0.2196, -0.4353, -0.5529],\n",
      "          [ 1.6235,  1.6627,  1.6235,  ...,  0.1137, -0.2000, -0.4157],\n",
      "          [ 1.6431,  1.6824,  1.6824,  ...,  0.4078,  0.0157, -0.2980],\n",
      "          ...,\n",
      "          [ 1.6431,  1.6431,  1.6431,  ..., -0.2196, -0.3961, -0.6902],\n",
      "          [ 1.6431,  1.6627,  1.6431,  ..., -0.4549, -0.5922, -0.8078],\n",
      "          [ 1.6627,  1.6824,  1.6431,  ..., -0.6314, -0.7294, -0.8471]],\n",
      "\n",
      "         [[ 1.4343,  1.3951,  1.5716,  ...,  0.1402, -0.0755, -0.2324],\n",
      "          [ 1.4539,  1.4343,  1.4343,  ...,  0.3755,  0.1598, -0.0559],\n",
      "          [ 1.4735,  1.4539,  1.4343,  ...,  0.6304,  0.3363,  0.0814],\n",
      "          ...,\n",
      "          [ 1.4539,  1.3755,  1.3559,  ...,  0.1010,  0.0814, -0.1343],\n",
      "          [ 1.4931,  1.4343,  1.4147,  ..., -0.0363, -0.0951, -0.2324],\n",
      "          [ 1.5324,  1.4931,  1.3951,  ..., -0.2127, -0.1735, -0.2324]]],\n",
      "\n",
      "\n",
      "        [[[ 0.8696,  0.7716,  0.7716,  ...,  0.7912,  0.8108,  0.8304],\n",
      "          [ 0.8696,  0.8304,  0.8304,  ...,  0.7520,  0.7912,  0.8304],\n",
      "          [ 0.8892,  0.8892,  0.8696,  ...,  0.7912,  0.8108,  0.8500],\n",
      "          ...,\n",
      "          [ 1.0265,  1.0265,  1.0069,  ...,  0.7912,  0.7127,  0.6343],\n",
      "          [ 1.0069,  1.0069,  0.9676,  ...,  0.8304,  0.7912,  0.7520],\n",
      "          [ 1.0265,  1.0069,  0.9480,  ...,  0.8696,  0.8500,  0.8108]],\n",
      "\n",
      "         [[ 0.8588,  0.8588,  0.8784,  ...,  0.7608,  0.7608,  0.7804],\n",
      "          [ 0.8784,  0.8784,  0.8784,  ...,  0.7020,  0.7412,  0.7804],\n",
      "          [ 0.8784,  0.9176,  0.8980,  ...,  0.7412,  0.7804,  0.8196],\n",
      "          ...,\n",
      "          [ 0.9176,  0.9176,  0.8980,  ...,  0.6235,  0.5647,  0.4667],\n",
      "          [ 0.8980,  0.8980,  0.8980,  ...,  0.6824,  0.6627,  0.6039],\n",
      "          [ 0.8980,  0.8980,  0.8980,  ...,  0.8000,  0.7804,  0.7216]],\n",
      "\n",
      "         [[ 0.4931,  0.4343,  0.4343,  ...,  0.4539,  0.4147,  0.3951],\n",
      "          [ 0.5127,  0.4735,  0.4343,  ...,  0.3951,  0.3755,  0.3755],\n",
      "          [ 0.5127,  0.4735,  0.4539,  ...,  0.4343,  0.3951,  0.3559],\n",
      "          ...,\n",
      "          [ 0.6304,  0.6500,  0.6500,  ...,  0.1598,  0.0814, -0.0363],\n",
      "          [ 0.5912,  0.5912,  0.6304,  ...,  0.1990,  0.1206,  0.0225],\n",
      "          [ 0.5716,  0.5716,  0.5716,  ...,  0.2971,  0.2578,  0.1402]]],\n",
      "\n",
      "\n",
      "        [[[ 0.8892,  1.0657,  1.1049,  ...,  1.0461,  0.9873,  0.9088],\n",
      "          [ 0.7324,  0.9480,  0.9873,  ...,  0.9873,  0.9676,  0.9480],\n",
      "          [ 0.6343,  0.8500,  0.9088,  ...,  0.7912,  0.8108,  0.8500],\n",
      "          ...,\n",
      "          [ 0.6735,  1.0069,  1.2422,  ..., -0.2480, -0.4049, -0.5422],\n",
      "          [ 0.6931,  1.0265,  1.2422,  ..., -0.1696, -0.3853, -0.6010],\n",
      "          [ 0.6735,  1.0461,  1.2029,  ..., -0.1108, -0.3265, -0.5618]],\n",
      "\n",
      "         [[ 0.8784,  1.0549,  1.0549,  ...,  0.9961,  0.9373,  0.8392],\n",
      "          [ 0.7608,  0.9373,  0.9373,  ...,  0.9176,  0.8980,  0.8784],\n",
      "          [ 0.6627,  0.8392,  0.8588,  ...,  0.6627,  0.6824,  0.7216],\n",
      "          ...,\n",
      "          [ 0.8392,  1.0941,  1.2510,  ..., -0.4549, -0.5725, -0.6902],\n",
      "          [ 0.8196,  1.1137,  1.2510,  ..., -0.3961, -0.5529, -0.7490],\n",
      "          [ 0.8000,  1.1333,  1.2118,  ..., -0.3373, -0.5529, -0.7490]],\n",
      "\n",
      "         [[ 0.7088,  0.8461,  0.8657,  ...,  0.8069,  0.7480,  0.6500],\n",
      "          [ 0.5912,  0.7284,  0.7480,  ...,  0.7284,  0.7088,  0.6500],\n",
      "          [ 0.4931,  0.6304,  0.6696,  ...,  0.4539,  0.5127,  0.5127],\n",
      "          ...,\n",
      "          [ 0.6108,  0.8069,  0.9637,  ..., -0.6441, -0.6833, -0.7618],\n",
      "          [ 0.6108,  0.8265,  0.9637,  ..., -0.5265, -0.6637, -0.7814],\n",
      "          [ 0.5912,  0.8461,  0.9245,  ..., -0.4676, -0.6049, -0.7618]]],\n",
      "\n",
      "\n",
      "        ...,\n",
      "\n",
      "\n",
      "        [[[-0.0912, -0.2480, -0.3461,  ..., -1.2480, -1.2873, -1.3461],\n",
      "          [-0.1892, -0.3461, -0.4441,  ..., -1.4637, -1.4833, -1.4833],\n",
      "          [-0.2480, -0.4049, -0.5618,  ..., -1.6206, -1.6010, -1.5814],\n",
      "          ...,\n",
      "          [-0.3265, -0.5029, -0.6402,  ..., -1.4245, -1.3657, -1.2676],\n",
      "          [-0.4049, -0.5225, -0.5618,  ..., -1.2480, -1.2284, -1.1892],\n",
      "          [-0.3657, -0.4441, -0.5225,  ..., -1.1696, -1.1696, -1.1304]],\n",
      "\n",
      "         [[-0.4157, -0.5529, -0.6314,  ..., -0.9451, -0.9843, -0.9843],\n",
      "          [-0.4549, -0.5922, -0.6706,  ..., -1.0039, -1.0235, -1.0235],\n",
      "          [-0.4745, -0.6314, -0.7294,  ..., -1.1020, -1.0431, -1.0235],\n",
      "          ...,\n",
      "          [-0.5922, -0.7294, -0.8275,  ..., -1.0824, -1.0431, -0.9843],\n",
      "          [-0.7294, -0.7686, -0.8275,  ..., -0.9647, -0.9647, -0.9647],\n",
      "          [-0.7098, -0.7686, -0.8078,  ..., -0.9843, -0.9647, -0.9647]],\n",
      "\n",
      "         [[-0.7422, -0.8206, -0.8010,  ..., -0.6637, -0.7029, -0.7225],\n",
      "          [-0.7225, -0.7618, -0.7422,  ..., -0.6637, -0.6833, -0.6833],\n",
      "          [-0.7225, -0.7618, -0.7422,  ..., -0.6637, -0.6441, -0.6245],\n",
      "          ...,\n",
      "          [-0.8206, -0.8598, -0.8402,  ..., -0.5853, -0.5657, -0.5461],\n",
      "          [-0.9382, -0.8990, -0.8206,  ..., -0.6049, -0.6049, -0.6049],\n",
      "          [-0.9578, -0.9186, -0.8010,  ..., -0.7029, -0.7422, -0.7225]]],\n",
      "\n",
      "\n",
      "        [[[-0.5814, -0.5422, -0.3853,  ...,  1.5363,  1.4775,  1.4186],\n",
      "          [-0.8755, -0.8559, -0.9343,  ...,  1.4186,  1.5167,  1.4382],\n",
      "          [-0.7775, -0.7971, -0.8167,  ...,  1.3598,  1.5167,  1.4186],\n",
      "          ...,\n",
      "          [ 0.0853, -0.3657, -0.4833,  ...,  1.3206,  1.3990,  1.3402],\n",
      "          [-0.2873, -0.4833, -0.4245,  ...,  1.3206,  1.3990,  1.3598],\n",
      "          [-0.3853, -0.3853, -0.3657,  ...,  1.3598,  1.3794,  1.3402]],\n",
      "\n",
      "         [[-0.7490, -0.7490, -0.6118,  ...,  1.3098,  1.2706,  1.2314],\n",
      "          [-0.9647, -0.9843, -1.0627,  ...,  1.1922,  1.3098,  1.2314],\n",
      "          [-0.6902, -0.6902, -0.7294,  ...,  1.1725,  1.3098,  1.2118],\n",
      "          ...,\n",
      "          [ 0.0941, -0.3373, -0.4353,  ...,  1.1922,  1.2706,  1.2510],\n",
      "          [-0.2392, -0.4549, -0.3569,  ...,  1.1922,  1.2706,  1.2510],\n",
      "          [-0.3569, -0.3176, -0.2980,  ...,  1.1725,  1.2706,  1.2314]],\n",
      "\n",
      "         [[-0.6833, -0.6833, -0.5853,  ...,  0.9637,  0.8657,  0.7873],\n",
      "          [-0.7225, -0.7422, -0.8598,  ...,  0.9245,  0.9637,  0.8265],\n",
      "          [-0.3696, -0.4088, -0.4480,  ...,  0.9441,  0.9637,  0.8069],\n",
      "          ...,\n",
      "          [-0.0363, -0.4088, -0.3696,  ...,  0.6696,  0.7676,  0.8069],\n",
      "          [-0.2912, -0.4676, -0.2716,  ...,  0.6892,  0.8069,  0.8657],\n",
      "          [-0.2912, -0.2324, -0.1735,  ...,  0.7088,  0.8265,  0.8853]]],\n",
      "\n",
      "\n",
      "        [[[-0.0324, -0.0716, -0.1500,  ..., -0.3265, -0.3265, -0.3461],\n",
      "          [-0.0324, -0.0912, -0.1696,  ..., -0.3069, -0.3265, -0.3657],\n",
      "          [-0.0520, -0.0912, -0.1500,  ..., -0.3069, -0.3069, -0.3265],\n",
      "          ...,\n",
      "          [-0.0127, -0.0520, -0.2088,  ..., -0.6794, -0.6794, -0.6794],\n",
      "          [-0.0324, -0.0716, -0.2088,  ..., -0.6598, -0.6794, -0.6794],\n",
      "          [-0.0520, -0.0912, -0.2284,  ..., -0.7382, -0.7382, -0.6990]],\n",
      "\n",
      "         [[-0.2392, -0.2588, -0.3176,  ..., -0.4745, -0.4549, -0.4353],\n",
      "          [-0.2392, -0.2588, -0.3373,  ..., -0.4549, -0.4745, -0.4549],\n",
      "          [-0.2196, -0.2784, -0.3373,  ..., -0.4549, -0.4549, -0.4353],\n",
      "          ...,\n",
      "          [-0.2392, -0.2588, -0.3961,  ..., -0.7294, -0.7294, -0.7294],\n",
      "          [-0.2588, -0.2784, -0.3961,  ..., -0.7098, -0.7294, -0.7294],\n",
      "          [-0.2784, -0.2784, -0.4157,  ..., -0.7686, -0.7686, -0.7294]],\n",
      "\n",
      "         [[-0.6441, -0.6833, -0.7029,  ..., -0.5461, -0.5853, -0.5657],\n",
      "          [-0.6049, -0.6441, -0.7225,  ..., -0.5265, -0.5461, -0.5853],\n",
      "          [-0.6049, -0.6245, -0.7029,  ..., -0.5069, -0.5069, -0.5657],\n",
      "          ...,\n",
      "          [-0.7225, -0.6833, -0.7814,  ..., -0.7225, -0.7225, -0.7029],\n",
      "          [-0.7422, -0.7029, -0.7814,  ..., -0.7225, -0.7422, -0.7029],\n",
      "          [-0.7618, -0.7618, -0.8402,  ..., -0.8402, -0.8402, -0.7814]]]]) tensor([4, 4, 3, 1, 6, 9, 1, 7, 9, 5, 1, 6, 7, 6, 8, 0, 4, 3, 2, 9, 6, 1, 3, 3,\n",
      "        7, 6, 1, 9, 2, 7, 6, 2, 2, 1, 1, 1, 2, 2, 1, 5, 4, 6, 9, 5, 7, 1, 9, 6,\n",
      "        3, 2, 7, 6, 2, 4, 1, 3, 7, 1, 3, 5, 6, 8, 3, 5])\n",
      "1 tensor([[[[-1.5225, -1.5422, -1.5422,  ..., -0.7971, -0.8167, -0.8167],\n",
      "          [-1.5422, -1.5618, -1.5814,  ..., -0.7578, -0.7775, -0.7578],\n",
      "          [-1.5618, -1.5814, -1.6206,  ..., -0.7382, -0.7186, -0.6990],\n",
      "          ...,\n",
      "          [-1.6206, -1.6598, -1.6990,  ..., -1.0520, -0.8951, -0.8167],\n",
      "          [-1.6206, -1.6598, -1.6990,  ..., -0.9147, -0.7578, -0.6990],\n",
      "          [-1.6010, -1.6598, -1.7186,  ..., -0.7971, -0.6206, -0.5618]],\n",
      "\n",
      "         [[-1.7490, -1.7686, -1.7686,  ..., -0.9059, -0.9255, -0.9255],\n",
      "          [-1.7686, -1.7882, -1.8078,  ..., -0.8667, -0.8863, -0.8667],\n",
      "          [-1.7882, -1.8078, -1.8275,  ..., -0.8471, -0.8275, -0.8078],\n",
      "          ...,\n",
      "          [-1.6902, -1.7294, -1.7686,  ..., -1.1804, -1.0235, -0.9451],\n",
      "          [-1.7098, -1.7294, -1.7686,  ..., -1.0824, -0.9059, -0.8471],\n",
      "          [-1.7294, -1.7490, -1.7686,  ..., -0.9843, -0.8078, -0.7686]],\n",
      "\n",
      "         [[-1.8794, -1.8598, -1.8794,  ..., -1.2324, -1.2520, -1.2127],\n",
      "          [-1.8990, -1.8990, -1.9186,  ..., -1.1931, -1.1931, -1.1735],\n",
      "          [-1.9186, -1.9186, -1.9382,  ..., -1.1931, -1.1735, -1.1539],\n",
      "          ...,\n",
      "          [-1.8794, -1.9186, -1.9775,  ..., -1.5657, -1.4088, -1.3108],\n",
      "          [-1.8990, -1.9578, -2.0167,  ..., -1.4676, -1.2716, -1.1931],\n",
      "          [-1.9382, -1.9775, -2.0167,  ..., -1.3696, -1.1931, -1.1147]]],\n",
      "\n",
      "\n",
      "        [[[-0.7971, -0.7578, -0.7578,  ..., -1.0324, -1.1304, -1.1892],\n",
      "          [-0.8951, -0.8755, -0.8363,  ..., -1.1500, -1.2676, -1.3461],\n",
      "          [-1.1108, -1.1108, -1.0716,  ..., -1.0716, -1.1892, -1.2676],\n",
      "          ...,\n",
      "          [-1.7971, -1.8755, -1.9735,  ..., -1.8755, -1.7971, -1.6794],\n",
      "          [-1.8167, -1.8755, -1.9931,  ..., -1.8167, -1.7186, -1.6010],\n",
      "          [-1.7775, -1.8167, -1.9343,  ..., -1.7186, -1.6794, -1.5814]],\n",
      "\n",
      "         [[-1.0627, -1.0235, -1.0235,  ..., -1.2392, -1.3176, -1.3765],\n",
      "          [-1.1608, -1.1412, -1.1216,  ..., -1.3569, -1.4745, -1.5529],\n",
      "          [-1.4157, -1.3765, -1.3176,  ..., -1.2784, -1.3569, -1.4549],\n",
      "          ...,\n",
      "          [-1.8863, -1.9059, -1.9255,  ..., -2.0039, -1.9255, -1.7882],\n",
      "          [-1.8667, -1.8471, -1.8863,  ..., -1.9059, -1.8078, -1.6902],\n",
      "          [-1.7686, -1.7490, -1.7882,  ..., -1.7882, -1.7098, -1.6118]],\n",
      "\n",
      "         [[-0.8990, -0.8598, -0.8598,  ..., -1.2127, -1.3108, -1.3696],\n",
      "          [-0.9186, -0.8990, -0.8598,  ..., -1.2324, -1.3696, -1.4676],\n",
      "          [-1.0559, -1.0363, -0.9775,  ..., -1.0755, -1.1931, -1.3304],\n",
      "          ...,\n",
      "          [-1.7029, -1.7029, -1.7422,  ..., -1.5265, -1.4873, -1.4088],\n",
      "          [-1.7618, -1.7814, -1.7814,  ..., -1.5265, -1.4873, -1.3892],\n",
      "          [-1.7422, -1.7422, -1.7618,  ..., -1.5265, -1.4676, -1.4088]]],\n",
      "\n",
      "\n",
      "        [[[ 0.0265,  0.0069,  0.0461,  ...,  0.9284,  2.3598,  2.7324],\n",
      "          [ 0.0461,  0.0265,  0.0265,  ...,  0.9088,  2.3402,  2.7127],\n",
      "          [ 0.0461,  0.0265,  0.0265,  ...,  1.0853,  2.5167,  2.6735],\n",
      "          ...,\n",
      "          [ 1.6539,  0.3990,  0.1245,  ...,  0.0657,  0.0657,  0.0853],\n",
      "          [ 1.7520,  0.4382,  0.0461,  ...,  0.0461,  0.0461,  0.0657],\n",
      "          [ 1.8892,  0.4775, -0.1304,  ..., -0.0127,  0.0265,  0.0461]],\n",
      "\n",
      "         [[ 1.0745,  1.0941,  1.0941,  ...,  1.3098,  2.5843,  2.8000],\n",
      "          [ 1.0941,  1.0941,  1.0745,  ...,  1.3686,  2.6039,  2.8000],\n",
      "          [ 1.0941,  1.0549,  1.0549,  ...,  1.5843,  2.7804,  2.8000],\n",
      "          ...,\n",
      "          [ 1.9373,  0.9373,  0.9373,  ...,  1.0745,  1.0745,  1.0941],\n",
      "          [ 2.0549,  1.0353,  0.9176,  ...,  1.0745,  1.0745,  1.0745],\n",
      "          [ 2.1529,  1.0157,  0.7804,  ...,  1.0745,  1.0941,  1.0941]],\n",
      "\n",
      "         [[ 1.8461,  1.8461,  1.8657,  ...,  1.6304,  2.5912,  2.6500],\n",
      "          [ 1.8657,  1.8461,  1.8461,  ...,  1.6696,  2.5912,  2.6500],\n",
      "          [ 1.8657,  1.8461,  1.8265,  ...,  1.8657,  2.6500,  2.6500],\n",
      "          ...,\n",
      "          [ 2.0029,  1.2971,  1.5716,  ...,  1.8265,  1.8265,  1.8461],\n",
      "          [ 2.1598,  1.4343,  1.6108,  ...,  1.8265,  1.8265,  1.8265],\n",
      "          [ 2.2971,  1.4539,  1.4343,  ...,  1.8069,  1.8069,  1.8265]]],\n",
      "\n",
      "\n",
      "        ...,\n",
      "\n",
      "\n",
      "        [[[ 1.3990,  1.4382,  1.3794,  ...,  0.3206,  0.2225,  0.2029],\n",
      "          [ 1.3010,  1.3598,  1.3794,  ...,  0.4186,  0.3206,  0.3206],\n",
      "          [ 0.5559,  0.6343,  0.6539,  ...,  0.2618,  0.1049,  0.1441],\n",
      "          ...,\n",
      "          [ 0.2422,  0.2422,  0.3010,  ...,  0.3010,  0.3402,  0.2618],\n",
      "          [ 0.7324,  0.6735,  0.6931,  ...,  0.7324,  0.7520,  0.6931],\n",
      "          [ 0.8696,  0.8304,  0.8696,  ...,  0.7716,  0.7324,  0.7127]],\n",
      "\n",
      "         [[ 1.5451,  1.5843,  1.5255,  ...,  0.3098,  0.2314,  0.2118],\n",
      "          [ 1.4078,  1.5059,  1.5059,  ...,  0.4275,  0.3490,  0.3490],\n",
      "          [ 0.6627,  0.7608,  0.8000,  ...,  0.3098,  0.1529,  0.1922],\n",
      "          ...,\n",
      "          [ 0.5059,  0.5255,  0.6039,  ...,  0.6431,  0.7216,  0.6824],\n",
      "          [ 0.9176,  0.9176,  0.9569,  ...,  1.0157,  1.0549,  1.0353],\n",
      "          [ 1.0157,  1.0157,  1.0353,  ...,  0.9961,  0.9765,  0.9569]],\n",
      "\n",
      "         [[ 1.5912,  1.6696,  1.6108,  ...,  0.3951,  0.2578,  0.2382],\n",
      "          [ 1.4735,  1.5716,  1.6500,  ...,  0.5127,  0.3951,  0.4147],\n",
      "          [ 0.7480,  0.8853,  0.9833,  ...,  0.4539,  0.2775,  0.2971],\n",
      "          ...,\n",
      "          [ 0.6892,  0.7088,  0.7284,  ...,  0.3755,  0.4539,  0.4343],\n",
      "          [ 1.0618,  1.0618,  1.0618,  ...,  0.7088,  0.7873,  0.7873],\n",
      "          [ 1.1010,  1.1010,  1.1206,  ...,  0.7284,  0.7284,  0.7088]]],\n",
      "\n",
      "\n",
      "        [[[ 0.5363,  0.5363,  0.4971,  ..., -0.1696, -0.3657, -0.3853],\n",
      "          [ 0.5363,  0.5559,  0.5167,  ..., -0.0324, -0.1892, -0.2284],\n",
      "          [ 0.5167,  0.4971,  0.4578,  ...,  0.0657,  0.0265, -0.0324],\n",
      "          ...,\n",
      "          [ 0.5559,  0.6147,  0.5755,  ...,  0.6147,  0.6147,  0.5951],\n",
      "          [ 0.5755,  0.6147,  0.5951,  ...,  0.6931,  0.6931,  0.6539],\n",
      "          [ 0.5755,  0.5951,  0.5755,  ...,  0.7324,  0.7520,  0.7127]],\n",
      "\n",
      "         [[ 0.3490,  0.3294,  0.3490,  ..., -0.1804, -0.1804, -0.1804],\n",
      "          [ 0.3882,  0.3686,  0.3686,  ...,  0.0157, -0.0039, -0.0039],\n",
      "          [ 0.4078,  0.3882,  0.3686,  ...,  0.1725,  0.1333,  0.1333],\n",
      "          ...,\n",
      "          [ 0.5059,  0.4863,  0.4275,  ...,  0.5059,  0.5451,  0.5843],\n",
      "          [ 0.4667,  0.4863,  0.4471,  ...,  0.5059,  0.5451,  0.5843],\n",
      "          [ 0.4275,  0.4667,  0.4667,  ...,  0.5059,  0.5451,  0.5843]],\n",
      "\n",
      "         [[ 0.0225,  0.0422,  0.0225,  ..., -0.4873, -0.5069, -0.4873],\n",
      "          [ 0.0422,  0.0422,  0.0029,  ..., -0.3304, -0.3304, -0.3108],\n",
      "          [ 0.0814,  0.0225, -0.0167,  ..., -0.2127, -0.1931, -0.1931],\n",
      "          ...,\n",
      "          [ 0.1990,  0.2382,  0.2382,  ...,  0.4539,  0.4539,  0.3559],\n",
      "          [ 0.2186,  0.2578,  0.2186,  ...,  0.4343,  0.4343,  0.3755],\n",
      "          [ 0.2578,  0.2775,  0.2186,  ...,  0.3951,  0.3951,  0.3755]]],\n",
      "\n",
      "\n",
      "        [[[ 1.1637,  1.1245,  1.1441,  ..., -0.6598, -0.7382, -0.8167],\n",
      "          [ 1.2029,  1.1441,  1.1049,  ..., -0.7186, -0.7775, -0.8167],\n",
      "          [ 1.1245,  1.1245,  0.6343,  ..., -0.7775, -0.7775, -0.7578],\n",
      "          ...,\n",
      "          [-0.0520,  1.0069,  1.2029,  ..., -0.8755, -0.8951, -0.8363],\n",
      "          [ 0.3794,  1.1245,  1.3598,  ..., -0.8559, -0.8559, -0.7775],\n",
      "          [ 1.0853,  1.2225,  1.3794,  ..., -0.8559, -0.8559, -0.7382]],\n",
      "\n",
      "         [[ 1.3098,  1.2902,  1.3490,  ..., -0.9647, -1.0431, -1.0824],\n",
      "          [ 1.3686,  1.2902,  1.2510,  ..., -1.0039, -1.0824, -1.0824],\n",
      "          [ 1.4078,  1.2706,  0.7412,  ..., -1.0235, -1.0431, -0.9843],\n",
      "          ...,\n",
      "          [ 0.2902,  1.2118,  1.3490,  ..., -0.8667, -0.9451, -0.9255],\n",
      "          [ 0.6039,  1.2706,  1.5059,  ..., -0.8078, -0.8471, -0.8275],\n",
      "          [ 1.2510,  1.3882,  1.5255,  ..., -0.8275, -0.8275, -0.7882]],\n",
      "\n",
      "         [[ 1.2186,  1.1794,  1.2578,  ..., -0.8794, -0.9775, -1.0755],\n",
      "          [ 1.2971,  1.1990,  1.2775,  ..., -0.9382, -1.0363, -1.0755],\n",
      "          [ 1.3167,  1.2186,  0.9245,  ..., -0.9578, -1.0167, -1.0167],\n",
      "          ...,\n",
      "          [ 0.5520,  1.3363,  1.4343,  ..., -0.9578, -0.9971, -0.9382],\n",
      "          [ 0.5912,  1.1990,  1.4343,  ..., -0.9775, -0.9578, -0.8598],\n",
      "          [ 0.9833,  1.1010,  1.3167,  ..., -0.9578, -0.9382, -0.8206]]]]) tensor([7, 3, 6, 9, 6, 1, 4, 2, 4, 2, 1, 1, 3, 6, 6, 4, 4, 9, 1, 8, 1, 8, 6, 1,\n",
      "        8, 1, 8, 7, 5, 3, 6, 3, 3, 3, 3, 2, 3, 6, 1, 2, 2, 2, 9, 0, 1, 8, 2, 3,\n",
      "        3, 6, 6, 6, 7, 3, 7, 1, 9, 3, 5, 7, 7, 1, 2, 7])\n",
      "2 tensor([[[[-0.3461, -0.5422, -0.5814,  ...,  0.7912,  0.7912,  0.7912],\n",
      "          [-0.6990, -0.8951, -0.9539,  ...,  0.4775,  0.5559,  0.5755],\n",
      "          [-1.2088, -1.3069, -1.3657,  ..., -0.1892, -0.1500, -0.1500],\n",
      "          ...,\n",
      "          [-1.0716, -0.6206, -0.1892,  ..., -1.0520, -1.3657, -1.3461],\n",
      "          [-0.9147, -0.8951, -0.9147,  ..., -1.2284, -1.2088, -1.1696],\n",
      "          [-0.7971, -0.8167, -0.8559,  ..., -1.2480, -1.2480, -1.2088]],\n",
      "\n",
      "         [[-0.5922, -0.7686, -0.7490,  ...,  0.7216,  0.7412,  0.7608],\n",
      "          [-0.9255, -1.1020, -1.1020,  ...,  0.3882,  0.4667,  0.5255],\n",
      "          [-1.3765, -1.4549, -1.4549,  ..., -0.2784, -0.2392, -0.2392],\n",
      "          ...,\n",
      "          [-1.1020, -0.7098, -0.2980,  ..., -1.1216, -1.4745, -1.4941],\n",
      "          [-0.9647, -1.0235, -1.0627,  ..., -1.2980, -1.3176, -1.3569],\n",
      "          [-0.8863, -0.9451, -1.0235,  ..., -1.3373, -1.3373, -1.3961]],\n",
      "\n",
      "         [[-0.5853, -0.7225, -0.6637,  ...,  0.6500,  0.6696,  0.6892],\n",
      "          [-0.8010, -0.9578, -0.9186,  ...,  0.4735,  0.5520,  0.5912],\n",
      "          [-1.1735, -1.2127, -1.1539,  ..., -0.0755, -0.0363, -0.0363],\n",
      "          ...,\n",
      "          [-0.6833, -0.2324,  0.1598,  ..., -0.4676, -0.7225, -0.6833],\n",
      "          [-0.5853, -0.5461, -0.5265,  ..., -0.6441, -0.6245, -0.6245],\n",
      "          [-0.5657, -0.5265, -0.5265,  ..., -0.7618, -0.7225, -0.7422]]],\n",
      "\n",
      "\n",
      "        [[[ 0.8892,  0.8500,  0.7324,  ...,  1.2422,  1.2422,  1.2422],\n",
      "          [ 0.7716,  0.7324,  0.6147,  ...,  1.2618,  1.2422,  1.2422],\n",
      "          [ 0.5167,  0.4775,  0.3794,  ...,  1.3010,  1.2814,  1.2814],\n",
      "          ...,\n",
      "          [ 1.0657,  1.0657,  1.0853,  ...,  1.4578,  1.4775,  1.4775],\n",
      "          [ 0.6931,  0.6539,  0.5559,  ...,  1.4578,  1.4578,  1.4578],\n",
      "          [ 0.5167,  0.4578,  0.3206,  ...,  1.4578,  1.4578,  1.4578]],\n",
      "\n",
      "         [[ 0.8392,  0.8000,  0.7020,  ...,  1.2314,  1.2510,  1.2510],\n",
      "          [ 0.7216,  0.6824,  0.6039,  ...,  1.2510,  1.2706,  1.2706],\n",
      "          [ 0.4471,  0.4275,  0.3490,  ...,  1.2902,  1.3098,  1.3098],\n",
      "          ...,\n",
      "          [ 1.1529,  1.1725,  1.2118,  ...,  1.6235,  1.6431,  1.6431],\n",
      "          [ 0.7804,  0.7412,  0.6627,  ...,  1.6039,  1.6235,  1.6235],\n",
      "          [ 0.6039,  0.5451,  0.4275,  ...,  1.6039,  1.6235,  1.6235]],\n",
      "\n",
      "         [[ 0.7284,  0.6892,  0.5716,  ...,  0.9441,  0.9637,  0.9637],\n",
      "          [ 0.6304,  0.5912,  0.4931,  ...,  0.9637,  0.9833,  0.9833],\n",
      "          [ 0.3755,  0.3559,  0.2775,  ...,  1.0225,  1.0225,  1.0225],\n",
      "          ...,\n",
      "          [ 1.1206,  1.1402,  1.2186,  ...,  1.4343,  1.4147,  1.4147],\n",
      "          [ 0.7284,  0.7088,  0.6500,  ...,  1.4147,  1.3951,  1.3951],\n",
      "          [ 0.5716,  0.5127,  0.4147,  ...,  1.4147,  1.3951,  1.3951]]],\n",
      "\n",
      "\n",
      "        [[[ 0.2814,  0.2422,  0.1637,  ..., -0.1304, -0.1304, -0.1892],\n",
      "          [ 0.2814,  0.1637,  0.0265,  ..., -0.0912, -0.0520, -0.1108],\n",
      "          [ 0.1637, -0.0520, -0.2676,  ...,  0.0069,  0.0069, -0.0520],\n",
      "          ...,\n",
      "          [ 0.3010,  0.1833, -0.0912,  ...,  0.3402,  0.1637,  0.0657],\n",
      "          [ 0.2814,  0.2225, -0.0520,  ...,  0.3206,  0.1441,  0.0657],\n",
      "          [ 0.2814,  0.1245, -0.0324,  ...,  0.3010,  0.2029,  0.0265]],\n",
      "\n",
      "         [[ 0.5059,  0.4863,  0.4667,  ..., -0.1804, -0.1804, -0.2392],\n",
      "          [ 0.4471,  0.4078,  0.3490,  ..., -0.0824, -0.1020, -0.1608],\n",
      "          [ 0.3294,  0.1922,  0.0549,  ...,  0.0353, -0.0039, -0.0431],\n",
      "          ...,\n",
      "          [ 0.5255,  0.4275,  0.1137,  ...,  0.4471,  0.3686,  0.3098],\n",
      "          [ 0.5255,  0.4667,  0.2314,  ...,  0.4471,  0.3686,  0.2902],\n",
      "          [ 0.5255,  0.4667,  0.2706,  ...,  0.3882,  0.3686,  0.2510]],\n",
      "\n",
      "         [[ 0.3755,  0.3951,  0.3951,  ..., -0.1343, -0.1343, -0.1931],\n",
      "          [ 0.3363,  0.3559,  0.3559,  ..., -0.0559, -0.0559, -0.1147],\n",
      "          [ 0.2775,  0.2186,  0.1402,  ...,  0.1010,  0.0814, -0.0167],\n",
      "          ...,\n",
      "          [ 0.3951,  0.4343,  0.2382,  ...,  0.5127,  0.3363,  0.2186],\n",
      "          [ 0.4343,  0.3755,  0.2382,  ...,  0.4735,  0.2775,  0.1598],\n",
      "          [ 0.5127,  0.3363,  0.2186,  ...,  0.3951,  0.2971,  0.1206]]],\n",
      "\n",
      "\n",
      "        ...,\n",
      "\n",
      "\n",
      "        [[[-1.4637, -1.5618, -1.6402,  ..., -0.8559, -0.8167, -0.7578],\n",
      "          [-1.4637, -1.5814, -1.6598,  ..., -0.8755, -0.8559, -0.8559],\n",
      "          [-1.4637, -1.5814, -1.6402,  ..., -0.9147, -0.9147, -0.9539],\n",
      "          ...,\n",
      "          [-1.0912, -0.9343, -0.9931,  ..., -0.6794, -0.6402, -0.6206],\n",
      "          [-1.1108, -0.9343, -0.9735,  ..., -0.7578, -0.7186, -0.6990],\n",
      "          [-1.0912, -0.9343, -0.9735,  ..., -0.8559, -0.7971, -0.7775]],\n",
      "\n",
      "         [[-1.5529, -1.6510, -1.7294,  ..., -0.8471, -0.8471, -0.8863],\n",
      "          [-1.5529, -1.6706, -1.7490,  ..., -0.8667, -0.8863, -0.9059],\n",
      "          [-1.5529, -1.6706, -1.7294,  ..., -0.8863, -0.9059, -0.9647],\n",
      "          ...,\n",
      "          [-1.1216, -0.9451, -1.0431,  ..., -0.7098, -0.7098, -0.7294],\n",
      "          [-1.1216, -0.9451, -1.0235,  ..., -0.8078, -0.7882, -0.8078],\n",
      "          [-1.1216, -0.9451, -1.0235,  ..., -0.9255, -0.9255, -0.9255]],\n",
      "\n",
      "         [[-1.6049, -1.7422, -1.8206,  ..., -1.0559, -1.0559, -1.0951],\n",
      "          [-1.6049, -1.7422, -1.8402,  ..., -1.0755, -1.0951, -1.1539],\n",
      "          [-1.6049, -1.7422, -1.8206,  ..., -1.0951, -1.1343, -1.2127],\n",
      "          ...,\n",
      "          [-1.3304, -1.2127, -1.2912,  ..., -1.0363, -1.0363, -1.0167],\n",
      "          [-1.3696, -1.2127, -1.2716,  ..., -1.1343, -1.1343, -1.0951],\n",
      "          [-1.3696, -1.2127, -1.2716,  ..., -1.2716, -1.2324, -1.1931]]],\n",
      "\n",
      "\n",
      "        [[[ 0.8108,  0.7716,  0.6735,  ..., -0.7578, -0.4049, -0.2088],\n",
      "          [ 0.8304,  0.7912,  0.6931,  ..., -0.6794, -0.3265, -0.1304],\n",
      "          [ 0.8500,  0.8108,  0.7127,  ..., -0.5225, -0.2088, -0.0520],\n",
      "          ...,\n",
      "          [ 0.5559,  0.5559,  0.5363,  ..., -0.5422, -0.3265, -0.2088],\n",
      "          [ 0.5755,  0.5755,  0.5363,  ..., -0.2676, -0.1696, -0.1304],\n",
      "          [ 0.5755,  0.5755,  0.5363,  ..., -0.0912, -0.0520, -0.0520]],\n",
      "\n",
      "         [[ 0.7412,  0.7020,  0.6039,  ..., -0.8863, -0.5137, -0.2980],\n",
      "          [ 0.7804,  0.7216,  0.6039,  ..., -0.7686, -0.4157, -0.2196],\n",
      "          [ 0.8000,  0.7412,  0.6235,  ..., -0.5725, -0.2588, -0.1020],\n",
      "          ...,\n",
      "          [ 0.5059,  0.5059,  0.4667,  ..., -0.5137, -0.2980, -0.1804],\n",
      "          [ 0.5255,  0.5059,  0.4667,  ..., -0.2392, -0.1412, -0.1020],\n",
      "          [ 0.5255,  0.5059,  0.4667,  ..., -0.0824, -0.0627, -0.0627]],\n",
      "\n",
      "         [[ 0.4931,  0.4735,  0.4147,  ..., -0.5069, -0.1931, -0.0363],\n",
      "          [ 0.5127,  0.4931,  0.4343,  ..., -0.3892, -0.0951,  0.0618],\n",
      "          [ 0.5324,  0.5324,  0.4931,  ..., -0.1735,  0.0814,  0.2186],\n",
      "          ...,\n",
      "          [ 0.1990,  0.2186,  0.2186,  ..., -0.4284, -0.2324, -0.1147],\n",
      "          [ 0.2186,  0.2382,  0.2382,  ..., -0.2324, -0.1539, -0.1147],\n",
      "          [ 0.2186,  0.2382,  0.2382,  ..., -0.0951, -0.0951, -0.1147]]],\n",
      "\n",
      "\n",
      "        [[[ 1.5167,  1.3010,  0.9873,  ...,  1.3794,  1.3010,  1.2422],\n",
      "          [ 1.4775,  1.1441,  0.7716,  ...,  1.3206,  1.3402,  1.3010],\n",
      "          [ 1.3990,  1.0069,  0.5951,  ...,  1.2814,  1.3794,  1.3598],\n",
      "          ...,\n",
      "          [ 0.7912,  0.5951,  0.3794,  ...,  1.3206,  1.3402,  1.3402],\n",
      "          [ 0.8500,  0.7127,  0.6735,  ...,  1.3010,  1.3402,  1.3010],\n",
      "          [ 0.9676,  0.8108,  0.7912,  ...,  1.2814,  1.3010,  1.2422]],\n",
      "\n",
      "         [[ 1.5451,  1.2706,  0.9569,  ...,  1.3490,  1.2706,  1.2118],\n",
      "          [ 1.4667,  1.1137,  0.7412,  ...,  1.2902,  1.3098,  1.2706],\n",
      "          [ 1.3882,  0.9765,  0.5647,  ...,  1.2510,  1.3490,  1.3294],\n",
      "          ...,\n",
      "          [ 0.7804,  0.5647,  0.3294,  ...,  1.3686,  1.3882,  1.3686],\n",
      "          [ 0.8392,  0.6627,  0.6431,  ...,  1.3294,  1.3882,  1.3490],\n",
      "          [ 0.9373,  0.8000,  0.7804,  ...,  1.3294,  1.3490,  1.2902]],\n",
      "\n",
      "         [[ 1.2775,  1.0225,  0.7088,  ...,  1.0814,  1.0029,  0.9441],\n",
      "          [ 1.2382,  0.8657,  0.4735,  ...,  1.0422,  1.0422,  1.0225],\n",
      "          [ 1.1794,  0.7284,  0.2971,  ...,  1.0029,  1.1010,  1.0814],\n",
      "          ...,\n",
      "          [ 0.5127,  0.3167,  0.1402,  ...,  1.1794,  1.1206,  1.0814],\n",
      "          [ 0.6108,  0.4735,  0.4735,  ...,  1.1402,  1.1402,  1.0814],\n",
      "          [ 0.7480,  0.6108,  0.6108,  ...,  1.1010,  1.0814,  1.0225]]]]) tensor([8, 4, 9, 1, 0, 5, 5, 0, 1, 9, 1, 1, 5, 5, 6, 7, 9, 1, 0, 1, 6, 0, 4, 6,\n",
      "        0, 2, 3, 8, 6, 3, 5, 1, 1, 8, 2, 8, 6, 0, 3, 1, 4, 4, 6, 6, 5, 2, 6, 3,\n",
      "        2, 3, 9, 4, 1, 2, 1, 0, 1, 6, 1, 6, 9, 2, 1, 0])\n",
      "3 tensor([[[[ 0.7912,  0.7324,  0.6931,  ..., -0.5422, -0.4049, -0.3657],\n",
      "          [ 0.7520,  0.7324,  0.7520,  ..., -0.6990, -0.6402, -0.6402],\n",
      "          [ 0.7716,  0.7324,  0.7520,  ..., -0.4637, -0.4637, -0.5225],\n",
      "          ...,\n",
      "          [ 0.8108,  0.8108,  0.7716,  ..., -0.2676, -0.8559, -0.8559],\n",
      "          [ 0.8108,  0.8108,  0.7520,  ..., -0.3069, -0.7775, -0.8363],\n",
      "          [ 0.8304,  0.8108,  0.7716,  ..., -0.4049, -0.6598, -0.7775]],\n",
      "\n",
      "         [[ 0.6039,  0.5255,  0.5451,  ..., -0.6314, -0.4941, -0.4549],\n",
      "          [ 0.5451,  0.5255,  0.5451,  ..., -0.7490, -0.6902, -0.6902],\n",
      "          [ 0.5255,  0.4863,  0.5451,  ..., -0.4745, -0.4941, -0.5529],\n",
      "          ...,\n",
      "          [ 0.6235,  0.6235,  0.6235,  ..., -0.3961, -0.9451, -0.9255],\n",
      "          [ 0.6235,  0.6235,  0.6039,  ..., -0.4353, -0.8667, -0.9059],\n",
      "          [ 0.6431,  0.6235,  0.6235,  ..., -0.4745, -0.7294, -0.8078]],\n",
      "\n",
      "         [[ 0.3363,  0.3363,  0.3363,  ..., -0.3500, -0.1735, -0.1735],\n",
      "          [ 0.3363,  0.3167,  0.3363,  ..., -0.4284, -0.3304, -0.3304],\n",
      "          [ 0.3363,  0.2971,  0.3363,  ..., -0.1343, -0.0951, -0.1931],\n",
      "          ...,\n",
      "          [ 0.3559,  0.3559,  0.3559,  ..., -0.5461, -1.0167, -0.9578],\n",
      "          [ 0.3559,  0.3559,  0.3363,  ..., -0.5657, -0.9382, -0.9578],\n",
      "          [ 0.3755,  0.3559,  0.3559,  ..., -0.5265, -0.7814, -0.8598]]],\n",
      "\n",
      "\n",
      "        [[[-1.3853, -1.4833, -1.7186,  ..., -0.6206, -0.3069, -0.1892],\n",
      "          [-1.4049, -1.4637, -1.6794,  ..., -0.5422, -0.2676, -0.1696],\n",
      "          [-1.4049, -1.4441, -1.5618,  ..., -0.3069, -0.1500, -0.0716],\n",
      "          ...,\n",
      "          [-1.1892, -1.2284, -1.3461,  ..., -1.6010, -1.5814, -1.5814],\n",
      "          [-1.5029, -1.5225, -1.5618,  ..., -1.5618, -1.5029, -1.4833],\n",
      "          [-1.6010, -1.6010, -1.6206,  ..., -1.5422, -1.4637, -1.4245]],\n",
      "\n",
      "         [[-1.5922, -1.6902, -1.9255,  ..., -0.5725, -0.2588, -0.1412],\n",
      "          [-1.6118, -1.6706, -1.8863,  ..., -0.4941, -0.2196, -0.1216],\n",
      "          [-1.6314, -1.6706, -1.7882,  ..., -0.2784, -0.1020, -0.0235],\n",
      "          ...,\n",
      "          [-1.3961, -1.4549, -1.5922,  ..., -1.8275, -1.8471, -1.8471],\n",
      "          [-1.7294, -1.7490, -1.8078,  ..., -1.7686, -1.7294, -1.7294],\n",
      "          [-1.8275, -1.8275, -1.8667,  ..., -1.7490, -1.7098, -1.6902]],\n",
      "\n",
      "         [[-0.9775, -1.0755, -1.3304,  ..., -0.3108, -0.0363,  0.0618],\n",
      "          [-0.9971, -1.0559, -1.2716,  ..., -0.2324,  0.0029,  0.1010],\n",
      "          [-0.9578, -0.9971, -1.1343,  ..., -0.0363,  0.1206,  0.1990],\n",
      "          ...,\n",
      "          [-0.8010, -0.8206, -0.8598,  ..., -1.2912, -1.3108, -1.3108],\n",
      "          [-1.0363, -1.0363, -1.0167,  ..., -1.2520, -1.2127, -1.2127],\n",
      "          [-1.1343, -1.1343, -1.0755,  ..., -1.2520, -1.1931, -1.1735]]],\n",
      "\n",
      "\n",
      "        [[[ 2.2029,  2.2422,  2.2422,  ...,  1.6147,  1.8108,  1.9088],\n",
      "          [ 2.1833,  2.3794,  2.4186,  ...,  1.5559,  1.6931,  1.8108],\n",
      "          [ 2.2814,  2.5167,  2.1637,  ...,  1.4578,  1.5363,  1.6931],\n",
      "          ...,\n",
      "          [ 2.1833,  1.8304,  0.9873,  ...,  2.0853,  2.0853,  2.0853],\n",
      "          [ 2.0853,  2.1049,  1.7127,  ...,  2.0853,  2.0853,  2.0853],\n",
      "          [ 1.9480,  2.1833,  2.0265,  ...,  2.1049,  2.1049,  2.1049]],\n",
      "\n",
      "         [[ 2.3490,  2.3882,  2.3882,  ...,  1.8588,  2.0157,  2.0745],\n",
      "          [ 2.3490,  2.5255,  2.5647,  ...,  1.8000,  1.8980,  1.9765],\n",
      "          [ 2.4471,  2.6627,  2.2902,  ...,  1.6824,  1.7412,  1.8588],\n",
      "          ...,\n",
      "          [ 2.3294,  2.0549,  1.2118,  ...,  2.2314,  2.2314,  2.2314],\n",
      "          [ 2.2118,  2.2902,  1.9176,  ...,  2.2314,  2.2314,  2.2314],\n",
      "          [ 2.0941,  2.3490,  2.2314,  ...,  2.2510,  2.2510,  2.2510]],\n",
      "\n",
      "         [[ 2.2186,  2.2578,  2.2578,  ...,  1.7676,  1.9441,  2.0029],\n",
      "          [ 2.2186,  2.4147,  2.4343,  ...,  1.7088,  1.8069,  1.9049],\n",
      "          [ 2.3167,  2.5912,  2.2382,  ...,  1.5912,  1.6696,  1.7873],\n",
      "          ...,\n",
      "          [ 2.2971,  2.0422,  1.2382,  ...,  2.1010,  2.1010,  2.1010],\n",
      "          [ 2.1402,  2.2775,  1.9637,  ...,  2.1010,  2.1010,  2.1010],\n",
      "          [ 2.0225,  2.3167,  2.2382,  ...,  2.1206,  2.1206,  2.1206]]],\n",
      "\n",
      "\n",
      "        ...,\n",
      "\n",
      "\n",
      "        [[[-1.1696, -1.2284, -1.2676,  ...,  0.1049, -0.1304, -0.1696],\n",
      "          [-0.0520, -0.1500, -0.2088,  ...,  0.3794,  0.4775,  0.4382],\n",
      "          [-0.0127,  0.1833,  0.2225,  ..., -0.9735, -1.0127, -0.8755],\n",
      "          ...,\n",
      "          [-1.1108, -0.6990, -0.4441,  ...,  0.3010,  0.2618,  0.2422],\n",
      "          [-0.7186, -0.5225, -0.3069,  ...,  0.2814,  0.3402,  0.3598],\n",
      "          [-0.5814, -0.3461,  0.0265,  ...,  0.3402,  0.3794,  0.3010]],\n",
      "\n",
      "         [[-1.2392, -1.2392, -1.2588,  ...,  0.2314,  0.0353, -0.0039],\n",
      "          [-0.0824, -0.1804, -0.2784,  ...,  0.5059,  0.5843,  0.6235],\n",
      "          [-0.0235,  0.1529,  0.1529,  ..., -0.9255, -0.9451, -0.8078],\n",
      "          ...,\n",
      "          [-1.2784, -0.8275, -0.4157,  ...,  0.3294,  0.3294,  0.3686],\n",
      "          [-0.8667, -0.6314, -0.4157,  ...,  0.3294,  0.3294,  0.3882],\n",
      "          [-0.6118, -0.4745, -0.1216,  ...,  0.3882,  0.4078,  0.3686]],\n",
      "\n",
      "         [[-1.1147, -1.1931, -1.1931,  ...,  0.4147,  0.1990,  0.1598],\n",
      "          [-0.1931, -0.2520, -0.3500,  ...,  0.2971,  0.4343,  0.4931],\n",
      "          [-0.2520, -0.0363, -0.0363,  ..., -0.9578, -0.8990, -0.7618],\n",
      "          ...,\n",
      "          [-1.5069, -1.0951, -0.5069,  ...,  0.2971,  0.2971,  0.2971],\n",
      "          [-1.1343, -0.9578, -0.5461,  ...,  0.3167,  0.3559,  0.3951],\n",
      "          [-0.9578, -0.7029, -0.2520,  ...,  0.3951,  0.3559,  0.3559]]],\n",
      "\n",
      "\n",
      "        [[[-1.4441, -1.1500, -0.7775,  ..., -0.6598, -0.5618, -0.5618],\n",
      "          [-1.2284, -0.9539, -0.5814,  ..., -0.7186, -0.6010, -0.5814],\n",
      "          [-1.1500, -0.7971, -0.3657,  ..., -0.8755, -0.7578, -0.6990],\n",
      "          ...,\n",
      "          [-1.8755, -1.8559, -1.7186,  ..., -1.2480, -1.2676, -1.3265],\n",
      "          [-1.8755, -1.9735, -1.9539,  ..., -1.2676, -1.2676, -1.3461],\n",
      "          [-1.7382, -1.8363, -1.9147,  ..., -1.1892, -1.2284, -1.3069]],\n",
      "\n",
      "         [[-1.4549, -1.1804, -0.7882,  ..., -0.9647, -0.9647, -0.8863],\n",
      "          [-1.3373, -1.1020, -0.7098,  ..., -1.0627, -1.0039, -0.8863],\n",
      "          [-1.2196, -0.9647, -0.5529,  ..., -1.1804, -1.0627, -0.8275],\n",
      "          ...,\n",
      "          [-1.2784, -1.1804, -1.0627,  ..., -1.1608, -1.1608, -1.1608],\n",
      "          [-1.2980, -1.2588, -1.1608,  ..., -1.2000, -1.1804, -1.2392],\n",
      "          [-1.2392, -1.2196, -1.1412,  ..., -1.2000, -1.2000, -1.2588]],\n",
      "\n",
      "         [[-1.1147, -0.8990, -0.6637,  ..., -0.6049, -0.6637, -0.7814],\n",
      "          [-0.8990, -0.7225, -0.5265,  ..., -0.6833, -0.7225, -0.8598],\n",
      "          [-0.7618, -0.5657, -0.4088,  ..., -0.8010, -0.8010, -0.8598],\n",
      "          ...,\n",
      "          [-1.0363, -1.1147, -1.1539,  ..., -0.9382, -0.9186, -0.9971],\n",
      "          [-1.1147, -1.2324, -1.3304,  ..., -0.9775, -0.9578, -1.0167],\n",
      "          [-1.1147, -1.2716, -1.3892,  ..., -1.0363, -0.9775, -0.9775]]],\n",
      "\n",
      "\n",
      "        [[[-0.5225, -0.5225, -0.5225,  ..., -0.8167, -0.8167, -0.7971],\n",
      "          [-0.4245, -0.5225, -0.5029,  ..., -0.5618, -0.6010, -0.5814],\n",
      "          [-0.3461, -0.3461, -0.2676,  ..., -0.5618, -0.5814, -0.5618],\n",
      "          ...,\n",
      "          [-0.3069, -0.4833, -0.3461,  ..., -0.0127, -0.0520, -0.0127],\n",
      "          [-0.4049, -0.4637, -0.3853,  ..., -0.0912, -0.0520, -0.0520],\n",
      "          [-0.3853, -0.4049, -0.3657,  ..., -0.1500, -0.1108, -0.1304]],\n",
      "\n",
      "         [[-1.0824, -1.1020, -1.1216,  ..., -1.3765, -1.3569, -1.3373],\n",
      "          [-1.1020, -1.2196, -1.2196,  ..., -1.2784, -1.2588, -1.2588],\n",
      "          [-1.1412, -1.1412, -1.1608,  ..., -1.3373, -1.3569, -1.3569],\n",
      "          ...,\n",
      "          [-0.6706, -0.9059, -0.9255,  ..., -1.1412, -1.1216, -1.1412],\n",
      "          [-0.8863, -1.0431, -1.0627,  ..., -1.1608, -1.2000, -1.2000],\n",
      "          [-1.0824, -1.1412, -1.1804,  ..., -1.2000, -1.2000, -1.2196]],\n",
      "\n",
      "         [[-1.4873, -1.4676, -1.4873,  ..., -1.9775, -1.9382, -1.8794],\n",
      "          [-1.5461, -1.6637, -1.6049,  ..., -1.9775, -1.9578, -1.8598],\n",
      "          [-1.5461, -1.6049, -1.6245,  ..., -2.0559, -2.0363, -2.0167],\n",
      "          ...,\n",
      "          [-0.5853, -0.8794, -0.8990,  ..., -1.7029, -1.6833, -1.6833],\n",
      "          [-0.8402, -1.0559, -1.1147,  ..., -1.7225, -1.6833, -1.6833],\n",
      "          [-1.0559, -1.1735, -1.3108,  ..., -1.6833, -1.6245, -1.6833]]]]) tensor([7, 0, 1, 2, 0, 7, 9, 9, 7, 1, 5, 4, 3, 4, 6, 1, 2, 2, 5, 4, 4, 6, 1, 1,\n",
      "        5, 7, 0, 0, 1, 6, 1, 6, 4, 4, 5, 9, 1, 3, 1, 6, 8, 2, 6, 2, 1, 7, 2, 1,\n",
      "        4, 8, 6, 4, 5, 0, 1, 1, 3, 2, 2, 1, 1, 6, 0, 5])\n",
      "4 tensor([[[[ 0.7912,  0.8108,  0.7127,  ...,  2.3990,  2.4775,  2.4775],\n",
      "          [ 2.0265,  1.9284,  1.8108,  ...,  2.3598,  2.3598,  2.2814],\n",
      "          [ 2.8108,  2.7912,  2.7912,  ...,  1.6735,  1.4775,  1.2422],\n",
      "          ...,\n",
      "          [-0.6990, -0.7382, -0.5618,  ..., -0.6010, -0.7578, -1.0912],\n",
      "          [-0.5422, -0.7775, -0.8167,  ..., -1.3657, -1.4441, -1.5814],\n",
      "          [-0.6010, -0.8951, -0.9735,  ..., -1.6794, -1.6598, -1.7186]],\n",
      "\n",
      "         [[ 0.6431,  0.6039,  0.4667,  ...,  2.1725,  2.2314,  2.1725],\n",
      "          [ 1.8196,  1.7216,  1.5843,  ...,  1.9765,  1.9373,  1.8196],\n",
      "          [ 2.6235,  2.5647,  2.5451,  ...,  1.1922,  0.9569,  0.6431],\n",
      "          ...,\n",
      "          [-1.0627, -1.1216, -0.9843,  ..., -0.5922, -0.7490, -1.1216],\n",
      "          [-0.9059, -1.2000, -1.2392,  ..., -1.4549, -1.4941, -1.5725],\n",
      "          [-0.9451, -1.2784, -1.4157,  ..., -1.7882, -1.7294, -1.7098]],\n",
      "\n",
      "         [[ 0.4147,  0.4343,  0.3363,  ...,  1.7284,  1.7873,  1.7480],\n",
      "          [ 1.5912,  1.5127,  1.3951,  ...,  1.4539,  1.4539,  1.3363],\n",
      "          [ 2.2971,  2.2971,  2.2971,  ...,  0.7480,  0.5716,  0.3363],\n",
      "          ...,\n",
      "          [-1.3892, -1.4480, -1.2520,  ..., -0.4480, -0.6441, -1.0167],\n",
      "          [-1.3108, -1.4873, -1.4676,  ..., -1.2127, -1.2912, -1.3892],\n",
      "          [-1.3108, -1.5461, -1.5853,  ..., -1.5069, -1.5265, -1.5265]]],\n",
      "\n",
      "\n",
      "        [[[ 1.6343,  1.6539,  1.7127,  ...,  0.2225,  0.0265, -0.0520],\n",
      "          [ 1.5951,  1.6343,  1.6931,  ...,  0.0461, -0.0127, -0.0716],\n",
      "          [ 1.6343,  1.7324,  1.7912,  ...,  0.2422,  0.2225,  0.2029],\n",
      "          ...,\n",
      "          [-0.3069, -0.2676, -0.2284,  ...,  0.1441,  0.2814,  0.3010],\n",
      "          [-0.2480, -0.2480, -0.2284,  ...,  0.1049,  0.2422,  0.2422],\n",
      "          [-0.3069, -0.3069, -0.3069,  ...,  0.1049,  0.1441,  0.2029]],\n",
      "\n",
      "         [[ 1.6627,  1.6824,  1.7608,  ...,  0.1922,  0.0157, -0.0824],\n",
      "          [ 1.6235,  1.6627,  1.7216,  ...,  0.0157, -0.0235, -0.0431],\n",
      "          [ 1.6627,  1.7412,  1.8000,  ...,  0.2314,  0.2706,  0.2510],\n",
      "          ...,\n",
      "          [-0.1216, -0.0824, -0.0627,  ...,  0.2706,  0.4275,  0.4471],\n",
      "          [-0.0627, -0.0431, -0.0431,  ...,  0.2510,  0.4078,  0.4078],\n",
      "          [-0.1216, -0.0824, -0.0824,  ...,  0.2510,  0.3098,  0.3686]],\n",
      "\n",
      "         [[ 1.7284,  1.7284,  1.7480,  ...,  0.4931,  0.3559,  0.3167],\n",
      "          [ 1.6892,  1.7088,  1.7284,  ...,  0.3167,  0.3363,  0.3363],\n",
      "          [ 1.7088,  1.7676,  1.8265,  ...,  0.4931,  0.5520,  0.5716],\n",
      "          ...,\n",
      "          [-0.0363,  0.0225,  0.0029,  ...,  0.2382,  0.3559,  0.3755],\n",
      "          [ 0.0225,  0.0422,  0.0225,  ...,  0.2382,  0.3363,  0.3363],\n",
      "          [-0.0363, -0.0167, -0.0363,  ...,  0.2578,  0.2775,  0.2971]]],\n",
      "\n",
      "\n",
      "        [[[ 0.5559,  0.6147,  0.6735,  ...,  0.3010,  0.0853, -0.0127],\n",
      "          [ 0.5951,  0.6343,  0.6539,  ...,  0.4186,  0.2618,  0.1637],\n",
      "          [ 0.6735,  0.7127,  0.7324,  ...,  0.5363,  0.3794,  0.2618],\n",
      "          ...,\n",
      "          [ 0.8500,  0.8696,  0.8696,  ...,  0.8304,  0.8304,  0.8304],\n",
      "          [ 0.8304,  0.8500,  0.8696,  ...,  0.9088,  0.9088,  0.8304],\n",
      "          [ 0.7520,  0.8304,  0.9284,  ...,  0.9480,  0.9480,  0.8892]],\n",
      "\n",
      "         [[ 0.8588,  0.9569,  1.0157,  ...,  0.4078,  0.1725,  0.0353],\n",
      "          [ 0.8784,  0.9373,  0.9765,  ...,  0.5647,  0.3490,  0.2118],\n",
      "          [ 0.9569,  1.0157,  1.0157,  ...,  0.7020,  0.5255,  0.3686],\n",
      "          ...,\n",
      "          [ 1.0549,  1.0941,  1.0941,  ...,  0.8980,  0.8784,  0.8392],\n",
      "          [ 0.9961,  1.0549,  1.0745,  ...,  0.9569,  0.9373,  0.8784],\n",
      "          [ 0.8784,  0.9961,  1.0941,  ...,  1.0157,  0.9569,  0.9176]],\n",
      "\n",
      "         [[ 0.9049,  0.9637,  0.9441,  ...,  0.3755,  0.1402,  0.0029],\n",
      "          [ 0.9245,  0.9441,  0.9637,  ...,  0.4539,  0.2578,  0.1402],\n",
      "          [ 1.0029,  1.0029,  1.0029,  ...,  0.5520,  0.3559,  0.2186],\n",
      "          ...,\n",
      "          [ 1.0225,  1.0029,  1.0029,  ...,  0.5716,  0.4931,  0.4539],\n",
      "          [ 0.9637,  0.9833,  1.0029,  ...,  0.5716,  0.5324,  0.4343],\n",
      "          [ 0.8657,  0.9245,  1.0422,  ...,  0.6108,  0.5324,  0.4735]]],\n",
      "\n",
      "\n",
      "        ...,\n",
      "\n",
      "\n",
      "        [[[ 1.5755,  1.5951,  1.5755,  ...,  1.5951,  1.5951,  1.5951],\n",
      "          [ 1.5951,  1.6147,  1.5755,  ...,  1.5755,  1.5951,  1.5951],\n",
      "          [ 1.6147,  1.6147,  1.6147,  ...,  1.5559,  1.5559,  1.5755],\n",
      "          ...,\n",
      "          [ 0.4578,  0.5559,  0.7127,  ...,  1.3598,  1.3598,  1.3402],\n",
      "          [ 0.4382,  0.4578,  0.4971,  ...,  1.3794,  1.3794,  1.3402],\n",
      "          [ 0.4578,  0.4578,  0.3794,  ...,  1.4578,  1.4186,  1.3402]],\n",
      "\n",
      "         [[ 1.8784,  1.8784,  1.8784,  ...,  1.8784,  1.8784,  1.8784],\n",
      "          [ 1.8980,  1.8784,  1.8980,  ...,  1.8980,  1.8980,  1.8980],\n",
      "          [ 1.8784,  1.8784,  1.8784,  ...,  1.8980,  1.8980,  1.8980],\n",
      "          ...,\n",
      "          [ 0.5059,  0.6235,  0.8392,  ...,  1.6824,  1.6627,  1.6235],\n",
      "          [ 0.4667,  0.4863,  0.6039,  ...,  1.6431,  1.6235,  1.5647],\n",
      "          [ 0.4471,  0.4471,  0.4667,  ...,  1.6824,  1.6431,  1.5647]],\n",
      "\n",
      "         [[ 1.7284,  1.7284,  1.7284,  ...,  1.7284,  1.7284,  1.7284],\n",
      "          [ 1.7088,  1.7284,  1.7088,  ...,  1.7088,  1.7480,  1.8069],\n",
      "          [ 1.7088,  1.7088,  1.7088,  ...,  1.6892,  1.7676,  1.8657],\n",
      "          ...,\n",
      "          [ 0.5324,  0.6696,  0.8265,  ...,  1.4539,  1.4735,  1.5716],\n",
      "          [ 0.4735,  0.4931,  0.5912,  ...,  1.4931,  1.4735,  1.4343],\n",
      "          [ 0.3951,  0.4343,  0.4343,  ...,  1.5912,  1.5324,  1.4539]]],\n",
      "\n",
      "\n",
      "        [[[ 1.2029,  1.2029,  1.3010,  ...,  1.2225,  1.2422,  1.2422],\n",
      "          [ 0.6735,  0.7520,  0.8500,  ...,  1.2225,  1.2422,  1.2422],\n",
      "          [-0.0716,  0.0265,  0.1245,  ...,  1.2029,  1.2422,  1.2422],\n",
      "          ...,\n",
      "          [-0.8363, -0.7186, -0.3853,  ...,  1.1637,  1.1049,  1.0657],\n",
      "          [-0.6990, -0.5814, -0.3069,  ...,  0.8892,  0.8108,  0.7520],\n",
      "          [-0.5422, -0.4441, -0.2088,  ...,  0.3990,  0.3402,  0.2422]],\n",
      "\n",
      "         [[ 1.2902,  1.2902,  1.3882,  ...,  1.3098,  1.3294,  1.3294],\n",
      "          [ 0.7608,  0.8392,  0.9373,  ...,  1.3098,  1.3294,  1.3294],\n",
      "          [ 0.0157,  0.1137,  0.2118,  ...,  1.2902,  1.3294,  1.3294],\n",
      "          ...,\n",
      "          [-0.8471, -0.7294, -0.3176,  ...,  1.1725,  1.1137,  1.0549],\n",
      "          [-0.7294, -0.5725, -0.2392,  ...,  0.8980,  0.8196,  0.7608],\n",
      "          [-0.5725, -0.4353, -0.1608,  ...,  0.4078,  0.3490,  0.2510]],\n",
      "\n",
      "         [[ 1.4931,  1.4931,  1.5912,  ...,  1.5324,  1.5520,  1.5324],\n",
      "          [ 0.9637,  1.0422,  1.1402,  ...,  1.5324,  1.5520,  1.5324],\n",
      "          [ 0.2382,  0.3167,  0.4147,  ...,  1.5127,  1.5324,  1.5324],\n",
      "          ...,\n",
      "          [-0.7225, -0.5461, -0.1539,  ...,  1.3951,  1.2971,  1.1990],\n",
      "          [-0.6441, -0.4676, -0.1343,  ...,  1.1206,  1.0422,  0.9441],\n",
      "          [-0.5069, -0.3500, -0.0755,  ...,  0.6304,  0.5716,  0.4735]]],\n",
      "\n",
      "\n",
      "        [[[-1.1304, -1.0912, -1.0912,  ...,  0.7324,  0.7127,  0.7127],\n",
      "          [-0.0324,  0.0069,  0.0265,  ...,  0.7324,  0.7127,  0.7127],\n",
      "          [ 0.6539,  0.7127,  0.7324,  ...,  0.7324,  0.7127,  0.7127],\n",
      "          ...,\n",
      "          [ 0.3990,  0.3598,  0.5951,  ...,  0.6147,  0.6931,  0.7324],\n",
      "          [-0.4833, -0.2676,  0.3206,  ...,  0.6931,  0.7912,  0.8108],\n",
      "          [-1.2676, -0.9539, -0.0716,  ...,  0.7324,  0.8696,  0.8892]],\n",
      "\n",
      "         [[-1.2000, -1.1608, -1.1608,  ...,  0.8196,  0.7804,  0.7804],\n",
      "          [-0.0824, -0.0431, -0.0431,  ...,  0.8392,  0.7804,  0.7804],\n",
      "          [ 0.6235,  0.6824,  0.7020,  ...,  0.8196,  0.7804,  0.7804],\n",
      "          ...,\n",
      "          [ 0.2118,  0.2314,  0.5059,  ...,  0.7216,  0.7608,  0.8000],\n",
      "          [-0.6510, -0.4157,  0.1922,  ...,  0.8000,  0.8588,  0.8784],\n",
      "          [-1.4353, -1.0824, -0.1804,  ...,  0.8392,  0.9373,  0.9569]],\n",
      "\n",
      "         [[-1.0167, -0.9971, -1.0559,  ...,  0.9245,  0.9049,  0.9049],\n",
      "          [-0.0363,  0.0029, -0.0167,  ...,  0.9441,  0.9245,  0.9049],\n",
      "          [ 0.4735,  0.5127,  0.5716,  ...,  0.9833,  0.9441,  0.9049],\n",
      "          ...,\n",
      "          [-0.0363, -0.0167,  0.2578,  ...,  0.8461,  0.9441,  1.0029],\n",
      "          [-0.8010, -0.5853,  0.0029,  ...,  0.9245,  1.0225,  1.0422],\n",
      "          [-1.4480, -1.1931, -0.3500,  ...,  0.9637,  1.1010,  1.1206]]]]) tensor([1, 3, 1, 2, 2, 9, 3, 3, 5, 7, 5, 1, 7, 4, 3, 4, 1, 5, 2, 4, 0, 4, 3, 3,\n",
      "        4, 5, 3, 6, 6, 7, 5, 6, 3, 2, 4, 8, 5, 3, 1, 9, 3, 2, 6, 0, 3, 3, 7, 1,\n",
      "        8, 0, 3, 0, 1, 3, 1, 1, 2, 3, 9, 6, 3, 4, 3, 3])\n",
      "5 tensor([[[[ 0.2422,  0.2422,  0.2422,  ..., -0.2480, -0.1500, -0.1696],\n",
      "          [ 0.2814,  0.2814,  0.2422,  ..., -0.3265, -0.2873, -0.2480],\n",
      "          [ 0.2814,  0.2814,  0.2422,  ..., -0.4049, -0.3657, -0.2873],\n",
      "          ...,\n",
      "          [ 0.3990,  0.3794,  0.3794,  ...,  0.3990,  0.4382,  0.4186],\n",
      "          [ 0.3794,  0.3794,  0.3794,  ...,  0.3794,  0.3990,  0.3990],\n",
      "          [ 0.3794,  0.3794,  0.3990,  ...,  0.3794,  0.3794,  0.3990]],\n",
      "\n",
      "         [[-0.1804, -0.1804, -0.1804,  ..., -0.7294, -0.6314, -0.6510],\n",
      "          [-0.1804, -0.1804, -0.1804,  ..., -0.8078, -0.7686, -0.7294],\n",
      "          [-0.1804, -0.1804, -0.1804,  ..., -0.8863, -0.8471, -0.7686],\n",
      "          ...,\n",
      "          [ 0.0157, -0.0039, -0.0039,  ..., -0.0235, -0.0431, -0.0627],\n",
      "          [ 0.0157,  0.0157, -0.0235,  ..., -0.0039, -0.0235, -0.0235],\n",
      "          [ 0.0157,  0.0157, -0.0039,  ..., -0.0039, -0.0039, -0.0235]],\n",
      "\n",
      "         [[-0.6637, -0.6637, -0.6637,  ..., -1.1343, -1.0363, -1.0559],\n",
      "          [-0.6637, -0.6637, -0.6637,  ..., -1.1735, -1.1343, -1.1343],\n",
      "          [-0.6637, -0.6637, -0.6637,  ..., -1.2520, -1.2127, -1.1735],\n",
      "          ...,\n",
      "          [-0.4873, -0.5069, -0.4676,  ..., -0.4676, -0.4676, -0.4873],\n",
      "          [-0.4480, -0.4480, -0.4480,  ..., -0.5069, -0.5069, -0.5069],\n",
      "          [-0.4480, -0.4480, -0.4284,  ..., -0.5069, -0.5069, -0.5069]]],\n",
      "\n",
      "\n",
      "        [[[ 0.1441,  0.1441,  0.1637,  ...,  0.4971,  0.6735,  0.7716],\n",
      "          [ 0.1637,  0.1637,  0.1637,  ...,  0.4186,  0.5951,  0.6931],\n",
      "          [ 0.2225,  0.2225,  0.2225,  ...,  0.2618,  0.4775,  0.5755],\n",
      "          ...,\n",
      "          [ 0.3990,  0.3990,  0.3794,  ...,  0.4775,  0.6147,  0.6931],\n",
      "          [ 0.3794,  0.3794,  0.3794,  ...,  0.4578,  0.5951,  0.6735],\n",
      "          [ 0.3794,  0.3794,  0.3794,  ...,  0.4578,  0.5951,  0.6735]],\n",
      "\n",
      "         [[ 0.0941,  0.1137,  0.1725,  ...,  0.5451,  0.7216,  0.8196],\n",
      "          [ 0.1137,  0.1333,  0.1725,  ...,  0.4863,  0.6627,  0.7608],\n",
      "          [ 0.1725,  0.1922,  0.2118,  ...,  0.3686,  0.5647,  0.6627],\n",
      "          ...,\n",
      "          [ 0.2902,  0.2902,  0.2902,  ...,  0.4863,  0.6235,  0.7020],\n",
      "          [ 0.3098,  0.3098,  0.3098,  ...,  0.4863,  0.6235,  0.7020],\n",
      "          [ 0.3098,  0.3098,  0.3098,  ...,  0.4863,  0.6235,  0.7020]],\n",
      "\n",
      "         [[ 0.1402,  0.1598,  0.1990,  ...,  0.4539,  0.6304,  0.7284],\n",
      "          [ 0.1598,  0.1794,  0.2186,  ...,  0.3951,  0.5716,  0.6696],\n",
      "          [ 0.2186,  0.2186,  0.2382,  ...,  0.2775,  0.4539,  0.5520],\n",
      "          ...,\n",
      "          [ 0.3167,  0.3363,  0.3559,  ...,  0.4735,  0.6108,  0.6892],\n",
      "          [ 0.3167,  0.3167,  0.3167,  ...,  0.4931,  0.6304,  0.7088],\n",
      "          [ 0.3167,  0.3167,  0.3167,  ...,  0.5127,  0.6500,  0.7284]]],\n",
      "\n",
      "\n",
      "        [[[ 0.2029,  0.2029,  0.2029,  ...,  0.3402,  0.2814,  0.2618],\n",
      "          [ 0.1245,  0.1049,  0.1049,  ...,  0.3794,  0.3206,  0.3010],\n",
      "          [ 0.0069, -0.0324, -0.0520,  ...,  0.3990,  0.3794,  0.3402],\n",
      "          ...,\n",
      "          [-0.0520, -0.1108, -0.1500,  ...,  0.3402,  0.2618,  0.2225],\n",
      "          [-0.0912, -0.1304, -0.1500,  ...,  0.2225,  0.1245,  0.0657],\n",
      "          [-0.1108, -0.1500, -0.1696,  ...,  0.1637,  0.0461, -0.0324]],\n",
      "\n",
      "         [[ 0.2118,  0.2118,  0.2118,  ...,  0.2706,  0.2118,  0.1922],\n",
      "          [ 0.1529,  0.1333,  0.1137,  ...,  0.2706,  0.2510,  0.2118],\n",
      "          [-0.0039, -0.0235, -0.0431,  ...,  0.2706,  0.2510,  0.2118],\n",
      "          ...,\n",
      "          [-0.3176, -0.3569, -0.3373,  ...,  0.2314,  0.1529,  0.1137],\n",
      "          [-0.3176, -0.3373, -0.3176,  ...,  0.0941, -0.0039, -0.0627],\n",
      "          [-0.3176, -0.3176, -0.3176,  ..., -0.0039, -0.1216, -0.1804]],\n",
      "\n",
      "         [[ 0.1598,  0.1598,  0.1598,  ...,  0.0618,  0.0422,  0.0029],\n",
      "          [ 0.1206,  0.0814,  0.0618,  ...,  0.0618,  0.0422,  0.0029],\n",
      "          [-0.0167, -0.0559, -0.0755,  ...,  0.0618,  0.0422,  0.0029],\n",
      "          ...,\n",
      "          [-0.4873, -0.5461, -0.5461,  ..., -0.0755, -0.1343, -0.1735],\n",
      "          [-0.5069, -0.5265, -0.5265,  ..., -0.1931, -0.2716, -0.3304],\n",
      "          [-0.5069, -0.5265, -0.5265,  ..., -0.2716, -0.3696, -0.4480]]],\n",
      "\n",
      "\n",
      "        ...,\n",
      "\n",
      "\n",
      "        [[[-1.3657, -1.3461, -1.3461,  ..., -0.5225, -0.5618, -0.6206],\n",
      "          [-1.3657, -1.3657, -1.3657,  ..., -0.1500, -0.1892, -0.2873],\n",
      "          [-1.4049, -1.3461, -1.3265,  ...,  0.2814,  0.2422,  0.1637],\n",
      "          ...,\n",
      "          [-1.2676, -1.2676, -1.2676,  ...,  0.7520,  0.7716,  0.8108],\n",
      "          [-1.3657, -1.3657, -1.3461,  ...,  0.6539,  0.6931,  0.7520],\n",
      "          [-1.4637, -1.4637, -1.4049,  ...,  0.5951,  0.6343,  0.6735]],\n",
      "\n",
      "         [[-1.6510, -1.6118, -1.5725,  ..., -0.2392, -0.2980, -0.3569],\n",
      "          [-1.6510, -1.6314, -1.5922,  ...,  0.1333,  0.0549, -0.0235],\n",
      "          [-1.6902, -1.6118, -1.5333,  ...,  0.5451,  0.5059,  0.4275],\n",
      "          ...,\n",
      "          [-1.2196, -1.1804, -1.1216,  ...,  0.9176,  0.9373,  0.9961],\n",
      "          [-1.3373, -1.3176, -1.2588,  ...,  0.8392,  0.8784,  0.9373],\n",
      "          [-1.4549, -1.4353, -1.3569,  ...,  0.7804,  0.8196,  0.8588]],\n",
      "\n",
      "         [[-1.5657, -1.5657, -1.5461,  ..., -0.5853, -0.6441, -0.7029],\n",
      "          [-1.6049, -1.5853, -1.5657,  ..., -0.2127, -0.2716, -0.3696],\n",
      "          [-1.6637, -1.5853, -1.5265,  ...,  0.1598,  0.1206,  0.0422],\n",
      "          ...,\n",
      "          [-1.2520, -1.2127, -1.1931,  ...,  0.6304,  0.6108,  0.6500],\n",
      "          [-1.3696, -1.3500, -1.3108,  ...,  0.5520,  0.5520,  0.5716],\n",
      "          [-1.5265, -1.5069, -1.4676,  ...,  0.4539,  0.4539,  0.4735]]],\n",
      "\n",
      "\n",
      "        [[[ 0.2618,  0.3206,  0.3598,  ...,  0.3010,  0.2814,  0.2814],\n",
      "          [ 0.2618,  0.3206,  0.4186,  ...,  0.2814,  0.3206,  0.3402],\n",
      "          [ 0.2225,  0.3206,  0.4186,  ...,  0.3206,  0.3794,  0.4775],\n",
      "          ...,\n",
      "          [ 0.3010,  0.3402,  0.4186,  ...,  0.3990,  0.3990,  0.3598],\n",
      "          [ 0.3598,  0.3990,  0.4578,  ...,  0.3990,  0.3794,  0.3598],\n",
      "          [ 0.3990,  0.4578,  0.4971,  ...,  0.3990,  0.3794,  0.3598]],\n",
      "\n",
      "         [[ 0.2902,  0.3490,  0.3882,  ...,  0.2510,  0.2510,  0.2314],\n",
      "          [ 0.2902,  0.3490,  0.4078,  ...,  0.2706,  0.3098,  0.2902],\n",
      "          [ 0.2510,  0.3098,  0.4078,  ...,  0.2902,  0.3686,  0.4471],\n",
      "          ...,\n",
      "          [ 0.3490,  0.3490,  0.3686,  ...,  0.3098,  0.3098,  0.3098],\n",
      "          [ 0.3882,  0.3882,  0.3686,  ...,  0.2706,  0.2902,  0.2902],\n",
      "          [ 0.4078,  0.4275,  0.4078,  ...,  0.2706,  0.2902,  0.2902]],\n",
      "\n",
      "         [[ 0.1206,  0.1794,  0.2186,  ...,  0.1402,  0.1206,  0.0814],\n",
      "          [ 0.1402,  0.1598,  0.1990,  ...,  0.1206,  0.1402,  0.1598],\n",
      "          [ 0.1206,  0.1794,  0.2578,  ...,  0.1598,  0.1794,  0.2578],\n",
      "          ...,\n",
      "          [ 0.3363,  0.3167,  0.3167,  ...,  0.2578,  0.2578,  0.2578],\n",
      "          [ 0.3559,  0.3363,  0.3167,  ...,  0.2186,  0.2382,  0.2382],\n",
      "          [ 0.3559,  0.3755,  0.3559,  ...,  0.2186,  0.2382,  0.2382]]],\n",
      "\n",
      "\n",
      "        [[[ 0.4578,  0.3794,  0.2814,  ..., -1.4245, -1.4245, -1.4441],\n",
      "          [ 0.4186,  0.3402,  0.2422,  ..., -1.5225, -1.5029, -1.4833],\n",
      "          [ 0.3402,  0.2618,  0.1637,  ..., -1.6402, -1.5814, -1.5422],\n",
      "          ...,\n",
      "          [ 0.3402,  0.3010,  0.2422,  ..., -1.8755, -1.7971, -1.7578],\n",
      "          [ 0.3402,  0.2814,  0.2029,  ..., -1.8363, -1.8167, -1.7971],\n",
      "          [ 0.3794,  0.2814,  0.1637,  ..., -1.7971, -1.8167, -1.8167]],\n",
      "\n",
      "         [[ 0.4863,  0.4078,  0.3098,  ..., -1.5725, -1.5922, -1.5922],\n",
      "          [ 0.4667,  0.3882,  0.2902,  ..., -1.6118, -1.6118, -1.6118],\n",
      "          [ 0.4471,  0.3686,  0.2706,  ..., -1.6902, -1.6510, -1.6314],\n",
      "          ...,\n",
      "          [ 0.4863,  0.4667,  0.3882,  ..., -1.8471, -1.7882, -1.7490],\n",
      "          [ 0.5255,  0.4471,  0.3294,  ..., -1.8078, -1.8275, -1.8275],\n",
      "          [ 0.5255,  0.4275,  0.2902,  ..., -1.7686, -1.8275, -1.8471]],\n",
      "\n",
      "         [[ 0.3363,  0.2971,  0.2186,  ..., -1.2716, -1.2912, -1.3108],\n",
      "          [ 0.3363,  0.2775,  0.1990,  ..., -1.3108, -1.3304, -1.3304],\n",
      "          [ 0.3559,  0.2775,  0.1794,  ..., -1.3696, -1.3500, -1.3500],\n",
      "          ...,\n",
      "          [ 0.5324,  0.5127,  0.4735,  ..., -1.3108, -1.3108, -1.2912],\n",
      "          [ 0.5716,  0.5324,  0.4539,  ..., -1.2324, -1.3108, -1.3500],\n",
      "          [ 0.6108,  0.5324,  0.4343,  ..., -1.1931, -1.3304, -1.4088]]]]) tensor([4, 1, 1, 6, 1, 5, 5, 1, 1, 6, 1, 9, 7, 6, 5, 2, 0, 1, 1, 2, 1, 5, 3, 3,\n",
      "        6, 2, 8, 5, 0, 3, 0, 2, 0, 3, 1, 6, 0, 9, 6, 5, 6, 8, 7, 8, 4, 8, 0, 3,\n",
      "        4, 5, 5, 2, 5, 7, 2, 9, 1, 1, 4, 5, 5, 5, 0, 3])\n"
     ]
    }
   ],
   "source": [
    "for i_step, (x, y) in enumerate(val_loader):\n",
    "    print(i_step, x, y)\n",
    "    if i_step == 5:\n",
    "        break"
   ]
  },
  {
   "cell_type": "code",
   "execution_count": 19,
   "metadata": {
    "ExecuteTime": {
     "end_time": "2019-07-08T19:36:33.246037Z",
     "start_time": "2019-07-08T19:36:33.232292Z"
    }
   },
   "outputs": [
    {
     "data": {
      "text/plain": [
       "tensor([0, 0, 1, 0, 0, 0, 0, 0, 0, 0, 1, 0, 0, 0, 0, 1, 0, 0, 0, 0, 0, 0, 0, 0,\n",
       "        0, 0, 1, 0, 0, 0, 0, 0, 0, 0, 0, 0, 0, 0, 0, 0, 0, 0, 0, 0, 0, 0, 0, 0,\n",
       "        0, 0, 0, 0, 0, 0, 0, 0, 0, 0, 0, 0, 0, 0, 0, 0], dtype=torch.uint8)"
      ]
     },
     "execution_count": 19,
     "metadata": {},
     "output_type": "execute_result"
    }
   ],
   "source": [
    "pred = nn_model(x)\n",
    "_, inds = torch.max(pred,dim=1)\n",
    "torch.sum(inds == y)"
   ]
  },
  {
   "cell_type": "code",
   "execution_count": 17,
   "metadata": {
    "ExecuteTime": {
     "end_time": "2019-07-08T19:35:40.292950Z",
     "start_time": "2019-07-08T19:35:40.288564Z"
    }
   },
   "outputs": [
    {
     "data": {
      "text/plain": [
       "torch.return_types.max(\n",
       "values=tensor([0.2149, 0.2590, 0.2057, 0.2266, 0.2593, 0.3734, 0.0993, 0.3129, 0.2244,\n",
       "        0.4295, 0.2357, 0.4726, 0.3160, 0.0640, 0.1945, 0.0656, 0.4293, 0.2596,\n",
       "        0.3367, 0.2427, 0.3639, 0.4950, 0.1374, 0.2095, 0.2193, 0.3297, 0.3980,\n",
       "        0.3489, 0.2939, 0.4270, 0.3111, 0.1892, 0.1363, 0.4416, 0.2225, 0.5282,\n",
       "        0.2451, 0.2699, 0.3558, 0.3120, 0.6010, 0.4424, 0.1932, 0.2219, 0.5965,\n",
       "        0.3066, 0.3843, 0.2356, 0.1903, 0.1592, 0.2143, 0.1978, 0.2492, 0.0886,\n",
       "        0.1569, 0.2378, 0.3820, 0.1953, 0.4098, 0.1912, 0.1411, 0.4216, 0.3261,\n",
       "        0.1588], grad_fn=<MaxBackward0>),\n",
       "indices=tensor([1, 9, 1, 2, 2, 1, 7, 8, 2, 1, 1, 4, 2, 1, 6, 2, 1, 8, 9, 1, 2, 1, 2, 8,\n",
       "        8, 1, 8, 1, 1, 1, 6, 5, 6, 2, 5, 1, 1, 1, 9, 8, 1, 1, 1, 1, 1, 1, 8, 2,\n",
       "        1, 1, 8, 8, 1, 9, 1, 1, 8, 8, 2, 9, 1, 4, 1, 1]))"
      ]
     },
     "execution_count": 17,
     "metadata": {},
     "output_type": "execute_result"
    }
   ],
   "source": [
    "torch.max(pred,dim=1)"
   ]
  },
  {
   "cell_type": "code",
   "execution_count": 22,
   "metadata": {
    "ExecuteTime": {
     "end_time": "2019-07-08T19:40:09.617876Z",
     "start_time": "2019-07-08T19:39:39.335609Z"
    }
   },
   "outputs": [
    {
     "name": "stdout",
     "output_type": "stream",
     "text": [
      "Average loss: 1.459607, Train accuracy: 0.575811, Val accuracy: 0.609788\n",
      "Average loss: 1.381460, Train accuracy: 0.613162, Val accuracy: 0.621732\n",
      "Average loss: 1.350160, Train accuracy: 0.630959, Val accuracy: 0.621118\n",
      "CPU times: user 5min 6s, sys: 703 ms, total: 5min 7s\n",
      "Wall time: 30.3 s\n"
     ]
    }
   ],
   "source": [
    "%%time\n",
    "loss_history, train_history, val_history = train_model(nn_model, train_loader, val_loader, loss, optimizer, 3)"
   ]
  },
  {
   "cell_type": "code",
   "execution_count": 23,
   "metadata": {
    "ExecuteTime": {
     "end_time": "2019-07-08T19:41:52.529575Z",
     "start_time": "2019-07-08T19:41:52.303310Z"
    }
   },
   "outputs": [
    {
     "data": {
      "image/png": "[encoded data removed]",
      "text/plain": [
       "<Figure size 720x576 with 2 Axes>"
      ]
     },
     "metadata": {
      "needs_background": "light"
     },
     "output_type": "display_data"
    }
   ],
   "source": [
    "fig, ax = plt.subplots(nrows=2, ncols=1, figsize=(10,8))\n",
    "ax[0].plot(loss_history)\n",
    "ax[1].plot(train_history, label='train')\n",
    "ax[1].plot(val_history, label='valid')\n",
    "ax[0].set_title('Loss')\n",
    "ax[1].set_title('Accuracy')\n",
    "plt.legend()\n",
    "plt.show()"
   ]
  },
  {
   "cell_type": "markdown",
   "metadata": {},
   "source": [
    "## После основного цикла\n",
    "\n",
    "Посмотрим на другие возможности и оптимизации, которые предоставляет PyTorch.\n",
    "\n",
    "Добавьте еще один скрытый слой размера 100 нейронов к модели"
   ]
  },
  {
   "cell_type": "code",
   "execution_count": 24,
   "metadata": {
    "ExecuteTime": {
     "end_time": "2019-07-08T19:43:22.739102Z",
     "start_time": "2019-07-08T19:43:22.727076Z"
    },
    "scrolled": true
   },
   "outputs": [],
   "source": [
    "# Since it's so easy to add layers, let's add some!\n",
    "\n",
    "# TODO: Implement a model with 2 hidden layers of the size 100\n",
    "nn_model = nn.Sequential(\n",
    "            Flattener(),\n",
    "            nn.Linear(3*32*32, 100),\n",
    "            nn.ReLU(inplace=True),\n",
    "            nn.Linear(100, 100),\n",
    "            nn.ReLU(inplace=True),\n",
    "            nn.Linear(100, 10),     \n",
    "       )\n",
    "nn_model.type(torch.FloatTensor)\n",
    "\n",
    "optimizer = optim.SGD(nn_model.parameters(), lr=1e-2, weight_decay=1e-1)"
   ]
  },
  {
   "cell_type": "code",
   "execution_count": 25,
   "metadata": {
    "ExecuteTime": {
     "end_time": "2019-07-08T19:44:16.879329Z",
     "start_time": "2019-07-08T19:43:27.065634Z"
    }
   },
   "outputs": [
    {
     "name": "stdout",
     "output_type": "stream",
     "text": [
      "Average loss: 2.182658, Train accuracy: 0.190578, Val accuracy: 0.207563\n",
      "Average loss: 1.993936, Train accuracy: 0.278402, Val accuracy: 0.353491\n",
      "Average loss: 1.778691, Train accuracy: 0.389585, Val accuracy: 0.412668\n",
      "Average loss: 1.698148, Train accuracy: 0.422534, Val accuracy: 0.433349\n",
      "Average loss: 1.674793, Train accuracy: 0.437140, Val accuracy: 0.434783\n",
      "CPU times: user 8min 24s, sys: 923 ms, total: 8min 25s\n",
      "Wall time: 49.8 s\n"
     ]
    }
   ],
   "source": [
    "%%time\n",
    "loss_history, train_history, val_history = train_model(nn_model, train_loader, val_loader, loss, optimizer, 5)"
   ]
  },
  {
   "cell_type": "markdown",
   "metadata": {},
   "source": [
    "Добавьте слой с Batch Normalization"
   ]
  },
  {
   "cell_type": "code",
   "execution_count": 26,
   "metadata": {
    "ExecuteTime": {
     "end_time": "2019-07-08T19:52:00.369921Z",
     "start_time": "2019-07-08T19:52:00.363338Z"
    },
    "scrolled": true
   },
   "outputs": [],
   "source": [
    "# We heard batch normalization is powerful, let's use it!\n",
    "# TODO: Add batch normalization after each of the hidden layers of the network, before or after non-linearity\n",
    "# Hint: check out torch.nn.BatchNorm1d\n",
    "\n",
    "nn_model = nn.Sequential(\n",
    "            Flattener(),\n",
    "            nn.Linear(3*32*32, 100),\n",
    "            nn.ReLU(inplace=True),\n",
    "            nn.BatchNorm1d(100),\n",
    "            nn.Linear(100, 100),\n",
    "            nn.ReLU(inplace=True),\n",
    "            nn.BatchNorm1d(100),\n",
    "            nn.Linear(100, 10),    \n",
    "         )\n",
    "\n",
    "optimizer = optim.SGD(nn_model.parameters(), lr=1e-3, weight_decay=1e-1)"
   ]
  },
  {
   "cell_type": "code",
   "execution_count": 27,
   "metadata": {
    "ExecuteTime": {
     "end_time": "2019-07-08T19:52:56.482381Z",
     "start_time": "2019-07-08T19:52:02.072591Z"
    }
   },
   "outputs": [
    {
     "name": "stdout",
     "output_type": "stream",
     "text": [
      "Average loss: 2.120510, Train accuracy: 0.293417, Val accuracy: 0.446864\n",
      "Average loss: 1.802634, Train accuracy: 0.494250, Val accuracy: 0.542420\n",
      "Average loss: 1.622786, Train accuracy: 0.563662, Val accuracy: 0.591427\n",
      "Average loss: 1.512927, Train accuracy: 0.593165, Val accuracy: 0.610334\n",
      "Average loss: 1.440396, Train accuracy: 0.611968, Val accuracy: 0.633950\n",
      "CPU times: user 9min 11s, sys: 1.16 s, total: 9min 12s\n",
      "Wall time: 54.4 s\n"
     ]
    }
   ],
   "source": [
    "%%time\n",
    "loss_history, train_history, val_history = train_model(nn_model, train_loader, val_loader, loss, optimizer, 5)"
   ]
  },
  {
   "cell_type": "markdown",
   "metadata": {},
   "source": [
    "Добавьте уменьшение скорости обучения по ходу тренировки."
   ]
  },
  {
   "cell_type": "code",
   "execution_count": 7,
   "metadata": {
    "ExecuteTime": {
     "end_time": "2019-07-09T19:43:52.832164Z",
     "start_time": "2019-07-09T19:43:52.812169Z"
    },
    "scrolled": true
   },
   "outputs": [],
   "source": [
    "# Learning rate annealing\n",
    "# Reduce your learning rate 2x every 2 epochs\n",
    "# Hint: look up learning rate schedulers in PyTorch. \n",
    "# You might need to extend train_model function a little bit too!\n",
    "\n",
    "nn_model = nn.Sequential(\n",
    "            Flattener(),\n",
    "            nn.Linear(3*32*32, 100),\n",
    "            nn.ReLU(inplace=True),\n",
    "            nn.BatchNorm1d(100),\n",
    "            nn.Linear(100, 100),\n",
    "            nn.ReLU(inplace=True),\n",
    "            nn.BatchNorm1d(100),\n",
    "            nn.Linear(100, 10), \n",
    ")\n",
    "optimizer = optim.SGD(nn_model.parameters(), lr=1e-3, weight_decay=1e-1)\n",
    "#lr_scheduler = optim.lr_scheduler.StepLR(optimizer, step_size=2, gamma=0.5)\n",
    "lr_lambda = lambda x: 0.5**(x//2)\n",
    "lr_scheduler = optim.lr_scheduler.LambdaLR(optimizer, lr_lambda=lr_lambda)"
   ]
  },
  {
   "cell_type": "code",
   "execution_count": 79,
   "metadata": {
    "ExecuteTime": {
     "end_time": "2019-07-08T20:36:04.213918Z",
     "start_time": "2019-07-08T20:35:09.881476Z"
    }
   },
   "outputs": [
    {
     "name": "stdout",
     "output_type": "stream",
     "text": [
      "Epoch: 0 LR: [0.001]\n",
      "Average loss: 2.132081, Train accuracy: 0.290568, Val accuracy: 0.434305\n",
      "Epoch: 1 LR: [0.0005]\n",
      "Average loss: 1.891045, Train accuracy: 0.466608, Val accuracy: 0.508634\n",
      "Epoch: 2 LR: [0.0005]\n",
      "Average loss: 1.777014, Train accuracy: 0.524417, Val accuracy: 0.557027\n",
      "Epoch: 3 LR: [0.00025]\n",
      "Average loss: 1.695888, Train accuracy: 0.563850, Val accuracy: 0.579892\n",
      "Epoch: 4 LR: [0.00025]\n",
      "Average loss: 1.650672, Train accuracy: 0.580521, Val accuracy: 0.597297\n",
      "CPU times: user 9min 9s, sys: 936 ms, total: 9min 10s\n",
      "Wall time: 54.3 s\n"
     ]
    }
   ],
   "source": [
    "%%time\n",
    "loss_history, train_history, val_history = train_model(nn_model, train_loader, val_loader, loss, \n",
    "                                                       optimizer, 5, lr_scheduler)"
   ]
  },
  {
   "cell_type": "markdown",
   "metadata": {},
   "source": [
    "# Визуализируем ошибки модели\n",
    "\n",
    "Попробуем посмотреть, на каких изображениях наша модель ошибается.\n",
    "Для этого мы получим все предсказания модели на validation set и сравним их с истинными метками (ground truth).\n",
    "\n",
    "Первая часть - реализовать код на PyTorch, который вычисляет все предсказания модели на validation set.  \n",
    "Чтобы это сделать мы приводим код `SubsetSampler`, который просто проходит по всем заданным индексам последовательно и составляет из них батчи. \n",
    "\n",
    "Реализуйте функцию `evaluate_model`, которая прогоняет модель через все сэмплы validation set и запоминает предсказания модели и истинные метки."
   ]
  },
  {
   "cell_type": "code",
   "execution_count": 18,
   "metadata": {
    "ExecuteTime": {
     "end_time": "2019-07-09T20:00:13.480035Z",
     "start_time": "2019-07-09T20:00:13.473217Z"
    }
   },
   "outputs": [],
   "source": [
    "class SubsetSampler(Sampler):\n",
    "    r\"\"\"Samples elements with given indices sequentially\n",
    "\n",
    "    Arguments:\n",
    "        indices (ndarray): indices of the samples to take\n",
    "    \"\"\"\n",
    "\n",
    "    def __init__(self, indices):\n",
    "        self.indices = indices\n",
    "\n",
    "    def __iter__(self):\n",
    "        return (self.indices[i] for i in range(len(self.indices)))\n",
    "\n",
    "    def __len__(self):\n",
    "        return len(self.indices)\n",
    "    \n",
    "    \n",
    "def evaluate_model(model, dataset, indices):\n",
    "    \"\"\"\n",
    "    Computes predictions and ground truth labels for the indices of the dataset\n",
    "    \n",
    "    Returns: \n",
    "    predictions: np array of ints - model predictions\n",
    "    ground_truth: np array of ints - actual labels of the dataset\n",
    "    \"\"\"\n",
    "    model.eval() # Evaluation mode\n",
    "    \n",
    "    # TODO: Evaluate model on the list of indices and capture predictions\n",
    "    # and ground truth labels\n",
    "    # Hint: SubsetSampler above could be useful!\n",
    "    predictions = []\n",
    "    ground_truth = []\n",
    "    \n",
    "    sub_samp = SubsetSampler(indices=indices)\n",
    "    val_loader = torch.utils.data.DataLoader(dataset, \n",
    "                                             batch_size=batch_size,\n",
    "                                             sampler=sub_samp)\n",
    "    correct_samples = 0\n",
    "    total_samples = 0\n",
    "    for i_step, (x, y) in enumerate(val_loader):\n",
    "        # make prediction\n",
    "        pred = model(x)        \n",
    "        _, indices = torch.max(pred, 1)\n",
    "        \n",
    "        predictions.extend(indices)\n",
    "        ground_truth.extend(y)     \n",
    "        \n",
    "    return np.array(predictions), np.array(ground_truth)"
   ]
  },
  {
   "cell_type": "code",
   "execution_count": 19,
   "metadata": {
    "ExecuteTime": {
     "end_time": "2019-07-09T20:00:21.490353Z",
     "start_time": "2019-07-09T20:00:19.730523Z"
    }
   },
   "outputs": [
    {
     "name": "stdout",
     "output_type": "stream",
     "text": [
      "CPU times: user 10.3 s, sys: 11.3 ms, total: 10.3 s\n",
      "Wall time: 1.75 s\n"
     ]
    }
   ],
   "source": [
    "%%time\n",
    "# Evaluate model on validation\n",
    "predictions, gt = evaluate_model(nn_model, data_train, val_indices)\n",
    "assert len(predictions) == len(val_indices)\n",
    "assert len(gt) == len(val_indices)\n",
    "assert gt[100] == data_train[val_indices[100]][1]\n",
    "assert np.any(np.not_equal(gt, predictions))"
   ]
  },
  {
   "attachments": {
    "image.png": {
     "image/png": "[encoded data removed]"
    }
   },
   "cell_type": "markdown",
   "metadata": {},
   "source": [
    "## Confusion matrix\n",
    "Первая часть визуализации - вывести confusion matrix (https://en.wikipedia.org/wiki/Confusion_matrix ).\n",
    "\n",
    "Confusion matrix - это матрица, где каждой строке соответствуют классы предсказанный, а столбцу - классы истинных меток (ground truth). Число с координатами `i,j` - это количество сэмплов класса `j`, которые модель считает классом `i`.\n",
    "\n",
    "![image.png](attachment:image.png)\n",
    "\n",
    "Для того, чтобы облегчить вам задачу, ниже реализована функция `visualize_confusion_matrix` которая визуализирует такую матрицу.  \n",
    "Вам осталось реализовать функцию `build_confusion_matrix`, которая ее вычислит.\n",
    "\n",
    "Результатом должна быть матрица 10x10."
   ]
  },
  {
   "cell_type": "code",
   "execution_count": 24,
   "metadata": {
    "ExecuteTime": {
     "end_time": "2019-07-09T20:17:15.623493Z",
     "start_time": "2019-07-09T20:17:15.225633Z"
    }
   },
   "outputs": [
    {
     "data": {
      "image/png": "[encoded data removed]",
      "text/plain": [
       "<Figure size 720x720 with 2 Axes>"
      ]
     },
     "metadata": {
      "needs_background": "light"
     },
     "output_type": "display_data"
    }
   ],
   "source": [
    "def visualize_confusion_matrix(confusion_matrix):\n",
    "    \"\"\"\n",
    "    Visualizes confusion matrix\n",
    "    \n",
    "    confusion_matrix: np array of ints, x axis - predicted class, y axis - actual class\n",
    "                      [i][j] should have the count of samples that were predicted to be class i,\n",
    "                      but have j in the ground truth\n",
    "                     \n",
    "    \"\"\"\n",
    "    # Adapted from \n",
    "    # https://stackoverflow.com/questions/2897826/confusion-matrix-with-number-of-classified-misclassified-instances-on-it-python\n",
    "    assert confusion_matrix.shape[0] == confusion_matrix.shape[1]\n",
    "    size = confusion_matrix.shape[0]\n",
    "    fig = plt.figure(figsize=(10,10))\n",
    "    plt.title(\"Confusion matrix\")\n",
    "    plt.ylabel(\"predicted\")\n",
    "    plt.xlabel(\"ground truth\")\n",
    "    res = plt.imshow(confusion_matrix, cmap='GnBu', interpolation='nearest')\n",
    "    cb = fig.colorbar(res)\n",
    "    plt.xticks(np.arange(size))\n",
    "    plt.yticks(np.arange(size))\n",
    "    for i, row in enumerate(confusion_matrix):\n",
    "        for j, count in enumerate(row):\n",
    "            plt.text(j, i, count, fontsize=14, horizontalalignment='center', verticalalignment='center')\n",
    "    \n",
    "def build_confusion_matrix(predictions, ground_truth):\n",
    "    \"\"\"\n",
    "    Builds confusion matrix from predictions and ground truth\n",
    "\n",
    "    predictions: np array of ints, model predictions for all validation samples\n",
    "    ground_truth: np array of ints, ground truth for all validation samples\n",
    "    \n",
    "    Returns:\n",
    "    np array of ints, (10,10), counts of samples for predicted/ground_truth classes\n",
    "    \"\"\"\n",
    "    \n",
    "    confusion_matrix = np.zeros((10,10), np.int)\n",
    "    for pred, gt in zip(predictions, ground_truth):\n",
    "        confusion_matrix[pred][gt] += 1\n",
    "    # TODO: Implement filling the prediction matrix\n",
    "    return confusion_matrix\n",
    "\n",
    "confusion_matrix = build_confusion_matrix(predictions, gt)\n",
    "visualize_confusion_matrix(confusion_matrix)"
   ]
  },
  {
   "cell_type": "markdown",
   "metadata": {},
   "source": [
    "Наконец, посмотрим на изображения, соответствующие некоторым элементам этой матрицы.\n",
    "\n",
    "Как и раньше, вам дана функция `visualize_images`, которой нужно воспрользоваться при реализации функции `visualize_predicted_actual`. Эта функция должна вывести несколько примеров, соответствующих заданному элементу матрицы.\n",
    "\n",
    "Визуализируйте наиболее частые ошибки и попробуйте понять, почему модель их совершает."
   ]
  },
  {
   "cell_type": "code",
   "execution_count": 31,
   "metadata": {
    "ExecuteTime": {
     "end_time": "2019-07-09T20:29:18.046246Z",
     "start_time": "2019-07-09T20:29:16.736687Z"
    }
   },
   "outputs": [],
   "source": [
    "data_train_images = dset.SVHN('./data/', split='train')\n",
    "\n",
    "def visualize_images(indices, data, title='', max_num=10):\n",
    "    \"\"\"\n",
    "    Visualizes several images from the dataset\n",
    " \n",
    "    indices: array of indices to visualize\n",
    "    data: torch Dataset with the images\n",
    "    title: string, title of the plot\n",
    "    max_num: int, max number of images to display\n",
    "    \"\"\"\n",
    "    to_show = min(len(indices), max_num)\n",
    "    fig = plt.figure(figsize=(10,1.5))\n",
    "    fig.suptitle(title)\n",
    "    for i, index in enumerate(indices[:to_show]):\n",
    "        plt.subplot(1,to_show, i+1)\n",
    "        plt.axis('off')\n",
    "        sample = data[index][0]\n",
    "        plt.imshow(sample)\n",
    "        \n",
    "def visualize_predicted_actual(predicted_class, gt_class, predictions, ground_truth, val_indices, data):\n",
    "    \"\"\"\n",
    "    Visualizes images of a ground truth class which were predicted as the other class \n",
    "    \n",
    "    predicted: int 0-9, index of the predicted class\n",
    "    gt_class: int 0-9, index of the ground truth class\n",
    "    predictions: np array of ints, model predictions for all validation samples\n",
    "    ground_truth: np array of ints, ground truth for all validation samples\n",
    "    val_indices: np array of ints, indices of validation samples\n",
    "    \"\"\"\n",
    "\n",
    "    # TODO: Implement visualization using visualize_images above\n",
    "    # predictions and ground_truth are provided for validation set only, defined by val_indices\n",
    "    # Hint: numpy index arrays might be helpful\n",
    "    # https://docs.scipy.org/doc/numpy/user/basics.indexing.html#index-arrays\n",
    "    # Please make the title meaningful!\n",
    "    cur_inds = []\n",
    "    for ind, (pred, gt) in enumerate(zip(predictions, ground_truth)):\n",
    "        if pred == predicted_class and gt == gt_class:\n",
    "            cur_inds.append(ind)\n",
    "            \n",
    "    visualize_images(val_indices[cur_inds], \n",
    "                     data, \n",
    "                     title='pred={pr}, gt={gt}'.format(pr=predicted_class, gt=gt_class))"
   ]
  },
  {
   "cell_type": "code",
   "execution_count": 32,
   "metadata": {
    "ExecuteTime": {
     "end_time": "2019-07-09T20:29:22.944346Z",
     "start_time": "2019-07-09T20:29:22.935003Z"
    }
   },
   "outputs": [
    {
     "data": {
      "text/plain": [
       "<Figure size 720x108 with 0 Axes>"
      ]
     },
     "metadata": {},
     "output_type": "display_data"
    }
   ],
   "source": [
    "visualize_predicted_actual(6, 8, predictions, gt, np.array(val_indices), data_train_images)"
   ]
  },
  {
   "cell_type": "code",
   "execution_count": 29,
   "metadata": {
    "ExecuteTime": {
     "end_time": "2019-07-09T20:28:40.474879Z",
     "start_time": "2019-07-09T20:28:40.308338Z"
    }
   },
   "outputs": [
    {
     "data": {
      "image/png": "[encoded data removed]",
      "text/plain": [
       "<Figure size 720x108 with 10 Axes>"
      ]
     },
     "metadata": {
      "needs_background": "light"
     },
     "output_type": "display_data"
    }
   ],
   "source": [
    "visualize_predicted_actual(1, 7, predictions, gt, np.array(val_indices), data_train_images)"
   ]
  },
  {
   "cell_type": "code",
   "execution_count": 33,
   "metadata": {
    "ExecuteTime": {
     "end_time": "2019-07-09T20:30:26.919773Z",
     "start_time": "2019-07-09T20:30:26.757889Z"
    }
   },
   "outputs": [
    {
     "data": {
      "image/png": "[encoded data removed]",
      "text/plain": [
       "<Figure size 720x108 with 10 Axes>"
      ]
     },
     "metadata": {
      "needs_background": "light"
     },
     "output_type": "display_data"
    }
   ],
   "source": [
    "visualize_predicted_actual(1, 9, predictions, gt, np.array(val_indices), data_train_images)"
   ]
  },
  {
   "cell_type": "code",
   "execution_count": 34,
   "metadata": {
    "ExecuteTime": {
     "end_time": "2019-07-09T20:30:41.747125Z",
     "start_time": "2019-07-09T20:30:41.583114Z"
    }
   },
   "outputs": [
    {
     "data": {
      "image/png": "[encoded data removed]",
      "text/plain": [
       "<Figure size 720x108 with 10 Axes>"
      ]
     },
     "metadata": {
      "needs_background": "light"
     },
     "output_type": "display_data"
    }
   ],
   "source": [
    "visualize_predicted_actual(1, 8, predictions, gt, np.array(val_indices), data_train_images)"
   ]
  },
  {
   "cell_type": "markdown",
   "metadata": {},
   "source": [
    "# Переходим к свободным упражнениям!\n",
    "\n",
    "Натренируйте модель как можно лучше - экспериментируйте сами!\n",
    "Что следует обязательно попробовать:\n",
    "- перебор гиперпараметров с помощью валидационной выборки\n",
    "- другие оптимизаторы вместо SGD\n",
    "- изменение количества слоев и их размеров\n",
    "- наличие Batch Normalization\n",
    "\n",
    "Но ограничиваться этим не стоит!\n",
    "\n",
    "Точность на валидацонной выборке должна быть доведена до **60%**\n",
    "\n",
    "За лучший результат в группе вы получите дополнительные баллы :)"
   ]
  },
  {
   "cell_type": "code",
   "execution_count": 45,
   "metadata": {
    "ExecuteTime": {
     "end_time": "2019-07-09T20:48:23.554300Z",
     "start_time": "2019-07-09T20:48:23.545363Z"
    },
    "scrolled": true
   },
   "outputs": [],
   "source": [
    "# Experiment here!\n",
    "nn_model = nn.Sequential(\n",
    "            Flattener(),\n",
    "            nn.Linear(3*32*32, 100),\n",
    "            nn.ReLU(inplace=True),\n",
    "            nn.BatchNorm1d(100),\n",
    "            nn.Linear(100, 100),\n",
    "            nn.ReLU(inplace=True),\n",
    "            nn.BatchNorm1d(100),\n",
    "            nn.Linear(100, 10), \n",
    ")\n",
    "optimizer = optim.SGD(nn_model.parameters(), lr=1e-3, weight_decay=1e-1)\n",
    "lr_scheduler = optim.lr_scheduler.StepLR(optimizer, step_size=10, gamma=0.5)\n",
    "#lr_lambda = lambda x: 0.5**(x//2)\n",
    "#lr_scheduler = optim.lr_scheduler.LambdaLR(optimizer, lr_lambda=lr_lambda)"
   ]
  },
  {
   "cell_type": "code",
   "execution_count": 36,
   "metadata": {
    "ExecuteTime": {
     "end_time": "2019-07-09T20:37:51.169581Z",
     "start_time": "2019-07-09T20:36:56.109902Z"
    }
   },
   "outputs": [
    {
     "name": "stdout",
     "output_type": "stream",
     "text": [
      "Epoch: 0 LR: [0.001]\n",
      "Average loss: 2.097239, Train accuracy: 0.317049, Val accuracy: 0.471026\n",
      "Epoch: 1 LR: [0.0005]\n",
      "Average loss: 1.842107, Train accuracy: 0.483875, Val accuracy: 0.521671\n",
      "Epoch: 2 LR: [0.0005]\n",
      "Average loss: 1.728662, Train accuracy: 0.532369, Val accuracy: 0.560235\n",
      "Epoch: 3 LR: [0.00025]\n",
      "Average loss: 1.658617, Train accuracy: 0.562707, Val accuracy: 0.580779\n",
      "Epoch: 4 LR: [0.00025]\n",
      "Average loss: 1.619645, Train accuracy: 0.576852, Val accuracy: 0.595727\n",
      "CPU times: user 9min 16s, sys: 1.02 s, total: 9min 17s\n",
      "Wall time: 55.1 s\n"
     ]
    }
   ],
   "source": [
    "%%time\n",
    "loss_history, train_history, val_history = train_model(nn_model, train_loader, val_loader, loss, \n",
    "                                                       optimizer, 5, lr_scheduler)"
   ]
  },
  {
   "cell_type": "code",
   "execution_count": 46,
   "metadata": {
    "ExecuteTime": {
     "end_time": "2019-07-09T20:52:22.218921Z",
     "start_time": "2019-07-09T20:48:35.292177Z"
    },
    "collapsed": true
   },
   "outputs": [
    {
     "name": "stdout",
     "output_type": "stream",
     "text": [
      "Epoch: 0 LR: [0.001]\n",
      "Average loss: 2.092313, Train accuracy: 0.332509, Val accuracy: 0.486247\n",
      "Epoch: 1 LR: [0.0005]\n",
      "Average loss: 1.846776, Train accuracy: 0.506518, Val accuracy: 0.544331\n",
      "Epoch: 2 LR: [0.0005]\n",
      "Average loss: 1.742343, Train accuracy: 0.548749, Val accuracy: 0.567538\n",
      "Epoch: 3 LR: [0.00025]\n",
      "Average loss: 1.673997, Train accuracy: 0.572842, Val accuracy: 0.595796\n",
      "Epoch: 4 LR: [0.00025]\n",
      "Average loss: 1.636008, Train accuracy: 0.583848, Val accuracy: 0.608832\n",
      "Epoch: 5 LR: [0.000125]\n",
      "Average loss: 1.607129, Train accuracy: 0.596219, Val accuracy: 0.616408\n",
      "Epoch: 6 LR: [0.000125]\n",
      "Average loss: 1.590236, Train accuracy: 0.599478, Val accuracy: 0.621050\n",
      "Epoch: 7 LR: [6.25e-05]\n",
      "Average loss: 1.575928, Train accuracy: 0.606064, Val accuracy: 0.618524\n",
      "Epoch: 8 LR: [6.25e-05]\n",
      "Average loss: 1.567924, Train accuracy: 0.608334, Val accuracy: 0.624121\n",
      "Epoch: 9 LR: [3.125e-05]\n",
      "Average loss: 1.560089, Train accuracy: 0.612531, Val accuracy: 0.623507\n",
      "Epoch: 10 LR: [3.125e-05]\n",
      "Average loss: 1.556278, Train accuracy: 0.612190, Val accuracy: 0.627056\n",
      "Epoch: 11 LR: [1.5625e-05]\n",
      "Average loss: 1.553349, Train accuracy: 0.613487, Val accuracy: 0.625555\n",
      "Epoch: 12 LR: [1.5625e-05]\n",
      "Average loss: 1.552500, Train accuracy: 0.613333, Val accuracy: 0.622620\n",
      "Epoch: 13 LR: [7.8125e-06]\n",
      "Average loss: 1.549631, Train accuracy: 0.614835, Val accuracy: 0.623575\n",
      "Epoch: 14 LR: [7.8125e-06]\n",
      "Average loss: 1.548818, Train accuracy: 0.613964, Val accuracy: 0.629036\n",
      "Epoch: 15 LR: [3.90625e-06]\n",
      "Average loss: 1.547244, Train accuracy: 0.614391, Val accuracy: 0.622824\n",
      "Epoch: 16 LR: [3.90625e-06]\n",
      "Average loss: 1.548342, Train accuracy: 0.613538, Val accuracy: 0.627943\n",
      "Epoch: 17 LR: [1.953125e-06]\n",
      "Average loss: 1.546556, Train accuracy: 0.616780, Val accuracy: 0.624667\n",
      "Epoch: 18 LR: [1.953125e-06]\n",
      "Average loss: 1.546679, Train accuracy: 0.615722, Val accuracy: 0.627875\n",
      "Epoch: 19 LR: [9.765625e-07]\n",
      "Average loss: 1.545954, Train accuracy: 0.615807, Val accuracy: 0.627602\n",
      "Epoch: 20 LR: [9.765625e-07]\n",
      "Average loss: 1.546721, Train accuracy: 0.616114, Val accuracy: 0.627193\n",
      "Epoch: 21 LR: [4.8828125e-07]\n",
      "Average loss: 1.546666, Train accuracy: 0.614681, Val accuracy: 0.627739\n",
      "Epoch: 22 LR: [4.8828125e-07]\n",
      "Average loss: 1.545930, Train accuracy: 0.617206, Val accuracy: 0.626920\n",
      "Epoch: 23 LR: [2.44140625e-07]\n",
      "Average loss: 1.547321, Train accuracy: 0.613282, Val accuracy: 0.631015\n",
      "Epoch: 24 LR: [2.44140625e-07]\n",
      "Average loss: 1.546870, Train accuracy: 0.617275, Val accuracy: 0.625213\n",
      "Epoch: 25 LR: [1.220703125e-07]\n",
      "Average loss: 1.545716, Train accuracy: 0.616814, Val accuracy: 0.628490\n",
      "Epoch: 26 LR: [1.220703125e-07]\n",
      "Average loss: 1.546101, Train accuracy: 0.615483, Val accuracy: 0.625145\n",
      "Epoch: 27 LR: [6.103515625e-08]\n",
      "Average loss: 1.546901, Train accuracy: 0.614920, Val accuracy: 0.626715\n",
      "Epoch: 28 LR: [6.103515625e-08]\n",
      "Average loss: 1.546860, Train accuracy: 0.615398, Val accuracy: 0.625623\n",
      "Epoch: 29 LR: [3.0517578125e-08]\n",
      "Average loss: 1.545962, Train accuracy: 0.615125, Val accuracy: 0.627261\n",
      "CPU times: user 34min 10s, sys: 1min 44s, total: 35min 54s\n",
      "Wall time: 3min 46s\n"
     ]
    }
   ],
   "source": [
    "%%time\n",
    "# Experiment here!\n",
    "nn_model = nn.Sequential(\n",
    "            Flattener(),\n",
    "            nn.Linear(3*32*32, 100),\n",
    "            nn.ReLU(inplace=True),\n",
    "            nn.BatchNorm1d(100),\n",
    "            nn.Linear(100, 100),\n",
    "            nn.ReLU(inplace=True),\n",
    "            nn.BatchNorm1d(100),\n",
    "            nn.Linear(100, 10), \n",
    ")\n",
    "optimizer = optim.SGD(nn_model.parameters(), lr=1e-3, weight_decay=1e-1)\n",
    "#lr_scheduler = optim.lr_scheduler.StepLR(optimizer, step_size=2, gamma=0.5)\n",
    "lr_lambda = lambda x: 0.5**(x//2)\n",
    "lr_scheduler = optim.lr_scheduler.LambdaLR(optimizer, lr_lambda=lr_lambda)\n",
    "loss_history, train_history, val_history = train_model(nn_model, train_loader, val_loader, loss, \n",
    "                                                       optimizer, 30, lr_scheduler, False)"
   ]
  },
  {
   "cell_type": "code",
   "execution_count": 47,
   "metadata": {
    "ExecuteTime": {
     "end_time": "2019-07-09T20:52:22.446928Z",
     "start_time": "2019-07-09T20:52:22.244502Z"
    }
   },
   "outputs": [
    {
     "data": {
      "image/png": "[encoded data removed]",
      "text/plain": [
       "<Figure size 720x576 with 2 Axes>"
      ]
     },
     "metadata": {
      "needs_background": "light"
     },
     "output_type": "display_data"
    }
   ],
   "source": [
    "fig, ax = plt.subplots(nrows=2, ncols=1, figsize=(10,8))\n",
    "ax[0].plot(loss_history)\n",
    "ax[1].plot(train_history, label='train')\n",
    "ax[1].plot(val_history, label='valid')\n",
    "ax[0].set_title('Loss')\n",
    "ax[1].set_title('Accuracy')\n",
    "plt.legend()\n",
    "plt.show()"
   ]
  },
  {
   "cell_type": "code",
   "execution_count": 8,
   "metadata": {
    "ExecuteTime": {
     "end_time": "2019-07-10T18:47:43.572935Z",
     "start_time": "2019-07-10T18:46:12.289236Z"
    },
    "scrolled": true
   },
   "outputs": [
    {
     "name": "stdout",
     "output_type": "stream",
     "text": [
      "Epoch: 0 LR: [0.001]\n",
      "Average loss: 2.108077, Train accuracy: 0.301505, Val accuracy: 0.428571\n",
      "Epoch: 1 LR: [0.001]\n",
      "Average loss: 1.807429, Train accuracy: 0.486537, Val accuracy: 0.522831\n",
      "Epoch: 2 LR: [0.001]\n",
      "Average loss: 1.644882, Train accuracy: 0.551377, Val accuracy: 0.568425\n",
      "Epoch: 3 LR: [0.001]\n",
      "Average loss: 1.544430, Train accuracy: 0.581323, Val accuracy: 0.590949\n",
      "Epoch: 4 LR: [0.001]\n",
      "Average loss: 1.481582, Train accuracy: 0.599000, Val accuracy: 0.613473\n",
      "Epoch: 5 LR: [0.001]\n",
      "Average loss: 1.434115, Train accuracy: 0.617684, Val accuracy: 0.618320\n",
      "Epoch: 6 LR: [0.001]\n",
      "Average loss: 1.398594, Train accuracy: 0.629901, Val accuracy: 0.641117\n",
      "Epoch: 7 LR: [0.001]\n",
      "Average loss: 1.371155, Train accuracy: 0.643501, Val accuracy: 0.647123\n",
      "Epoch: 8 LR: [0.001]\n",
      "Average loss: 1.353122, Train accuracy: 0.654250, Val accuracy: 0.634701\n",
      "Epoch: 9 LR: [0.00025]\n",
      "Average loss: 1.310034, Train accuracy: 0.680545, Val accuracy: 0.683435\n",
      "Epoch: 10 LR: [0.0005]\n",
      "Average loss: 1.295930, Train accuracy: 0.688001, Val accuracy: 0.694424\n",
      "Epoch: 11 LR: [0.0005]\n",
      "Average loss: 1.286155, Train accuracy: 0.693171, Val accuracy: 0.703228\n",
      "Epoch: 12 LR: [0.0005]\n",
      "Average loss: 1.277586, Train accuracy: 0.697164, Val accuracy: 0.693605\n",
      "Epoch: 13 LR: [0.0005]\n",
      "Average loss: 1.268670, Train accuracy: 0.700867, Val accuracy: 0.701454\n",
      "Epoch: 14 LR: [0.0005]\n",
      "Average loss: 1.260321, Train accuracy: 0.707078, Val accuracy: 0.678315\n",
      "Epoch: 15 LR: [0.0005]\n",
      "Average loss: 1.253325, Train accuracy: 0.710473, Val accuracy: 0.711283\n",
      "Epoch: 16 LR: [0.0005]\n",
      "Average loss: 1.250063, Train accuracy: 0.712589, Val accuracy: 0.716675\n",
      "Epoch: 17 LR: [0.0005]\n",
      "Average loss: 1.242457, Train accuracy: 0.717299, Val accuracy: 0.676063\n",
      "Epoch: 18 LR: [0.0005]\n",
      "Average loss: 1.234848, Train accuracy: 0.721581, Val accuracy: 0.694697\n",
      "Epoch: 19 LR: [0.000125]\n",
      "Average loss: 1.207835, Train accuracy: 0.738150, Val accuracy: 0.738107\n",
      "Epoch: 20 LR: [0.00025]\n",
      "Average loss: 1.204543, Train accuracy: 0.740078, Val accuracy: 0.737902\n",
      "Epoch: 21 LR: [0.00025]\n",
      "Average loss: 1.200483, Train accuracy: 0.744702, Val accuracy: 0.744591\n",
      "Epoch: 22 LR: [0.00025]\n",
      "Average loss: 1.196354, Train accuracy: 0.746647, Val accuracy: 0.741246\n",
      "Epoch: 23 LR: [0.00025]\n",
      "Average loss: 1.194351, Train accuracy: 0.745589, Val accuracy: 0.737424\n",
      "Epoch: 24 LR: [0.00025]\n",
      "Average loss: 1.190834, Train accuracy: 0.747807, Val accuracy: 0.745273\n",
      "Epoch: 25 LR: [0.00025]\n",
      "Average loss: 1.187319, Train accuracy: 0.750333, Val accuracy: 0.743157\n",
      "Epoch: 26 LR: [0.00025]\n",
      "Average loss: 1.183372, Train accuracy: 0.752705, Val accuracy: 0.745683\n",
      "Epoch: 27 LR: [0.00025]\n",
      "Average loss: 1.180371, Train accuracy: 0.752090, Val accuracy: 0.733807\n",
      "Epoch: 28 LR: [0.00025]\n",
      "Average loss: 1.178194, Train accuracy: 0.755435, Val accuracy: 0.745410\n",
      "Epoch: 29 LR: [6.25e-05]\n",
      "Average loss: 1.162515, Train accuracy: 0.763045, Val accuracy: 0.760085\n",
      "CPU times: user 1min 7s, sys: 18.2 s, total: 1min 25s\n",
      "Wall time: 1min 31s\n"
     ]
    }
   ],
   "source": [
    "%%time\n",
    "# Experiment here!\n",
    "nn_model = nn.Sequential(\n",
    "            Flattener(),\n",
    "            nn.Linear(3*32*32, 100),\n",
    "            nn.ReLU(inplace=True),\n",
    "            nn.BatchNorm1d(100),\n",
    "            nn.Linear(100, 100),\n",
    "            nn.ReLU(inplace=True),\n",
    "            nn.BatchNorm1d(100),\n",
    "            nn.Linear(100, 10), \n",
    ")\n",
    "nn_model.cuda()\n",
    "loss = nn.CrossEntropyLoss().type(torch.FloatTensor)\n",
    "optimizer = optim.SGD(nn_model.parameters(), lr=1e-3, weight_decay=1e-1)\n",
    "lr_scheduler = optim.lr_scheduler.StepLR(optimizer, step_size=10, gamma=0.5)\n",
    "#lr_lambda = lambda x: 0.5**(x//2)\n",
    "#lr_scheduler = optim.lr_scheduler.LambdaLR(optimizer, lr_lambda=lr_lambda)\n",
    "loss_history, train_history, val_history = train_model(nn_model, train_loader, val_loader, loss, \n",
    "                                                       optimizer, 30, lr_scheduler, True)"
   ]
  },
  {
   "cell_type": "code",
   "execution_count": 9,
   "metadata": {
    "ExecuteTime": {
     "end_time": "2019-07-10T18:48:12.822606Z",
     "start_time": "2019-07-10T18:48:12.600586Z"
    }
   },
   "outputs": [
    {
     "data": {
      "image/png": "[encoded data removed]",
      "text/plain": [
       "<Figure size 720x576 with 2 Axes>"
      ]
     },
     "metadata": {
      "needs_background": "light"
     },
     "output_type": "display_data"
    }
   ],
   "source": [
    "fig, ax = plt.subplots(nrows=2, ncols=1, figsize=(10,8))\n",
    "ax[0].plot(loss_history)\n",
    "ax[1].plot(train_history, label='train')\n",
    "ax[1].plot(val_history, label='valid')\n",
    "ax[0].set_title('Loss')\n",
    "ax[1].set_title('Accuracy')\n",
    "plt.legend()\n",
    "plt.show()"
   ]
  },
  {
   "cell_type": "code",
   "execution_count": 10,
   "metadata": {
    "ExecuteTime": {
     "end_time": "2019-07-10T18:48:31.850509Z",
     "start_time": "2019-07-10T18:48:31.046685Z"
    }
   },
   "outputs": [
    {
     "name": "stdout",
     "output_type": "stream",
     "text": [
      "Test accuracy: 0.7484\n"
     ]
    }
   ],
   "source": [
    "# Как всегда, в конце проверяем на test set\n",
    "test_loader = torch.utils.data.DataLoader(data_test, batch_size=batch_size, num_workers=8)\n",
    "test_accuracy = compute_accuracy(nn_model, test_loader, True)\n",
    "print(\"Test accuracy: %2.4f\" % test_accuracy)"
   ]
  },
  {
   "cell_type": "code",
   "execution_count": 39,
   "metadata": {
    "ExecuteTime": {
     "end_time": "2019-07-10T19:39:30.133663Z",
     "start_time": "2019-07-10T19:32:46.987104Z"
    },
    "scrolled": true
   },
   "outputs": [
    {
     "name": "stdout",
     "output_type": "stream",
     "text": [
      "Epoch: 0 LR: [0.0001]\n",
      "Average loss: 1.630463, Train accuracy: 0.500239, Val accuracy: 0.669306\n",
      "Epoch: 1 LR: [0.0001]\n",
      "Average loss: 1.098813, Train accuracy: 0.669778, Val accuracy: 0.720633\n",
      "Epoch: 2 LR: [0.0001]\n",
      "Average loss: 0.925310, Train accuracy: 0.715968, Val accuracy: 0.755853\n",
      "Epoch: 3 LR: [0.0001]\n",
      "Average loss: 0.829511, Train accuracy: 0.742961, Val accuracy: 0.791482\n",
      "Epoch: 4 LR: [0.0001]\n",
      "Average loss: 0.770756, Train accuracy: 0.761185, Val accuracy: 0.781721\n",
      "Epoch: 5 LR: [0.0001]\n",
      "Average loss: 0.728636, Train accuracy: 0.773504, Val accuracy: 0.815644\n",
      "Epoch: 6 LR: [0.0001]\n",
      "Average loss: 0.693327, Train accuracy: 0.782104, Val accuracy: 0.820285\n",
      "Epoch: 7 LR: [8.1e-05]\n",
      "Average loss: 0.649900, Train accuracy: 0.797103, Val accuracy: 0.815303\n",
      "Epoch: 8 LR: [9e-05]\n",
      "Average loss: 0.633914, Train accuracy: 0.801693, Val accuracy: 0.824039\n",
      "Epoch: 9 LR: [9e-05]\n",
      "Average loss: 0.618867, Train accuracy: 0.807477, Val accuracy: 0.832366\n",
      "Epoch: 10 LR: [9e-05]\n",
      "Average loss: 0.607121, Train accuracy: 0.810275, Val accuracy: 0.833731\n",
      "Epoch: 11 LR: [9e-05]\n",
      "Average loss: 0.582228, Train accuracy: 0.817442, Val accuracy: 0.837008\n",
      "Epoch: 12 LR: [9e-05]\n",
      "Average loss: 0.574502, Train accuracy: 0.821247, Val accuracy: 0.826292\n",
      "Epoch: 13 LR: [9e-05]\n",
      "Average loss: 0.562799, Train accuracy: 0.824233, Val accuracy: 0.844038\n",
      "Epoch: 14 LR: [9e-05]\n",
      "Average loss: 0.550357, Train accuracy: 0.827594, Val accuracy: 0.845949\n",
      "Epoch: 15 LR: [7.290000000000001e-05]\n",
      "Average loss: 0.530635, Train accuracy: 0.834368, Val accuracy: 0.847041\n",
      "Epoch: 16 LR: [8.1e-05]\n",
      "Average loss: 0.523125, Train accuracy: 0.836501, Val accuracy: 0.848065\n",
      "Epoch: 17 LR: [8.1e-05]\n",
      "Average loss: 0.518932, Train accuracy: 0.837252, Val accuracy: 0.841513\n",
      "Epoch: 18 LR: [8.1e-05]\n",
      "Average loss: 0.508450, Train accuracy: 0.840068, Val accuracy: 0.853594\n",
      "Epoch: 19 LR: [8.1e-05]\n",
      "Average loss: 0.502525, Train accuracy: 0.841774, Val accuracy: 0.848338\n",
      "Epoch: 20 LR: [8.1e-05]\n",
      "Average loss: 0.496999, Train accuracy: 0.844129, Val accuracy: 0.855095\n",
      "Epoch: 21 LR: [8.1e-05]\n",
      "Average loss: 0.488686, Train accuracy: 0.847268, Val accuracy: 0.852843\n",
      "Epoch: 22 LR: [8.1e-05]\n",
      "Average loss: 0.484289, Train accuracy: 0.847029, Val accuracy: 0.855505\n",
      "Epoch: 23 LR: [6.561000000000002e-05]\n",
      "Average loss: 0.462613, Train accuracy: 0.855322, Val accuracy: 0.857962\n",
      "Epoch: 24 LR: [7.290000000000001e-05]\n",
      "Average loss: 0.464313, Train accuracy: 0.854725, Val accuracy: 0.856460\n",
      "Epoch: 25 LR: [7.290000000000001e-05]\n",
      "Average loss: 0.460243, Train accuracy: 0.854725, Val accuracy: 0.857689\n",
      "Epoch: 26 LR: [7.290000000000001e-05]\n",
      "Average loss: 0.451377, Train accuracy: 0.857830, Val accuracy: 0.858781\n",
      "Epoch: 27 LR: [7.290000000000001e-05]\n",
      "Average loss: 0.446110, Train accuracy: 0.859980, Val accuracy: 0.860146\n",
      "Epoch: 28 LR: [7.290000000000001e-05]\n",
      "Average loss: 0.442334, Train accuracy: 0.861960, Val accuracy: 0.854890\n",
      "Epoch: 29 LR: [7.290000000000001e-05]\n",
      "Average loss: 0.440938, Train accuracy: 0.859315, Val accuracy: 0.860760\n",
      "Epoch: 30 LR: [7.290000000000001e-05]\n",
      "Average loss: 0.439390, Train accuracy: 0.861396, Val accuracy: 0.858781\n",
      "Epoch: 31 LR: [5.904900000000002e-05]\n",
      "Average loss: 0.423022, Train accuracy: 0.867198, Val accuracy: 0.860965\n",
      "Epoch: 32 LR: [6.561000000000002e-05]\n",
      "Average loss: 0.418897, Train accuracy: 0.866550, Val accuracy: 0.864651\n",
      "Epoch: 33 LR: [6.561000000000002e-05]\n",
      "Average loss: 0.415730, Train accuracy: 0.868051, Val accuracy: 0.860897\n",
      "Epoch: 34 LR: [6.561000000000002e-05]\n",
      "Average loss: 0.410290, Train accuracy: 0.869860, Val accuracy: 0.863832\n",
      "Epoch: 35 LR: [6.561000000000002e-05]\n",
      "Average loss: 0.406141, Train accuracy: 0.871344, Val accuracy: 0.863968\n",
      "Epoch: 36 LR: [6.561000000000002e-05]\n",
      "Average loss: 0.406693, Train accuracy: 0.871225, Val accuracy: 0.866357\n",
      "Epoch: 37 LR: [6.561000000000002e-05]\n",
      "Average loss: 0.400890, Train accuracy: 0.873170, Val accuracy: 0.864992\n",
      "Epoch: 38 LR: [6.561000000000002e-05]\n",
      "Average loss: 0.398650, Train accuracy: 0.873870, Val accuracy: 0.864173\n",
      "Epoch: 39 LR: [5.314410000000002e-05]\n",
      "Average loss: 0.387339, Train accuracy: 0.876958, Val accuracy: 0.864241\n",
      "Epoch: 40 LR: [5.904900000000002e-05]\n",
      "Average loss: 0.384380, Train accuracy: 0.878187, Val accuracy: 0.861784\n",
      "Epoch: 41 LR: [5.904900000000002e-05]\n",
      "Average loss: 0.380645, Train accuracy: 0.878630, Val accuracy: 0.867176\n",
      "Epoch: 42 LR: [5.904900000000002e-05]\n",
      "Average loss: 0.377495, Train accuracy: 0.879654, Val accuracy: 0.867722\n",
      "Epoch: 43 LR: [5.904900000000002e-05]\n",
      "Average loss: 0.376345, Train accuracy: 0.881053, Val accuracy: 0.864241\n",
      "Epoch: 44 LR: [5.904900000000002e-05]\n",
      "Average loss: 0.374749, Train accuracy: 0.880627, Val accuracy: 0.868951\n",
      "Epoch: 45 LR: [5.904900000000002e-05]\n",
      "Average loss: 0.373080, Train accuracy: 0.879842, Val accuracy: 0.863081\n",
      "Epoch: 46 LR: [5.904900000000002e-05]\n",
      "Average loss: 0.371612, Train accuracy: 0.881975, Val accuracy: 0.871067\n",
      "Epoch: 47 LR: [4.782969000000002e-05]\n",
      "Average loss: 0.361191, Train accuracy: 0.885080, Val accuracy: 0.869906\n",
      "Epoch: 48 LR: [5.314410000000002e-05]\n",
      "Average loss: 0.357633, Train accuracy: 0.887520, Val accuracy: 0.871476\n",
      "Epoch: 49 LR: [5.314410000000002e-05]\n",
      "Average loss: 0.351356, Train accuracy: 0.886957, Val accuracy: 0.869292\n",
      "Epoch: 50 LR: [5.314410000000002e-05]\n",
      "Average loss: 0.355845, Train accuracy: 0.886206, Val accuracy: 0.870521\n",
      "Epoch: 51 LR: [5.314410000000002e-05]\n",
      "Average loss: 0.356473, Train accuracy: 0.885643, Val accuracy: 0.872568\n",
      "Epoch: 52 LR: [5.314410000000002e-05]\n",
      "Average loss: 0.351714, Train accuracy: 0.888288, Val accuracy: 0.873797\n",
      "Epoch: 53 LR: [5.314410000000002e-05]\n",
      "Average loss: 0.346321, Train accuracy: 0.890114, Val accuracy: 0.870999\n",
      "Epoch: 54 LR: [5.314410000000002e-05]\n",
      "Average loss: 0.343404, Train accuracy: 0.890677, Val accuracy: 0.867040\n",
      "Epoch: 55 LR: [4.304672100000002e-05]\n",
      "Average loss: 0.337542, Train accuracy: 0.891035, Val accuracy: 0.868746\n",
      "Epoch: 56 LR: [4.782969000000002e-05]\n",
      "Average loss: 0.333720, Train accuracy: 0.893185, Val accuracy: 0.870453\n",
      "Epoch: 57 LR: [4.782969000000002e-05]\n",
      "Average loss: 0.332243, Train accuracy: 0.893236, Val accuracy: 0.873797\n",
      "Epoch: 58 LR: [4.782969000000002e-05]\n",
      "Average loss: 0.332283, Train accuracy: 0.893868, Val accuracy: 0.873387\n",
      "Epoch: 59 LR: [4.782969000000002e-05]\n",
      "Average loss: 0.325551, Train accuracy: 0.896785, Val accuracy: 0.874275\n",
      "Epoch: 60 LR: [4.782969000000002e-05]\n",
      "Average loss: 0.326963, Train accuracy: 0.896120, Val accuracy: 0.869292\n",
      "Epoch: 61 LR: [4.782969000000002e-05]\n",
      "Average loss: 0.325852, Train accuracy: 0.894379, Val accuracy: 0.873183\n",
      "Epoch: 62 LR: [4.782969000000002e-05]\n",
      "Average loss: 0.323141, Train accuracy: 0.897468, Val accuracy: 0.875913\n",
      "Epoch: 63 LR: [3.874204890000002e-05]\n",
      "Average loss: 0.315659, Train accuracy: 0.897741, Val accuracy: 0.873387\n",
      "Epoch: 64 LR: [4.304672100000002e-05]\n",
      "Average loss: 0.316402, Train accuracy: 0.897758, Val accuracy: 0.872091\n",
      "Epoch: 65 LR: [4.304672100000002e-05]\n",
      "Average loss: 0.316398, Train accuracy: 0.899157, Val accuracy: 0.875094\n",
      "Epoch: 66 LR: [4.304672100000002e-05]\n",
      "Average loss: 0.313996, Train accuracy: 0.899464, Val accuracy: 0.874002\n",
      "Epoch: 67 LR: [4.304672100000002e-05]\n",
      "Average loss: 0.308502, Train accuracy: 0.902194, Val accuracy: 0.874411\n",
      "Epoch: 68 LR: [4.304672100000002e-05]\n",
      "Average loss: 0.309658, Train accuracy: 0.899379, Val accuracy: 0.872091\n",
      "Epoch: 69 LR: [4.304672100000002e-05]\n",
      "Average loss: 0.309476, Train accuracy: 0.901358, Val accuracy: 0.874821\n",
      "Epoch: 70 LR: [4.304672100000002e-05]\n",
      "Average loss: 0.309344, Train accuracy: 0.901324, Val accuracy: 0.874889\n",
      "Epoch: 71 LR: [3.4867844010000016e-05]\n",
      "Average loss: 0.297876, Train accuracy: 0.905249, Val accuracy: 0.877141\n",
      "Epoch: 72 LR: [3.874204890000002e-05]\n",
      "Average loss: 0.299008, Train accuracy: 0.904481, Val accuracy: 0.874548\n",
      "Epoch: 73 LR: [3.874204890000002e-05]\n",
      "Average loss: 0.295260, Train accuracy: 0.903781, Val accuracy: 0.876732\n",
      "Epoch: 74 LR: [3.874204890000002e-05]\n",
      "Average loss: 0.293218, Train accuracy: 0.905692, Val accuracy: 0.875367\n",
      "Epoch: 75 LR: [3.874204890000002e-05]\n",
      "Average loss: 0.292394, Train accuracy: 0.906392, Val accuracy: 0.880281\n",
      "Epoch: 76 LR: [3.874204890000002e-05]\n",
      "Average loss: 0.291134, Train accuracy: 0.906358, Val accuracy: 0.878780\n",
      "Epoch: 77 LR: [3.874204890000002e-05]\n"
     ]
    },
    {
     "name": "stdout",
     "output_type": "stream",
     "text": [
      "Average loss: 0.292579, Train accuracy: 0.906068, Val accuracy: 0.876322\n",
      "Epoch: 78 LR: [3.874204890000002e-05]\n",
      "Average loss: 0.290955, Train accuracy: 0.905795, Val accuracy: 0.871749\n",
      "Epoch: 79 LR: [3.138105960900002e-05]\n",
      "Average loss: 0.284263, Train accuracy: 0.907006, Val accuracy: 0.878643\n",
      "Epoch: 80 LR: [3.4867844010000016e-05]\n",
      "Average loss: 0.283228, Train accuracy: 0.908559, Val accuracy: 0.880896\n",
      "Epoch: 81 LR: [3.4867844010000016e-05]\n",
      "Average loss: 0.279622, Train accuracy: 0.910146, Val accuracy: 0.872773\n",
      "Epoch: 82 LR: [3.4867844010000016e-05]\n",
      "Average loss: 0.277961, Train accuracy: 0.910760, Val accuracy: 0.877210\n",
      "Epoch: 83 LR: [3.4867844010000016e-05]\n",
      "Average loss: 0.277747, Train accuracy: 0.910606, Val accuracy: 0.876595\n",
      "Epoch: 84 LR: [3.4867844010000016e-05]\n",
      "Average loss: 0.278070, Train accuracy: 0.910777, Val accuracy: 0.878575\n",
      "Epoch: 85 LR: [3.4867844010000016e-05]\n",
      "Average loss: 0.274970, Train accuracy: 0.910743, Val accuracy: 0.876732\n",
      "Epoch: 86 LR: [3.4867844010000016e-05]\n",
      "Average loss: 0.275565, Train accuracy: 0.911596, Val accuracy: 0.878507\n",
      "Epoch: 87 LR: [2.8242953648100018e-05]\n",
      "Average loss: 0.272149, Train accuracy: 0.913029, Val accuracy: 0.878711\n",
      "Epoch: 88 LR: [3.138105960900002e-05]\n",
      "Average loss: 0.263267, Train accuracy: 0.916152, Val accuracy: 0.877688\n",
      "Epoch: 89 LR: [3.138105960900002e-05]\n",
      "Average loss: 0.265928, Train accuracy: 0.914906, Val accuracy: 0.876527\n",
      "Epoch: 90 LR: [3.138105960900002e-05]\n",
      "Average loss: 0.266671, Train accuracy: 0.914616, Val accuracy: 0.877551\n",
      "Epoch: 91 LR: [3.138105960900002e-05]\n",
      "Average loss: 0.265412, Train accuracy: 0.914497, Val accuracy: 0.873114\n",
      "Epoch: 92 LR: [3.138105960900002e-05]\n",
      "Average loss: 0.263718, Train accuracy: 0.915452, Val accuracy: 0.876391\n",
      "Epoch: 93 LR: [3.138105960900002e-05]\n",
      "Average loss: 0.264980, Train accuracy: 0.913831, Val accuracy: 0.875299\n",
      "Epoch: 94 LR: [3.138105960900002e-05]\n",
      "Average loss: 0.260603, Train accuracy: 0.915452, Val accuracy: 0.880008\n",
      "Epoch: 95 LR: [2.5418658283290016e-05]\n",
      "Average loss: 0.259900, Train accuracy: 0.916220, Val accuracy: 0.877756\n",
      "Epoch: 96 LR: [2.8242953648100018e-05]\n",
      "Average loss: 0.258937, Train accuracy: 0.916340, Val accuracy: 0.880213\n",
      "Epoch: 97 LR: [2.8242953648100018e-05]\n",
      "Average loss: 0.258059, Train accuracy: 0.916050, Val accuracy: 0.879872\n",
      "Epoch: 98 LR: [2.8242953648100018e-05]\n",
      "Average loss: 0.255038, Train accuracy: 0.916203, Val accuracy: 0.879599\n",
      "Epoch: 99 LR: [2.8242953648100018e-05]\n",
      "Average loss: 0.254000, Train accuracy: 0.917551, Val accuracy: 0.881305\n",
      "CPU times: user 5min 6s, sys: 1min 7s, total: 6min 14s\n",
      "Wall time: 6min 43s\n"
     ]
    }
   ],
   "source": [
    "%%time\n",
    "# Experiment here!\n",
    "nn_model = nn.Sequential(\n",
    "            Flattener(),\n",
    "            nn.Linear(3*32*32, 512),\n",
    "            nn.ReLU(inplace=True),\n",
    "            nn.BatchNorm1d(512),\n",
    "            nn.Dropout(p=0.2),\n",
    "            nn.Linear(512, 128),\n",
    "            nn.ReLU(inplace=True),\n",
    "            nn.BatchNorm1d(128),\n",
    "            nn.Dropout(p=0.2),\n",
    "            nn.Linear(128, 10), \n",
    ")\n",
    "nn_model.cuda()\n",
    "loss = nn.CrossEntropyLoss().type(torch.FloatTensor)\n",
    "#optimizer = optim.SGD(nn_model.parameters(), lr=1e-3, weight_decay=1e-1, momentum=0.9, nesterov=True)\n",
    "optimizer = optim.Adam(nn_model.parameters(), lr=1e-4, weight_decay=1e-4)\n",
    "lr_scheduler = optim.lr_scheduler.StepLR(optimizer, step_size=8, gamma=0.9)\n",
    "#lr_lambda = lambda x: 0.5**(x//2)\n",
    "#lr_scheduler = optim.lr_scheduler.LambdaLR(optimizer, lr_lambda=lr_lambda)\n",
    "loss_history, train_history, val_history = train_model(nn_model, train_loader, val_loader, loss, \n",
    "                                                       optimizer, 100, lr_scheduler, True)"
   ]
  },
  {
   "cell_type": "code",
   "execution_count": 40,
   "metadata": {
    "ExecuteTime": {
     "end_time": "2019-07-10T19:39:53.487956Z",
     "start_time": "2019-07-10T19:39:53.231523Z"
    }
   },
   "outputs": [
    {
     "data": {
      "image/png": "[encoded data removed]",
      "text/plain": [
       "<Figure size 720x576 with 2 Axes>"
      ]
     },
     "metadata": {
      "needs_background": "light"
     },
     "output_type": "display_data"
    }
   ],
   "source": [
    "fig, ax = plt.subplots(nrows=2, ncols=1, figsize=(10,8))\n",
    "ax[0].plot(loss_history)\n",
    "ax[1].plot(train_history, label='train')\n",
    "ax[1].plot(val_history, label='valid')\n",
    "ax[0].set_title('Loss')\n",
    "ax[1].set_title('Accuracy')\n",
    "plt.legend()\n",
    "plt.show()"
   ]
  },
  {
   "cell_type": "code",
   "execution_count": 41,
   "metadata": {
    "ExecuteTime": {
     "end_time": "2019-07-10T19:39:59.758060Z",
     "start_time": "2019-07-10T19:39:58.862892Z"
    }
   },
   "outputs": [
    {
     "name": "stdout",
     "output_type": "stream",
     "text": [
      "Test accuracy: 0.8662\n"
     ]
    }
   ],
   "source": [
    "# Как всегда, в конце проверяем на test set\n",
    "test_loader = torch.utils.data.DataLoader(data_test, batch_size=batch_size, num_workers=8)\n",
    "test_accuracy = compute_accuracy(nn_model, test_loader, True)\n",
    "print(\"Test accuracy: %2.4f\" % test_accuracy)"
   ]
  },
  {
   "cell_type": "code",
   "execution_count": 46,
   "metadata": {
    "ExecuteTime": {
     "end_time": "2019-07-10T19:58:19.548997Z",
     "start_time": "2019-07-10T19:51:23.949817Z"
    },
    "scrolled": true
   },
   "outputs": [
    {
     "name": "stdout",
     "output_type": "stream",
     "text": [
      "Epoch: 0 LR: [0.0001]\n",
      "Average loss: 1.612798, Train accuracy: 0.501809, Val accuracy: 0.677223\n",
      "Epoch: 1 LR: [0.0001]\n",
      "Average loss: 1.104446, Train accuracy: 0.666263, Val accuracy: 0.715105\n",
      "Epoch: 2 LR: [0.0001]\n",
      "Average loss: 0.929835, Train accuracy: 0.714330, Val accuracy: 0.764385\n",
      "Epoch: 3 LR: [0.0001]\n",
      "Average loss: 0.832181, Train accuracy: 0.741818, Val accuracy: 0.756740\n",
      "Epoch: 4 LR: [0.0001]\n",
      "Average loss: 0.768923, Train accuracy: 0.761543, Val accuracy: 0.786226\n",
      "Epoch: 5 LR: [0.0001]\n",
      "Average loss: 0.726256, Train accuracy: 0.773027, Val accuracy: 0.803904\n",
      "Epoch: 6 LR: [0.0001]\n",
      "Average loss: 0.694374, Train accuracy: 0.783862, Val accuracy: 0.803426\n",
      "Epoch: 7 LR: [6.400000000000001e-05]\n",
      "Average loss: 0.639396, Train accuracy: 0.800362, Val accuracy: 0.823903\n",
      "Epoch: 8 LR: [8e-05]\n",
      "Average loss: 0.620997, Train accuracy: 0.804849, Val accuracy: 0.813460\n",
      "Epoch: 9 LR: [8e-05]\n",
      "Average loss: 0.604911, Train accuracy: 0.812033, Val accuracy: 0.834346\n",
      "Epoch: 10 LR: [8e-05]\n",
      "Average loss: 0.589488, Train accuracy: 0.814541, Val accuracy: 0.836871\n",
      "Epoch: 11 LR: [8e-05]\n",
      "Average loss: 0.575252, Train accuracy: 0.819609, Val accuracy: 0.832435\n",
      "Epoch: 12 LR: [8e-05]\n",
      "Average loss: 0.569257, Train accuracy: 0.822100, Val accuracy: 0.839806\n",
      "Epoch: 13 LR: [8e-05]\n",
      "Average loss: 0.553020, Train accuracy: 0.825291, Val accuracy: 0.838100\n",
      "Epoch: 14 LR: [8e-05]\n",
      "Average loss: 0.544428, Train accuracy: 0.829386, Val accuracy: 0.842263\n",
      "Epoch: 15 LR: [5.120000000000001e-05]\n",
      "Average loss: 0.517833, Train accuracy: 0.840033, Val accuracy: 0.847246\n",
      "Epoch: 16 LR: [6.400000000000001e-05]\n",
      "Average loss: 0.505900, Train accuracy: 0.842729, Val accuracy: 0.854754\n",
      "Epoch: 17 LR: [6.400000000000001e-05]\n",
      "Average loss: 0.500943, Train accuracy: 0.841774, Val accuracy: 0.855983\n",
      "Epoch: 18 LR: [6.400000000000001e-05]\n",
      "Average loss: 0.490586, Train accuracy: 0.846859, Val accuracy: 0.852638\n",
      "Epoch: 19 LR: [6.400000000000001e-05]\n",
      "Average loss: 0.482264, Train accuracy: 0.848940, Val accuracy: 0.855846\n",
      "Epoch: 20 LR: [6.400000000000001e-05]\n",
      "Average loss: 0.482256, Train accuracy: 0.846603, Val accuracy: 0.857075\n",
      "Epoch: 21 LR: [6.400000000000001e-05]\n",
      "Average loss: 0.473959, Train accuracy: 0.851705, Val accuracy: 0.859054\n",
      "Epoch: 22 LR: [6.400000000000001e-05]\n",
      "Average loss: 0.469838, Train accuracy: 0.850220, Val accuracy: 0.858303\n",
      "Epoch: 23 LR: [4.0960000000000014e-05]\n",
      "Average loss: 0.450004, Train accuracy: 0.858973, Val accuracy: 0.857279\n",
      "Epoch: 24 LR: [5.120000000000001e-05]\n",
      "Average loss: 0.445073, Train accuracy: 0.860373, Val accuracy: 0.863832\n",
      "Epoch: 25 LR: [5.120000000000001e-05]\n",
      "Average loss: 0.442230, Train accuracy: 0.859622, Val accuracy: 0.859805\n",
      "Epoch: 26 LR: [5.120000000000001e-05]\n",
      "Average loss: 0.439092, Train accuracy: 0.861260, Val accuracy: 0.856392\n",
      "Epoch: 27 LR: [5.120000000000001e-05]\n",
      "Average loss: 0.430240, Train accuracy: 0.863854, Val accuracy: 0.862535\n",
      "Epoch: 28 LR: [5.120000000000001e-05]\n",
      "Average loss: 0.427961, Train accuracy: 0.863632, Val accuracy: 0.864173\n",
      "Epoch: 29 LR: [5.120000000000001e-05]\n",
      "Average loss: 0.426577, Train accuracy: 0.865475, Val accuracy: 0.863695\n",
      "Epoch: 30 LR: [5.120000000000001e-05]\n",
      "Average loss: 0.419006, Train accuracy: 0.866908, Val accuracy: 0.858508\n",
      "Epoch: 31 LR: [3.2768000000000016e-05]\n",
      "Average loss: 0.399118, Train accuracy: 0.874569, Val accuracy: 0.866903\n",
      "Epoch: 32 LR: [4.0960000000000014e-05]\n",
      "Average loss: 0.398637, Train accuracy: 0.875200, Val accuracy: 0.866221\n",
      "Epoch: 33 LR: [4.0960000000000014e-05]\n",
      "Average loss: 0.394763, Train accuracy: 0.875115, Val accuracy: 0.868746\n",
      "Epoch: 34 LR: [4.0960000000000014e-05]\n",
      "Average loss: 0.394072, Train accuracy: 0.876241, Val accuracy: 0.867245\n",
      "Epoch: 35 LR: [4.0960000000000014e-05]\n",
      "Average loss: 0.391018, Train accuracy: 0.876736, Val accuracy: 0.868883\n",
      "Epoch: 36 LR: [4.0960000000000014e-05]\n",
      "Average loss: 0.388323, Train accuracy: 0.877436, Val accuracy: 0.863764\n",
      "Epoch: 37 LR: [4.0960000000000014e-05]\n",
      "Average loss: 0.384955, Train accuracy: 0.878340, Val accuracy: 0.869156\n",
      "Epoch: 38 LR: [4.0960000000000014e-05]\n",
      "Average loss: 0.380457, Train accuracy: 0.879790, Val accuracy: 0.867722\n",
      "Epoch: 39 LR: [2.6214400000000015e-05]\n",
      "Average loss: 0.370604, Train accuracy: 0.882725, Val accuracy: 0.870521\n",
      "Epoch: 40 LR: [3.2768000000000016e-05]\n",
      "Average loss: 0.359771, Train accuracy: 0.886155, Val accuracy: 0.869565\n",
      "Epoch: 41 LR: [3.2768000000000016e-05]\n",
      "Average loss: 0.359881, Train accuracy: 0.886650, Val accuracy: 0.870043\n",
      "Epoch: 42 LR: [3.2768000000000016e-05]\n",
      "Average loss: 0.361466, Train accuracy: 0.884278, Val accuracy: 0.870453\n",
      "Epoch: 43 LR: [3.2768000000000016e-05]\n",
      "Average loss: 0.357280, Train accuracy: 0.886172, Val accuracy: 0.871476\n",
      "Epoch: 44 LR: [3.2768000000000016e-05]\n",
      "Average loss: 0.354194, Train accuracy: 0.888117, Val accuracy: 0.867859\n",
      "Epoch: 45 LR: [3.2768000000000016e-05]\n",
      "Average loss: 0.353891, Train accuracy: 0.888595, Val accuracy: 0.871340\n",
      "Epoch: 46 LR: [3.2768000000000016e-05]\n",
      "Average loss: 0.355003, Train accuracy: 0.888066, Val accuracy: 0.871749\n",
      "Epoch: 47 LR: [2.0971520000000012e-05]\n",
      "Average loss: 0.340035, Train accuracy: 0.891632, Val accuracy: 0.870111\n",
      "Epoch: 48 LR: [2.6214400000000015e-05]\n",
      "Average loss: 0.337721, Train accuracy: 0.891820, Val accuracy: 0.872705\n",
      "Epoch: 49 LR: [2.6214400000000015e-05]\n",
      "Average loss: 0.339515, Train accuracy: 0.891888, Val accuracy: 0.875776\n",
      "Epoch: 50 LR: [2.6214400000000015e-05]\n",
      "Average loss: 0.338357, Train accuracy: 0.892178, Val accuracy: 0.873251\n",
      "Epoch: 51 LR: [2.6214400000000015e-05]\n",
      "Average loss: 0.335710, Train accuracy: 0.893577, Val accuracy: 0.871340\n",
      "Epoch: 52 LR: [2.6214400000000015e-05]\n",
      "Average loss: 0.330763, Train accuracy: 0.895062, Val accuracy: 0.871886\n",
      "Epoch: 53 LR: [2.6214400000000015e-05]\n",
      "Average loss: 0.327943, Train accuracy: 0.896086, Val accuracy: 0.874343\n",
      "Epoch: 54 LR: [2.6214400000000015e-05]\n",
      "Average loss: 0.328819, Train accuracy: 0.895847, Val accuracy: 0.872978\n",
      "Epoch: 55 LR: [1.677721600000001e-05]\n",
      "Average loss: 0.318209, Train accuracy: 0.898799, Val accuracy: 0.875230\n",
      "Epoch: 56 LR: [2.0971520000000012e-05]\n",
      "Average loss: 0.315962, Train accuracy: 0.900027, Val accuracy: 0.874207\n",
      "Epoch: 57 LR: [2.0971520000000012e-05]\n",
      "Average loss: 0.318950, Train accuracy: 0.899311, Val accuracy: 0.877346\n",
      "Epoch: 58 LR: [2.0971520000000012e-05]\n",
      "Average loss: 0.318954, Train accuracy: 0.898167, Val accuracy: 0.878780\n",
      "Epoch: 59 LR: [2.0971520000000012e-05]\n",
      "Average loss: 0.311988, Train accuracy: 0.899379, Val accuracy: 0.876595\n",
      "Epoch: 60 LR: [2.0971520000000012e-05]\n",
      "Average loss: 0.310390, Train accuracy: 0.901990, Val accuracy: 0.876937\n",
      "Epoch: 61 LR: [2.0971520000000012e-05]\n",
      "Average loss: 0.310656, Train accuracy: 0.900027, Val accuracy: 0.877210\n",
      "Epoch: 62 LR: [2.0971520000000012e-05]\n",
      "Average loss: 0.311906, Train accuracy: 0.900744, Val accuracy: 0.876527\n",
      "Epoch: 63 LR: [1.3421772800000009e-05]\n",
      "Average loss: 0.305941, Train accuracy: 0.901324, Val accuracy: 0.878302\n",
      "Epoch: 64 LR: [1.677721600000001e-05]\n",
      "Average loss: 0.300992, Train accuracy: 0.903269, Val accuracy: 0.877415\n",
      "Epoch: 65 LR: [1.677721600000001e-05]\n",
      "Average loss: 0.301678, Train accuracy: 0.903218, Val accuracy: 0.876322\n",
      "Epoch: 66 LR: [1.677721600000001e-05]\n",
      "Average loss: 0.300509, Train accuracy: 0.903884, Val accuracy: 0.875572\n",
      "Epoch: 67 LR: [1.677721600000001e-05]\n",
      "Average loss: 0.298233, Train accuracy: 0.905249, Val accuracy: 0.874138\n",
      "Epoch: 68 LR: [1.677721600000001e-05]\n",
      "Average loss: 0.298296, Train accuracy: 0.904856, Val accuracy: 0.877619\n",
      "Epoch: 69 LR: [1.677721600000001e-05]\n",
      "Average loss: 0.294094, Train accuracy: 0.905573, Val accuracy: 0.876868\n",
      "Epoch: 70 LR: [1.677721600000001e-05]\n",
      "Average loss: 0.293227, Train accuracy: 0.905931, Val accuracy: 0.877551\n",
      "Epoch: 71 LR: [1.0737418240000008e-05]\n",
      "Average loss: 0.288800, Train accuracy: 0.908474, Val accuracy: 0.876527\n",
      "Epoch: 72 LR: [1.3421772800000009e-05]\n",
      "Average loss: 0.287307, Train accuracy: 0.908712, Val accuracy: 0.879121\n",
      "Epoch: 73 LR: [1.3421772800000009e-05]\n",
      "Average loss: 0.286773, Train accuracy: 0.907979, Val accuracy: 0.877005\n",
      "Epoch: 74 LR: [1.3421772800000009e-05]\n",
      "Average loss: 0.282448, Train accuracy: 0.909395, Val accuracy: 0.877551\n",
      "Epoch: 75 LR: [1.3421772800000009e-05]\n",
      "Average loss: 0.286167, Train accuracy: 0.908081, Val accuracy: 0.878643\n",
      "Epoch: 76 LR: [1.3421772800000009e-05]\n"
     ]
    },
    {
     "name": "stdout",
     "output_type": "stream",
     "text": [
      "Average loss: 0.283765, Train accuracy: 0.910385, Val accuracy: 0.878234\n",
      "Epoch: 77 LR: [1.3421772800000009e-05]\n",
      "Average loss: 0.282337, Train accuracy: 0.910487, Val accuracy: 0.879599\n",
      "Epoch: 78 LR: [1.3421772800000009e-05]\n",
      "Average loss: 0.286633, Train accuracy: 0.908934, Val accuracy: 0.879667\n",
      "Epoch: 79 LR: [8.589934592000007e-06]\n",
      "Average loss: 0.277511, Train accuracy: 0.912040, Val accuracy: 0.879599\n",
      "Epoch: 80 LR: [1.0737418240000008e-05]\n",
      "Average loss: 0.276544, Train accuracy: 0.912125, Val accuracy: 0.876527\n",
      "Epoch: 81 LR: [1.0737418240000008e-05]\n",
      "Average loss: 0.275062, Train accuracy: 0.913098, Val accuracy: 0.878370\n",
      "Epoch: 82 LR: [1.0737418240000008e-05]\n",
      "Average loss: 0.273444, Train accuracy: 0.912125, Val accuracy: 0.878507\n",
      "Epoch: 83 LR: [1.0737418240000008e-05]\n",
      "Average loss: 0.276831, Train accuracy: 0.911323, Val accuracy: 0.877346\n",
      "Epoch: 84 LR: [1.0737418240000008e-05]\n",
      "Average loss: 0.273755, Train accuracy: 0.911204, Val accuracy: 0.879053\n",
      "Epoch: 85 LR: [1.0737418240000008e-05]\n",
      "Average loss: 0.271203, Train accuracy: 0.913678, Val accuracy: 0.879530\n",
      "Epoch: 86 LR: [1.0737418240000008e-05]\n",
      "Average loss: 0.274507, Train accuracy: 0.910692, Val accuracy: 0.878575\n",
      "Epoch: 87 LR: [6.871947673600007e-06]\n",
      "Average loss: 0.267530, Train accuracy: 0.914855, Val accuracy: 0.879940\n",
      "Epoch: 88 LR: [8.589934592000007e-06]\n",
      "Average loss: 0.266184, Train accuracy: 0.913251, Val accuracy: 0.879872\n",
      "Epoch: 89 LR: [8.589934592000007e-06]\n",
      "Average loss: 0.272026, Train accuracy: 0.912722, Val accuracy: 0.879257\n",
      "Epoch: 90 LR: [8.589934592000007e-06]\n",
      "Average loss: 0.266896, Train accuracy: 0.914667, Val accuracy: 0.879189\n",
      "Epoch: 91 LR: [8.589934592000007e-06]\n",
      "Average loss: 0.266468, Train accuracy: 0.913951, Val accuracy: 0.880213\n",
      "Epoch: 92 LR: [8.589934592000007e-06]\n",
      "Average loss: 0.267705, Train accuracy: 0.914463, Val accuracy: 0.878507\n",
      "Epoch: 93 LR: [8.589934592000007e-06]\n",
      "Average loss: 0.264893, Train accuracy: 0.915811, Val accuracy: 0.880281\n",
      "Epoch: 94 LR: [8.589934592000007e-06]\n",
      "Average loss: 0.264150, Train accuracy: 0.915094, Val accuracy: 0.880213\n",
      "Epoch: 95 LR: [5.4975581388800055e-06]\n",
      "Average loss: 0.261328, Train accuracy: 0.916596, Val accuracy: 0.879394\n",
      "Epoch: 96 LR: [6.871947673600007e-06]\n",
      "Average loss: 0.261519, Train accuracy: 0.915452, Val accuracy: 0.878643\n",
      "Epoch: 97 LR: [6.871947673600007e-06]\n",
      "Average loss: 0.261330, Train accuracy: 0.916135, Val accuracy: 0.880827\n",
      "Epoch: 98 LR: [6.871947673600007e-06]\n",
      "Average loss: 0.257268, Train accuracy: 0.917875, Val accuracy: 0.880418\n",
      "Epoch: 99 LR: [6.871947673600007e-06]\n",
      "Average loss: 0.260377, Train accuracy: 0.916817, Val accuracy: 0.880964\n",
      "CPU times: user 5min 17s, sys: 1min 9s, total: 6min 27s\n",
      "Wall time: 6min 55s\n"
     ]
    }
   ],
   "source": [
    "%%time\n",
    "# Experiment here!\n",
    "nn_model = nn.Sequential(\n",
    "            Flattener(),\n",
    "            nn.Linear(3*32*32, 512),\n",
    "            nn.ReLU(inplace=True),\n",
    "            nn.BatchNorm1d(512),\n",
    "            nn.Dropout(p=0.2),\n",
    "            nn.Linear(512, 128),\n",
    "            nn.ReLU(inplace=True),\n",
    "            nn.BatchNorm1d(128),\n",
    "            nn.Dropout(p=0.2),\n",
    "            nn.Linear(128, 10), \n",
    ")\n",
    "nn_model.cuda()\n",
    "loss = nn.CrossEntropyLoss().type(torch.FloatTensor)\n",
    "#optimizer = optim.SGD(nn_model.parameters(), lr=1e-3, weight_decay=1e-1, momentum=0.9, nesterov=True)\n",
    "optimizer = optim.Adam(nn_model.parameters(), lr=1e-4, weight_decay=1e-5)\n",
    "lr_scheduler = optim.lr_scheduler.StepLR(optimizer, step_size=8, gamma=0.8)\n",
    "#lr_lambda = lambda x: 0.5**(x//2)\n",
    "#lr_scheduler = optim.lr_scheduler.LambdaLR(optimizer, lr_lambda=lr_lambda)\n",
    "loss_history, train_history, val_history = train_model(nn_model, train_loader, val_loader, loss, \n",
    "                                                       optimizer, 100, lr_scheduler, True)"
   ]
  },
  {
   "cell_type": "code",
   "execution_count": 47,
   "metadata": {
    "ExecuteTime": {
     "end_time": "2019-07-10T19:58:34.199571Z",
     "start_time": "2019-07-10T19:58:33.992343Z"
    }
   },
   "outputs": [
    {
     "data": {
      "image/png": "[encoded data removed]",
      "text/plain": [
       "<Figure size 720x576 with 2 Axes>"
      ]
     },
     "metadata": {
      "needs_background": "light"
     },
     "output_type": "display_data"
    }
   ],
   "source": [
    "fig, ax = plt.subplots(nrows=2, ncols=1, figsize=(10,8))\n",
    "ax[0].plot(loss_history)\n",
    "ax[1].plot(train_history, label='train')\n",
    "ax[1].plot(val_history, label='valid')\n",
    "ax[0].set_title('Loss')\n",
    "ax[1].set_title('Accuracy')\n",
    "plt.legend()\n",
    "plt.show()"
   ]
  },
  {
   "cell_type": "code",
   "execution_count": 48,
   "metadata": {
    "ExecuteTime": {
     "end_time": "2019-07-10T19:58:38.760524Z",
     "start_time": "2019-07-10T19:58:37.877669Z"
    }
   },
   "outputs": [
    {
     "name": "stdout",
     "output_type": "stream",
     "text": [
      "Test accuracy: 0.8669\n"
     ]
    }
   ],
   "source": [
    "# Как всегда, в конце проверяем на test set\n",
    "test_loader = torch.utils.data.DataLoader(data_test, batch_size=batch_size, num_workers=8)\n",
    "test_accuracy = compute_accuracy(nn_model, test_loader, True)\n",
    "print(\"Test accuracy: %2.4f\" % test_accuracy)"
   ]
  },
  {
   "cell_type": "code",
   "execution_count": 49,
   "metadata": {
    "ExecuteTime": {
     "end_time": "2019-07-10T20:23:45.451719Z",
     "start_time": "2019-07-10T20:23:45.436709Z"
    }
   },
   "outputs": [],
   "source": [
    "batch_size = 128\n",
    "\n",
    "data_size = data_train.data.shape[0]\n",
    "validation_split = .2\n",
    "split = int(np.floor(validation_split * data_size))\n",
    "indices = list(range(data_size))\n",
    "np.random.shuffle(indices)\n",
    "\n",
    "train_indices, val_indices = indices[split:], indices[:split]\n",
    "\n",
    "train_sampler = SubsetRandomSampler(train_indices)\n",
    "val_sampler = SubsetRandomSampler(val_indices)\n",
    "\n",
    "train_loader = torch.utils.data.DataLoader(data_train, \n",
    "                                           batch_size=batch_size, \n",
    "                                           sampler=train_sampler,\n",
    "                                           num_workers=10)\n",
    "val_loader = torch.utils.data.DataLoader(data_train, \n",
    "                                         batch_size=batch_size,\n",
    "                                         sampler=val_sampler,\n",
    "                                         num_workers=10)"
   ]
  },
  {
   "cell_type": "code",
   "execution_count": 50,
   "metadata": {
    "ExecuteTime": {
     "end_time": "2019-07-10T20:28:36.142450Z",
     "start_time": "2019-07-10T20:23:48.876687Z"
    },
    "scrolled": true
   },
   "outputs": [
    {
     "name": "stdout",
     "output_type": "stream",
     "text": [
      "Epoch: 0 LR: [0.0001]\n",
      "Average loss: 1.677817, Train accuracy: 0.493567, Val accuracy: 0.668009\n",
      "Epoch: 1 LR: [0.0001]\n",
      "Average loss: 1.133245, Train accuracy: 0.670085, Val accuracy: 0.727527\n",
      "Epoch: 2 LR: [0.0001]\n",
      "Average loss: 0.932668, Train accuracy: 0.721138, Val accuracy: 0.755034\n",
      "Epoch: 3 LR: [0.0001]\n",
      "Average loss: 0.829619, Train accuracy: 0.746647, Val accuracy: 0.764589\n",
      "Epoch: 4 LR: [0.0001]\n",
      "Average loss: 0.756558, Train accuracy: 0.767293, Val accuracy: 0.783564\n",
      "Epoch: 5 LR: [0.0001]\n",
      "Average loss: 0.706269, Train accuracy: 0.781729, Val accuracy: 0.802198\n",
      "Epoch: 6 LR: [0.0001]\n",
      "Average loss: 0.674107, Train accuracy: 0.789356, Val accuracy: 0.801857\n",
      "Epoch: 7 LR: [6.400000000000001e-05]\n",
      "Average loss: 0.628839, Train accuracy: 0.803911, Val accuracy: 0.813528\n",
      "Epoch: 8 LR: [8e-05]\n",
      "Average loss: 0.603249, Train accuracy: 0.810941, Val accuracy: 0.823357\n",
      "Epoch: 9 LR: [8e-05]\n",
      "Average loss: 0.582324, Train accuracy: 0.818688, Val accuracy: 0.832162\n",
      "Epoch: 10 LR: [8e-05]\n",
      "Average loss: 0.571647, Train accuracy: 0.820940, Val accuracy: 0.831070\n",
      "Epoch: 11 LR: [8e-05]\n",
      "Average loss: 0.561977, Train accuracy: 0.825427, Val accuracy: 0.836325\n",
      "Epoch: 12 LR: [8e-05]\n",
      "Average loss: 0.548222, Train accuracy: 0.828243, Val accuracy: 0.832844\n",
      "Epoch: 13 LR: [8e-05]\n",
      "Average loss: 0.530080, Train accuracy: 0.834880, Val accuracy: 0.839328\n",
      "Epoch: 14 LR: [8e-05]\n",
      "Average loss: 0.519740, Train accuracy: 0.837815, Val accuracy: 0.846427\n",
      "Epoch: 15 LR: [5.120000000000001e-05]\n",
      "Average loss: 0.499213, Train accuracy: 0.842456, Val accuracy: 0.849771\n",
      "Epoch: 16 LR: [6.400000000000001e-05]\n",
      "Average loss: 0.491656, Train accuracy: 0.846125, Val accuracy: 0.845881\n",
      "Epoch: 17 LR: [6.400000000000001e-05]\n",
      "Average loss: 0.484706, Train accuracy: 0.847029, Val accuracy: 0.845949\n",
      "Epoch: 18 LR: [6.400000000000001e-05]\n",
      "Average loss: 0.471732, Train accuracy: 0.851978, Val accuracy: 0.853184\n",
      "Epoch: 19 LR: [6.400000000000001e-05]\n",
      "Average loss: 0.464937, Train accuracy: 0.854196, Val accuracy: 0.853730\n",
      "Epoch: 20 LR: [6.400000000000001e-05]\n",
      "Average loss: 0.461013, Train accuracy: 0.855117, Val accuracy: 0.852024\n",
      "Epoch: 21 LR: [6.400000000000001e-05]\n",
      "Average loss: 0.452432, Train accuracy: 0.856721, Val accuracy: 0.858781\n",
      "Epoch: 22 LR: [6.400000000000001e-05]\n",
      "Average loss: 0.445695, Train accuracy: 0.860117, Val accuracy: 0.854549\n",
      "Epoch: 23 LR: [4.0960000000000014e-05]\n",
      "Average loss: 0.430482, Train accuracy: 0.864195, Val accuracy: 0.863081\n",
      "Epoch: 24 LR: [5.120000000000001e-05]\n",
      "Average loss: 0.424618, Train accuracy: 0.867727, Val accuracy: 0.863218\n",
      "Epoch: 25 LR: [5.120000000000001e-05]\n",
      "Average loss: 0.419867, Train accuracy: 0.867078, Val accuracy: 0.861648\n",
      "Epoch: 26 LR: [5.120000000000001e-05]\n",
      "Average loss: 0.414158, Train accuracy: 0.871071, Val accuracy: 0.859327\n",
      "Epoch: 27 LR: [5.120000000000001e-05]\n",
      "Average loss: 0.411056, Train accuracy: 0.871071, Val accuracy: 0.862057\n",
      "Epoch: 28 LR: [5.120000000000001e-05]\n",
      "Average loss: 0.405600, Train accuracy: 0.873170, Val accuracy: 0.859054\n",
      "Epoch: 29 LR: [5.120000000000001e-05]\n",
      "Average loss: 0.405047, Train accuracy: 0.871447, Val accuracy: 0.861852\n",
      "Epoch: 30 LR: [5.120000000000001e-05]\n",
      "Average loss: 0.402596, Train accuracy: 0.873562, Val accuracy: 0.864037\n",
      "Epoch: 31 LR: [3.2768000000000016e-05]\n",
      "Average loss: 0.386423, Train accuracy: 0.878596, Val accuracy: 0.868746\n",
      "Epoch: 32 LR: [4.0960000000000014e-05]\n",
      "Average loss: 0.383860, Train accuracy: 0.878391, Val accuracy: 0.862808\n",
      "Epoch: 33 LR: [4.0960000000000014e-05]\n",
      "Average loss: 0.376717, Train accuracy: 0.880473, Val accuracy: 0.866152\n",
      "Epoch: 34 LR: [4.0960000000000014e-05]\n",
      "Average loss: 0.377487, Train accuracy: 0.879756, Val accuracy: 0.867722\n",
      "Epoch: 35 LR: [4.0960000000000014e-05]\n",
      "Average loss: 0.371546, Train accuracy: 0.883630, Val accuracy: 0.866289\n",
      "Epoch: 36 LR: [4.0960000000000014e-05]\n",
      "Average loss: 0.367855, Train accuracy: 0.883186, Val accuracy: 0.865538\n",
      "Epoch: 37 LR: [4.0960000000000014e-05]\n",
      "Average loss: 0.366601, Train accuracy: 0.885251, Val accuracy: 0.869019\n",
      "Epoch: 38 LR: [4.0960000000000014e-05]\n",
      "Average loss: 0.362648, Train accuracy: 0.884227, Val accuracy: 0.869360\n",
      "Epoch: 39 LR: [2.6214400000000015e-05]\n",
      "Average loss: 0.351358, Train accuracy: 0.889380, Val accuracy: 0.867859\n",
      "Epoch: 40 LR: [3.2768000000000016e-05]\n",
      "Average loss: 0.347096, Train accuracy: 0.891274, Val accuracy: 0.871272\n",
      "Epoch: 41 LR: [3.2768000000000016e-05]\n",
      "Average loss: 0.346418, Train accuracy: 0.891496, Val accuracy: 0.870111\n",
      "Epoch: 42 LR: [3.2768000000000016e-05]\n",
      "Average loss: 0.341839, Train accuracy: 0.891888, Val accuracy: 0.870930\n",
      "Epoch: 43 LR: [3.2768000000000016e-05]\n",
      "Average loss: 0.342831, Train accuracy: 0.891939, Val accuracy: 0.869770\n",
      "Epoch: 44 LR: [3.2768000000000016e-05]\n",
      "Average loss: 0.337717, Train accuracy: 0.894192, Val accuracy: 0.871886\n",
      "Epoch: 45 LR: [3.2768000000000016e-05]\n",
      "Average loss: 0.338416, Train accuracy: 0.892724, Val accuracy: 0.867176\n",
      "Epoch: 46 LR: [3.2768000000000016e-05]\n",
      "Average loss: 0.333718, Train accuracy: 0.895113, Val accuracy: 0.869224\n",
      "Epoch: 47 LR: [2.0971520000000012e-05]\n",
      "Average loss: 0.324053, Train accuracy: 0.897127, Val accuracy: 0.874275\n",
      "Epoch: 48 LR: [2.6214400000000015e-05]\n",
      "Average loss: 0.323441, Train accuracy: 0.897144, Val accuracy: 0.870862\n",
      "Epoch: 49 LR: [2.6214400000000015e-05]\n",
      "Average loss: 0.321054, Train accuracy: 0.897485, Val accuracy: 0.875162\n",
      "Epoch: 50 LR: [2.6214400000000015e-05]\n",
      "Average loss: 0.316805, Train accuracy: 0.899754, Val accuracy: 0.871272\n",
      "Epoch: 51 LR: [2.6214400000000015e-05]\n",
      "Average loss: 0.317423, Train accuracy: 0.899464, Val accuracy: 0.872364\n",
      "Epoch: 52 LR: [2.6214400000000015e-05]\n",
      "Average loss: 0.311319, Train accuracy: 0.901461, Val accuracy: 0.875845\n",
      "Epoch: 53 LR: [2.6214400000000015e-05]\n",
      "Average loss: 0.313255, Train accuracy: 0.899891, Val accuracy: 0.877005\n",
      "Epoch: 54 LR: [2.6214400000000015e-05]\n",
      "Average loss: 0.309333, Train accuracy: 0.902604, Val accuracy: 0.875162\n",
      "Epoch: 55 LR: [1.677721600000001e-05]\n",
      "Average loss: 0.302497, Train accuracy: 0.904071, Val accuracy: 0.875708\n",
      "Epoch: 56 LR: [2.0971520000000012e-05]\n",
      "Average loss: 0.303888, Train accuracy: 0.903764, Val accuracy: 0.876664\n",
      "Epoch: 57 LR: [2.0971520000000012e-05]\n",
      "Average loss: 0.297405, Train accuracy: 0.906358, Val accuracy: 0.873729\n",
      "Epoch: 58 LR: [2.0971520000000012e-05]\n",
      "Average loss: 0.298213, Train accuracy: 0.905249, Val accuracy: 0.873661\n",
      "Epoch: 59 LR: [2.0971520000000012e-05]\n",
      "Average loss: 0.299210, Train accuracy: 0.905726, Val accuracy: 0.873387\n",
      "Epoch: 60 LR: [2.0971520000000012e-05]\n",
      "Average loss: 0.295207, Train accuracy: 0.905982, Val accuracy: 0.876800\n",
      "Epoch: 61 LR: [2.0971520000000012e-05]\n",
      "Average loss: 0.297844, Train accuracy: 0.905931, Val accuracy: 0.877210\n",
      "Epoch: 62 LR: [2.0971520000000012e-05]\n",
      "Average loss: 0.294489, Train accuracy: 0.906597, Val accuracy: 0.876118\n",
      "Epoch: 63 LR: [1.3421772800000009e-05]\n",
      "Average loss: 0.289151, Train accuracy: 0.910436, Val accuracy: 0.877005\n",
      "Epoch: 64 LR: [1.677721600000001e-05]\n",
      "Average loss: 0.284125, Train accuracy: 0.909787, Val accuracy: 0.875162\n",
      "Epoch: 65 LR: [1.677721600000001e-05]\n",
      "Average loss: 0.284783, Train accuracy: 0.908661, Val accuracy: 0.877141\n",
      "Epoch: 66 LR: [1.677721600000001e-05]\n",
      "Average loss: 0.283141, Train accuracy: 0.909719, Val accuracy: 0.877551\n",
      "Epoch: 67 LR: [1.677721600000001e-05]\n",
      "Average loss: 0.283825, Train accuracy: 0.910794, Val accuracy: 0.875708\n",
      "Epoch: 68 LR: [1.677721600000001e-05]\n",
      "Average loss: 0.280785, Train accuracy: 0.910879, Val accuracy: 0.874548\n",
      "Epoch: 69 LR: [1.677721600000001e-05]\n",
      "Average loss: 0.284002, Train accuracy: 0.909190, Val accuracy: 0.877688\n",
      "Epoch: 70 LR: [1.677721600000001e-05]\n",
      "Average loss: 0.280590, Train accuracy: 0.911460, Val accuracy: 0.875776\n",
      "Epoch: 71 LR: [1.0737418240000008e-05]\n",
      "Average loss: 0.274124, Train accuracy: 0.913592, Val accuracy: 0.876868\n",
      "Epoch: 72 LR: [1.3421772800000009e-05]\n",
      "Average loss: 0.273005, Train accuracy: 0.912773, Val accuracy: 0.878711\n",
      "Epoch: 73 LR: [1.3421772800000009e-05]\n",
      "Average loss: 0.271436, Train accuracy: 0.913149, Val accuracy: 0.878916\n",
      "Epoch: 74 LR: [1.3421772800000009e-05]\n",
      "Average loss: 0.269757, Train accuracy: 0.915418, Val accuracy: 0.878165\n",
      "Epoch: 75 LR: [1.3421772800000009e-05]\n",
      "Average loss: 0.272650, Train accuracy: 0.913268, Val accuracy: 0.878097\n",
      "Epoch: 76 LR: [1.3421772800000009e-05]\n"
     ]
    },
    {
     "name": "stdout",
     "output_type": "stream",
     "text": [
      "Average loss: 0.268105, Train accuracy: 0.914497, Val accuracy: 0.878848\n",
      "Epoch: 77 LR: [1.3421772800000009e-05]\n",
      "Average loss: 0.266862, Train accuracy: 0.915231, Val accuracy: 0.878916\n",
      "Epoch: 78 LR: [1.3421772800000009e-05]\n",
      "Average loss: 0.268476, Train accuracy: 0.915060, Val accuracy: 0.879189\n",
      "Epoch: 79 LR: [8.589934592000007e-06]\n",
      "Average loss: 0.261384, Train accuracy: 0.917346, Val accuracy: 0.878302\n",
      "Epoch: 80 LR: [1.0737418240000008e-05]\n",
      "Average loss: 0.261346, Train accuracy: 0.917380, Val accuracy: 0.878916\n",
      "Epoch: 81 LR: [1.0737418240000008e-05]\n",
      "Average loss: 0.264705, Train accuracy: 0.916647, Val accuracy: 0.878234\n",
      "Epoch: 82 LR: [1.0737418240000008e-05]\n",
      "Average loss: 0.257869, Train accuracy: 0.918507, Val accuracy: 0.879053\n",
      "Epoch: 83 LR: [1.0737418240000008e-05]\n",
      "Average loss: 0.257018, Train accuracy: 0.918268, Val accuracy: 0.877073\n",
      "Epoch: 84 LR: [1.0737418240000008e-05]\n",
      "Average loss: 0.257133, Train accuracy: 0.919462, Val accuracy: 0.879189\n",
      "Epoch: 85 LR: [1.0737418240000008e-05]\n",
      "Average loss: 0.257521, Train accuracy: 0.918046, Val accuracy: 0.877005\n",
      "Epoch: 86 LR: [1.0737418240000008e-05]\n",
      "Average loss: 0.256377, Train accuracy: 0.918660, Val accuracy: 0.878916\n",
      "Epoch: 87 LR: [6.871947673600007e-06]\n",
      "Average loss: 0.253135, Train accuracy: 0.917944, Val accuracy: 0.880008\n",
      "Epoch: 88 LR: [8.589934592000007e-06]\n",
      "Average loss: 0.255466, Train accuracy: 0.918421, Val accuracy: 0.878029\n",
      "Epoch: 89 LR: [8.589934592000007e-06]\n",
      "Average loss: 0.255264, Train accuracy: 0.919070, Val accuracy: 0.879394\n",
      "Epoch: 90 LR: [8.589934592000007e-06]\n",
      "Average loss: 0.253188, Train accuracy: 0.917961, Val accuracy: 0.880691\n",
      "Epoch: 91 LR: [8.589934592000007e-06]\n",
      "Average loss: 0.253433, Train accuracy: 0.919565, Val accuracy: 0.878575\n",
      "Epoch: 92 LR: [8.589934592000007e-06]\n",
      "Average loss: 0.251540, Train accuracy: 0.920486, Val accuracy: 0.879872\n",
      "Epoch: 93 LR: [8.589934592000007e-06]\n",
      "Average loss: 0.252585, Train accuracy: 0.919616, Val accuracy: 0.880827\n",
      "Epoch: 94 LR: [8.589934592000007e-06]\n",
      "Average loss: 0.247786, Train accuracy: 0.920486, Val accuracy: 0.880076\n",
      "Epoch: 95 LR: [5.4975581388800055e-06]\n",
      "Average loss: 0.248048, Train accuracy: 0.920895, Val accuracy: 0.878780\n",
      "Epoch: 96 LR: [6.871947673600007e-06]\n",
      "Average loss: 0.243373, Train accuracy: 0.923114, Val accuracy: 0.878643\n",
      "Epoch: 97 LR: [6.871947673600007e-06]\n",
      "Average loss: 0.246946, Train accuracy: 0.921561, Val accuracy: 0.880281\n",
      "Epoch: 98 LR: [6.871947673600007e-06]\n",
      "Average loss: 0.245790, Train accuracy: 0.922124, Val accuracy: 0.879462\n",
      "Epoch: 99 LR: [6.871947673600007e-06]\n",
      "Average loss: 0.244330, Train accuracy: 0.921953, Val accuracy: 0.879803\n",
      "CPU times: user 3min 19s, sys: 1min 2s, total: 4min 21s\n",
      "Wall time: 4min 47s\n"
     ]
    }
   ],
   "source": [
    "%%time\n",
    "# Experiment here!\n",
    "nn_model = nn.Sequential(\n",
    "            Flattener(),\n",
    "            nn.Linear(3*32*32, 512),\n",
    "            nn.ReLU(inplace=True),\n",
    "            nn.BatchNorm1d(512),\n",
    "            nn.Dropout(p=0.2),\n",
    "            nn.Linear(512, 128),\n",
    "            nn.ReLU(inplace=True),\n",
    "            nn.BatchNorm1d(128),\n",
    "            nn.Dropout(p=0.2),\n",
    "            nn.Linear(128, 10), \n",
    ")\n",
    "nn_model.cuda()\n",
    "loss = nn.CrossEntropyLoss().type(torch.FloatTensor)\n",
    "#optimizer = optim.SGD(nn_model.parameters(), lr=1e-3, weight_decay=1e-1, momentum=0.9, nesterov=True)\n",
    "optimizer = optim.Adam(nn_model.parameters(), lr=1e-4, weight_decay=1e-5)\n",
    "lr_scheduler = optim.lr_scheduler.StepLR(optimizer, step_size=8, gamma=0.8)\n",
    "#lr_lambda = lambda x: 0.5**(x//2)\n",
    "#lr_scheduler = optim.lr_scheduler.LambdaLR(optimizer, lr_lambda=lr_lambda)\n",
    "loss_history, train_history, val_history = train_model(nn_model, train_loader, val_loader, loss, \n",
    "                                                       optimizer, 100, lr_scheduler, True)"
   ]
  },
  {
   "cell_type": "code",
   "execution_count": 51,
   "metadata": {
    "ExecuteTime": {
     "end_time": "2019-07-10T20:28:49.318493Z",
     "start_time": "2019-07-10T20:28:49.099980Z"
    }
   },
   "outputs": [
    {
     "data": {
      "image/png": "[encoded data removed]",
      "text/plain": [
       "<Figure size 720x576 with 2 Axes>"
      ]
     },
     "metadata": {
      "needs_background": "light"
     },
     "output_type": "display_data"
    }
   ],
   "source": [
    "fig, ax = plt.subplots(nrows=2, ncols=1, figsize=(10,8))\n",
    "ax[0].plot(loss_history)\n",
    "ax[1].plot(train_history, label='train')\n",
    "ax[1].plot(val_history, label='valid')\n",
    "ax[0].set_title('Loss')\n",
    "ax[1].set_title('Accuracy')\n",
    "plt.legend()\n",
    "plt.show()"
   ]
  },
  {
   "cell_type": "code",
   "execution_count": 52,
   "metadata": {
    "ExecuteTime": {
     "end_time": "2019-07-10T20:28:52.003276Z",
     "start_time": "2019-07-10T20:28:51.212799Z"
    }
   },
   "outputs": [
    {
     "name": "stdout",
     "output_type": "stream",
     "text": [
      "Test accuracy: 0.8633\n"
     ]
    }
   ],
   "source": [
    "# Как всегда, в конце проверяем на test set\n",
    "test_loader = torch.utils.data.DataLoader(data_test, batch_size=batch_size, num_workers=8)\n",
    "test_accuracy = compute_accuracy(nn_model, test_loader, True)\n",
    "print(\"Test accuracy: %2.4f\" % test_accuracy)"
   ]
  },
  {
   "cell_type": "code",
   "execution_count": null,
   "metadata": {},
   "outputs": [],
   "source": []
  }
 ],
 "metadata": {
  "kernelspec": {
   "display_name": "Python 3",
   "language": "python",
   "name": "python3"
  },
  "language_info": {
   "codemirror_mode": {
    "name": "ipython",
    "version": 3
   },
   "file_extension": ".py",
   "mimetype": "text/x-python",
   "name": "python",
   "nbconvert_exporter": "python",
   "pygments_lexer": "ipython3",
   "version": "3.6.8"
  },
  "varInspector": {
   "cols": {
    "lenName": 16,
    "lenType": 16,
    "lenVar": 40
   },
   "kernels_config": {
    "python": {
     "delete_cmd_postfix": "",
     "delete_cmd_prefix": "del ",
     "library": "var_list.py",
     "varRefreshCmd": "print(var_dic_list())"
    },
    "r": {
     "delete_cmd_postfix": ") ",
     "delete_cmd_prefix": "rm(",
     "library": "var_list.r",
     "varRefreshCmd": "cat(var_dic_list()) "
    }
   },
   "types_to_exclude": [
    "module",
    "function",
    "builtin_function_or_method",
    "instance",
    "_Feature"
   ],
   "window_display": false
  }
 },
 "nbformat": 4,
 "nbformat_minor": 2
}
