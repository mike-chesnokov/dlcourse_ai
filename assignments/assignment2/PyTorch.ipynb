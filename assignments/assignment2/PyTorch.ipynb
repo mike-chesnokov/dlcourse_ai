{
 "cells": [
  {
   "cell_type": "markdown",
   "metadata": {},
   "source": [
    "# Задание 2.2 - Введение в PyTorch\n",
    "\n",
    "Для этого задания потребуется установить версию PyTorch 1.0\n",
    "\n",
    "https://pytorch.org/get-started/locally/\n",
    "\n",
    "В этом задании мы познакомимся с основными компонентами PyTorch и натренируем несколько небольших моделей.<br>\n",
    "GPU нам пока не понадобится.\n",
    "\n",
    "Основные ссылки:  \n",
    "https://pytorch.org/tutorials/beginner/deep_learning_60min_blitz.html  \n",
    "https://pytorch.org/docs/stable/nn.html  \n",
    "https://pytorch.org/docs/stable/torchvision/index.html  "
   ]
  },
  {
   "cell_type": "code",
   "execution_count": 1,
   "metadata": {
    "ExecuteTime": {
     "end_time": "2019-07-08T19:12:33.118258Z",
     "start_time": "2019-07-08T19:12:32.673648Z"
    },
    "scrolled": true
   },
   "outputs": [],
   "source": [
    "import torch\n",
    "import torch.nn as nn\n",
    "import torch.optim as optim\n",
    "from torch.utils.data.sampler import SubsetRandomSampler, Sampler\n",
    "\n",
    "import torchvision\n",
    "import torchvision.datasets as dset\n",
    "from torchvision import transforms\n",
    "\n",
    "import matplotlib.pyplot as plt\n",
    "%matplotlib inline\n",
    "\n",
    "import numpy as np"
   ]
  },
  {
   "cell_type": "markdown",
   "metadata": {},
   "source": [
    "## Pytorch tutorial\n",
    "\n",
    "### Pytorch tensor"
   ]
  },
  {
   "cell_type": "code",
   "execution_count": 4,
   "metadata": {
    "ExecuteTime": {
     "end_time": "2019-07-07T14:15:52.801422Z",
     "start_time": "2019-07-07T14:15:52.795788Z"
    }
   },
   "outputs": [
    {
     "name": "stdout",
     "output_type": "stream",
     "text": [
      "tensor([[-7.4240e-35,  4.5556e-41,  1.2059e-36],\n",
      "        [ 0.0000e+00,  1.4178e+02,  4.5556e-41],\n",
      "        [ 1.1996e-36,  0.0000e+00,  1.1996e-36],\n",
      "        [ 0.0000e+00,  3.7415e-43,  4.5556e-41],\n",
      "        [ 8.9683e-44,  0.0000e+00,  1.7937e-43]])\n"
     ]
    }
   ],
   "source": [
    "x = torch.empty(5, 3)\n",
    "print(x)"
   ]
  },
  {
   "cell_type": "code",
   "execution_count": 5,
   "metadata": {
    "ExecuteTime": {
     "end_time": "2019-07-07T14:16:05.731542Z",
     "start_time": "2019-07-07T14:16:05.715653Z"
    }
   },
   "outputs": [
    {
     "name": "stdout",
     "output_type": "stream",
     "text": [
      "tensor([[0.5838, 0.0435, 0.3676],\n",
      "        [0.6813, 0.3565, 0.5657],\n",
      "        [0.1262, 0.8064, 0.5536],\n",
      "        [0.8061, 0.6555, 0.5306],\n",
      "        [0.7796, 0.9546, 0.7445]])\n"
     ]
    }
   ],
   "source": [
    "x = torch.rand(5, 3)\n",
    "print(x)"
   ]
  },
  {
   "cell_type": "code",
   "execution_count": 6,
   "metadata": {
    "ExecuteTime": {
     "end_time": "2019-07-07T14:16:24.900372Z",
     "start_time": "2019-07-07T14:16:24.882126Z"
    }
   },
   "outputs": [
    {
     "name": "stdout",
     "output_type": "stream",
     "text": [
      "tensor([[0, 0, 0],\n",
      "        [0, 0, 0],\n",
      "        [0, 0, 0],\n",
      "        [0, 0, 0],\n",
      "        [0, 0, 0]])\n"
     ]
    }
   ],
   "source": [
    "x = torch.zeros(5, 3, dtype=torch.long)\n",
    "print(x)"
   ]
  },
  {
   "cell_type": "code",
   "execution_count": 7,
   "metadata": {
    "ExecuteTime": {
     "end_time": "2019-07-07T14:16:42.311292Z",
     "start_time": "2019-07-07T14:16:42.308182Z"
    }
   },
   "outputs": [
    {
     "name": "stdout",
     "output_type": "stream",
     "text": [
      "tensor([5.5000, 3.0000])\n"
     ]
    }
   ],
   "source": [
    "x = torch.tensor([5.5, 3])\n",
    "print(x)"
   ]
  },
  {
   "cell_type": "code",
   "execution_count": 8,
   "metadata": {
    "ExecuteTime": {
     "end_time": "2019-07-07T14:17:33.708796Z",
     "start_time": "2019-07-07T14:17:33.689795Z"
    }
   },
   "outputs": [
    {
     "name": "stdout",
     "output_type": "stream",
     "text": [
      "tensor([ 0.3618, -0.1347])\n"
     ]
    }
   ],
   "source": [
    "x = torch.randn_like(x, dtype=torch.float)    # override dtype!\n",
    "print(x)  "
   ]
  },
  {
   "cell_type": "code",
   "execution_count": 11,
   "metadata": {
    "ExecuteTime": {
     "end_time": "2019-07-07T14:18:19.159878Z",
     "start_time": "2019-07-07T14:18:19.154260Z"
    }
   },
   "outputs": [
    {
     "data": {
      "text/plain": [
       "torch.Size([2])"
      ]
     },
     "execution_count": 11,
     "metadata": {},
     "output_type": "execute_result"
    }
   ],
   "source": [
    "x.size()"
   ]
  },
  {
   "cell_type": "code",
   "execution_count": 13,
   "metadata": {
    "ExecuteTime": {
     "end_time": "2019-07-07T14:48:29.094056Z",
     "start_time": "2019-07-07T14:48:29.089831Z"
    }
   },
   "outputs": [
    {
     "name": "stdout",
     "output_type": "stream",
     "text": [
      "torch.Size([4, 4]) torch.Size([16]) torch.Size([2, 8])\n",
      "tensor([-0.0552,  0.4317,  0.7155,  1.2822, -0.9484,  0.6563,  0.5390,  0.5729,\n",
      "         0.6348, -0.0833,  1.4096, -1.3007, -0.1246, -0.9477, -1.5801,  1.5747])\n"
     ]
    }
   ],
   "source": [
    "x = torch.randn(4, 4)\n",
    "y = x.view(16)\n",
    "z = x.view(-1, 8)  # the size -1 is inferred from other dimensions\n",
    "print(x.size(), y.size(), z.size())\n",
    "print(y)"
   ]
  },
  {
   "cell_type": "code",
   "execution_count": 14,
   "metadata": {
    "ExecuteTime": {
     "end_time": "2019-07-07T14:52:13.386039Z",
     "start_time": "2019-07-07T14:52:13.343720Z"
    }
   },
   "outputs": [
    {
     "data": {
      "text/plain": [
       "True"
      ]
     },
     "execution_count": 14,
     "metadata": {},
     "output_type": "execute_result"
    }
   ],
   "source": [
    "torch.cuda.is_available()"
   ]
  },
  {
   "cell_type": "code",
   "execution_count": 16,
   "metadata": {
    "ExecuteTime": {
     "end_time": "2019-07-07T14:53:16.160070Z",
     "start_time": "2019-07-07T14:53:13.818223Z"
    }
   },
   "outputs": [],
   "source": [
    "if torch.cuda.is_available():\n",
    "    device = torch.device(\"cuda\")          # a CUDA device object\n",
    "    y = torch.ones_like(x, device=device)  # directly create a tensor on GPU\n",
    "    x = x.to(device)                       # or just use strings ``.to(\"cuda\")``\n",
    "    z = x + y"
   ]
  },
  {
   "cell_type": "code",
   "execution_count": 18,
   "metadata": {
    "ExecuteTime": {
     "end_time": "2019-07-07T14:53:49.850994Z",
     "start_time": "2019-07-07T14:53:49.827993Z"
    }
   },
   "outputs": [
    {
     "name": "stdout",
     "output_type": "stream",
     "text": [
      "tensor([[ 0.9448,  1.4317,  1.7155,  2.2822],\n",
      "        [ 0.0516,  1.6563,  1.5390,  1.5729],\n",
      "        [ 1.6348,  0.9167,  2.4096, -0.3007],\n",
      "        [ 0.8754,  0.0523, -0.5801,  2.5747]], device='cuda:0')\n",
      "tensor([[ 0.9448,  1.4317,  1.7155,  2.2822],\n",
      "        [ 0.0516,  1.6563,  1.5390,  1.5729],\n",
      "        [ 1.6348,  0.9167,  2.4096, -0.3007],\n",
      "        [ 0.8754,  0.0523, -0.5801,  2.5747]], dtype=torch.float64)\n"
     ]
    }
   ],
   "source": [
    "print(z)\n",
    "print(z.to(\"cpu\", torch.double)) "
   ]
  },
  {
   "cell_type": "markdown",
   "metadata": {},
   "source": [
    "### Pytorch Autograd"
   ]
  },
  {
   "cell_type": "code",
   "execution_count": 21,
   "metadata": {
    "ExecuteTime": {
     "end_time": "2019-07-07T15:01:26.057358Z",
     "start_time": "2019-07-07T15:01:26.053635Z"
    }
   },
   "outputs": [
    {
     "name": "stdout",
     "output_type": "stream",
     "text": [
      "tensor([[1., 1.],\n",
      "        [1., 1.]], requires_grad=True)\n",
      "tensor([[3., 3.],\n",
      "        [3., 3.]], grad_fn=<AddBackward0>)\n",
      "<AddBackward0 object at 0x7efdfd007128>\n"
     ]
    }
   ],
   "source": [
    "x = torch.ones(2, 2, requires_grad=True)\n",
    "print(x)\n",
    "y = x + 2\n",
    "print(y)\n",
    "print(y.grad_fn)"
   ]
  },
  {
   "cell_type": "code",
   "execution_count": 22,
   "metadata": {
    "ExecuteTime": {
     "end_time": "2019-07-07T15:01:44.886581Z",
     "start_time": "2019-07-07T15:01:44.866707Z"
    }
   },
   "outputs": [
    {
     "name": "stdout",
     "output_type": "stream",
     "text": [
      "tensor([[27., 27.],\n",
      "        [27., 27.]], grad_fn=<MulBackward0>) tensor(27., grad_fn=<MeanBackward0>)\n"
     ]
    }
   ],
   "source": [
    "z = y * y * 3\n",
    "out = z.mean()\n",
    "print(z, out)"
   ]
  },
  {
   "cell_type": "code",
   "execution_count": 24,
   "metadata": {
    "ExecuteTime": {
     "end_time": "2019-07-07T15:04:26.678294Z",
     "start_time": "2019-07-07T15:04:26.668594Z"
    }
   },
   "outputs": [],
   "source": [
    "out.backward()"
   ]
  },
  {
   "cell_type": "code",
   "execution_count": 25,
   "metadata": {
    "ExecuteTime": {
     "end_time": "2019-07-07T15:04:38.082404Z",
     "start_time": "2019-07-07T15:04:38.079497Z"
    }
   },
   "outputs": [
    {
     "name": "stdout",
     "output_type": "stream",
     "text": [
      "tensor([[4.5000, 4.5000],\n",
      "        [4.5000, 4.5000]])\n"
     ]
    }
   ],
   "source": [
    "print(x.grad)"
   ]
  },
  {
   "cell_type": "code",
   "execution_count": 23,
   "metadata": {
    "ExecuteTime": {
     "end_time": "2019-07-07T15:04:04.704626Z",
     "start_time": "2019-07-07T15:04:04.686031Z"
    }
   },
   "outputs": [
    {
     "name": "stdout",
     "output_type": "stream",
     "text": [
      "False\n",
      "True\n",
      "<SumBackward0 object at 0x7efdfd007898>\n"
     ]
    }
   ],
   "source": [
    "a = torch.randn(2, 2)\n",
    "a = ((a * 3) / (a - 1))\n",
    "print(a.requires_grad)\n",
    "a.requires_grad_(True)\n",
    "print(a.requires_grad)\n",
    "b = (a * a).sum()\n",
    "print(b.grad_fn)"
   ]
  },
  {
   "cell_type": "code",
   "execution_count": 26,
   "metadata": {
    "ExecuteTime": {
     "end_time": "2019-07-07T15:08:53.589786Z",
     "start_time": "2019-07-07T15:08:53.586908Z"
    }
   },
   "outputs": [],
   "source": [
    "b.backward()"
   ]
  },
  {
   "cell_type": "code",
   "execution_count": 27,
   "metadata": {
    "ExecuteTime": {
     "end_time": "2019-07-07T15:09:00.642458Z",
     "start_time": "2019-07-07T15:09:00.638770Z"
    }
   },
   "outputs": [
    {
     "data": {
      "text/plain": [
       "tensor([[ 1.1120, -9.0869],\n",
       "        [-0.5763, -4.9394]])"
      ]
     },
     "execution_count": 27,
     "metadata": {},
     "output_type": "execute_result"
    }
   ],
   "source": [
    "a.grad"
   ]
  },
  {
   "cell_type": "code",
   "execution_count": 28,
   "metadata": {
    "ExecuteTime": {
     "end_time": "2019-07-07T15:09:17.389687Z",
     "start_time": "2019-07-07T15:09:17.372327Z"
    }
   },
   "outputs": [
    {
     "name": "stdout",
     "output_type": "stream",
     "text": [
      "tensor([  114.1148, -1126.6935,   317.1498], grad_fn=<MulBackward0>)\n"
     ]
    }
   ],
   "source": [
    "x = torch.randn(3, requires_grad=True)\n",
    "y = x * 2\n",
    "while y.data.norm() < 1000:\n",
    "    y = y * 2\n",
    "print(y)"
   ]
  },
  {
   "cell_type": "markdown",
   "metadata": {},
   "source": [
    "### Pytorch nn"
   ]
  },
  {
   "cell_type": "code",
   "execution_count": 30,
   "metadata": {
    "ExecuteTime": {
     "end_time": "2019-07-07T15:23:59.259263Z",
     "start_time": "2019-07-07T15:23:59.249018Z"
    }
   },
   "outputs": [
    {
     "name": "stdout",
     "output_type": "stream",
     "text": [
      "Net(\n",
      "  (conv1): Conv2d(1, 6, kernel_size=(3, 3), stride=(1, 1))\n",
      "  (conv2): Conv2d(6, 16, kernel_size=(3, 3), stride=(1, 1))\n",
      "  (fc1): Linear(in_features=576, out_features=120, bias=True)\n",
      "  (fc2): Linear(in_features=120, out_features=84, bias=True)\n",
      "  (fc3): Linear(in_features=84, out_features=10, bias=True)\n",
      ")\n",
      "10\n",
      "torch.Size([6, 1, 3, 3])\n"
     ]
    }
   ],
   "source": [
    "import torch\n",
    "import torch.nn as nn\n",
    "import torch.nn.functional as F\n",
    "\n",
    "\n",
    "class Net(nn.Module):\n",
    "\n",
    "    def __init__(self):\n",
    "        super(Net, self).__init__()\n",
    "        # 1 input image channel, 6 output channels, 3x3 square convolution\n",
    "        # kernel\n",
    "        self.conv1 = nn.Conv2d(1, 6, 3)\n",
    "        self.conv2 = nn.Conv2d(6, 16, 3)\n",
    "        # an affine operation: y = Wx + b\n",
    "        self.fc1 = nn.Linear(16 * 6 * 6, 120)  # 6*6 from image dimension\n",
    "        self.fc2 = nn.Linear(120, 84)\n",
    "        self.fc3 = nn.Linear(84, 10)\n",
    "\n",
    "    def forward(self, x):\n",
    "        # Max pooling over a (2, 2) window\n",
    "        x = F.max_pool2d(F.relu(self.conv1(x)), (2, 2))\n",
    "        # If the size is a square you can only specify a single number\n",
    "        x = F.max_pool2d(F.relu(self.conv2(x)), 2)\n",
    "        x = x.view(-1, self.num_flat_features(x))\n",
    "        x = F.relu(self.fc1(x))\n",
    "        x = F.relu(self.fc2(x))\n",
    "        x = self.fc3(x)\n",
    "        return x\n",
    "\n",
    "    def num_flat_features(self, x):\n",
    "        size = x.size()[1:]  # all dimensions except the batch dimension\n",
    "        num_features = 1\n",
    "        for s in size:\n",
    "            num_features *= s\n",
    "        return num_features\n",
    "\n",
    "\n",
    "net = Net()\n",
    "print(net)\n",
    "\n",
    "params = list(net.parameters())\n",
    "print(len(params))\n",
    "print(params[0].size())"
   ]
  },
  {
   "cell_type": "code",
   "execution_count": 35,
   "metadata": {
    "ExecuteTime": {
     "end_time": "2019-07-07T15:29:45.484648Z",
     "start_time": "2019-07-07T15:29:45.464576Z"
    }
   },
   "outputs": [
    {
     "name": "stdout",
     "output_type": "stream",
     "text": [
      "tensor([[-0.0617, -0.1158,  0.0818,  0.1675, -0.0164, -0.0845,  0.0591,  0.0493,\n",
      "          0.0757, -0.0628]], grad_fn=<AddmmBackward>)\n"
     ]
    }
   ],
   "source": [
    "input_ = torch.randn(1, 1, 32, 32)\n",
    "out = net(input_)\n",
    "print(out)\n",
    "\n",
    "net.zero_grad()\n",
    "out.backward(torch.randn(1, 10))"
   ]
  },
  {
   "cell_type": "code",
   "execution_count": 42,
   "metadata": {
    "ExecuteTime": {
     "end_time": "2019-07-07T15:33:10.012214Z",
     "start_time": "2019-07-07T15:33:09.994469Z"
    }
   },
   "outputs": [
    {
     "name": "stdout",
     "output_type": "stream",
     "text": [
      "tensor(1.4515, grad_fn=<MseLossBackward>)\n"
     ]
    }
   ],
   "source": [
    "output = net(input_)\n",
    "target = torch.randn(10)  # a dummy target, for example\n",
    "target = target.view(1, -1)  # make it the same shape as output\n",
    "criterion = nn.MSELoss()\n",
    "\n",
    "loss = criterion(output, target)\n",
    "print(loss)"
   ]
  },
  {
   "cell_type": "code",
   "execution_count": 46,
   "metadata": {
    "ExecuteTime": {
     "end_time": "2019-07-07T15:36:17.473645Z",
     "start_time": "2019-07-07T15:36:17.468888Z"
    }
   },
   "outputs": [
    {
     "name": "stdout",
     "output_type": "stream",
     "text": [
      "<MseLossBackward object at 0x7efdfc3e1ba8>\n",
      "<AddmmBackward object at 0x7efdfc476e48>\n",
      "<AccumulateGrad object at 0x7efdfc476a90>\n"
     ]
    }
   ],
   "source": [
    "print(loss.grad_fn)  # MSELoss\n",
    "print(loss.grad_fn.next_functions[0][0])  # Linear\n",
    "print(loss.grad_fn.next_functions[0][0].next_functions[0][0])  "
   ]
  },
  {
   "cell_type": "code",
   "execution_count": 47,
   "metadata": {
    "ExecuteTime": {
     "end_time": "2019-07-07T15:37:18.884809Z",
     "start_time": "2019-07-07T15:37:18.860276Z"
    }
   },
   "outputs": [
    {
     "name": "stdout",
     "output_type": "stream",
     "text": [
      "conv1.bias.grad before backward\n",
      "tensor([0., 0., 0., 0., 0., 0.])\n",
      "conv1.bias.grad after backward\n",
      "tensor([-0.0030,  0.0183, -0.0040, -0.0137,  0.0154,  0.0105])\n"
     ]
    }
   ],
   "source": [
    "net.zero_grad()     # zeroes the gradient buffers of all parameters\n",
    "\n",
    "print('conv1.bias.grad before backward')\n",
    "print(net.conv1.bias.grad)\n",
    "\n",
    "loss.backward()\n",
    "\n",
    "print('conv1.bias.grad after backward')\n",
    "print(net.conv1.bias.grad)"
   ]
  },
  {
   "cell_type": "code",
   "execution_count": 50,
   "metadata": {
    "ExecuteTime": {
     "end_time": "2019-07-07T15:39:15.484238Z",
     "start_time": "2019-07-07T15:39:15.479320Z"
    }
   },
   "outputs": [
    {
     "data": {
      "text/plain": [
       "<generator object Module.parameters at 0x7efdfc299ca8>"
      ]
     },
     "execution_count": 50,
     "metadata": {},
     "output_type": "execute_result"
    }
   ],
   "source": [
    "net.parameters()"
   ]
  },
  {
   "cell_type": "code",
   "execution_count": 51,
   "metadata": {
    "ExecuteTime": {
     "end_time": "2019-07-07T15:39:18.257436Z",
     "start_time": "2019-07-07T15:39:18.252208Z"
    }
   },
   "outputs": [],
   "source": [
    "# weight = weight - learning_rate * gradient\n",
    "learning_rate = 0.01\n",
    "for f in net.parameters():\n",
    "    f.data.sub_(f.grad.data * learning_rate)"
   ]
  },
  {
   "cell_type": "code",
   "execution_count": 57,
   "metadata": {
    "ExecuteTime": {
     "end_time": "2019-07-07T15:42:09.311322Z",
     "start_time": "2019-07-07T15:42:09.284588Z"
    }
   },
   "outputs": [
    {
     "name": "stdout",
     "output_type": "stream",
     "text": [
      "tensor([0., 0., 0., 0., 0., 0.])\n",
      "Parameter containing:\n",
      "tensor([-0.1715,  0.0292,  0.2621, -0.2635, -0.1059,  0.0968],\n",
      "       requires_grad=True)\n",
      "tensor([-0.0061,  0.0088, -0.0124, -0.0080, -0.0059, -0.0037])\n",
      "Parameter containing:\n",
      "tensor([-0.1715,  0.0291,  0.2622, -0.2634, -0.1059,  0.0968],\n",
      "       requires_grad=True)\n"
     ]
    }
   ],
   "source": [
    "import torch.optim as optim\n",
    "\n",
    "# create your optimizer\n",
    "optimizer = optim.SGD(net.parameters(), lr=0.01)\n",
    "\n",
    "# in your training loop:\n",
    "optimizer.zero_grad()   # zero the gradient buffers\n",
    "output = net(input_)\n",
    "loss = criterion(output, target)\n",
    "print(net.conv1.bias.grad)\n",
    "print(net.conv1.bias)\n",
    "loss.backward()\n",
    "optimizer.step()    # Does the update\n",
    "print(net.conv1.bias.grad)\n",
    "print(net.conv1.bias)"
   ]
  },
  {
   "cell_type": "markdown",
   "metadata": {},
   "source": [
    "### Pytorch Classifier"
   ]
  },
  {
   "cell_type": "code",
   "execution_count": 61,
   "metadata": {
    "ExecuteTime": {
     "end_time": "2019-07-07T19:29:25.759996Z",
     "start_time": "2019-07-07T19:28:40.816607Z"
    }
   },
   "outputs": [
    {
     "name": "stdout",
     "output_type": "stream",
     "text": [
      "Downloading https://www.cs.toronto.edu/~kriz/cifar-10-python.tar.gz to ./data/cifar-10-python.tar.gz\n"
     ]
    },
    {
     "name": "stderr",
     "output_type": "stream",
     "text": [
      "9.5%"
     ]
    },
    {
     "data": {
      "text/html": [
       "<b>limit_output extension: Maximum message size of 10000 exceeded with 10001 characters</b>"
      ]
     },
     "metadata": {},
     "output_type": "display_data"
    }
   ],
   "source": [
    "transform = transforms.Compose(\n",
    "    [transforms.ToTensor(),\n",
    "     transforms.Normalize((0.5, 0.5, 0.5), (0.5, 0.5, 0.5))])\n",
    "\n",
    "trainset = torchvision.datasets.CIFAR10(root='./data', train=True,\n",
    "                                        download=True, transform=transform)\n",
    "trainloader = torch.utils.data.DataLoader(trainset, batch_size=4,\n",
    "                                          shuffle=True, num_workers=2)\n",
    "\n",
    "testset = torchvision.datasets.CIFAR10(root='./data', train=False,\n",
    "                                       download=True, transform=transform)\n",
    "testloader = torch.utils.data.DataLoader(testset, batch_size=4,\n",
    "                                         shuffle=False, num_workers=2)\n",
    "\n",
    "classes = ('plane', 'car', 'bird', 'cat',\n",
    "           'deer', 'dog', 'frog', 'horse', 'ship', 'truck')"
   ]
  },
  {
   "cell_type": "code",
   "execution_count": 62,
   "metadata": {
    "ExecuteTime": {
     "end_time": "2019-07-07T19:34:40.556182Z",
     "start_time": "2019-07-07T19:34:40.408958Z"
    }
   },
   "outputs": [
    {
     "data": {
      "image/png": "[encoded data removed]",
      "text/plain": [
       "<Figure size 432x288 with 1 Axes>"
      ]
     },
     "metadata": {
      "needs_background": "light"
     },
     "output_type": "display_data"
    },
    {
     "name": "stdout",
     "output_type": "stream",
     "text": [
      "plane  deer  deer  frog\n"
     ]
    }
   ],
   "source": [
    "def imshow(img):\n",
    "    img = img / 2 + 0.5     # unnormalize\n",
    "    npimg = img.numpy()\n",
    "    plt.imshow(np.transpose(npimg, (1, 2, 0)))\n",
    "    plt.show()\n",
    "    \n",
    "# get some random training images\n",
    "dataiter = iter(trainloader)\n",
    "images, labels = dataiter.next()\n",
    "\n",
    "# show images\n",
    "imshow(torchvision.utils.make_grid(images))\n",
    "# print labels\n",
    "print(' '.join('%5s' % classes[labels[j]] for j in range(4)))"
   ]
  },
  {
   "cell_type": "code",
   "execution_count": 77,
   "metadata": {
    "ExecuteTime": {
     "end_time": "2019-07-07T19:55:31.497482Z",
     "start_time": "2019-07-07T19:55:31.488367Z"
    }
   },
   "outputs": [],
   "source": [
    "class Net(nn.Module):\n",
    "    def __init__(self):\n",
    "        super(Net, self).__init__()\n",
    "        self.conv1 = nn.Conv2d(3, 32, 5)\n",
    "        self.pool = nn.MaxPool2d(2, 2)\n",
    "        self.conv2 = nn.Conv2d(32, 16, 5)\n",
    "        self.fc1 = nn.Linear(16 * 5 * 5, 120)\n",
    "        self.fc2 = nn.Linear(120, 84)\n",
    "        self.fc3 = nn.Linear(84, 10)\n",
    "\n",
    "    def forward(self, x):\n",
    "        x = self.pool(F.relu(self.conv1(x)))\n",
    "        x = self.pool(F.relu(self.conv2(x)))\n",
    "        x = x.view(-1, 16 * 5 * 5)\n",
    "        x = F.relu(self.fc1(x))\n",
    "        x = F.relu(self.fc2(x))\n",
    "        x = self.fc3(x)\n",
    "        return x\n",
    "    \n",
    "net = Net()\n",
    "\n",
    "import torch.optim as optim\n",
    "\n",
    "criterion = nn.CrossEntropyLoss()\n",
    "optimizer = optim.SGD(net.parameters(), lr=0.001, momentum=0.9)"
   ]
  },
  {
   "cell_type": "code",
   "execution_count": 64,
   "metadata": {
    "ExecuteTime": {
     "end_time": "2019-07-07T19:41:20.566525Z",
     "start_time": "2019-07-07T19:40:04.963552Z"
    }
   },
   "outputs": [
    {
     "name": "stdout",
     "output_type": "stream",
     "text": [
      "[1,  2000] loss: 2.244\n",
      "[1,  4000] loss: 1.911\n",
      "[1,  6000] loss: 1.697\n",
      "[1,  8000] loss: 1.580\n",
      "[1, 10000] loss: 1.504\n",
      "[1, 12000] loss: 1.458\n",
      "[2,  2000] loss: 1.400\n",
      "[2,  4000] loss: 1.368\n",
      "[2,  6000] loss: 1.374\n",
      "[2,  8000] loss: 1.318\n",
      "[2, 10000] loss: 1.283\n",
      "[2, 12000] loss: 1.272\n",
      "Finished Training\n"
     ]
    }
   ],
   "source": [
    "for epoch in range(2):  # loop over the dataset multiple times\n",
    "\n",
    "    running_loss = 0.0\n",
    "    for i, data in enumerate(trainloader, 0):\n",
    "        # get the inputs; data is a list of [inputs, labels]\n",
    "        inputs, labels = data\n",
    "\n",
    "        # zero the parameter gradients\n",
    "        optimizer.zero_grad()\n",
    "\n",
    "        # forward + backward + optimize\n",
    "        outputs = net(inputs)\n",
    "        loss = criterion(outputs, labels)\n",
    "        loss.backward()\n",
    "        optimizer.step()\n",
    "\n",
    "        # print statistics\n",
    "        running_loss += loss.item()\n",
    "        if i % 2000 == 1999:    # print every 2000 mini-batches\n",
    "            print('[%d, %5d] loss: %.3f' %\n",
    "                  (epoch + 1, i + 1, running_loss / 2000))\n",
    "            running_loss = 0.0\n",
    "\n",
    "print('Finished Training')"
   ]
  },
  {
   "cell_type": "code",
   "execution_count": 65,
   "metadata": {
    "ExecuteTime": {
     "end_time": "2019-07-07T19:41:36.184106Z",
     "start_time": "2019-07-07T19:41:36.040483Z"
    }
   },
   "outputs": [
    {
     "data": {
      "image/png": "[encoded data removed]",
      "text/plain": [
       "<Figure size 432x288 with 1 Axes>"
      ]
     },
     "metadata": {
      "needs_background": "light"
     },
     "output_type": "display_data"
    },
    {
     "name": "stdout",
     "output_type": "stream",
     "text": [
      "GroundTruth:    cat  ship  ship plane\n"
     ]
    }
   ],
   "source": [
    "dataiter = iter(testloader)\n",
    "images, labels = dataiter.next()\n",
    "\n",
    "# print images\n",
    "imshow(torchvision.utils.make_grid(images))\n",
    "print('GroundTruth: ', ' '.join('%5s' % classes[labels[j]] for j in range(4)))"
   ]
  },
  {
   "cell_type": "code",
   "execution_count": 66,
   "metadata": {
    "ExecuteTime": {
     "end_time": "2019-07-07T19:43:01.912586Z",
     "start_time": "2019-07-07T19:43:01.895622Z"
    }
   },
   "outputs": [
    {
     "name": "stdout",
     "output_type": "stream",
     "text": [
      "Predicted:    cat  ship   car  ship\n"
     ]
    }
   ],
   "source": [
    "outputs = net(images)\n",
    "_, predicted = torch.max(outputs, 1)\n",
    "print('Predicted: ', ' '.join('%5s' % classes[predicted[j]]\n",
    "                              for j in range(4)))"
   ]
  },
  {
   "cell_type": "code",
   "execution_count": 70,
   "metadata": {
    "ExecuteTime": {
     "end_time": "2019-07-07T19:44:49.299591Z",
     "start_time": "2019-07-07T19:44:46.565578Z"
    }
   },
   "outputs": [
    {
     "name": "stdout",
     "output_type": "stream",
     "text": [
      "Accuracy of the network on the 10000 test images: 55 %\n"
     ]
    }
   ],
   "source": [
    "correct = 0\n",
    "total = 0\n",
    "with torch.no_grad():\n",
    "    for data in testloader:\n",
    "        images, labels = data\n",
    "        outputs = net(images)\n",
    "        _, predicted = torch.max(outputs.data, 1)\n",
    "        total += labels.size(0)\n",
    "        correct += (predicted == labels).sum().item()\n",
    "\n",
    "print('Accuracy of the network on the 10000 test images: %d %%' % (\n",
    "    100 * correct / total))"
   ]
  },
  {
   "cell_type": "code",
   "execution_count": 71,
   "metadata": {
    "ExecuteTime": {
     "end_time": "2019-07-07T19:45:49.067663Z",
     "start_time": "2019-07-07T19:45:46.277003Z"
    }
   },
   "outputs": [
    {
     "name": "stdout",
     "output_type": "stream",
     "text": [
      "Accuracy of plane : 59 %\n",
      "Accuracy of   car : 82 %\n",
      "Accuracy of  bird : 43 %\n",
      "Accuracy of   cat : 33 %\n",
      "Accuracy of  deer : 32 %\n",
      "Accuracy of   dog : 48 %\n",
      "Accuracy of  frog : 80 %\n",
      "Accuracy of horse : 67 %\n",
      "Accuracy of  ship : 51 %\n",
      "Accuracy of truck : 51 %\n"
     ]
    }
   ],
   "source": [
    "class_correct = list(0. for i in range(10))\n",
    "class_total = list(0. for i in range(10))\n",
    "with torch.no_grad():\n",
    "    for data in testloader:\n",
    "        images, labels = data\n",
    "        outputs = net(images)\n",
    "        _, predicted = torch.max(outputs, 1)\n",
    "        c = (predicted == labels).squeeze()\n",
    "        for i in range(4):\n",
    "            label = labels[i]\n",
    "            class_correct[label] += c[i].item()\n",
    "            class_total[label] += 1\n",
    "\n",
    "\n",
    "for i in range(10):\n",
    "    print('Accuracy of %5s : %2d %%' % (\n",
    "        classes[i], 100 * class_correct[i] / class_total[i]))"
   ]
  },
  {
   "cell_type": "code",
   "execution_count": 72,
   "metadata": {
    "ExecuteTime": {
     "end_time": "2019-07-07T19:47:37.137472Z",
     "start_time": "2019-07-07T19:47:37.132198Z"
    }
   },
   "outputs": [
    {
     "name": "stdout",
     "output_type": "stream",
     "text": [
      "cuda:0\n"
     ]
    }
   ],
   "source": [
    "device = torch.device(\"cuda:0\" if torch.cuda.is_available() else \"cpu\")\n",
    "\n",
    "# Assuming that we are on a CUDA machine, this should print a CUDA device:\n",
    "print(device)"
   ]
  },
  {
   "cell_type": "code",
   "execution_count": 79,
   "metadata": {
    "ExecuteTime": {
     "end_time": "2019-07-07T19:56:47.398067Z",
     "start_time": "2019-07-07T19:56:47.395042Z"
    }
   },
   "outputs": [
    {
     "name": "stdout",
     "output_type": "stream",
     "text": [
      "GeForce GTX 1080 Ti\n",
      "500736\n",
      "2097152\n"
     ]
    }
   ],
   "source": [
    "print(torch.cuda.get_device_name(0))\n",
    "print(torch.cuda.memory_allocated())\n",
    "print(torch.cuda.memory_cached())"
   ]
  },
  {
   "cell_type": "code",
   "execution_count": 80,
   "metadata": {
    "ExecuteTime": {
     "end_time": "2019-07-07T19:59:31.511752Z",
     "start_time": "2019-07-07T19:58:41.377565Z"
    }
   },
   "outputs": [
    {
     "name": "stdout",
     "output_type": "stream",
     "text": [
      "[1,  2000] loss: 2.145\n",
      "[1,  4000] loss: 1.766\n",
      "[1,  6000] loss: 1.583\n",
      "[1,  8000] loss: 1.480\n",
      "[1, 10000] loss: 1.438\n",
      "[1, 12000] loss: 1.385\n",
      "[2,  2000] loss: 1.280\n",
      "[2,  4000] loss: 1.259\n",
      "[2,  6000] loss: 1.239\n",
      "[2,  8000] loss: 1.210\n",
      "[2, 10000] loss: 1.193\n",
      "[2, 12000] loss: 1.164\n",
      "Finished Training\n"
     ]
    }
   ],
   "source": [
    "net.to(device)\n",
    "\n",
    "for epoch in range(2):  # loop over the dataset multiple times\n",
    "\n",
    "    running_loss = 0.0\n",
    "    for i, data in enumerate(trainloader, 0):\n",
    "        # get the inputs; data is a list of [inputs, labels]\n",
    "        inputs, labels = data[0].to(device), data[1].to(device)\n",
    "\n",
    "        # zero the parameter gradients\n",
    "        optimizer.zero_grad()\n",
    "\n",
    "        # forward + backward + optimize\n",
    "        outputs = net(inputs)\n",
    "        loss = criterion(outputs, labels)\n",
    "        loss.backward()\n",
    "        optimizer.step()\n",
    "\n",
    "        # print statistics\n",
    "        running_loss += loss.item()\n",
    "        if i % 2000 == 1999:    # print every 2000 mini-batches\n",
    "            print('[%d, %5d] loss: %.3f' %\n",
    "                  (epoch + 1, i + 1, running_loss / 2000))\n",
    "            running_loss = 0.0\n",
    "\n",
    "print('Finished Training')"
   ]
  },
  {
   "cell_type": "markdown",
   "metadata": {},
   "source": [
    "## Как всегда, начинаем с загрузки данных\n",
    "\n",
    "PyTorch поддерживает загрузку SVHN из коробки."
   ]
  },
  {
   "cell_type": "code",
   "execution_count": 2,
   "metadata": {
    "ExecuteTime": {
     "end_time": "2019-07-08T19:16:16.949415Z",
     "start_time": "2019-07-08T19:16:15.185993Z"
    },
    "scrolled": true
   },
   "outputs": [],
   "source": [
    "# First, lets load the dataset\n",
    "transformer = transforms.Compose([\n",
    "                           transforms.ToTensor(),\n",
    "                           transforms.Normalize(mean=[0.43,0.44,0.47],\n",
    "                                                std=[0.20,0.20,0.20])                           \n",
    "                       ])\n",
    "data_train = dset.SVHN('./data/', split='train',\n",
    "                       transform=transformer\n",
    "                      )\n",
    "data_test = dset.SVHN('./data/', split='test', \n",
    "                      transform=transformer)"
   ]
  },
  {
   "cell_type": "markdown",
   "metadata": {},
   "source": [
    "Теперь мы разделим данные на training и validation с использованием классов `SubsetRandomSampler` и `DataLoader`.\n",
    "\n",
    "`DataLoader` подгружает данные, предоставляемые классом `Dataset`, во время тренировки и группирует их в батчи.\n",
    "Он дает возможность указать `Sampler`, который выбирает, какие примеры из датасета использовать для тренировки. Мы используем это, чтобы разделить данные на training и validation.\n",
    "\n",
    "Подробнее: https://pytorch.org/tutorials/beginner/data_loading_tutorial.html"
   ]
  },
  {
   "cell_type": "code",
   "execution_count": 3,
   "metadata": {
    "ExecuteTime": {
     "end_time": "2019-07-08T19:17:15.836344Z",
     "start_time": "2019-07-08T19:17:15.818486Z"
    },
    "scrolled": true
   },
   "outputs": [],
   "source": [
    "batch_size = 64\n",
    "\n",
    "data_size = data_train.data.shape[0]\n",
    "validation_split = .2\n",
    "split = int(np.floor(validation_split * data_size))\n",
    "indices = list(range(data_size))\n",
    "np.random.shuffle(indices)\n",
    "\n",
    "train_indices, val_indices = indices[split:], indices[:split]\n",
    "\n",
    "train_sampler = SubsetRandomSampler(train_indices)\n",
    "val_sampler = SubsetRandomSampler(val_indices)\n",
    "\n",
    "train_loader = torch.utils.data.DataLoader(data_train, \n",
    "                                           batch_size=batch_size, \n",
    "                                           sampler=train_sampler)\n",
    "val_loader = torch.utils.data.DataLoader(data_train, \n",
    "                                         batch_size=batch_size,\n",
    "                                         sampler=val_sampler)"
   ]
  },
  {
   "cell_type": "markdown",
   "metadata": {},
   "source": [
    "В нашей задаче мы получаем на вход изображения, но работаем с ними как с одномерными массивами. Чтобы превратить многомерный массив в одномерный, мы воспользуемся очень простым вспомогательным модулем `Flattener`."
   ]
  },
  {
   "cell_type": "code",
   "execution_count": 4,
   "metadata": {
    "ExecuteTime": {
     "end_time": "2019-07-08T19:18:38.513276Z",
     "start_time": "2019-07-08T19:18:38.469421Z"
    },
    "scrolled": true
   },
   "outputs": [
    {
     "name": "stdout",
     "output_type": "stream",
     "text": [
      "SVHN data sample shape:  torch.Size([3, 32, 32])\n"
     ]
    }
   ],
   "source": [
    "sample, label = data_train[0]\n",
    "print(\"SVHN data sample shape: \", sample.shape)\n",
    "# As you can see, the data is shaped like an image\n",
    "\n",
    "# We'll use a special helper module to shape it into a tensor\n",
    "class Flattener(nn.Module):\n",
    "    def forward(self, x):\n",
    "        batch_size, *_ = x.shape\n",
    "        return x.view(batch_size, -1)"
   ]
  },
  {
   "cell_type": "markdown",
   "metadata": {},
   "source": [
    "И наконец, мы создаем основные объекты PyTorch:\n",
    "- `nn_model` - собственно, модель с нейросетью\n",
    "- `loss` - функцию ошибки, в нашем случае `CrossEntropyLoss`\n",
    "- `optimizer` - алгоритм оптимизации, в нашем случае просто `SGD`"
   ]
  },
  {
   "cell_type": "code",
   "execution_count": 5,
   "metadata": {
    "ExecuteTime": {
     "end_time": "2019-07-08T19:20:45.473905Z",
     "start_time": "2019-07-08T19:20:45.447922Z"
    },
    "scrolled": true
   },
   "outputs": [],
   "source": [
    "nn_model = nn.Sequential(\n",
    "            Flattener(),\n",
    "            nn.Linear(3*32*32, 100),\n",
    "            nn.ReLU(inplace=True),\n",
    "            nn.Linear(100, 10), \n",
    "         )\n",
    "nn_model.type(torch.FloatTensor)\n",
    "\n",
    "# We will minimize cross-entropy between the ground truth and\n",
    "# network predictions using an SGD optimizer\n",
    "loss = nn.CrossEntropyLoss().type(torch.FloatTensor)\n",
    "optimizer = optim.SGD(nn_model.parameters(), lr=1e-2, weight_decay=1e-1)"
   ]
  },
  {
   "cell_type": "markdown",
   "metadata": {},
   "source": [
    "## Тренируем!\n",
    "\n",
    "Ниже приведена функция `train_model`, реализующая основной цикл тренировки PyTorch.\n",
    "\n",
    "Каждую эпоху эта функция вызывает функцию `compute_accuracy`, которая вычисляет точность на validation, эту последнюю функцию предлагается реализовать вам."
   ]
  },
  {
   "cell_type": "code",
   "execution_count": 35,
   "metadata": {
    "ExecuteTime": {
     "end_time": "2019-07-08T20:11:53.110319Z",
     "start_time": "2019-07-08T20:11:53.103348Z"
    },
    "scrolled": true
   },
   "outputs": [],
   "source": [
    "# This is how to implement the same main train loop in PyTorch. Pretty easy, right?\n",
    "\n",
    "def train_model(model, train_loader, val_loader, loss, optimizer, num_epochs, scheduler=None):    \n",
    "    loss_history = []\n",
    "    train_history = []\n",
    "    val_history = []\n",
    "    for epoch in range(num_epochs):\n",
    "        \n",
    "        if scheduler is not None:\n",
    "            # Decay Learning Rate\n",
    "            scheduler.step()\n",
    "            print('Epoch:', epoch,'LR:', scheduler.get_lr())\n",
    "            \n",
    "        model.train() # Enter train mode\n",
    "        \n",
    "        loss_accum = 0\n",
    "        correct_samples = 0\n",
    "        total_samples = 0\n",
    "        for i_step, (x, y) in enumerate(train_loader):\n",
    "            prediction = model(x)    \n",
    "            loss_value = loss(prediction, y)\n",
    "            \n",
    "            optimizer.zero_grad()\n",
    "            loss_value.backward()\n",
    "            optimizer.step()\n",
    "            \n",
    "            _, indices = torch.max(prediction, 1)\n",
    "            correct_samples += torch.sum(indices == y)\n",
    "            total_samples += y.shape[0]\n",
    "            \n",
    "            loss_accum += loss_value\n",
    "\n",
    "        ave_loss = loss_accum / (i_step + 1)\n",
    "        train_accuracy = float(correct_samples) / total_samples\n",
    "        val_accuracy = compute_accuracy(model, val_loader)\n",
    "        \n",
    "        loss_history.append(float(ave_loss))\n",
    "        train_history.append(train_accuracy)\n",
    "        val_history.append(val_accuracy)\n",
    "        \n",
    "        print(\"Average loss: %f, Train accuracy: %f, Val accuracy: %f\" % (ave_loss, train_accuracy, val_accuracy))\n",
    "        \n",
    "    return loss_history, train_history, val_history\n",
    "        \n",
    "def compute_accuracy(model, loader):\n",
    "    \"\"\"\n",
    "    Computes accuracy on the dataset wrapped in a loader\n",
    "    \n",
    "    Returns: accuracy as a float value between 0 and 1\n",
    "    \"\"\"\n",
    "    model.eval() # Evaluation mode\n",
    "    # TODO: Implement the inference of the model on all of the batches from loader,\n",
    "    #       and compute the overall accuracy.\n",
    "    # Hint: PyTorch has the argmax function!\n",
    "    correct_samples = 0\n",
    "    total_samples = 0\n",
    "    for i_step, (x, y) in enumerate(loader):\n",
    "        prediction = model(x)    \n",
    "            \n",
    "        _, indices = torch.max(prediction, 1)\n",
    "        correct_samples += torch.sum(indices == y)\n",
    "        total_samples += y.shape[0]    \n",
    "    \n",
    "    return float(correct_samples) / total_samples"
   ]
  },
  {
   "cell_type": "code",
   "execution_count": 6,
   "metadata": {
    "ExecuteTime": {
     "end_time": "2019-07-08T19:31:07.215965Z",
     "start_time": "2019-07-08T19:31:07.210414Z"
    }
   },
   "outputs": [
    {
     "data": {
      "text/plain": [
       "<torch.utils.data.dataloader.DataLoader at 0x7fbe544fbcc0>"
      ]
     },
     "execution_count": 6,
     "metadata": {},
     "output_type": "execute_result"
    }
   ],
   "source": [
    "val_loader"
   ]
  },
  {
   "cell_type": "code",
   "execution_count": 7,
   "metadata": {
    "ExecuteTime": {
     "end_time": "2019-07-08T19:32:52.542873Z",
     "start_time": "2019-07-08T19:32:52.448820Z"
    },
    "collapsed": true
   },
   "outputs": [
    {
     "name": "stdout",
     "output_type": "stream",
     "text": [
      "0 tensor([[[[ 1.5755,  1.5951,  1.7716,  ..., -0.2480, -0.4833, -0.6206],\n",
      "          [ 1.5951,  1.6147,  1.6147,  ...,  0.0265, -0.2676, -0.4833],\n",
      "          [ 1.6147,  1.6343,  1.6147,  ...,  0.3598, -0.0324, -0.3461],\n",
      "          ...,\n",
      "          [ 1.5755,  1.5951,  1.6343,  ..., -0.4049, -0.5422, -0.8167],\n",
      "          [ 1.5755,  1.6147,  1.6539,  ..., -0.6206, -0.7578, -0.9539],\n",
      "          [ 1.6343,  1.6931,  1.6735,  ..., -0.7971, -0.8755, -0.9735]],\n",
      "\n",
      "         [[ 1.6039,  1.6039,  1.7608,  ..., -0.2196, -0.4353, -0.5529],\n",
      "          [ 1.6235,  1.6627,  1.6235,  ...,  0.1137, -0.2000, -0.4157],\n",
      "          [ 1.6431,  1.6824,  1.6824,  ...,  0.4078,  0.0157, -0.2980],\n",
      "          ...,\n",
      "          [ 1.6431,  1.6431,  1.6431,  ..., -0.2196, -0.3961, -0.6902],\n",
      "          [ 1.6431,  1.6627,  1.6431,  ..., -0.4549, -0.5922, -0.8078],\n",
      "          [ 1.6627,  1.6824,  1.6431,  ..., -0.6314, -0.7294, -0.8471]],\n",
      "\n",
      "         [[ 1.4343,  1.3951,  1.5716,  ...,  0.1402, -0.0755, -0.2324],\n",
      "          [ 1.4539,  1.4343,  1.4343,  ...,  0.3755,  0.1598, -0.0559],\n",
      "          [ 1.4735,  1.4539,  1.4343,  ...,  0.6304,  0.3363,  0.0814],\n",
      "          ...,\n",
      "          [ 1.4539,  1.3755,  1.3559,  ...,  0.1010,  0.0814, -0.1343],\n",
      "          [ 1.4931,  1.4343,  1.4147,  ..., -0.0363, -0.0951, -0.2324],\n",
      "          [ 1.5324,  1.4931,  1.3951,  ..., -0.2127, -0.1735, -0.2324]]],\n",
      "\n",
      "\n",
      "        [[[ 0.8696,  0.7716,  0.7716,  ...,  0.7912,  0.8108,  0.8304],\n",
      "          [ 0.8696,  0.8304,  0.8304,  ...,  0.7520,  0.7912,  0.8304],\n",
      "          [ 0.8892,  0.8892,  0.8696,  ...,  0.7912,  0.8108,  0.8500],\n",
      "          ...,\n",
      "          [ 1.0265,  1.0265,  1.0069,  ...,  0.7912,  0.7127,  0.6343],\n",
      "          [ 1.0069,  1.0069,  0.9676,  ...,  0.8304,  0.7912,  0.7520],\n",
      "          [ 1.0265,  1.0069,  0.9480,  ...,  0.8696,  0.8500,  0.8108]],\n",
      "\n",
      "         [[ 0.8588,  0.8588,  0.8784,  ...,  0.7608,  0.7608,  0.7804],\n",
      "          [ 0.8784,  0.8784,  0.8784,  ...,  0.7020,  0.7412,  0.7804],\n",
      "          [ 0.8784,  0.9176,  0.8980,  ...,  0.7412,  0.7804,  0.8196],\n",
      "          ...,\n",
      "          [ 0.9176,  0.9176,  0.8980,  ...,  0.6235,  0.5647,  0.4667],\n",
      "          [ 0.8980,  0.8980,  0.8980,  ...,  0.6824,  0.6627,  0.6039],\n",
      "          [ 0.8980,  0.8980,  0.8980,  ...,  0.8000,  0.7804,  0.7216]],\n",
      "\n",
      "         [[ 0.4931,  0.4343,  0.4343,  ...,  0.4539,  0.4147,  0.3951],\n",
      "          [ 0.5127,  0.4735,  0.4343,  ...,  0.3951,  0.3755,  0.3755],\n",
      "          [ 0.5127,  0.4735,  0.4539,  ...,  0.4343,  0.3951,  0.3559],\n",
      "          ...,\n",
      "          [ 0.6304,  0.6500,  0.6500,  ...,  0.1598,  0.0814, -0.0363],\n",
      "          [ 0.5912,  0.5912,  0.6304,  ...,  0.1990,  0.1206,  0.0225],\n",
      "          [ 0.5716,  0.5716,  0.5716,  ...,  0.2971,  0.2578,  0.1402]]],\n",
      "\n",
      "\n",
      "        [[[ 0.8892,  1.0657,  1.1049,  ...,  1.0461,  0.9873,  0.9088],\n",
      "          [ 0.7324,  0.9480,  0.9873,  ...,  0.9873,  0.9676,  0.9480],\n",
      "          [ 0.6343,  0.8500,  0.9088,  ...,  0.7912,  0.8108,  0.8500],\n",
      "          ...,\n",
      "          [ 0.6735,  1.0069,  1.2422,  ..., -0.2480, -0.4049, -0.5422],\n",
      "          [ 0.6931,  1.0265,  1.2422,  ..., -0.1696, -0.3853, -0.6010],\n",
      "          [ 0.6735,  1.0461,  1.2029,  ..., -0.1108, -0.3265, -0.5618]],\n",
      "\n",
      "         [[ 0.8784,  1.0549,  1.0549,  ...,  0.9961,  0.9373,  0.8392],\n",
      "          [ 0.7608,  0.9373,  0.9373,  ...,  0.9176,  0.8980,  0.8784],\n",
      "          [ 0.6627,  0.8392,  0.8588,  ...,  0.6627,  0.6824,  0.7216],\n",
      "          ...,\n",
      "          [ 0.8392,  1.0941,  1.2510,  ..., -0.4549, -0.5725, -0.6902],\n",
      "          [ 0.8196,  1.1137,  1.2510,  ..., -0.3961, -0.5529, -0.7490],\n",
      "          [ 0.8000,  1.1333,  1.2118,  ..., -0.3373, -0.5529, -0.7490]],\n",
      "\n",
      "         [[ 0.7088,  0.8461,  0.8657,  ...,  0.8069,  0.7480,  0.6500],\n",
      "          [ 0.5912,  0.7284,  0.7480,  ...,  0.7284,  0.7088,  0.6500],\n",
      "          [ 0.4931,  0.6304,  0.6696,  ...,  0.4539,  0.5127,  0.5127],\n",
      "          ...,\n",
      "          [ 0.6108,  0.8069,  0.9637,  ..., -0.6441, -0.6833, -0.7618],\n",
      "          [ 0.6108,  0.8265,  0.9637,  ..., -0.5265, -0.6637, -0.7814],\n",
      "          [ 0.5912,  0.8461,  0.9245,  ..., -0.4676, -0.6049, -0.7618]]],\n",
      "\n",
      "\n",
      "        ...,\n",
      "\n",
      "\n",
      "        [[[-0.0912, -0.2480, -0.3461,  ..., -1.2480, -1.2873, -1.3461],\n",
      "          [-0.1892, -0.3461, -0.4441,  ..., -1.4637, -1.4833, -1.4833],\n",
      "          [-0.2480, -0.4049, -0.5618,  ..., -1.6206, -1.6010, -1.5814],\n",
      "          ...,\n",
      "          [-0.3265, -0.5029, -0.6402,  ..., -1.4245, -1.3657, -1.2676],\n",
      "          [-0.4049, -0.5225, -0.5618,  ..., -1.2480, -1.2284, -1.1892],\n",
      "          [-0.3657, -0.4441, -0.5225,  ..., -1.1696, -1.1696, -1.1304]],\n",
      "\n",
      "         [[-0.4157, -0.5529, -0.6314,  ..., -0.9451, -0.9843, -0.9843],\n",
      "          [-0.4549, -0.5922, -0.6706,  ..., -1.0039, -1.0235, -1.0235],\n",
      "          [-0.4745, -0.6314, -0.7294,  ..., -1.1020, -1.0431, -1.0235],\n",
      "          ...,\n",
      "          [-0.5922, -0.7294, -0.8275,  ..., -1.0824, -1.0431, -0.9843],\n",
      "          [-0.7294, -0.7686, -0.8275,  ..., -0.9647, -0.9647, -0.9647],\n",
      "          [-0.7098, -0.7686, -0.8078,  ..., -0.9843, -0.9647, -0.9647]],\n",
      "\n",
      "         [[-0.7422, -0.8206, -0.8010,  ..., -0.6637, -0.7029, -0.7225],\n",
      "          [-0.7225, -0.7618, -0.7422,  ..., -0.6637, -0.6833, -0.6833],\n",
      "          [-0.7225, -0.7618, -0.7422,  ..., -0.6637, -0.6441, -0.6245],\n",
      "          ...,\n",
      "          [-0.8206, -0.8598, -0.8402,  ..., -0.5853, -0.5657, -0.5461],\n",
      "          [-0.9382, -0.8990, -0.8206,  ..., -0.6049, -0.6049, -0.6049],\n",
      "          [-0.9578, -0.9186, -0.8010,  ..., -0.7029, -0.7422, -0.7225]]],\n",
      "\n",
      "\n",
      "        [[[-0.5814, -0.5422, -0.3853,  ...,  1.5363,  1.4775,  1.4186],\n",
      "          [-0.8755, -0.8559, -0.9343,  ...,  1.4186,  1.5167,  1.4382],\n",
      "          [-0.7775, -0.7971, -0.8167,  ...,  1.3598,  1.5167,  1.4186],\n",
      "          ...,\n",
      "          [ 0.0853, -0.3657, -0.4833,  ...,  1.3206,  1.3990,  1.3402],\n",
      "          [-0.2873, -0.4833, -0.4245,  ...,  1.3206,  1.3990,  1.3598],\n",
      "          [-0.3853, -0.3853, -0.3657,  ...,  1.3598,  1.3794,  1.3402]],\n",
      "\n",
      "         [[-0.7490, -0.7490, -0.6118,  ...,  1.3098,  1.2706,  1.2314],\n",
      "          [-0.9647, -0.9843, -1.0627,  ...,  1.1922,  1.3098,  1.2314],\n",
      "          [-0.6902, -0.6902, -0.7294,  ...,  1.1725,  1.3098,  1.2118],\n",
      "          ...,\n",
      "          [ 0.0941, -0.3373, -0.4353,  ...,  1.1922,  1.2706,  1.2510],\n",
      "          [-0.2392, -0.4549, -0.3569,  ...,  1.1922,  1.2706,  1.2510],\n",
      "          [-0.3569, -0.3176, -0.2980,  ...,  1.1725,  1.2706,  1.2314]],\n",
      "\n",
      "         [[-0.6833, -0.6833, -0.5853,  ...,  0.9637,  0.8657,  0.7873],\n",
      "          [-0.7225, -0.7422, -0.8598,  ...,  0.9245,  0.9637,  0.8265],\n",
      "          [-0.3696, -0.4088, -0.4480,  ...,  0.9441,  0.9637,  0.8069],\n",
      "          ...,\n",
      "          [-0.0363, -0.4088, -0.3696,  ...,  0.6696,  0.7676,  0.8069],\n",
      "          [-0.2912, -0.4676, -0.2716,  ...,  0.6892,  0.8069,  0.8657],\n",
      "          [-0.2912, -0.2324, -0.1735,  ...,  0.7088,  0.8265,  0.8853]]],\n",
      "\n",
      "\n",
      "        [[[-0.0324, -0.0716, -0.1500,  ..., -0.3265, -0.3265, -0.3461],\n",
      "          [-0.0324, -0.0912, -0.1696,  ..., -0.3069, -0.3265, -0.3657],\n",
      "          [-0.0520, -0.0912, -0.1500,  ..., -0.3069, -0.3069, -0.3265],\n",
      "          ...,\n",
      "          [-0.0127, -0.0520, -0.2088,  ..., -0.6794, -0.6794, -0.6794],\n",
      "          [-0.0324, -0.0716, -0.2088,  ..., -0.6598, -0.6794, -0.6794],\n",
      "          [-0.0520, -0.0912, -0.2284,  ..., -0.7382, -0.7382, -0.6990]],\n",
      "\n",
      "         [[-0.2392, -0.2588, -0.3176,  ..., -0.4745, -0.4549, -0.4353],\n",
      "          [-0.2392, -0.2588, -0.3373,  ..., -0.4549, -0.4745, -0.4549],\n",
      "          [-0.2196, -0.2784, -0.3373,  ..., -0.4549, -0.4549, -0.4353],\n",
      "          ...,\n",
      "          [-0.2392, -0.2588, -0.3961,  ..., -0.7294, -0.7294, -0.7294],\n",
      "          [-0.2588, -0.2784, -0.3961,  ..., -0.7098, -0.7294, -0.7294],\n",
      "          [-0.2784, -0.2784, -0.4157,  ..., -0.7686, -0.7686, -0.7294]],\n",
      "\n",
      "         [[-0.6441, -0.6833, -0.7029,  ..., -0.5461, -0.5853, -0.5657],\n",
      "          [-0.6049, -0.6441, -0.7225,  ..., -0.5265, -0.5461, -0.5853],\n",
      "          [-0.6049, -0.6245, -0.7029,  ..., -0.5069, -0.5069, -0.5657],\n",
      "          ...,\n",
      "          [-0.7225, -0.6833, -0.7814,  ..., -0.7225, -0.7225, -0.7029],\n",
      "          [-0.7422, -0.7029, -0.7814,  ..., -0.7225, -0.7422, -0.7029],\n",
      "          [-0.7618, -0.7618, -0.8402,  ..., -0.8402, -0.8402, -0.7814]]]]) tensor([4, 4, 3, 1, 6, 9, 1, 7, 9, 5, 1, 6, 7, 6, 8, 0, 4, 3, 2, 9, 6, 1, 3, 3,\n",
      "        7, 6, 1, 9, 2, 7, 6, 2, 2, 1, 1, 1, 2, 2, 1, 5, 4, 6, 9, 5, 7, 1, 9, 6,\n",
      "        3, 2, 7, 6, 2, 4, 1, 3, 7, 1, 3, 5, 6, 8, 3, 5])\n",
      "1 tensor([[[[-1.5225, -1.5422, -1.5422,  ..., -0.7971, -0.8167, -0.8167],\n",
      "          [-1.5422, -1.5618, -1.5814,  ..., -0.7578, -0.7775, -0.7578],\n",
      "          [-1.5618, -1.5814, -1.6206,  ..., -0.7382, -0.7186, -0.6990],\n",
      "          ...,\n",
      "          [-1.6206, -1.6598, -1.6990,  ..., -1.0520, -0.8951, -0.8167],\n",
      "          [-1.6206, -1.6598, -1.6990,  ..., -0.9147, -0.7578, -0.6990],\n",
      "          [-1.6010, -1.6598, -1.7186,  ..., -0.7971, -0.6206, -0.5618]],\n",
      "\n",
      "         [[-1.7490, -1.7686, -1.7686,  ..., -0.9059, -0.9255, -0.9255],\n",
      "          [-1.7686, -1.7882, -1.8078,  ..., -0.8667, -0.8863, -0.8667],\n",
      "          [-1.7882, -1.8078, -1.8275,  ..., -0.8471, -0.8275, -0.8078],\n",
      "          ...,\n",
      "          [-1.6902, -1.7294, -1.7686,  ..., -1.1804, -1.0235, -0.9451],\n",
      "          [-1.7098, -1.7294, -1.7686,  ..., -1.0824, -0.9059, -0.8471],\n",
      "          [-1.7294, -1.7490, -1.7686,  ..., -0.9843, -0.8078, -0.7686]],\n",
      "\n",
      "         [[-1.8794, -1.8598, -1.8794,  ..., -1.2324, -1.2520, -1.2127],\n",
      "          [-1.8990, -1.8990, -1.9186,  ..., -1.1931, -1.1931, -1.1735],\n",
      "          [-1.9186, -1.9186, -1.9382,  ..., -1.1931, -1.1735, -1.1539],\n",
      "          ...,\n",
      "          [-1.8794, -1.9186, -1.9775,  ..., -1.5657, -1.4088, -1.3108],\n",
      "          [-1.8990, -1.9578, -2.0167,  ..., -1.4676, -1.2716, -1.1931],\n",
      "          [-1.9382, -1.9775, -2.0167,  ..., -1.3696, -1.1931, -1.1147]]],\n",
      "\n",
      "\n",
      "        [[[-0.7971, -0.7578, -0.7578,  ..., -1.0324, -1.1304, -1.1892],\n",
      "          [-0.8951, -0.8755, -0.8363,  ..., -1.1500, -1.2676, -1.3461],\n",
      "          [-1.1108, -1.1108, -1.0716,  ..., -1.0716, -1.1892, -1.2676],\n",
      "          ...,\n",
      "          [-1.7971, -1.8755, -1.9735,  ..., -1.8755, -1.7971, -1.6794],\n",
      "          [-1.8167, -1.8755, -1.9931,  ..., -1.8167, -1.7186, -1.6010],\n",
      "          [-1.7775, -1.8167, -1.9343,  ..., -1.7186, -1.6794, -1.5814]],\n",
      "\n",
      "         [[-1.0627, -1.0235, -1.0235,  ..., -1.2392, -1.3176, -1.3765],\n",
      "          [-1.1608, -1.1412, -1.1216,  ..., -1.3569, -1.4745, -1.5529],\n",
      "          [-1.4157, -1.3765, -1.3176,  ..., -1.2784, -1.3569, -1.4549],\n",
      "          ...,\n",
      "          [-1.8863, -1.9059, -1.9255,  ..., -2.0039, -1.9255, -1.7882],\n",
      "          [-1.8667, -1.8471, -1.8863,  ..., -1.9059, -1.8078, -1.6902],\n",
      "          [-1.7686, -1.7490, -1.7882,  ..., -1.7882, -1.7098, -1.6118]],\n",
      "\n",
      "         [[-0.8990, -0.8598, -0.8598,  ..., -1.2127, -1.3108, -1.3696],\n",
      "          [-0.9186, -0.8990, -0.8598,  ..., -1.2324, -1.3696, -1.4676],\n",
      "          [-1.0559, -1.0363, -0.9775,  ..., -1.0755, -1.1931, -1.3304],\n",
      "          ...,\n",
      "          [-1.7029, -1.7029, -1.7422,  ..., -1.5265, -1.4873, -1.4088],\n",
      "          [-1.7618, -1.7814, -1.7814,  ..., -1.5265, -1.4873, -1.3892],\n",
      "          [-1.7422, -1.7422, -1.7618,  ..., -1.5265, -1.4676, -1.4088]]],\n",
      "\n",
      "\n",
      "        [[[ 0.0265,  0.0069,  0.0461,  ...,  0.9284,  2.3598,  2.7324],\n",
      "          [ 0.0461,  0.0265,  0.0265,  ...,  0.9088,  2.3402,  2.7127],\n",
      "          [ 0.0461,  0.0265,  0.0265,  ...,  1.0853,  2.5167,  2.6735],\n",
      "          ...,\n",
      "          [ 1.6539,  0.3990,  0.1245,  ...,  0.0657,  0.0657,  0.0853],\n",
      "          [ 1.7520,  0.4382,  0.0461,  ...,  0.0461,  0.0461,  0.0657],\n",
      "          [ 1.8892,  0.4775, -0.1304,  ..., -0.0127,  0.0265,  0.0461]],\n",
      "\n",
      "         [[ 1.0745,  1.0941,  1.0941,  ...,  1.3098,  2.5843,  2.8000],\n",
      "          [ 1.0941,  1.0941,  1.0745,  ...,  1.3686,  2.6039,  2.8000],\n",
      "          [ 1.0941,  1.0549,  1.0549,  ...,  1.5843,  2.7804,  2.8000],\n",
      "          ...,\n",
      "          [ 1.9373,  0.9373,  0.9373,  ...,  1.0745,  1.0745,  1.0941],\n",
      "          [ 2.0549,  1.0353,  0.9176,  ...,  1.0745,  1.0745,  1.0745],\n",
      "          [ 2.1529,  1.0157,  0.7804,  ...,  1.0745,  1.0941,  1.0941]],\n",
      "\n",
      "         [[ 1.8461,  1.8461,  1.8657,  ...,  1.6304,  2.5912,  2.6500],\n",
      "          [ 1.8657,  1.8461,  1.8461,  ...,  1.6696,  2.5912,  2.6500],\n",
      "          [ 1.8657,  1.8461,  1.8265,  ...,  1.8657,  2.6500,  2.6500],\n",
      "          ...,\n",
      "          [ 2.0029,  1.2971,  1.5716,  ...,  1.8265,  1.8265,  1.8461],\n",
      "          [ 2.1598,  1.4343,  1.6108,  ...,  1.8265,  1.8265,  1.8265],\n",
      "          [ 2.2971,  1.4539,  1.4343,  ...,  1.8069,  1.8069,  1.8265]]],\n",
      "\n",
      "\n",
      "        ...,\n",
      "\n",
      "\n",
      "        [[[ 1.3990,  1.4382,  1.3794,  ...,  0.3206,  0.2225,  0.2029],\n",
      "          [ 1.3010,  1.3598,  1.3794,  ...,  0.4186,  0.3206,  0.3206],\n",
      "          [ 0.5559,  0.6343,  0.6539,  ...,  0.2618,  0.1049,  0.1441],\n",
      "          ...,\n",
      "          [ 0.2422,  0.2422,  0.3010,  ...,  0.3010,  0.3402,  0.2618],\n",
      "          [ 0.7324,  0.6735,  0.6931,  ...,  0.7324,  0.7520,  0.6931],\n",
      "          [ 0.8696,  0.8304,  0.8696,  ...,  0.7716,  0.7324,  0.7127]],\n",
      "\n",
      "         [[ 1.5451,  1.5843,  1.5255,  ...,  0.3098,  0.2314,  0.2118],\n",
      "          [ 1.4078,  1.5059,  1.5059,  ...,  0.4275,  0.3490,  0.3490],\n",
      "          [ 0.6627,  0.7608,  0.8000,  ...,  0.3098,  0.1529,  0.1922],\n",
      "          ...,\n",
      "          [ 0.5059,  0.5255,  0.6039,  ...,  0.6431,  0.7216,  0.6824],\n",
      "          [ 0.9176,  0.9176,  0.9569,  ...,  1.0157,  1.0549,  1.0353],\n",
      "          [ 1.0157,  1.0157,  1.0353,  ...,  0.9961,  0.9765,  0.9569]],\n",
      "\n",
      "         [[ 1.5912,  1.6696,  1.6108,  ...,  0.3951,  0.2578,  0.2382],\n",
      "          [ 1.4735,  1.5716,  1.6500,  ...,  0.5127,  0.3951,  0.4147],\n",
      "          [ 0.7480,  0.8853,  0.9833,  ...,  0.4539,  0.2775,  0.2971],\n",
      "          ...,\n",
      "          [ 0.6892,  0.7088,  0.7284,  ...,  0.3755,  0.4539,  0.4343],\n",
      "          [ 1.0618,  1.0618,  1.0618,  ...,  0.7088,  0.7873,  0.7873],\n",
      "          [ 1.1010,  1.1010,  1.1206,  ...,  0.7284,  0.7284,  0.7088]]],\n",
      "\n",
      "\n",
      "        [[[ 0.5363,  0.5363,  0.4971,  ..., -0.1696, -0.3657, -0.3853],\n",
      "          [ 0.5363,  0.5559,  0.5167,  ..., -0.0324, -0.1892, -0.2284],\n",
      "          [ 0.5167,  0.4971,  0.4578,  ...,  0.0657,  0.0265, -0.0324],\n",
      "          ...,\n",
      "          [ 0.5559,  0.6147,  0.5755,  ...,  0.6147,  0.6147,  0.5951],\n",
      "          [ 0.5755,  0.6147,  0.5951,  ...,  0.6931,  0.6931,  0.6539],\n",
      "          [ 0.5755,  0.5951,  0.5755,  ...,  0.7324,  0.7520,  0.7127]],\n",
      "\n",
      "         [[ 0.3490,  0.3294,  0.3490,  ..., -0.1804, -0.1804, -0.1804],\n",
      "          [ 0.3882,  0.3686,  0.3686,  ...,  0.0157, -0.0039, -0.0039],\n",
      "          [ 0.4078,  0.3882,  0.3686,  ...,  0.1725,  0.1333,  0.1333],\n",
      "          ...,\n",
      "          [ 0.5059,  0.4863,  0.4275,  ...,  0.5059,  0.5451,  0.5843],\n",
      "          [ 0.4667,  0.4863,  0.4471,  ...,  0.5059,  0.5451,  0.5843],\n",
      "          [ 0.4275,  0.4667,  0.4667,  ...,  0.5059,  0.5451,  0.5843]],\n",
      "\n",
      "         [[ 0.0225,  0.0422,  0.0225,  ..., -0.4873, -0.5069, -0.4873],\n",
      "          [ 0.0422,  0.0422,  0.0029,  ..., -0.3304, -0.3304, -0.3108],\n",
      "          [ 0.0814,  0.0225, -0.0167,  ..., -0.2127, -0.1931, -0.1931],\n",
      "          ...,\n",
      "          [ 0.1990,  0.2382,  0.2382,  ...,  0.4539,  0.4539,  0.3559],\n",
      "          [ 0.2186,  0.2578,  0.2186,  ...,  0.4343,  0.4343,  0.3755],\n",
      "          [ 0.2578,  0.2775,  0.2186,  ...,  0.3951,  0.3951,  0.3755]]],\n",
      "\n",
      "\n",
      "        [[[ 1.1637,  1.1245,  1.1441,  ..., -0.6598, -0.7382, -0.8167],\n",
      "          [ 1.2029,  1.1441,  1.1049,  ..., -0.7186, -0.7775, -0.8167],\n",
      "          [ 1.1245,  1.1245,  0.6343,  ..., -0.7775, -0.7775, -0.7578],\n",
      "          ...,\n",
      "          [-0.0520,  1.0069,  1.2029,  ..., -0.8755, -0.8951, -0.8363],\n",
      "          [ 0.3794,  1.1245,  1.3598,  ..., -0.8559, -0.8559, -0.7775],\n",
      "          [ 1.0853,  1.2225,  1.3794,  ..., -0.8559, -0.8559, -0.7382]],\n",
      "\n",
      "         [[ 1.3098,  1.2902,  1.3490,  ..., -0.9647, -1.0431, -1.0824],\n",
      "          [ 1.3686,  1.2902,  1.2510,  ..., -1.0039, -1.0824, -1.0824],\n",
      "          [ 1.4078,  1.2706,  0.7412,  ..., -1.0235, -1.0431, -0.9843],\n",
      "          ...,\n",
      "          [ 0.2902,  1.2118,  1.3490,  ..., -0.8667, -0.9451, -0.9255],\n",
      "          [ 0.6039,  1.2706,  1.5059,  ..., -0.8078, -0.8471, -0.8275],\n",
      "          [ 1.2510,  1.3882,  1.5255,  ..., -0.8275, -0.8275, -0.7882]],\n",
      "\n",
      "         [[ 1.2186,  1.1794,  1.2578,  ..., -0.8794, -0.9775, -1.0755],\n",
      "          [ 1.2971,  1.1990,  1.2775,  ..., -0.9382, -1.0363, -1.0755],\n",
      "          [ 1.3167,  1.2186,  0.9245,  ..., -0.9578, -1.0167, -1.0167],\n",
      "          ...,\n",
      "          [ 0.5520,  1.3363,  1.4343,  ..., -0.9578, -0.9971, -0.9382],\n",
      "          [ 0.5912,  1.1990,  1.4343,  ..., -0.9775, -0.9578, -0.8598],\n",
      "          [ 0.9833,  1.1010,  1.3167,  ..., -0.9578, -0.9382, -0.8206]]]]) tensor([7, 3, 6, 9, 6, 1, 4, 2, 4, 2, 1, 1, 3, 6, 6, 4, 4, 9, 1, 8, 1, 8, 6, 1,\n",
      "        8, 1, 8, 7, 5, 3, 6, 3, 3, 3, 3, 2, 3, 6, 1, 2, 2, 2, 9, 0, 1, 8, 2, 3,\n",
      "        3, 6, 6, 6, 7, 3, 7, 1, 9, 3, 5, 7, 7, 1, 2, 7])\n",
      "2 tensor([[[[-0.3461, -0.5422, -0.5814,  ...,  0.7912,  0.7912,  0.7912],\n",
      "          [-0.6990, -0.8951, -0.9539,  ...,  0.4775,  0.5559,  0.5755],\n",
      "          [-1.2088, -1.3069, -1.3657,  ..., -0.1892, -0.1500, -0.1500],\n",
      "          ...,\n",
      "          [-1.0716, -0.6206, -0.1892,  ..., -1.0520, -1.3657, -1.3461],\n",
      "          [-0.9147, -0.8951, -0.9147,  ..., -1.2284, -1.2088, -1.1696],\n",
      "          [-0.7971, -0.8167, -0.8559,  ..., -1.2480, -1.2480, -1.2088]],\n",
      "\n",
      "         [[-0.5922, -0.7686, -0.7490,  ...,  0.7216,  0.7412,  0.7608],\n",
      "          [-0.9255, -1.1020, -1.1020,  ...,  0.3882,  0.4667,  0.5255],\n",
      "          [-1.3765, -1.4549, -1.4549,  ..., -0.2784, -0.2392, -0.2392],\n",
      "          ...,\n",
      "          [-1.1020, -0.7098, -0.2980,  ..., -1.1216, -1.4745, -1.4941],\n",
      "          [-0.9647, -1.0235, -1.0627,  ..., -1.2980, -1.3176, -1.3569],\n",
      "          [-0.8863, -0.9451, -1.0235,  ..., -1.3373, -1.3373, -1.3961]],\n",
      "\n",
      "         [[-0.5853, -0.7225, -0.6637,  ...,  0.6500,  0.6696,  0.6892],\n",
      "          [-0.8010, -0.9578, -0.9186,  ...,  0.4735,  0.5520,  0.5912],\n",
      "          [-1.1735, -1.2127, -1.1539,  ..., -0.0755, -0.0363, -0.0363],\n",
      "          ...,\n",
      "          [-0.6833, -0.2324,  0.1598,  ..., -0.4676, -0.7225, -0.6833],\n",
      "          [-0.5853, -0.5461, -0.5265,  ..., -0.6441, -0.6245, -0.6245],\n",
      "          [-0.5657, -0.5265, -0.5265,  ..., -0.7618, -0.7225, -0.7422]]],\n",
      "\n",
      "\n",
      "        [[[ 0.8892,  0.8500,  0.7324,  ...,  1.2422,  1.2422,  1.2422],\n",
      "          [ 0.7716,  0.7324,  0.6147,  ...,  1.2618,  1.2422,  1.2422],\n",
      "          [ 0.5167,  0.4775,  0.3794,  ...,  1.3010,  1.2814,  1.2814],\n",
      "          ...,\n",
      "          [ 1.0657,  1.0657,  1.0853,  ...,  1.4578,  1.4775,  1.4775],\n",
      "          [ 0.6931,  0.6539,  0.5559,  ...,  1.4578,  1.4578,  1.4578],\n",
      "          [ 0.5167,  0.4578,  0.3206,  ...,  1.4578,  1.4578,  1.4578]],\n",
      "\n",
      "         [[ 0.8392,  0.8000,  0.7020,  ...,  1.2314,  1.2510,  1.2510],\n",
      "          [ 0.7216,  0.6824,  0.6039,  ...,  1.2510,  1.2706,  1.2706],\n",
      "          [ 0.4471,  0.4275,  0.3490,  ...,  1.2902,  1.3098,  1.3098],\n",
      "          ...,\n",
      "          [ 1.1529,  1.1725,  1.2118,  ...,  1.6235,  1.6431,  1.6431],\n",
      "          [ 0.7804,  0.7412,  0.6627,  ...,  1.6039,  1.6235,  1.6235],\n",
      "          [ 0.6039,  0.5451,  0.4275,  ...,  1.6039,  1.6235,  1.6235]],\n",
      "\n",
      "         [[ 0.7284,  0.6892,  0.5716,  ...,  0.9441,  0.9637,  0.9637],\n",
      "          [ 0.6304,  0.5912,  0.4931,  ...,  0.9637,  0.9833,  0.9833],\n",
      "          [ 0.3755,  0.3559,  0.2775,  ...,  1.0225,  1.0225,  1.0225],\n",
      "          ...,\n",
      "          [ 1.1206,  1.1402,  1.2186,  ...,  1.4343,  1.4147,  1.4147],\n",
      "          [ 0.7284,  0.7088,  0.6500,  ...,  1.4147,  1.3951,  1.3951],\n",
      "          [ 0.5716,  0.5127,  0.4147,  ...,  1.4147,  1.3951,  1.3951]]],\n",
      "\n",
      "\n",
      "        [[[ 0.2814,  0.2422,  0.1637,  ..., -0.1304, -0.1304, -0.1892],\n",
      "          [ 0.2814,  0.1637,  0.0265,  ..., -0.0912, -0.0520, -0.1108],\n",
      "          [ 0.1637, -0.0520, -0.2676,  ...,  0.0069,  0.0069, -0.0520],\n",
      "          ...,\n",
      "          [ 0.3010,  0.1833, -0.0912,  ...,  0.3402,  0.1637,  0.0657],\n",
      "          [ 0.2814,  0.2225, -0.0520,  ...,  0.3206,  0.1441,  0.0657],\n",
      "          [ 0.2814,  0.1245, -0.0324,  ...,  0.3010,  0.2029,  0.0265]],\n",
      "\n",
      "         [[ 0.5059,  0.4863,  0.4667,  ..., -0.1804, -0.1804, -0.2392],\n",
      "          [ 0.4471,  0.4078,  0.3490,  ..., -0.0824, -0.1020, -0.1608],\n",
      "          [ 0.3294,  0.1922,  0.0549,  ...,  0.0353, -0.0039, -0.0431],\n",
      "          ...,\n",
      "          [ 0.5255,  0.4275,  0.1137,  ...,  0.4471,  0.3686,  0.3098],\n",
      "          [ 0.5255,  0.4667,  0.2314,  ...,  0.4471,  0.3686,  0.2902],\n",
      "          [ 0.5255,  0.4667,  0.2706,  ...,  0.3882,  0.3686,  0.2510]],\n",
      "\n",
      "         [[ 0.3755,  0.3951,  0.3951,  ..., -0.1343, -0.1343, -0.1931],\n",
      "          [ 0.3363,  0.3559,  0.3559,  ..., -0.0559, -0.0559, -0.1147],\n",
      "          [ 0.2775,  0.2186,  0.1402,  ...,  0.1010,  0.0814, -0.0167],\n",
      "          ...,\n",
      "          [ 0.3951,  0.4343,  0.2382,  ...,  0.5127,  0.3363,  0.2186],\n",
      "          [ 0.4343,  0.3755,  0.2382,  ...,  0.4735,  0.2775,  0.1598],\n",
      "          [ 0.5127,  0.3363,  0.2186,  ...,  0.3951,  0.2971,  0.1206]]],\n",
      "\n",
      "\n",
      "        ...,\n",
      "\n",
      "\n",
      "        [[[-1.4637, -1.5618, -1.6402,  ..., -0.8559, -0.8167, -0.7578],\n",
      "          [-1.4637, -1.5814, -1.6598,  ..., -0.8755, -0.8559, -0.8559],\n",
      "          [-1.4637, -1.5814, -1.6402,  ..., -0.9147, -0.9147, -0.9539],\n",
      "          ...,\n",
      "          [-1.0912, -0.9343, -0.9931,  ..., -0.6794, -0.6402, -0.6206],\n",
      "          [-1.1108, -0.9343, -0.9735,  ..., -0.7578, -0.7186, -0.6990],\n",
      "          [-1.0912, -0.9343, -0.9735,  ..., -0.8559, -0.7971, -0.7775]],\n",
      "\n",
      "         [[-1.5529, -1.6510, -1.7294,  ..., -0.8471, -0.8471, -0.8863],\n",
      "          [-1.5529, -1.6706, -1.7490,  ..., -0.8667, -0.8863, -0.9059],\n",
      "          [-1.5529, -1.6706, -1.7294,  ..., -0.8863, -0.9059, -0.9647],\n",
      "          ...,\n",
      "          [-1.1216, -0.9451, -1.0431,  ..., -0.7098, -0.7098, -0.7294],\n",
      "          [-1.1216, -0.9451, -1.0235,  ..., -0.8078, -0.7882, -0.8078],\n",
      "          [-1.1216, -0.9451, -1.0235,  ..., -0.9255, -0.9255, -0.9255]],\n",
      "\n",
      "         [[-1.6049, -1.7422, -1.8206,  ..., -1.0559, -1.0559, -1.0951],\n",
      "          [-1.6049, -1.7422, -1.8402,  ..., -1.0755, -1.0951, -1.1539],\n",
      "          [-1.6049, -1.7422, -1.8206,  ..., -1.0951, -1.1343, -1.2127],\n",
      "          ...,\n",
      "          [-1.3304, -1.2127, -1.2912,  ..., -1.0363, -1.0363, -1.0167],\n",
      "          [-1.3696, -1.2127, -1.2716,  ..., -1.1343, -1.1343, -1.0951],\n",
      "          [-1.3696, -1.2127, -1.2716,  ..., -1.2716, -1.2324, -1.1931]]],\n",
      "\n",
      "\n",
      "        [[[ 0.8108,  0.7716,  0.6735,  ..., -0.7578, -0.4049, -0.2088],\n",
      "          [ 0.8304,  0.7912,  0.6931,  ..., -0.6794, -0.3265, -0.1304],\n",
      "          [ 0.8500,  0.8108,  0.7127,  ..., -0.5225, -0.2088, -0.0520],\n",
      "          ...,\n",
      "          [ 0.5559,  0.5559,  0.5363,  ..., -0.5422, -0.3265, -0.2088],\n",
      "          [ 0.5755,  0.5755,  0.5363,  ..., -0.2676, -0.1696, -0.1304],\n",
      "          [ 0.5755,  0.5755,  0.5363,  ..., -0.0912, -0.0520, -0.0520]],\n",
      "\n",
      "         [[ 0.7412,  0.7020,  0.6039,  ..., -0.8863, -0.5137, -0.2980],\n",
      "          [ 0.7804,  0.7216,  0.6039,  ..., -0.7686, -0.4157, -0.2196],\n",
      "          [ 0.8000,  0.7412,  0.6235,  ..., -0.5725, -0.2588, -0.1020],\n",
      "          ...,\n",
      "          [ 0.5059,  0.5059,  0.4667,  ..., -0.5137, -0.2980, -0.1804],\n",
      "          [ 0.5255,  0.5059,  0.4667,  ..., -0.2392, -0.1412, -0.1020],\n",
      "          [ 0.5255,  0.5059,  0.4667,  ..., -0.0824, -0.0627, -0.0627]],\n",
      "\n",
      "         [[ 0.4931,  0.4735,  0.4147,  ..., -0.5069, -0.1931, -0.0363],\n",
      "          [ 0.5127,  0.4931,  0.4343,  ..., -0.3892, -0.0951,  0.0618],\n",
      "          [ 0.5324,  0.5324,  0.4931,  ..., -0.1735,  0.0814,  0.2186],\n",
      "          ...,\n",
      "          [ 0.1990,  0.2186,  0.2186,  ..., -0.4284, -0.2324, -0.1147],\n",
      "          [ 0.2186,  0.2382,  0.2382,  ..., -0.2324, -0.1539, -0.1147],\n",
      "          [ 0.2186,  0.2382,  0.2382,  ..., -0.0951, -0.0951, -0.1147]]],\n",
      "\n",
      "\n",
      "        [[[ 1.5167,  1.3010,  0.9873,  ...,  1.3794,  1.3010,  1.2422],\n",
      "          [ 1.4775,  1.1441,  0.7716,  ...,  1.3206,  1.3402,  1.3010],\n",
      "          [ 1.3990,  1.0069,  0.5951,  ...,  1.2814,  1.3794,  1.3598],\n",
      "          ...,\n",
      "          [ 0.7912,  0.5951,  0.3794,  ...,  1.3206,  1.3402,  1.3402],\n",
      "          [ 0.8500,  0.7127,  0.6735,  ...,  1.3010,  1.3402,  1.3010],\n",
      "          [ 0.9676,  0.8108,  0.7912,  ...,  1.2814,  1.3010,  1.2422]],\n",
      "\n",
      "         [[ 1.5451,  1.2706,  0.9569,  ...,  1.3490,  1.2706,  1.2118],\n",
      "          [ 1.4667,  1.1137,  0.7412,  ...,  1.2902,  1.3098,  1.2706],\n",
      "          [ 1.3882,  0.9765,  0.5647,  ...,  1.2510,  1.3490,  1.3294],\n",
      "          ...,\n",
      "          [ 0.7804,  0.5647,  0.3294,  ...,  1.3686,  1.3882,  1.3686],\n",
      "          [ 0.8392,  0.6627,  0.6431,  ...,  1.3294,  1.3882,  1.3490],\n",
      "          [ 0.9373,  0.8000,  0.7804,  ...,  1.3294,  1.3490,  1.2902]],\n",
      "\n",
      "         [[ 1.2775,  1.0225,  0.7088,  ...,  1.0814,  1.0029,  0.9441],\n",
      "          [ 1.2382,  0.8657,  0.4735,  ...,  1.0422,  1.0422,  1.0225],\n",
      "          [ 1.1794,  0.7284,  0.2971,  ...,  1.0029,  1.1010,  1.0814],\n",
      "          ...,\n",
      "          [ 0.5127,  0.3167,  0.1402,  ...,  1.1794,  1.1206,  1.0814],\n",
      "          [ 0.6108,  0.4735,  0.4735,  ...,  1.1402,  1.1402,  1.0814],\n",
      "          [ 0.7480,  0.6108,  0.6108,  ...,  1.1010,  1.0814,  1.0225]]]]) tensor([8, 4, 9, 1, 0, 5, 5, 0, 1, 9, 1, 1, 5, 5, 6, 7, 9, 1, 0, 1, 6, 0, 4, 6,\n",
      "        0, 2, 3, 8, 6, 3, 5, 1, 1, 8, 2, 8, 6, 0, 3, 1, 4, 4, 6, 6, 5, 2, 6, 3,\n",
      "        2, 3, 9, 4, 1, 2, 1, 0, 1, 6, 1, 6, 9, 2, 1, 0])\n",
      "3 tensor([[[[ 0.7912,  0.7324,  0.6931,  ..., -0.5422, -0.4049, -0.3657],\n",
      "          [ 0.7520,  0.7324,  0.7520,  ..., -0.6990, -0.6402, -0.6402],\n",
      "          [ 0.7716,  0.7324,  0.7520,  ..., -0.4637, -0.4637, -0.5225],\n",
      "          ...,\n",
      "          [ 0.8108,  0.8108,  0.7716,  ..., -0.2676, -0.8559, -0.8559],\n",
      "          [ 0.8108,  0.8108,  0.7520,  ..., -0.3069, -0.7775, -0.8363],\n",
      "          [ 0.8304,  0.8108,  0.7716,  ..., -0.4049, -0.6598, -0.7775]],\n",
      "\n",
      "         [[ 0.6039,  0.5255,  0.5451,  ..., -0.6314, -0.4941, -0.4549],\n",
      "          [ 0.5451,  0.5255,  0.5451,  ..., -0.7490, -0.6902, -0.6902],\n",
      "          [ 0.5255,  0.4863,  0.5451,  ..., -0.4745, -0.4941, -0.5529],\n",
      "          ...,\n",
      "          [ 0.6235,  0.6235,  0.6235,  ..., -0.3961, -0.9451, -0.9255],\n",
      "          [ 0.6235,  0.6235,  0.6039,  ..., -0.4353, -0.8667, -0.9059],\n",
      "          [ 0.6431,  0.6235,  0.6235,  ..., -0.4745, -0.7294, -0.8078]],\n",
      "\n",
      "         [[ 0.3363,  0.3363,  0.3363,  ..., -0.3500, -0.1735, -0.1735],\n",
      "          [ 0.3363,  0.3167,  0.3363,  ..., -0.4284, -0.3304, -0.3304],\n",
      "          [ 0.3363,  0.2971,  0.3363,  ..., -0.1343, -0.0951, -0.1931],\n",
      "          ...,\n",
      "          [ 0.3559,  0.3559,  0.3559,  ..., -0.5461, -1.0167, -0.9578],\n",
      "          [ 0.3559,  0.3559,  0.3363,  ..., -0.5657, -0.9382, -0.9578],\n",
      "          [ 0.3755,  0.3559,  0.3559,  ..., -0.5265, -0.7814, -0.8598]]],\n",
      "\n",
      "\n",
      "        [[[-1.3853, -1.4833, -1.7186,  ..., -0.6206, -0.3069, -0.1892],\n",
      "          [-1.4049, -1.4637, -1.6794,  ..., -0.5422, -0.2676, -0.1696],\n",
      "          [-1.4049, -1.4441, -1.5618,  ..., -0.3069, -0.1500, -0.0716],\n",
      "          ...,\n",
      "          [-1.1892, -1.2284, -1.3461,  ..., -1.6010, -1.5814, -1.5814],\n",
      "          [-1.5029, -1.5225, -1.5618,  ..., -1.5618, -1.5029, -1.4833],\n",
      "          [-1.6010, -1.6010, -1.6206,  ..., -1.5422, -1.4637, -1.4245]],\n",
      "\n",
      "         [[-1.5922, -1.6902, -1.9255,  ..., -0.5725, -0.2588, -0.1412],\n",
      "          [-1.6118, -1.6706, -1.8863,  ..., -0.4941, -0.2196, -0.1216],\n",
      "          [-1.6314, -1.6706, -1.7882,  ..., -0.2784, -0.1020, -0.0235],\n",
      "          ...,\n",
      "          [-1.3961, -1.4549, -1.5922,  ..., -1.8275, -1.8471, -1.8471],\n",
      "          [-1.7294, -1.7490, -1.8078,  ..., -1.7686, -1.7294, -1.7294],\n",
      "          [-1.8275, -1.8275, -1.8667,  ..., -1.7490, -1.7098, -1.6902]],\n",
      "\n",
      "         [[-0.9775, -1.0755, -1.3304,  ..., -0.3108, -0.0363,  0.0618],\n",
      "          [-0.9971, -1.0559, -1.2716,  ..., -0.2324,  0.0029,  0.1010],\n",
      "          [-0.9578, -0.9971, -1.1343,  ..., -0.0363,  0.1206,  0.1990],\n",
      "          ...,\n",
      "          [-0.8010, -0.8206, -0.8598,  ..., -1.2912, -1.3108, -1.3108],\n",
      "          [-1.0363, -1.0363, -1.0167,  ..., -1.2520, -1.2127, -1.2127],\n",
      "          [-1.1343, -1.1343, -1.0755,  ..., -1.2520, -1.1931, -1.1735]]],\n",
      "\n",
      "\n",
      "        [[[ 2.2029,  2.2422,  2.2422,  ...,  1.6147,  1.8108,  1.9088],\n",
      "          [ 2.1833,  2.3794,  2.4186,  ...,  1.5559,  1.6931,  1.8108],\n",
      "          [ 2.2814,  2.5167,  2.1637,  ...,  1.4578,  1.5363,  1.6931],\n",
      "          ...,\n",
      "          [ 2.1833,  1.8304,  0.9873,  ...,  2.0853,  2.0853,  2.0853],\n",
      "          [ 2.0853,  2.1049,  1.7127,  ...,  2.0853,  2.0853,  2.0853],\n",
      "          [ 1.9480,  2.1833,  2.0265,  ...,  2.1049,  2.1049,  2.1049]],\n",
      "\n",
      "         [[ 2.3490,  2.3882,  2.3882,  ...,  1.8588,  2.0157,  2.0745],\n",
      "          [ 2.3490,  2.5255,  2.5647,  ...,  1.8000,  1.8980,  1.9765],\n",
      "          [ 2.4471,  2.6627,  2.2902,  ...,  1.6824,  1.7412,  1.8588],\n",
      "          ...,\n",
      "          [ 2.3294,  2.0549,  1.2118,  ...,  2.2314,  2.2314,  2.2314],\n",
      "          [ 2.2118,  2.2902,  1.9176,  ...,  2.2314,  2.2314,  2.2314],\n",
      "          [ 2.0941,  2.3490,  2.2314,  ...,  2.2510,  2.2510,  2.2510]],\n",
      "\n",
      "         [[ 2.2186,  2.2578,  2.2578,  ...,  1.7676,  1.9441,  2.0029],\n",
      "          [ 2.2186,  2.4147,  2.4343,  ...,  1.7088,  1.8069,  1.9049],\n",
      "          [ 2.3167,  2.5912,  2.2382,  ...,  1.5912,  1.6696,  1.7873],\n",
      "          ...,\n",
      "          [ 2.2971,  2.0422,  1.2382,  ...,  2.1010,  2.1010,  2.1010],\n",
      "          [ 2.1402,  2.2775,  1.9637,  ...,  2.1010,  2.1010,  2.1010],\n",
      "          [ 2.0225,  2.3167,  2.2382,  ...,  2.1206,  2.1206,  2.1206]]],\n",
      "\n",
      "\n",
      "        ...,\n",
      "\n",
      "\n",
      "        [[[-1.1696, -1.2284, -1.2676,  ...,  0.1049, -0.1304, -0.1696],\n",
      "          [-0.0520, -0.1500, -0.2088,  ...,  0.3794,  0.4775,  0.4382],\n",
      "          [-0.0127,  0.1833,  0.2225,  ..., -0.9735, -1.0127, -0.8755],\n",
      "          ...,\n",
      "          [-1.1108, -0.6990, -0.4441,  ...,  0.3010,  0.2618,  0.2422],\n",
      "          [-0.7186, -0.5225, -0.3069,  ...,  0.2814,  0.3402,  0.3598],\n",
      "          [-0.5814, -0.3461,  0.0265,  ...,  0.3402,  0.3794,  0.3010]],\n",
      "\n",
      "         [[-1.2392, -1.2392, -1.2588,  ...,  0.2314,  0.0353, -0.0039],\n",
      "          [-0.0824, -0.1804, -0.2784,  ...,  0.5059,  0.5843,  0.6235],\n",
      "          [-0.0235,  0.1529,  0.1529,  ..., -0.9255, -0.9451, -0.8078],\n",
      "          ...,\n",
      "          [-1.2784, -0.8275, -0.4157,  ...,  0.3294,  0.3294,  0.3686],\n",
      "          [-0.8667, -0.6314, -0.4157,  ...,  0.3294,  0.3294,  0.3882],\n",
      "          [-0.6118, -0.4745, -0.1216,  ...,  0.3882,  0.4078,  0.3686]],\n",
      "\n",
      "         [[-1.1147, -1.1931, -1.1931,  ...,  0.4147,  0.1990,  0.1598],\n",
      "          [-0.1931, -0.2520, -0.3500,  ...,  0.2971,  0.4343,  0.4931],\n",
      "          [-0.2520, -0.0363, -0.0363,  ..., -0.9578, -0.8990, -0.7618],\n",
      "          ...,\n",
      "          [-1.5069, -1.0951, -0.5069,  ...,  0.2971,  0.2971,  0.2971],\n",
      "          [-1.1343, -0.9578, -0.5461,  ...,  0.3167,  0.3559,  0.3951],\n",
      "          [-0.9578, -0.7029, -0.2520,  ...,  0.3951,  0.3559,  0.3559]]],\n",
      "\n",
      "\n",
      "        [[[-1.4441, -1.1500, -0.7775,  ..., -0.6598, -0.5618, -0.5618],\n",
      "          [-1.2284, -0.9539, -0.5814,  ..., -0.7186, -0.6010, -0.5814],\n",
      "          [-1.1500, -0.7971, -0.3657,  ..., -0.8755, -0.7578, -0.6990],\n",
      "          ...,\n",
      "          [-1.8755, -1.8559, -1.7186,  ..., -1.2480, -1.2676, -1.3265],\n",
      "          [-1.8755, -1.9735, -1.9539,  ..., -1.2676, -1.2676, -1.3461],\n",
      "          [-1.7382, -1.8363, -1.9147,  ..., -1.1892, -1.2284, -1.3069]],\n",
      "\n",
      "         [[-1.4549, -1.1804, -0.7882,  ..., -0.9647, -0.9647, -0.8863],\n",
      "          [-1.3373, -1.1020, -0.7098,  ..., -1.0627, -1.0039, -0.8863],\n",
      "          [-1.2196, -0.9647, -0.5529,  ..., -1.1804, -1.0627, -0.8275],\n",
      "          ...,\n",
      "          [-1.2784, -1.1804, -1.0627,  ..., -1.1608, -1.1608, -1.1608],\n",
      "          [-1.2980, -1.2588, -1.1608,  ..., -1.2000, -1.1804, -1.2392],\n",
      "          [-1.2392, -1.2196, -1.1412,  ..., -1.2000, -1.2000, -1.2588]],\n",
      "\n",
      "         [[-1.1147, -0.8990, -0.6637,  ..., -0.6049, -0.6637, -0.7814],\n",
      "          [-0.8990, -0.7225, -0.5265,  ..., -0.6833, -0.7225, -0.8598],\n",
      "          [-0.7618, -0.5657, -0.4088,  ..., -0.8010, -0.8010, -0.8598],\n",
      "          ...,\n",
      "          [-1.0363, -1.1147, -1.1539,  ..., -0.9382, -0.9186, -0.9971],\n",
      "          [-1.1147, -1.2324, -1.3304,  ..., -0.9775, -0.9578, -1.0167],\n",
      "          [-1.1147, -1.2716, -1.3892,  ..., -1.0363, -0.9775, -0.9775]]],\n",
      "\n",
      "\n",
      "        [[[-0.5225, -0.5225, -0.5225,  ..., -0.8167, -0.8167, -0.7971],\n",
      "          [-0.4245, -0.5225, -0.5029,  ..., -0.5618, -0.6010, -0.5814],\n",
      "          [-0.3461, -0.3461, -0.2676,  ..., -0.5618, -0.5814, -0.5618],\n",
      "          ...,\n",
      "          [-0.3069, -0.4833, -0.3461,  ..., -0.0127, -0.0520, -0.0127],\n",
      "          [-0.4049, -0.4637, -0.3853,  ..., -0.0912, -0.0520, -0.0520],\n",
      "          [-0.3853, -0.4049, -0.3657,  ..., -0.1500, -0.1108, -0.1304]],\n",
      "\n",
      "         [[-1.0824, -1.1020, -1.1216,  ..., -1.3765, -1.3569, -1.3373],\n",
      "          [-1.1020, -1.2196, -1.2196,  ..., -1.2784, -1.2588, -1.2588],\n",
      "          [-1.1412, -1.1412, -1.1608,  ..., -1.3373, -1.3569, -1.3569],\n",
      "          ...,\n",
      "          [-0.6706, -0.9059, -0.9255,  ..., -1.1412, -1.1216, -1.1412],\n",
      "          [-0.8863, -1.0431, -1.0627,  ..., -1.1608, -1.2000, -1.2000],\n",
      "          [-1.0824, -1.1412, -1.1804,  ..., -1.2000, -1.2000, -1.2196]],\n",
      "\n",
      "         [[-1.4873, -1.4676, -1.4873,  ..., -1.9775, -1.9382, -1.8794],\n",
      "          [-1.5461, -1.6637, -1.6049,  ..., -1.9775, -1.9578, -1.8598],\n",
      "          [-1.5461, -1.6049, -1.6245,  ..., -2.0559, -2.0363, -2.0167],\n",
      "          ...,\n",
      "          [-0.5853, -0.8794, -0.8990,  ..., -1.7029, -1.6833, -1.6833],\n",
      "          [-0.8402, -1.0559, -1.1147,  ..., -1.7225, -1.6833, -1.6833],\n",
      "          [-1.0559, -1.1735, -1.3108,  ..., -1.6833, -1.6245, -1.6833]]]]) tensor([7, 0, 1, 2, 0, 7, 9, 9, 7, 1, 5, 4, 3, 4, 6, 1, 2, 2, 5, 4, 4, 6, 1, 1,\n",
      "        5, 7, 0, 0, 1, 6, 1, 6, 4, 4, 5, 9, 1, 3, 1, 6, 8, 2, 6, 2, 1, 7, 2, 1,\n",
      "        4, 8, 6, 4, 5, 0, 1, 1, 3, 2, 2, 1, 1, 6, 0, 5])\n",
      "4 tensor([[[[ 0.7912,  0.8108,  0.7127,  ...,  2.3990,  2.4775,  2.4775],\n",
      "          [ 2.0265,  1.9284,  1.8108,  ...,  2.3598,  2.3598,  2.2814],\n",
      "          [ 2.8108,  2.7912,  2.7912,  ...,  1.6735,  1.4775,  1.2422],\n",
      "          ...,\n",
      "          [-0.6990, -0.7382, -0.5618,  ..., -0.6010, -0.7578, -1.0912],\n",
      "          [-0.5422, -0.7775, -0.8167,  ..., -1.3657, -1.4441, -1.5814],\n",
      "          [-0.6010, -0.8951, -0.9735,  ..., -1.6794, -1.6598, -1.7186]],\n",
      "\n",
      "         [[ 0.6431,  0.6039,  0.4667,  ...,  2.1725,  2.2314,  2.1725],\n",
      "          [ 1.8196,  1.7216,  1.5843,  ...,  1.9765,  1.9373,  1.8196],\n",
      "          [ 2.6235,  2.5647,  2.5451,  ...,  1.1922,  0.9569,  0.6431],\n",
      "          ...,\n",
      "          [-1.0627, -1.1216, -0.9843,  ..., -0.5922, -0.7490, -1.1216],\n",
      "          [-0.9059, -1.2000, -1.2392,  ..., -1.4549, -1.4941, -1.5725],\n",
      "          [-0.9451, -1.2784, -1.4157,  ..., -1.7882, -1.7294, -1.7098]],\n",
      "\n",
      "         [[ 0.4147,  0.4343,  0.3363,  ...,  1.7284,  1.7873,  1.7480],\n",
      "          [ 1.5912,  1.5127,  1.3951,  ...,  1.4539,  1.4539,  1.3363],\n",
      "          [ 2.2971,  2.2971,  2.2971,  ...,  0.7480,  0.5716,  0.3363],\n",
      "          ...,\n",
      "          [-1.3892, -1.4480, -1.2520,  ..., -0.4480, -0.6441, -1.0167],\n",
      "          [-1.3108, -1.4873, -1.4676,  ..., -1.2127, -1.2912, -1.3892],\n",
      "          [-1.3108, -1.5461, -1.5853,  ..., -1.5069, -1.5265, -1.5265]]],\n",
      "\n",
      "\n",
      "        [[[ 1.6343,  1.6539,  1.7127,  ...,  0.2225,  0.0265, -0.0520],\n",
      "          [ 1.5951,  1.6343,  1.6931,  ...,  0.0461, -0.0127, -0.0716],\n",
      "          [ 1.6343,  1.7324,  1.7912,  ...,  0.2422,  0.2225,  0.2029],\n",
      "          ...,\n",
      "          [-0.3069, -0.2676, -0.2284,  ...,  0.1441,  0.2814,  0.3010],\n",
      "          [-0.2480, -0.2480, -0.2284,  ...,  0.1049,  0.2422,  0.2422],\n",
      "          [-0.3069, -0.3069, -0.3069,  ...,  0.1049,  0.1441,  0.2029]],\n",
      "\n",
      "         [[ 1.6627,  1.6824,  1.7608,  ...,  0.1922,  0.0157, -0.0824],\n",
      "          [ 1.6235,  1.6627,  1.7216,  ...,  0.0157, -0.0235, -0.0431],\n",
      "          [ 1.6627,  1.7412,  1.8000,  ...,  0.2314,  0.2706,  0.2510],\n",
      "          ...,\n",
      "          [-0.1216, -0.0824, -0.0627,  ...,  0.2706,  0.4275,  0.4471],\n",
      "          [-0.0627, -0.0431, -0.0431,  ...,  0.2510,  0.4078,  0.4078],\n",
      "          [-0.1216, -0.0824, -0.0824,  ...,  0.2510,  0.3098,  0.3686]],\n",
      "\n",
      "         [[ 1.7284,  1.7284,  1.7480,  ...,  0.4931,  0.3559,  0.3167],\n",
      "          [ 1.6892,  1.7088,  1.7284,  ...,  0.3167,  0.3363,  0.3363],\n",
      "          [ 1.7088,  1.7676,  1.8265,  ...,  0.4931,  0.5520,  0.5716],\n",
      "          ...,\n",
      "          [-0.0363,  0.0225,  0.0029,  ...,  0.2382,  0.3559,  0.3755],\n",
      "          [ 0.0225,  0.0422,  0.0225,  ...,  0.2382,  0.3363,  0.3363],\n",
      "          [-0.0363, -0.0167, -0.0363,  ...,  0.2578,  0.2775,  0.2971]]],\n",
      "\n",
      "\n",
      "        [[[ 0.5559,  0.6147,  0.6735,  ...,  0.3010,  0.0853, -0.0127],\n",
      "          [ 0.5951,  0.6343,  0.6539,  ...,  0.4186,  0.2618,  0.1637],\n",
      "          [ 0.6735,  0.7127,  0.7324,  ...,  0.5363,  0.3794,  0.2618],\n",
      "          ...,\n",
      "          [ 0.8500,  0.8696,  0.8696,  ...,  0.8304,  0.8304,  0.8304],\n",
      "          [ 0.8304,  0.8500,  0.8696,  ...,  0.9088,  0.9088,  0.8304],\n",
      "          [ 0.7520,  0.8304,  0.9284,  ...,  0.9480,  0.9480,  0.8892]],\n",
      "\n",
      "         [[ 0.8588,  0.9569,  1.0157,  ...,  0.4078,  0.1725,  0.0353],\n",
      "          [ 0.8784,  0.9373,  0.9765,  ...,  0.5647,  0.3490,  0.2118],\n",
      "          [ 0.9569,  1.0157,  1.0157,  ...,  0.7020,  0.5255,  0.3686],\n",
      "          ...,\n",
      "          [ 1.0549,  1.0941,  1.0941,  ...,  0.8980,  0.8784,  0.8392],\n",
      "          [ 0.9961,  1.0549,  1.0745,  ...,  0.9569,  0.9373,  0.8784],\n",
      "          [ 0.8784,  0.9961,  1.0941,  ...,  1.0157,  0.9569,  0.9176]],\n",
      "\n",
      "         [[ 0.9049,  0.9637,  0.9441,  ...,  0.3755,  0.1402,  0.0029],\n",
      "          [ 0.9245,  0.9441,  0.9637,  ...,  0.4539,  0.2578,  0.1402],\n",
      "          [ 1.0029,  1.0029,  1.0029,  ...,  0.5520,  0.3559,  0.2186],\n",
      "          ...,\n",
      "          [ 1.0225,  1.0029,  1.0029,  ...,  0.5716,  0.4931,  0.4539],\n",
      "          [ 0.9637,  0.9833,  1.0029,  ...,  0.5716,  0.5324,  0.4343],\n",
      "          [ 0.8657,  0.9245,  1.0422,  ...,  0.6108,  0.5324,  0.4735]]],\n",
      "\n",
      "\n",
      "        ...,\n",
      "\n",
      "\n",
      "        [[[ 1.5755,  1.5951,  1.5755,  ...,  1.5951,  1.5951,  1.5951],\n",
      "          [ 1.5951,  1.6147,  1.5755,  ...,  1.5755,  1.5951,  1.5951],\n",
      "          [ 1.6147,  1.6147,  1.6147,  ...,  1.5559,  1.5559,  1.5755],\n",
      "          ...,\n",
      "          [ 0.4578,  0.5559,  0.7127,  ...,  1.3598,  1.3598,  1.3402],\n",
      "          [ 0.4382,  0.4578,  0.4971,  ...,  1.3794,  1.3794,  1.3402],\n",
      "          [ 0.4578,  0.4578,  0.3794,  ...,  1.4578,  1.4186,  1.3402]],\n",
      "\n",
      "         [[ 1.8784,  1.8784,  1.8784,  ...,  1.8784,  1.8784,  1.8784],\n",
      "          [ 1.8980,  1.8784,  1.8980,  ...,  1.8980,  1.8980,  1.8980],\n",
      "          [ 1.8784,  1.8784,  1.8784,  ...,  1.8980,  1.8980,  1.8980],\n",
      "          ...,\n",
      "          [ 0.5059,  0.6235,  0.8392,  ...,  1.6824,  1.6627,  1.6235],\n",
      "          [ 0.4667,  0.4863,  0.6039,  ...,  1.6431,  1.6235,  1.5647],\n",
      "          [ 0.4471,  0.4471,  0.4667,  ...,  1.6824,  1.6431,  1.5647]],\n",
      "\n",
      "         [[ 1.7284,  1.7284,  1.7284,  ...,  1.7284,  1.7284,  1.7284],\n",
      "          [ 1.7088,  1.7284,  1.7088,  ...,  1.7088,  1.7480,  1.8069],\n",
      "          [ 1.7088,  1.7088,  1.7088,  ...,  1.6892,  1.7676,  1.8657],\n",
      "          ...,\n",
      "          [ 0.5324,  0.6696,  0.8265,  ...,  1.4539,  1.4735,  1.5716],\n",
      "          [ 0.4735,  0.4931,  0.5912,  ...,  1.4931,  1.4735,  1.4343],\n",
      "          [ 0.3951,  0.4343,  0.4343,  ...,  1.5912,  1.5324,  1.4539]]],\n",
      "\n",
      "\n",
      "        [[[ 1.2029,  1.2029,  1.3010,  ...,  1.2225,  1.2422,  1.2422],\n",
      "          [ 0.6735,  0.7520,  0.8500,  ...,  1.2225,  1.2422,  1.2422],\n",
      "          [-0.0716,  0.0265,  0.1245,  ...,  1.2029,  1.2422,  1.2422],\n",
      "          ...,\n",
      "          [-0.8363, -0.7186, -0.3853,  ...,  1.1637,  1.1049,  1.0657],\n",
      "          [-0.6990, -0.5814, -0.3069,  ...,  0.8892,  0.8108,  0.7520],\n",
      "          [-0.5422, -0.4441, -0.2088,  ...,  0.3990,  0.3402,  0.2422]],\n",
      "\n",
      "         [[ 1.2902,  1.2902,  1.3882,  ...,  1.3098,  1.3294,  1.3294],\n",
      "          [ 0.7608,  0.8392,  0.9373,  ...,  1.3098,  1.3294,  1.3294],\n",
      "          [ 0.0157,  0.1137,  0.2118,  ...,  1.2902,  1.3294,  1.3294],\n",
      "          ...,\n",
      "          [-0.8471, -0.7294, -0.3176,  ...,  1.1725,  1.1137,  1.0549],\n",
      "          [-0.7294, -0.5725, -0.2392,  ...,  0.8980,  0.8196,  0.7608],\n",
      "          [-0.5725, -0.4353, -0.1608,  ...,  0.4078,  0.3490,  0.2510]],\n",
      "\n",
      "         [[ 1.4931,  1.4931,  1.5912,  ...,  1.5324,  1.5520,  1.5324],\n",
      "          [ 0.9637,  1.0422,  1.1402,  ...,  1.5324,  1.5520,  1.5324],\n",
      "          [ 0.2382,  0.3167,  0.4147,  ...,  1.5127,  1.5324,  1.5324],\n",
      "          ...,\n",
      "          [-0.7225, -0.5461, -0.1539,  ...,  1.3951,  1.2971,  1.1990],\n",
      "          [-0.6441, -0.4676, -0.1343,  ...,  1.1206,  1.0422,  0.9441],\n",
      "          [-0.5069, -0.3500, -0.0755,  ...,  0.6304,  0.5716,  0.4735]]],\n",
      "\n",
      "\n",
      "        [[[-1.1304, -1.0912, -1.0912,  ...,  0.7324,  0.7127,  0.7127],\n",
      "          [-0.0324,  0.0069,  0.0265,  ...,  0.7324,  0.7127,  0.7127],\n",
      "          [ 0.6539,  0.7127,  0.7324,  ...,  0.7324,  0.7127,  0.7127],\n",
      "          ...,\n",
      "          [ 0.3990,  0.3598,  0.5951,  ...,  0.6147,  0.6931,  0.7324],\n",
      "          [-0.4833, -0.2676,  0.3206,  ...,  0.6931,  0.7912,  0.8108],\n",
      "          [-1.2676, -0.9539, -0.0716,  ...,  0.7324,  0.8696,  0.8892]],\n",
      "\n",
      "         [[-1.2000, -1.1608, -1.1608,  ...,  0.8196,  0.7804,  0.7804],\n",
      "          [-0.0824, -0.0431, -0.0431,  ...,  0.8392,  0.7804,  0.7804],\n",
      "          [ 0.6235,  0.6824,  0.7020,  ...,  0.8196,  0.7804,  0.7804],\n",
      "          ...,\n",
      "          [ 0.2118,  0.2314,  0.5059,  ...,  0.7216,  0.7608,  0.8000],\n",
      "          [-0.6510, -0.4157,  0.1922,  ...,  0.8000,  0.8588,  0.8784],\n",
      "          [-1.4353, -1.0824, -0.1804,  ...,  0.8392,  0.9373,  0.9569]],\n",
      "\n",
      "         [[-1.0167, -0.9971, -1.0559,  ...,  0.9245,  0.9049,  0.9049],\n",
      "          [-0.0363,  0.0029, -0.0167,  ...,  0.9441,  0.9245,  0.9049],\n",
      "          [ 0.4735,  0.5127,  0.5716,  ...,  0.9833,  0.9441,  0.9049],\n",
      "          ...,\n",
      "          [-0.0363, -0.0167,  0.2578,  ...,  0.8461,  0.9441,  1.0029],\n",
      "          [-0.8010, -0.5853,  0.0029,  ...,  0.9245,  1.0225,  1.0422],\n",
      "          [-1.4480, -1.1931, -0.3500,  ...,  0.9637,  1.1010,  1.1206]]]]) tensor([1, 3, 1, 2, 2, 9, 3, 3, 5, 7, 5, 1, 7, 4, 3, 4, 1, 5, 2, 4, 0, 4, 3, 3,\n",
      "        4, 5, 3, 6, 6, 7, 5, 6, 3, 2, 4, 8, 5, 3, 1, 9, 3, 2, 6, 0, 3, 3, 7, 1,\n",
      "        8, 0, 3, 0, 1, 3, 1, 1, 2, 3, 9, 6, 3, 4, 3, 3])\n",
      "5 tensor([[[[ 0.2422,  0.2422,  0.2422,  ..., -0.2480, -0.1500, -0.1696],\n",
      "          [ 0.2814,  0.2814,  0.2422,  ..., -0.3265, -0.2873, -0.2480],\n",
      "          [ 0.2814,  0.2814,  0.2422,  ..., -0.4049, -0.3657, -0.2873],\n",
      "          ...,\n",
      "          [ 0.3990,  0.3794,  0.3794,  ...,  0.3990,  0.4382,  0.4186],\n",
      "          [ 0.3794,  0.3794,  0.3794,  ...,  0.3794,  0.3990,  0.3990],\n",
      "          [ 0.3794,  0.3794,  0.3990,  ...,  0.3794,  0.3794,  0.3990]],\n",
      "\n",
      "         [[-0.1804, -0.1804, -0.1804,  ..., -0.7294, -0.6314, -0.6510],\n",
      "          [-0.1804, -0.1804, -0.1804,  ..., -0.8078, -0.7686, -0.7294],\n",
      "          [-0.1804, -0.1804, -0.1804,  ..., -0.8863, -0.8471, -0.7686],\n",
      "          ...,\n",
      "          [ 0.0157, -0.0039, -0.0039,  ..., -0.0235, -0.0431, -0.0627],\n",
      "          [ 0.0157,  0.0157, -0.0235,  ..., -0.0039, -0.0235, -0.0235],\n",
      "          [ 0.0157,  0.0157, -0.0039,  ..., -0.0039, -0.0039, -0.0235]],\n",
      "\n",
      "         [[-0.6637, -0.6637, -0.6637,  ..., -1.1343, -1.0363, -1.0559],\n",
      "          [-0.6637, -0.6637, -0.6637,  ..., -1.1735, -1.1343, -1.1343],\n",
      "          [-0.6637, -0.6637, -0.6637,  ..., -1.2520, -1.2127, -1.1735],\n",
      "          ...,\n",
      "          [-0.4873, -0.5069, -0.4676,  ..., -0.4676, -0.4676, -0.4873],\n",
      "          [-0.4480, -0.4480, -0.4480,  ..., -0.5069, -0.5069, -0.5069],\n",
      "          [-0.4480, -0.4480, -0.4284,  ..., -0.5069, -0.5069, -0.5069]]],\n",
      "\n",
      "\n",
      "        [[[ 0.1441,  0.1441,  0.1637,  ...,  0.4971,  0.6735,  0.7716],\n",
      "          [ 0.1637,  0.1637,  0.1637,  ...,  0.4186,  0.5951,  0.6931],\n",
      "          [ 0.2225,  0.2225,  0.2225,  ...,  0.2618,  0.4775,  0.5755],\n",
      "          ...,\n",
      "          [ 0.3990,  0.3990,  0.3794,  ...,  0.4775,  0.6147,  0.6931],\n",
      "          [ 0.3794,  0.3794,  0.3794,  ...,  0.4578,  0.5951,  0.6735],\n",
      "          [ 0.3794,  0.3794,  0.3794,  ...,  0.4578,  0.5951,  0.6735]],\n",
      "\n",
      "         [[ 0.0941,  0.1137,  0.1725,  ...,  0.5451,  0.7216,  0.8196],\n",
      "          [ 0.1137,  0.1333,  0.1725,  ...,  0.4863,  0.6627,  0.7608],\n",
      "          [ 0.1725,  0.1922,  0.2118,  ...,  0.3686,  0.5647,  0.6627],\n",
      "          ...,\n",
      "          [ 0.2902,  0.2902,  0.2902,  ...,  0.4863,  0.6235,  0.7020],\n",
      "          [ 0.3098,  0.3098,  0.3098,  ...,  0.4863,  0.6235,  0.7020],\n",
      "          [ 0.3098,  0.3098,  0.3098,  ...,  0.4863,  0.6235,  0.7020]],\n",
      "\n",
      "         [[ 0.1402,  0.1598,  0.1990,  ...,  0.4539,  0.6304,  0.7284],\n",
      "          [ 0.1598,  0.1794,  0.2186,  ...,  0.3951,  0.5716,  0.6696],\n",
      "          [ 0.2186,  0.2186,  0.2382,  ...,  0.2775,  0.4539,  0.5520],\n",
      "          ...,\n",
      "          [ 0.3167,  0.3363,  0.3559,  ...,  0.4735,  0.6108,  0.6892],\n",
      "          [ 0.3167,  0.3167,  0.3167,  ...,  0.4931,  0.6304,  0.7088],\n",
      "          [ 0.3167,  0.3167,  0.3167,  ...,  0.5127,  0.6500,  0.7284]]],\n",
      "\n",
      "\n",
      "        [[[ 0.2029,  0.2029,  0.2029,  ...,  0.3402,  0.2814,  0.2618],\n",
      "          [ 0.1245,  0.1049,  0.1049,  ...,  0.3794,  0.3206,  0.3010],\n",
      "          [ 0.0069, -0.0324, -0.0520,  ...,  0.3990,  0.3794,  0.3402],\n",
      "          ...,\n",
      "          [-0.0520, -0.1108, -0.1500,  ...,  0.3402,  0.2618,  0.2225],\n",
      "          [-0.0912, -0.1304, -0.1500,  ...,  0.2225,  0.1245,  0.0657],\n",
      "          [-0.1108, -0.1500, -0.1696,  ...,  0.1637,  0.0461, -0.0324]],\n",
      "\n",
      "         [[ 0.2118,  0.2118,  0.2118,  ...,  0.2706,  0.2118,  0.1922],\n",
      "          [ 0.1529,  0.1333,  0.1137,  ...,  0.2706,  0.2510,  0.2118],\n",
      "          [-0.0039, -0.0235, -0.0431,  ...,  0.2706,  0.2510,  0.2118],\n",
      "          ...,\n",
      "          [-0.3176, -0.3569, -0.3373,  ...,  0.2314,  0.1529,  0.1137],\n",
      "          [-0.3176, -0.3373, -0.3176,  ...,  0.0941, -0.0039, -0.0627],\n",
      "          [-0.3176, -0.3176, -0.3176,  ..., -0.0039, -0.1216, -0.1804]],\n",
      "\n",
      "         [[ 0.1598,  0.1598,  0.1598,  ...,  0.0618,  0.0422,  0.0029],\n",
      "          [ 0.1206,  0.0814,  0.0618,  ...,  0.0618,  0.0422,  0.0029],\n",
      "          [-0.0167, -0.0559, -0.0755,  ...,  0.0618,  0.0422,  0.0029],\n",
      "          ...,\n",
      "          [-0.4873, -0.5461, -0.5461,  ..., -0.0755, -0.1343, -0.1735],\n",
      "          [-0.5069, -0.5265, -0.5265,  ..., -0.1931, -0.2716, -0.3304],\n",
      "          [-0.5069, -0.5265, -0.5265,  ..., -0.2716, -0.3696, -0.4480]]],\n",
      "\n",
      "\n",
      "        ...,\n",
      "\n",
      "\n",
      "        [[[-1.3657, -1.3461, -1.3461,  ..., -0.5225, -0.5618, -0.6206],\n",
      "          [-1.3657, -1.3657, -1.3657,  ..., -0.1500, -0.1892, -0.2873],\n",
      "          [-1.4049, -1.3461, -1.3265,  ...,  0.2814,  0.2422,  0.1637],\n",
      "          ...,\n",
      "          [-1.2676, -1.2676, -1.2676,  ...,  0.7520,  0.7716,  0.8108],\n",
      "          [-1.3657, -1.3657, -1.3461,  ...,  0.6539,  0.6931,  0.7520],\n",
      "          [-1.4637, -1.4637, -1.4049,  ...,  0.5951,  0.6343,  0.6735]],\n",
      "\n",
      "         [[-1.6510, -1.6118, -1.5725,  ..., -0.2392, -0.2980, -0.3569],\n",
      "          [-1.6510, -1.6314, -1.5922,  ...,  0.1333,  0.0549, -0.0235],\n",
      "          [-1.6902, -1.6118, -1.5333,  ...,  0.5451,  0.5059,  0.4275],\n",
      "          ...,\n",
      "          [-1.2196, -1.1804, -1.1216,  ...,  0.9176,  0.9373,  0.9961],\n",
      "          [-1.3373, -1.3176, -1.2588,  ...,  0.8392,  0.8784,  0.9373],\n",
      "          [-1.4549, -1.4353, -1.3569,  ...,  0.7804,  0.8196,  0.8588]],\n",
      "\n",
      "         [[-1.5657, -1.5657, -1.5461,  ..., -0.5853, -0.6441, -0.7029],\n",
      "          [-1.6049, -1.5853, -1.5657,  ..., -0.2127, -0.2716, -0.3696],\n",
      "          [-1.6637, -1.5853, -1.5265,  ...,  0.1598,  0.1206,  0.0422],\n",
      "          ...,\n",
      "          [-1.2520, -1.2127, -1.1931,  ...,  0.6304,  0.6108,  0.6500],\n",
      "          [-1.3696, -1.3500, -1.3108,  ...,  0.5520,  0.5520,  0.5716],\n",
      "          [-1.5265, -1.5069, -1.4676,  ...,  0.4539,  0.4539,  0.4735]]],\n",
      "\n",
      "\n",
      "        [[[ 0.2618,  0.3206,  0.3598,  ...,  0.3010,  0.2814,  0.2814],\n",
      "          [ 0.2618,  0.3206,  0.4186,  ...,  0.2814,  0.3206,  0.3402],\n",
      "          [ 0.2225,  0.3206,  0.4186,  ...,  0.3206,  0.3794,  0.4775],\n",
      "          ...,\n",
      "          [ 0.3010,  0.3402,  0.4186,  ...,  0.3990,  0.3990,  0.3598],\n",
      "          [ 0.3598,  0.3990,  0.4578,  ...,  0.3990,  0.3794,  0.3598],\n",
      "          [ 0.3990,  0.4578,  0.4971,  ...,  0.3990,  0.3794,  0.3598]],\n",
      "\n",
      "         [[ 0.2902,  0.3490,  0.3882,  ...,  0.2510,  0.2510,  0.2314],\n",
      "          [ 0.2902,  0.3490,  0.4078,  ...,  0.2706,  0.3098,  0.2902],\n",
      "          [ 0.2510,  0.3098,  0.4078,  ...,  0.2902,  0.3686,  0.4471],\n",
      "          ...,\n",
      "          [ 0.3490,  0.3490,  0.3686,  ...,  0.3098,  0.3098,  0.3098],\n",
      "          [ 0.3882,  0.3882,  0.3686,  ...,  0.2706,  0.2902,  0.2902],\n",
      "          [ 0.4078,  0.4275,  0.4078,  ...,  0.2706,  0.2902,  0.2902]],\n",
      "\n",
      "         [[ 0.1206,  0.1794,  0.2186,  ...,  0.1402,  0.1206,  0.0814],\n",
      "          [ 0.1402,  0.1598,  0.1990,  ...,  0.1206,  0.1402,  0.1598],\n",
      "          [ 0.1206,  0.1794,  0.2578,  ...,  0.1598,  0.1794,  0.2578],\n",
      "          ...,\n",
      "          [ 0.3363,  0.3167,  0.3167,  ...,  0.2578,  0.2578,  0.2578],\n",
      "          [ 0.3559,  0.3363,  0.3167,  ...,  0.2186,  0.2382,  0.2382],\n",
      "          [ 0.3559,  0.3755,  0.3559,  ...,  0.2186,  0.2382,  0.2382]]],\n",
      "\n",
      "\n",
      "        [[[ 0.4578,  0.3794,  0.2814,  ..., -1.4245, -1.4245, -1.4441],\n",
      "          [ 0.4186,  0.3402,  0.2422,  ..., -1.5225, -1.5029, -1.4833],\n",
      "          [ 0.3402,  0.2618,  0.1637,  ..., -1.6402, -1.5814, -1.5422],\n",
      "          ...,\n",
      "          [ 0.3402,  0.3010,  0.2422,  ..., -1.8755, -1.7971, -1.7578],\n",
      "          [ 0.3402,  0.2814,  0.2029,  ..., -1.8363, -1.8167, -1.7971],\n",
      "          [ 0.3794,  0.2814,  0.1637,  ..., -1.7971, -1.8167, -1.8167]],\n",
      "\n",
      "         [[ 0.4863,  0.4078,  0.3098,  ..., -1.5725, -1.5922, -1.5922],\n",
      "          [ 0.4667,  0.3882,  0.2902,  ..., -1.6118, -1.6118, -1.6118],\n",
      "          [ 0.4471,  0.3686,  0.2706,  ..., -1.6902, -1.6510, -1.6314],\n",
      "          ...,\n",
      "          [ 0.4863,  0.4667,  0.3882,  ..., -1.8471, -1.7882, -1.7490],\n",
      "          [ 0.5255,  0.4471,  0.3294,  ..., -1.8078, -1.8275, -1.8275],\n",
      "          [ 0.5255,  0.4275,  0.2902,  ..., -1.7686, -1.8275, -1.8471]],\n",
      "\n",
      "         [[ 0.3363,  0.2971,  0.2186,  ..., -1.2716, -1.2912, -1.3108],\n",
      "          [ 0.3363,  0.2775,  0.1990,  ..., -1.3108, -1.3304, -1.3304],\n",
      "          [ 0.3559,  0.2775,  0.1794,  ..., -1.3696, -1.3500, -1.3500],\n",
      "          ...,\n",
      "          [ 0.5324,  0.5127,  0.4735,  ..., -1.3108, -1.3108, -1.2912],\n",
      "          [ 0.5716,  0.5324,  0.4539,  ..., -1.2324, -1.3108, -1.3500],\n",
      "          [ 0.6108,  0.5324,  0.4343,  ..., -1.1931, -1.3304, -1.4088]]]]) tensor([4, 1, 1, 6, 1, 5, 5, 1, 1, 6, 1, 9, 7, 6, 5, 2, 0, 1, 1, 2, 1, 5, 3, 3,\n",
      "        6, 2, 8, 5, 0, 3, 0, 2, 0, 3, 1, 6, 0, 9, 6, 5, 6, 8, 7, 8, 4, 8, 0, 3,\n",
      "        4, 5, 5, 2, 5, 7, 2, 9, 1, 1, 4, 5, 5, 5, 0, 3])\n"
     ]
    }
   ],
   "source": [
    "for i_step, (x, y) in enumerate(val_loader):\n",
    "    print(i_step, x, y)\n",
    "    if i_step == 5:\n",
    "        break"
   ]
  },
  {
   "cell_type": "code",
   "execution_count": 19,
   "metadata": {
    "ExecuteTime": {
     "end_time": "2019-07-08T19:36:33.246037Z",
     "start_time": "2019-07-08T19:36:33.232292Z"
    }
   },
   "outputs": [
    {
     "data": {
      "text/plain": [
       "tensor([0, 0, 1, 0, 0, 0, 0, 0, 0, 0, 1, 0, 0, 0, 0, 1, 0, 0, 0, 0, 0, 0, 0, 0,\n",
       "        0, 0, 1, 0, 0, 0, 0, 0, 0, 0, 0, 0, 0, 0, 0, 0, 0, 0, 0, 0, 0, 0, 0, 0,\n",
       "        0, 0, 0, 0, 0, 0, 0, 0, 0, 0, 0, 0, 0, 0, 0, 0], dtype=torch.uint8)"
      ]
     },
     "execution_count": 19,
     "metadata": {},
     "output_type": "execute_result"
    }
   ],
   "source": [
    "pred = nn_model(x)\n",
    "_, inds = torch.max(pred,dim=1)\n",
    "torch.sum(inds == y)"
   ]
  },
  {
   "cell_type": "code",
   "execution_count": 17,
   "metadata": {
    "ExecuteTime": {
     "end_time": "2019-07-08T19:35:40.292950Z",
     "start_time": "2019-07-08T19:35:40.288564Z"
    }
   },
   "outputs": [
    {
     "data": {
      "text/plain": [
       "torch.return_types.max(\n",
       "values=tensor([0.2149, 0.2590, 0.2057, 0.2266, 0.2593, 0.3734, 0.0993, 0.3129, 0.2244,\n",
       "        0.4295, 0.2357, 0.4726, 0.3160, 0.0640, 0.1945, 0.0656, 0.4293, 0.2596,\n",
       "        0.3367, 0.2427, 0.3639, 0.4950, 0.1374, 0.2095, 0.2193, 0.3297, 0.3980,\n",
       "        0.3489, 0.2939, 0.4270, 0.3111, 0.1892, 0.1363, 0.4416, 0.2225, 0.5282,\n",
       "        0.2451, 0.2699, 0.3558, 0.3120, 0.6010, 0.4424, 0.1932, 0.2219, 0.5965,\n",
       "        0.3066, 0.3843, 0.2356, 0.1903, 0.1592, 0.2143, 0.1978, 0.2492, 0.0886,\n",
       "        0.1569, 0.2378, 0.3820, 0.1953, 0.4098, 0.1912, 0.1411, 0.4216, 0.3261,\n",
       "        0.1588], grad_fn=<MaxBackward0>),\n",
       "indices=tensor([1, 9, 1, 2, 2, 1, 7, 8, 2, 1, 1, 4, 2, 1, 6, 2, 1, 8, 9, 1, 2, 1, 2, 8,\n",
       "        8, 1, 8, 1, 1, 1, 6, 5, 6, 2, 5, 1, 1, 1, 9, 8, 1, 1, 1, 1, 1, 1, 8, 2,\n",
       "        1, 1, 8, 8, 1, 9, 1, 1, 8, 8, 2, 9, 1, 4, 1, 1]))"
      ]
     },
     "execution_count": 17,
     "metadata": {},
     "output_type": "execute_result"
    }
   ],
   "source": [
    "torch.max(pred,dim=1)"
   ]
  },
  {
   "cell_type": "code",
   "execution_count": 22,
   "metadata": {
    "ExecuteTime": {
     "end_time": "2019-07-08T19:40:09.617876Z",
     "start_time": "2019-07-08T19:39:39.335609Z"
    }
   },
   "outputs": [
    {
     "name": "stdout",
     "output_type": "stream",
     "text": [
      "Average loss: 1.459607, Train accuracy: 0.575811, Val accuracy: 0.609788\n",
      "Average loss: 1.381460, Train accuracy: 0.613162, Val accuracy: 0.621732\n",
      "Average loss: 1.350160, Train accuracy: 0.630959, Val accuracy: 0.621118\n",
      "CPU times: user 5min 6s, sys: 703 ms, total: 5min 7s\n",
      "Wall time: 30.3 s\n"
     ]
    }
   ],
   "source": [
    "%%time\n",
    "loss_history, train_history, val_history = train_model(nn_model, train_loader, val_loader, loss, optimizer, 3)"
   ]
  },
  {
   "cell_type": "code",
   "execution_count": 23,
   "metadata": {
    "ExecuteTime": {
     "end_time": "2019-07-08T19:41:52.529575Z",
     "start_time": "2019-07-08T19:41:52.303310Z"
    }
   },
   "outputs": [
    {
     "data": {
      "image/png": "[encoded data removed]",
      "text/plain": [
       "<Figure size 720x576 with 2 Axes>"
      ]
     },
     "metadata": {
      "needs_background": "light"
     },
     "output_type": "display_data"
    }
   ],
   "source": [
    "fig, ax = plt.subplots(nrows=2, ncols=1, figsize=(10,8))\n",
    "ax[0].plot(loss_history)\n",
    "ax[1].plot(train_history, label='train')\n",
    "ax[1].plot(val_history, label='valid')\n",
    "ax[0].set_title('Loss')\n",
    "ax[1].set_title('Accuracy')\n",
    "plt.legend()\n",
    "plt.show()"
   ]
  },
  {
   "cell_type": "markdown",
   "metadata": {},
   "source": [
    "## После основного цикла\n",
    "\n",
    "Посмотрим на другие возможности и оптимизации, которые предоставляет PyTorch.\n",
    "\n",
    "Добавьте еще один скрытый слой размера 100 нейронов к модели"
   ]
  },
  {
   "cell_type": "code",
   "execution_count": 24,
   "metadata": {
    "ExecuteTime": {
     "end_time": "2019-07-08T19:43:22.739102Z",
     "start_time": "2019-07-08T19:43:22.727076Z"
    },
    "scrolled": true
   },
   "outputs": [],
   "source": [
    "# Since it's so easy to add layers, let's add some!\n",
    "\n",
    "# TODO: Implement a model with 2 hidden layers of the size 100\n",
    "nn_model = nn.Sequential(\n",
    "            Flattener(),\n",
    "            nn.Linear(3*32*32, 100),\n",
    "            nn.ReLU(inplace=True),\n",
    "            nn.Linear(100, 100),\n",
    "            nn.ReLU(inplace=True),\n",
    "            nn.Linear(100, 10),     \n",
    "       )\n",
    "nn_model.type(torch.FloatTensor)\n",
    "\n",
    "optimizer = optim.SGD(nn_model.parameters(), lr=1e-2, weight_decay=1e-1)"
   ]
  },
  {
   "cell_type": "code",
   "execution_count": 25,
   "metadata": {
    "ExecuteTime": {
     "end_time": "2019-07-08T19:44:16.879329Z",
     "start_time": "2019-07-08T19:43:27.065634Z"
    }
   },
   "outputs": [
    {
     "name": "stdout",
     "output_type": "stream",
     "text": [
      "Average loss: 2.182658, Train accuracy: 0.190578, Val accuracy: 0.207563\n",
      "Average loss: 1.993936, Train accuracy: 0.278402, Val accuracy: 0.353491\n",
      "Average loss: 1.778691, Train accuracy: 0.389585, Val accuracy: 0.412668\n",
      "Average loss: 1.698148, Train accuracy: 0.422534, Val accuracy: 0.433349\n",
      "Average loss: 1.674793, Train accuracy: 0.437140, Val accuracy: 0.434783\n",
      "CPU times: user 8min 24s, sys: 923 ms, total: 8min 25s\n",
      "Wall time: 49.8 s\n"
     ]
    }
   ],
   "source": [
    "%%time\n",
    "loss_history, train_history, val_history = train_model(nn_model, train_loader, val_loader, loss, optimizer, 5)"
   ]
  },
  {
   "cell_type": "markdown",
   "metadata": {},
   "source": [
    "Добавьте слой с Batch Normalization"
   ]
  },
  {
   "cell_type": "code",
   "execution_count": 26,
   "metadata": {
    "ExecuteTime": {
     "end_time": "2019-07-08T19:52:00.369921Z",
     "start_time": "2019-07-08T19:52:00.363338Z"
    },
    "scrolled": true
   },
   "outputs": [],
   "source": [
    "# We heard batch normalization is powerful, let's use it!\n",
    "# TODO: Add batch normalization after each of the hidden layers of the network, before or after non-linearity\n",
    "# Hint: check out torch.nn.BatchNorm1d\n",
    "\n",
    "nn_model = nn.Sequential(\n",
    "            Flattener(),\n",
    "            nn.Linear(3*32*32, 100),\n",
    "            nn.ReLU(inplace=True),\n",
    "            nn.BatchNorm1d(100),\n",
    "            nn.Linear(100, 100),\n",
    "            nn.ReLU(inplace=True),\n",
    "            nn.BatchNorm1d(100),\n",
    "            nn.Linear(100, 10),    \n",
    "         )\n",
    "\n",
    "optimizer = optim.SGD(nn_model.parameters(), lr=1e-3, weight_decay=1e-1)"
   ]
  },
  {
   "cell_type": "code",
   "execution_count": 27,
   "metadata": {
    "ExecuteTime": {
     "end_time": "2019-07-08T19:52:56.482381Z",
     "start_time": "2019-07-08T19:52:02.072591Z"
    }
   },
   "outputs": [
    {
     "name": "stdout",
     "output_type": "stream",
     "text": [
      "Average loss: 2.120510, Train accuracy: 0.293417, Val accuracy: 0.446864\n",
      "Average loss: 1.802634, Train accuracy: 0.494250, Val accuracy: 0.542420\n",
      "Average loss: 1.622786, Train accuracy: 0.563662, Val accuracy: 0.591427\n",
      "Average loss: 1.512927, Train accuracy: 0.593165, Val accuracy: 0.610334\n",
      "Average loss: 1.440396, Train accuracy: 0.611968, Val accuracy: 0.633950\n",
      "CPU times: user 9min 11s, sys: 1.16 s, total: 9min 12s\n",
      "Wall time: 54.4 s\n"
     ]
    }
   ],
   "source": [
    "%%time\n",
    "loss_history, train_history, val_history = train_model(nn_model, train_loader, val_loader, loss, optimizer, 5)"
   ]
  },
  {
   "cell_type": "markdown",
   "metadata": {},
   "source": [
    "Добавьте уменьшение скорости обучения по ходу тренировки."
   ]
  },
  {
   "cell_type": "code",
   "execution_count": 78,
   "metadata": {
    "ExecuteTime": {
     "end_time": "2019-07-08T20:35:08.294487Z",
     "start_time": "2019-07-08T20:35:08.286042Z"
    },
    "scrolled": true
   },
   "outputs": [],
   "source": [
    "# Learning rate annealing\n",
    "# Reduce your learning rate 2x every 2 epochs\n",
    "# Hint: look up learning rate schedulers in PyTorch. \n",
    "# You might need to extend train_model function a little bit too!\n",
    "\n",
    "nn_model = nn.Sequential(\n",
    "            Flattener(),\n",
    "            nn.Linear(3*32*32, 100),\n",
    "            nn.ReLU(inplace=True),\n",
    "            nn.BatchNorm1d(100),\n",
    "            nn.Linear(100, 100),\n",
    "            nn.ReLU(inplace=True),\n",
    "            nn.BatchNorm1d(100),\n",
    "            nn.Linear(100, 10), \n",
    ")\n",
    "optimizer = optim.SGD(nn_model.parameters(), lr=1e-3, weight_decay=1e-1)\n",
    "#lr_scheduler = optim.lr_scheduler.StepLR(optimizer, step_size=2, gamma=0.5)\n",
    "lr_lambda = lambda x: 0.5**(x//2)\n",
    "lr_scheduler = optim.lr_scheduler.LambdaLR(optimizer, lr_lambda=lr_lambda)"
   ]
  },
  {
   "cell_type": "code",
   "execution_count": 79,
   "metadata": {
    "ExecuteTime": {
     "end_time": "2019-07-08T20:36:04.213918Z",
     "start_time": "2019-07-08T20:35:09.881476Z"
    }
   },
   "outputs": [
    {
     "name": "stdout",
     "output_type": "stream",
     "text": [
      "Epoch: 0 LR: [0.001]\n",
      "Average loss: 2.132081, Train accuracy: 0.290568, Val accuracy: 0.434305\n",
      "Epoch: 1 LR: [0.0005]\n",
      "Average loss: 1.891045, Train accuracy: 0.466608, Val accuracy: 0.508634\n",
      "Epoch: 2 LR: [0.0005]\n",
      "Average loss: 1.777014, Train accuracy: 0.524417, Val accuracy: 0.557027\n",
      "Epoch: 3 LR: [0.00025]\n",
      "Average loss: 1.695888, Train accuracy: 0.563850, Val accuracy: 0.579892\n",
      "Epoch: 4 LR: [0.00025]\n",
      "Average loss: 1.650672, Train accuracy: 0.580521, Val accuracy: 0.597297\n",
      "CPU times: user 9min 9s, sys: 936 ms, total: 9min 10s\n",
      "Wall time: 54.3 s\n"
     ]
    }
   ],
   "source": [
    "%%time\n",
    "loss_history, train_history, val_history = train_model(nn_model, train_loader, val_loader, loss, \n",
    "                                                       optimizer, 5, lr_scheduler)"
   ]
  },
  {
   "cell_type": "markdown",
   "metadata": {},
   "source": [
    "# Визуализируем ошибки модели\n",
    "\n",
    "Попробуем посмотреть, на каких изображениях наша модель ошибается.\n",
    "Для этого мы получим все предсказания модели на validation set и сравним их с истинными метками (ground truth).\n",
    "\n",
    "Первая часть - реализовать код на PyTorch, который вычисляет все предсказания модели на validation set.  \n",
    "Чтобы это сделать мы приводим код `SubsetSampler`, который просто проходит по всем заданным индексам последовательно и составляет из них батчи. \n",
    "\n",
    "Реализуйте функцию `evaluate_model`, которая прогоняет модель через все сэмплы validation set и запоминает предсказания модели и истинные метки."
   ]
  },
  {
   "cell_type": "code",
   "execution_count": null,
   "metadata": {},
   "outputs": [],
   "source": [
    "class SubsetSampler(Sampler):\n",
    "    r\"\"\"Samples elements with given indices sequentially\n",
    "\n",
    "    Arguments:\n",
    "        indices (ndarray): indices of the samples to take\n",
    "    \"\"\"\n",
    "\n",
    "    def __init__(self, indices):\n",
    "        self.indices = indices\n",
    "\n",
    "    def __iter__(self):\n",
    "        return (self.indices[i] for i in range(len(self.indices)))\n",
    "\n",
    "    def __len__(self):\n",
    "        return len(self.indices)\n",
    "    \n",
    "    \n",
    "def evaluate_model(model, dataset, indices):\n",
    "    \"\"\"\n",
    "    Computes predictions and ground truth labels for the indices of the dataset\n",
    "    \n",
    "    Returns: \n",
    "    predictions: np array of ints - model predictions\n",
    "    grount_truth: np array of ints - actual labels of the dataset\n",
    "    \"\"\"\n",
    "    model.eval() # Evaluation mode\n",
    "    \n",
    "    # TODO: Evaluate model on the list of indices and capture predictions\n",
    "    # and ground truth labels\n",
    "    # Hint: SubsetSampler above could be useful!\n",
    "    \n",
    "    raise Exception(\"Not implemented\")\n",
    "    \n",
    "    return predictions, ground_truth\n",
    "\n",
    "# Evaluate model on validation\n",
    "predictions, gt = evaluate_model(nn_model, data_train, val_indices)\n",
    "assert len(predictions) == len(val_indices)\n",
    "assert len(gt) == len(val_indices)\n",
    "assert gt[100] == data_train[val_indices[100]][1]\n",
    "assert np.any(np.not_equal(gt, predictions))"
   ]
  },
  {
   "attachments": {
    "image.png": {
     "image/png": "[encoded data removed]"
    }
   },
   "cell_type": "markdown",
   "metadata": {},
   "source": [
    "## Confusion matrix\n",
    "Первая часть визуализации - вывести confusion matrix (https://en.wikipedia.org/wiki/Confusion_matrix ).\n",
    "\n",
    "Confusion matrix - это матрица, где каждой строке соответствуют классы предсказанный, а столбцу - классы истинных меток (ground truth). Число с координатами `i,j` - это количество сэмплов класса `j`, которые модель считает классом `i`.\n",
    "\n",
    "![image.png](attachment:image.png)\n",
    "\n",
    "Для того, чтобы облегчить вам задачу, ниже реализована функция `visualize_confusion_matrix` которая визуализирует такую матрицу.  \n",
    "Вам осталось реализовать функцию `build_confusion_matrix`, которая ее вычислит.\n",
    "\n",
    "Результатом должна быть матрица 10x10."
   ]
  },
  {
   "cell_type": "code",
   "execution_count": null,
   "metadata": {},
   "outputs": [],
   "source": [
    "def visualize_confusion_matrix(confusion_matrix):\n",
    "    \"\"\"\n",
    "    Visualizes confusion matrix\n",
    "    \n",
    "    confusion_matrix: np array of ints, x axis - predicted class, y axis - actual class\n",
    "                      [i][j] should have the count of samples that were predicted to be class i,\n",
    "                      but have j in the ground truth\n",
    "                     \n",
    "    \"\"\"\n",
    "    # Adapted from \n",
    "    # https://stackoverflow.com/questions/2897826/confusion-matrix-with-number-of-classified-misclassified-instances-on-it-python\n",
    "    assert confusion_matrix.shape[0] == confusion_matrix.shape[1]\n",
    "    size = confusion_matrix.shape[0]\n",
    "    fig = plt.figure(figsize=(10,10))\n",
    "    plt.title(\"Confusion matrix\")\n",
    "    plt.ylabel(\"predicted\")\n",
    "    plt.xlabel(\"ground truth\")\n",
    "    res = plt.imshow(confusion_matrix, cmap='GnBu', interpolation='nearest')\n",
    "    cb = fig.colorbar(res)\n",
    "    plt.xticks(np.arange(size))\n",
    "    plt.yticks(np.arange(size))\n",
    "    for i, row in enumerate(confusion_matrix):\n",
    "        for j, count in enumerate(row):\n",
    "            plt.text(j, i, count, fontsize=14, horizontalalignment='center', verticalalignment='center')\n",
    "    \n",
    "def build_confusion_matrix(predictions, ground_truth):\n",
    "    \"\"\"\n",
    "    Builds confusion matrix from predictions and ground truth\n",
    "\n",
    "    predictions: np array of ints, model predictions for all validation samples\n",
    "    ground_truth: np array of ints, ground truth for all validation samples\n",
    "    \n",
    "    Returns:\n",
    "    np array of ints, (10,10), counts of samples for predicted/ground_truth classes\n",
    "    \"\"\"\n",
    "    \n",
    "    confusion_matrix = np.zeros((10,10), np.int)\n",
    "    \n",
    "    # TODO: Implement filling the prediction matrix\n",
    "    return np.array([[40, 2, 3], [10, 50,0], [0, 2, 80]])\n",
    "\n",
    "confusion_matrix = build_confusion_matrix(predictions, gt)\n",
    "visualize_confusion_matrix(confusion_matrix)"
   ]
  },
  {
   "cell_type": "markdown",
   "metadata": {},
   "source": [
    "Наконец, посмотрим на изображения, соответствующие некоторым элементам этой матрицы.\n",
    "\n",
    "Как и раньше, вам дана функция `visualize_images`, которой нужно воспрользоваться при реализации функции `visualize_predicted_actual`. Эта функция должна вывести несколько примеров, соответствующих заданному элементу матрицы.\n",
    "\n",
    "Визуализируйте наиболее частые ошибки и попробуйте понять, почему модель их совершает."
   ]
  },
  {
   "cell_type": "code",
   "execution_count": null,
   "metadata": {},
   "outputs": [],
   "source": [
    "data_train_images = dset.SVHN('./data/', split='train')\n",
    "\n",
    "def visualize_images(indices, data, title='', max_num=10):\n",
    "    \"\"\"\n",
    "    Visualizes several images from the dataset\n",
    " \n",
    "    indices: array of indices to visualize\n",
    "    data: torch Dataset with the images\n",
    "    title: string, title of the plot\n",
    "    max_num: int, max number of images to display\n",
    "    \"\"\"\n",
    "    to_show = min(len(indices), max_num)\n",
    "    fig = plt.figure(figsize=(10,1.5))\n",
    "    fig.suptitle(title)\n",
    "    for i, index in enumerate(indices[:to_show]):\n",
    "        plt.subplot(1,to_show, i+1)\n",
    "        plt.axis('off')\n",
    "        sample = data[index][0]\n",
    "        plt.imshow(sample)\n",
    "        \n",
    "def visualize_predicted_actual(predicted_class, gt_class, predictions, groud_truth, val_indices, data):\n",
    "    \"\"\"\n",
    "    Visualizes images of a ground truth class which were predicted as the other class \n",
    "    \n",
    "    predicted: int 0-9, index of the predicted class\n",
    "    gt_class: int 0-9, index of the ground truth class\n",
    "    predictions: np array of ints, model predictions for all validation samples\n",
    "    ground_truth: np array of ints, ground truth for all validation samples\n",
    "    val_indices: np array of ints, indices of validation samples\n",
    "    \"\"\"\n",
    "\n",
    "    # TODO: Implement visualization using visualize_images above\n",
    "    # predictions and ground_truth are provided for validation set only, defined by val_indices\n",
    "    # Hint: numpy index arrays might be helpful\n",
    "    # https://docs.scipy.org/doc/numpy/user/basics.indexing.html#index-arrays\n",
    "    # Please make the title meaningful!\n",
    "    \n",
    "    raise Exception(\"Not implemented\")\n",
    "\n",
    "visualize_predicted_actual(6, 8, predictions, gt, np.array(val_indices), data_train_images)\n",
    "visualize_predicted_actual(1, 7, predictions, gt, np.array(val_indices), data_train_images)"
   ]
  },
  {
   "cell_type": "markdown",
   "metadata": {},
   "source": [
    "# Переходим к свободным упражнениям!\n",
    "\n",
    "Натренируйте модель как можно лучше - экспериментируйте сами!\n",
    "Что следует обязательно попробовать:\n",
    "- перебор гиперпараметров с помощью валидационной выборки\n",
    "- другие оптимизаторы вместо SGD\n",
    "- изменение количества слоев и их размеров\n",
    "- наличие Batch Normalization\n",
    "\n",
    "Но ограничиваться этим не стоит!\n",
    "\n",
    "Точность на валидацонной выборке должна быть доведена до **60%**\n",
    "\n",
    "За лучший результат в группе вы получите дополнительные баллы :)"
   ]
  },
  {
   "cell_type": "code",
   "execution_count": null,
   "metadata": {
    "scrolled": true
   },
   "outputs": [],
   "source": [
    "# Experiment here!"
   ]
  },
  {
   "cell_type": "code",
   "execution_count": null,
   "metadata": {},
   "outputs": [],
   "source": [
    "# Как всегда, в конце проверяем на test set\n",
    "test_loader = torch.utils.data.DataLoader(data_test, batch_size=batch_size)\n",
    "test_accuracy = compute_accuracy(nn_model, test_loader)\n",
    "print(\"Test accuracy: %2.4f\" % test_accuracy)"
   ]
  },
  {
   "cell_type": "code",
   "execution_count": null,
   "metadata": {},
   "outputs": [],
   "source": []
  }
 ],
 "metadata": {
  "kernelspec": {
   "display_name": "Python 3",
   "language": "python",
   "name": "python3"
  },
  "language_info": {
   "codemirror_mode": {
    "name": "ipython",
    "version": 3
   },
   "file_extension": ".py",
   "mimetype": "text/x-python",
   "name": "python",
   "nbconvert_exporter": "python",
   "pygments_lexer": "ipython3",
   "version": "3.6.8"
  },
  "varInspector": {
   "cols": {
    "lenName": 16,
    "lenType": 16,
    "lenVar": 40
   },
   "kernels_config": {
    "python": {
     "delete_cmd_postfix": "",
     "delete_cmd_prefix": "del ",
     "library": "var_list.py",
     "varRefreshCmd": "print(var_dic_list())"
    },
    "r": {
     "delete_cmd_postfix": ") ",
     "delete_cmd_prefix": "rm(",
     "library": "var_list.r",
     "varRefreshCmd": "cat(var_dic_list()) "
    }
   },
   "types_to_exclude": [
    "module",
    "function",
    "builtin_function_or_method",
    "instance",
    "_Feature"
   ],
   "window_display": false
  }
 },
 "nbformat": 4,
 "nbformat_minor": 2
}
