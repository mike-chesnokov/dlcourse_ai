{
 "cells": [
  {
   "cell_type": "markdown",
   "metadata": {},
   "source": [
    "# Задание 2.1 - Нейронные сети\n",
    "\n",
    "В этом задании вы реализуете и натренируете настоящую нейроную сеть своими руками!\n",
    "\n",
    "В некотором смысле это будет расширением прошлого задания - нам нужно просто составить несколько линейных классификаторов вместе!\n",
    "\n",
    "<img src=\"https://i.redd.it/n9fgba8b0qr01.png\" alt=\"Stack_more_layers\" width=\"400px\"/>"
   ]
  },
  {
   "cell_type": "code",
   "execution_count": 1,
   "metadata": {
    "ExecuteTime": {
     "end_time": "2019-06-30T14:57:26.819235Z",
     "start_time": "2019-06-30T14:57:26.701614Z"
    }
   },
   "outputs": [],
   "source": [
    "import numpy as np\n",
    "import matplotlib.pyplot as plt\n",
    "\n",
    "%matplotlib inline\n",
    "\n",
    "%load_ext autoreload\n",
    "%autoreload 2"
   ]
  },
  {
   "cell_type": "code",
   "execution_count": 2,
   "metadata": {
    "ExecuteTime": {
     "end_time": "2019-06-30T14:57:27.451168Z",
     "start_time": "2019-06-30T14:57:27.388233Z"
    }
   },
   "outputs": [],
   "source": [
    "from dataset import load_svhn, random_split_train_val\n",
    "from gradient_check import check_layer_gradient, check_layer_param_gradient, check_model_gradient\n",
    "from layers import FullyConnectedLayer, ReLULayer\n",
    "from model import TwoLayerNet\n",
    "from trainer import Trainer, Dataset\n",
    "from optim import SGD, MomentumSGD\n",
    "from metrics import multiclass_accuracy"
   ]
  },
  {
   "cell_type": "markdown",
   "metadata": {},
   "source": [
    "# Загружаем данные\n",
    "\n",
    "И разделяем их на training и validation."
   ]
  },
  {
   "cell_type": "code",
   "execution_count": 3,
   "metadata": {
    "ExecuteTime": {
     "end_time": "2019-06-30T14:57:30.552481Z",
     "start_time": "2019-06-30T14:57:28.620206Z"
    }
   },
   "outputs": [],
   "source": [
    "def prepare_for_neural_network(train_X, test_X):\n",
    "    train_flat = train_X.reshape(train_X.shape[0], -1).astype(np.float) / 255.0\n",
    "    test_flat = test_X.reshape(test_X.shape[0], -1).astype(np.float) / 255.0\n",
    "    \n",
    "    # Subtract mean\n",
    "    mean_image = np.mean(train_flat, axis = 0)\n",
    "    train_flat -= mean_image\n",
    "    test_flat -= mean_image\n",
    "    \n",
    "    return train_flat, test_flat\n",
    "    \n",
    "train_X, train_y, test_X, test_y = load_svhn(\"data\", max_train=10000, max_test=1000)    \n",
    "train_X, test_X = prepare_for_neural_network(train_X, test_X)\n",
    "# Split train into train and val\n",
    "train_X, train_y, val_X, val_y = random_split_train_val(train_X, train_y, num_val = 1000)"
   ]
  },
  {
   "cell_type": "markdown",
   "metadata": {},
   "source": [
    "# Как всегда, начинаем с кирпичиков\n",
    "\n",
    "Мы будем реализовывать необходимые нам слои по очереди. Каждый слой должен реализовать:\n",
    "- прямой проход (forward pass), который генерирует выход слоя по входу и запоминает необходимые данные\n",
    "- обратный проход (backward pass), который получает градиент по выходу слоя и вычисляет градиент по входу и по параметрам\n",
    "\n",
    "Начнем с ReLU, у которого параметров нет."
   ]
  },
  {
   "cell_type": "code",
   "execution_count": 4,
   "metadata": {
    "ExecuteTime": {
     "end_time": "2019-06-30T14:02:43.370390Z",
     "start_time": "2019-06-30T14:02:43.362319Z"
    },
    "scrolled": false
   },
   "outputs": [
    {
     "name": "stdout",
     "output_type": "stream",
     "text": [
      "Gradient check passed!\n"
     ]
    }
   ],
   "source": [
    "# TODO: Implement ReLULayer layer in layers.py\n",
    "# Note: you'll need to copy implementation of the gradient_check function from the previous assignment\n",
    "\n",
    "X = np.array([[1,-2,3],\n",
    "              [-1, 2, 0.1]\n",
    "              ])\n",
    "\n",
    "assert check_layer_gradient(ReLULayer(), X)"
   ]
  },
  {
   "cell_type": "code",
   "execution_count": 5,
   "metadata": {
    "ExecuteTime": {
     "end_time": "2019-06-30T14:02:44.046351Z",
     "start_time": "2019-06-30T14:02:44.027296Z"
    }
   },
   "outputs": [
    {
     "data": {
      "text/plain": [
       "array([[1., 0., 1.],\n",
       "       [0., 1., 1.]])"
      ]
     },
     "execution_count": 5,
     "metadata": {},
     "output_type": "execute_result"
    }
   ],
   "source": [
    "(X > 0).astype(float)"
   ]
  },
  {
   "cell_type": "code",
   "execution_count": 6,
   "metadata": {
    "ExecuteTime": {
     "end_time": "2019-06-30T14:02:44.421747Z",
     "start_time": "2019-06-30T14:02:44.409070Z"
    }
   },
   "outputs": [
    {
     "data": {
      "text/plain": [
       "array([[ 1. , -0. ,  3. ],\n",
       "       [-0. ,  2. ,  0.1]])"
      ]
     },
     "execution_count": 6,
     "metadata": {},
     "output_type": "execute_result"
    }
   ],
   "source": [
    "(X > 0)*X"
   ]
  },
  {
   "cell_type": "code",
   "execution_count": 7,
   "metadata": {
    "ExecuteTime": {
     "end_time": "2019-06-30T14:02:44.731107Z",
     "start_time": "2019-06-30T14:02:44.712800Z"
    }
   },
   "outputs": [
    {
     "data": {
      "text/plain": [
       "array([[1. , 0. , 3. ],\n",
       "       [0. , 2. , 0.1]])"
      ]
     },
     "execution_count": 7,
     "metadata": {},
     "output_type": "execute_result"
    }
   ],
   "source": [
    "np.maximum(0,X)"
   ]
  },
  {
   "cell_type": "markdown",
   "metadata": {},
   "source": [
    "А теперь реализуем полносвязный слой (fully connected layer), у которого будет два массива параметров: W (weights) и B (bias).\n",
    "\n",
    "Все параметры наши слои будут использовать для параметров специальный класс `Param`, в котором будут храниться значения параметров и градиенты этих параметров, вычисляемые во время обратного прохода.\n",
    "\n",
    "Это даст возможность аккумулировать (суммировать) градиенты из разных частей функции потерь, например, из cross-entropy loss и regularization loss."
   ]
  },
  {
   "cell_type": "code",
   "execution_count": 8,
   "metadata": {
    "ExecuteTime": {
     "end_time": "2019-06-30T14:02:45.615666Z",
     "start_time": "2019-06-30T14:02:45.604338Z"
    }
   },
   "outputs": [
    {
     "name": "stdout",
     "output_type": "stream",
     "text": [
      "(3, 4)\n",
      "(1, 4)\n",
      "[[0. 0. 0. 0.]\n",
      " [0. 0. 0. 0.]\n",
      " [0. 0. 0. 0.]]\n",
      "[[0. 0. 0. 0.]]\n",
      "(2, 3)\n",
      "[[-0.0010728  -0.00229886 -0.00172451  0.00210108]\n",
      " [-0.00438112 -0.00172659  0.0027157  -0.00184225]]\n"
     ]
    }
   ],
   "source": [
    "fcl = FullyConnectedLayer(3, 4)\n",
    "print(fcl.W.value.shape)\n",
    "print(fcl.B.value.shape)\n",
    "print(fcl.W.grad)\n",
    "print(fcl.B.grad)\n",
    "print(X.shape)\n",
    "output = fcl.forward(X)\n",
    "print(output)"
   ]
  },
  {
   "cell_type": "code",
   "execution_count": 9,
   "metadata": {
    "ExecuteTime": {
     "end_time": "2019-06-30T14:02:46.304076Z",
     "start_time": "2019-06-30T14:02:46.288858Z"
    }
   },
   "outputs": [
    {
     "data": {
      "text/plain": [
       "array([-0.00545392, -0.00402545,  0.0009912 ,  0.00025884])"
      ]
     },
     "execution_count": 9,
     "metadata": {},
     "output_type": "execute_result"
    }
   ],
   "source": [
    "output.sum(axis=0)"
   ]
  },
  {
   "cell_type": "code",
   "execution_count": 10,
   "metadata": {
    "ExecuteTime": {
     "end_time": "2019-06-30T14:02:46.759325Z",
     "start_time": "2019-06-30T14:02:46.740508Z"
    }
   },
   "outputs": [
    {
     "name": "stdout",
     "output_type": "stream",
     "text": [
      "[[ 0.00330833 -0.00057227 -0.00444021  0.00394333]\n",
      " [-0.00661665  0.00114453  0.00888042 -0.00788666]\n",
      " [-0.0036565  -0.00706924 -0.00490195  0.00611902]]\n",
      "[[-0.00545392 -0.00402545  0.0009912   0.00025884]]\n",
      "[[ 1.92755838e-07  1.17716419e-07  4.75661339e-06]\n",
      " [-5.65794934e-06  1.11644161e-05  7.98088854e-06]]\n"
     ]
    }
   ],
   "source": [
    "d_input = fcl.backward(output)\n",
    "print(fcl.W.grad)\n",
    "print(fcl.B.grad)\n",
    "print(d_input)"
   ]
  },
  {
   "cell_type": "code",
   "execution_count": 11,
   "metadata": {
    "ExecuteTime": {
     "end_time": "2019-06-30T14:02:47.311086Z",
     "start_time": "2019-06-30T14:02:47.282218Z"
    }
   },
   "outputs": [
    {
     "name": "stdout",
     "output_type": "stream",
     "text": [
      "Gradient check passed!\n",
      "Gradient check passed!\n",
      "Gradient check passed!\n"
     ]
    }
   ],
   "source": [
    "# TODO: Implement FullyConnected layer forward and backward methods\n",
    "assert check_layer_gradient(FullyConnectedLayer(3, 4), X)\n",
    "# TODO: Implement storing gradients for W and B\n",
    "assert check_layer_param_gradient(FullyConnectedLayer(3, 4), X, 'W')\n",
    "assert check_layer_param_gradient(FullyConnectedLayer(3, 4), X, 'B')"
   ]
  },
  {
   "cell_type": "markdown",
   "metadata": {},
   "source": [
    "## Создаем нейронную сеть\n",
    "\n",
    "Теперь мы реализуем простейшую нейронную сеть с двумя полносвязным слоями и нелинейностью ReLU. Реализуйте функцию `compute_loss_and_gradients`, она должна запустить прямой и обратный проход через оба слоя для вычисления градиентов.\n",
    "\n",
    "Не забудьте реализовать очистку градиентов в начале функции."
   ]
  },
  {
   "cell_type": "code",
   "execution_count": 12,
   "metadata": {
    "ExecuteTime": {
     "end_time": "2019-06-30T14:02:51.976696Z",
     "start_time": "2019-06-30T14:02:48.449994Z"
    }
   },
   "outputs": [
    {
     "name": "stdout",
     "output_type": "stream",
     "text": [
      "Checking gradient for W_o\n",
      "Gradient check passed!\n",
      "Checking gradient for B_o\n",
      "Gradient check passed!\n",
      "Checking gradient for W_h\n",
      "Gradient check passed!\n",
      "Checking gradient for B_h\n",
      "Gradient check passed!\n"
     ]
    },
    {
     "data": {
      "text/plain": [
       "True"
      ]
     },
     "execution_count": 12,
     "metadata": {},
     "output_type": "execute_result"
    }
   ],
   "source": [
    "# TODO: In model.py, implement compute_loss_and_gradients function\n",
    "model = TwoLayerNet(n_input = train_X.shape[1], n_output = 10, hidden_layer_size = 3, reg = 0)\n",
    "loss = model.compute_loss_and_gradients(train_X[:2], train_y[:2])\n",
    "\n",
    "# TODO Now implement backward pass and aggregate all of the params\n",
    "check_model_gradient(model, train_X[:2], train_y[:2])"
   ]
  },
  {
   "cell_type": "markdown",
   "metadata": {},
   "source": [
    "Теперь добавьте к модели регуляризацию - она должна прибавляться к loss и делать свой вклад в градиенты."
   ]
  },
  {
   "cell_type": "code",
   "execution_count": 13,
   "metadata": {
    "ExecuteTime": {
     "end_time": "2019-06-30T14:02:56.000926Z",
     "start_time": "2019-06-30T14:02:52.589096Z"
    }
   },
   "outputs": [
    {
     "name": "stdout",
     "output_type": "stream",
     "text": [
      "Checking gradient for W_o\n",
      "Gradient check passed!\n",
      "Checking gradient for B_o\n",
      "Gradient check passed!\n",
      "Checking gradient for W_h\n",
      "Gradient check passed!\n",
      "Checking gradient for B_h\n",
      "Gradient check passed!\n"
     ]
    },
    {
     "data": {
      "text/plain": [
       "True"
      ]
     },
     "execution_count": 13,
     "metadata": {},
     "output_type": "execute_result"
    }
   ],
   "source": [
    "# TODO Now implement l2 regularization in the forward and backward pass\n",
    "model_with_reg = TwoLayerNet(n_input = train_X.shape[1], n_output = 10, hidden_layer_size = 3, reg = 1e1)\n",
    "loss_with_reg = model_with_reg.compute_loss_and_gradients(train_X[:2], train_y[:2])\n",
    "assert loss_with_reg > loss and not np.isclose(loss_with_reg, loss), \\\n",
    "    \"Loss with regularization (%2.4f) should be higher than without it (%2.4f)!\" % (loss, loss_with_reg)\n",
    "\n",
    "check_model_gradient(model_with_reg, train_X[:2], train_y[:2])"
   ]
  },
  {
   "cell_type": "markdown",
   "metadata": {},
   "source": [
    "Также реализуем функцию предсказания (вычисления значения) модели на новых данных.\n",
    "\n",
    "Какое значение точности мы ожидаем увидеть до начала тренировки?"
   ]
  },
  {
   "cell_type": "code",
   "execution_count": 14,
   "metadata": {
    "ExecuteTime": {
     "end_time": "2019-06-30T14:02:57.873839Z",
     "start_time": "2019-06-30T14:02:57.865584Z"
    }
   },
   "outputs": [
    {
     "data": {
      "text/plain": [
       "0.16666666666666666"
      ]
     },
     "execution_count": 14,
     "metadata": {},
     "output_type": "execute_result"
    }
   ],
   "source": [
    "# Finally, implement predict function!\n",
    "\n",
    "# TODO: Implement predict function\n",
    "# What would be the value we expect?\n",
    "multiclass_accuracy(model_with_reg.predict(train_X[:30]), train_y[:30])"
   ]
  },
  {
   "cell_type": "markdown",
   "metadata": {},
   "source": [
    "# Допишем код для процесса тренировки\n",
    "\n",
    "Если все реализовано корректно, значение функции ошибки должно уменьшаться с каждой эпохой, пусть и медленно. Не беспокойтесь пока про validation accuracy."
   ]
  },
  {
   "cell_type": "code",
   "execution_count": 15,
   "metadata": {
    "ExecuteTime": {
     "end_time": "2019-06-30T13:14:39.560991Z",
     "start_time": "2019-06-30T13:14:20.895836Z"
    }
   },
   "outputs": [
    {
     "name": "stdout",
     "output_type": "stream",
     "text": [
      "Loss: 2.150915, Train accuracy: 0.251000, val accuracy: 0.263000\n",
      "Loss: 1.709217, Train accuracy: 0.456444, val accuracy: 0.447000\n",
      "Loss: 1.452141, Train accuracy: 0.536556, val accuracy: 0.527000\n",
      "Loss: 1.378644, Train accuracy: 0.606111, val accuracy: 0.584000\n",
      "Loss: 1.275005, Train accuracy: 0.642889, val accuracy: 0.623000\n",
      "Loss: 1.050125, Train accuracy: 0.633000, val accuracy: 0.627000\n",
      "Loss: 0.864316, Train accuracy: 0.676444, val accuracy: 0.654000\n",
      "Loss: 1.017418, Train accuracy: 0.703000, val accuracy: 0.651000\n",
      "Loss: 1.229933, Train accuracy: 0.683222, val accuracy: 0.645000\n",
      "Loss: 0.975124, Train accuracy: 0.725556, val accuracy: 0.684000\n",
      "Loss: 1.291682, Train accuracy: 0.695444, val accuracy: 0.663000\n",
      "Loss: 1.092385, Train accuracy: 0.761000, val accuracy: 0.711000\n",
      "Loss: 1.173439, Train accuracy: 0.758222, val accuracy: 0.705000\n",
      "Loss: 1.087579, Train accuracy: 0.740778, val accuracy: 0.702000\n",
      "Loss: 1.443905, Train accuracy: 0.662667, val accuracy: 0.631000\n",
      "Loss: 1.038759, Train accuracy: 0.733778, val accuracy: 0.683000\n",
      "Loss: 1.393390, Train accuracy: 0.765444, val accuracy: 0.710000\n",
      "Loss: 1.190259, Train accuracy: 0.773778, val accuracy: 0.706000\n",
      "Loss: 1.994926, Train accuracy: 0.624889, val accuracy: 0.586000\n",
      "Loss: 1.282117, Train accuracy: 0.781222, val accuracy: 0.723000\n"
     ]
    }
   ],
   "source": [
    "model = TwoLayerNet(n_input = train_X.shape[1], n_output = 10, hidden_layer_size = 100, reg = 1e-3)\n",
    "dataset = Dataset(train_X, train_y, val_X, val_y)\n",
    "trainer = Trainer(model, dataset, SGD(),                 \n",
    "                  num_epochs=20,\n",
    "                  batch_size=50,\n",
    "                  learning_rate=0.3)\n",
    "\n",
    "# TODO Implement missing pieces in Trainer.fit function\n",
    "# You should expect loss to go down every epoch, even if it's slow\n",
    "loss_history, train_history, val_history = trainer.fit()"
   ]
  },
  {
   "cell_type": "code",
   "execution_count": 16,
   "metadata": {
    "ExecuteTime": {
     "end_time": "2019-06-30T13:14:45.056065Z",
     "start_time": "2019-06-30T13:14:44.933087Z"
    }
   },
   "outputs": [
    {
     "data": {
      "image/png": "[encoded data removed]",
      "text/plain": [
       "<Figure size 720x432 with 1 Axes>"
      ]
     },
     "metadata": {
      "needs_background": "light"
     },
     "output_type": "display_data"
    }
   ],
   "source": [
    "plt.figure(figsize=(10,6))\n",
    "plt.plot(loss_history)\n",
    "plt.show()"
   ]
  },
  {
   "cell_type": "code",
   "execution_count": 17,
   "metadata": {
    "ExecuteTime": {
     "end_time": "2019-06-30T13:14:48.380042Z",
     "start_time": "2019-06-30T13:14:48.244616Z"
    }
   },
   "outputs": [
    {
     "data": {
      "image/png": "[encoded data removed]",
      "text/plain": [
       "<Figure size 720x432 with 1 Axes>"
      ]
     },
     "metadata": {
      "needs_background": "light"
     },
     "output_type": "display_data"
    }
   ],
   "source": [
    "plt.figure(figsize=(10,6))\n",
    "plt.plot(train_history, label='train')\n",
    "plt.plot(val_history, label='valid')\n",
    "plt.legend()\n",
    "plt.show()"
   ]
  },
  {
   "cell_type": "markdown",
   "metadata": {},
   "source": [
    "# Улучшаем процесс тренировки\n",
    "\n",
    "Мы реализуем несколько ключевых оптимизаций, необходимых для тренировки современных нейросетей."
   ]
  },
  {
   "cell_type": "markdown",
   "metadata": {},
   "source": [
    "## Уменьшение скорости обучения (learning rate decay)\n",
    "\n",
    "Одна из необходимых оптимизаций во время тренировки нейронных сетей - постепенное уменьшение скорости обучения по мере тренировки.\n",
    "\n",
    "Один из стандартных методов - уменьшение скорости обучения (learning rate) каждые N эпох на коэффициент d (часто называемый decay). Значения N и d, как всегда, являются гиперпараметрами и должны подбираться на основе эффективности на проверочных данных (validation data). \n",
    "\n",
    "В нашем случае N будет равным 1."
   ]
  },
  {
   "cell_type": "code",
   "execution_count": 15,
   "metadata": {
    "ExecuteTime": {
     "end_time": "2019-06-30T14:03:24.161175Z",
     "start_time": "2019-06-30T14:03:05.858144Z"
    }
   },
   "outputs": [
    {
     "name": "stdout",
     "output_type": "stream",
     "text": [
      "Loss: 2.175514, Train accuracy: 0.300556, val accuracy: 0.299000\n",
      "Loss: 1.961828, Train accuracy: 0.497444, val accuracy: 0.499000\n",
      "Loss: 1.687991, Train accuracy: 0.454333, val accuracy: 0.453000\n",
      "Loss: 1.674748, Train accuracy: 0.586111, val accuracy: 0.583000\n",
      "Loss: 1.586266, Train accuracy: 0.605444, val accuracy: 0.585000\n",
      "Loss: 1.601435, Train accuracy: 0.672333, val accuracy: 0.655000\n",
      "Loss: 1.507513, Train accuracy: 0.699556, val accuracy: 0.673000\n",
      "Loss: 1.532109, Train accuracy: 0.677000, val accuracy: 0.644000\n",
      "Loss: 1.532722, Train accuracy: 0.634000, val accuracy: 0.627000\n",
      "Loss: 1.459994, Train accuracy: 0.682667, val accuracy: 0.653000\n",
      "Loss: 1.479694, Train accuracy: 0.660889, val accuracy: 0.630000\n",
      "Loss: 1.523692, Train accuracy: 0.712556, val accuracy: 0.676000\n",
      "Loss: 1.395712, Train accuracy: 0.706556, val accuracy: 0.674000\n",
      "Loss: 1.584173, Train accuracy: 0.696444, val accuracy: 0.659000\n",
      "Loss: 1.414146, Train accuracy: 0.597778, val accuracy: 0.557000\n",
      "Loss: 1.393761, Train accuracy: 0.700667, val accuracy: 0.660000\n",
      "Loss: 1.568605, Train accuracy: 0.702667, val accuracy: 0.658000\n",
      "Loss: 1.383584, Train accuracy: 0.726222, val accuracy: 0.680000\n",
      "Loss: 1.455906, Train accuracy: 0.651556, val accuracy: 0.600000\n",
      "Loss: 1.425769, Train accuracy: 0.768222, val accuracy: 0.707000\n"
     ]
    }
   ],
   "source": [
    "# TODO Implement learning rate decay inside Trainer.fit method\n",
    "# Decay should happen once per epoch\n",
    "\n",
    "model = TwoLayerNet(n_input = train_X.shape[1], n_output = 10, hidden_layer_size = 100, reg = 1e-3)\n",
    "dataset = Dataset(train_X, train_y, val_X, val_y)\n",
    "trainer = Trainer(model, dataset, SGD(),\n",
    "                  num_epochs=20,\n",
    "                  batch_size=50,\n",
    "                  learning_rate=0.5,             \n",
    "                  learning_rate_decay=0.99)\n",
    "\n",
    "initial_learning_rate = trainer.learning_rate\n",
    "loss_history, train_history, val_history = trainer.fit()\n",
    "\n",
    "assert trainer.learning_rate < initial_learning_rate, \"Learning rate should've been reduced\"\n",
    "assert trainer.learning_rate > 0.5*initial_learning_rate, \"Learning rate shouldn'tve been reduced that much!\""
   ]
  },
  {
   "cell_type": "code",
   "execution_count": 16,
   "metadata": {
    "ExecuteTime": {
     "end_time": "2019-06-30T14:03:48.104385Z",
     "start_time": "2019-06-30T14:03:47.977192Z"
    }
   },
   "outputs": [
    {
     "data": {
      "image/png": "[encoded data removed]",
      "text/plain": [
       "<Figure size 720x360 with 1 Axes>"
      ]
     },
     "metadata": {
      "needs_background": "light"
     },
     "output_type": "display_data"
    }
   ],
   "source": [
    "plt.figure(figsize=(10,5))\n",
    "plt.plot(loss_history)\n",
    "plt.title('Loss')\n",
    "plt.show()"
   ]
  },
  {
   "cell_type": "code",
   "execution_count": 17,
   "metadata": {
    "ExecuteTime": {
     "end_time": "2019-06-30T14:03:49.827164Z",
     "start_time": "2019-06-30T14:03:49.690990Z"
    }
   },
   "outputs": [
    {
     "data": {
      "image/png": "[encoded data removed]",
      "text/plain": [
       "<Figure size 720x360 with 1 Axes>"
      ]
     },
     "metadata": {
      "needs_background": "light"
     },
     "output_type": "display_data"
    }
   ],
   "source": [
    "plt.figure(figsize=(10,5))\n",
    "plt.plot(train_history, label='train')\n",
    "plt.plot(val_history, label='valid')\n",
    "plt.title('Accuracy')\n",
    "plt.legend()\n",
    "plt.show()"
   ]
  },
  {
   "cell_type": "markdown",
   "metadata": {},
   "source": [
    "# Накопление импульса (Momentum SGD)\n",
    "\n",
    "Другой большой класс оптимизаций - использование более эффективных методов градиентного спуска. Мы реализуем один из них - накопление импульса (Momentum SGD).\n",
    "\n",
    "Этот метод хранит скорость движения, использует градиент для ее изменения на каждом шаге, и изменяет веса пропорционально значению скорости.\n",
    "(Физическая аналогия: Вместо скорости градиенты теперь будут задавать ускорение, но будет присутствовать сила трения.)\n",
    "\n",
    "```\n",
    "velocity = momentum * velocity - learning_rate * gradient \n",
    "w = w + velocity\n",
    "```\n",
    "\n",
    "`momentum` здесь коэффициент затухания, который тоже является гиперпараметром (к счастью, для него часто есть хорошее значение по умолчанию, типичный диапазон -- 0.8-0.99).\n",
    "\n",
    "Несколько полезных ссылок, где метод разбирается более подробно:  \n",
    "http://cs231n.github.io/neural-networks-3/#sgd  \n",
    "https://distill.pub/2017/momentum/"
   ]
  },
  {
   "cell_type": "code",
   "execution_count": 34,
   "metadata": {
    "ExecuteTime": {
     "end_time": "2019-06-30T14:23:32.173822Z",
     "start_time": "2019-06-30T14:23:18.197111Z"
    }
   },
   "outputs": [
    {
     "name": "stdout",
     "output_type": "stream",
     "text": [
      "Loss: 2.215795, Train accuracy: 0.259778, val accuracy: 0.270000\n",
      "Loss: 1.814480, Train accuracy: 0.438889, val accuracy: 0.448000\n",
      "Loss: 1.500497, Train accuracy: 0.583444, val accuracy: 0.592000\n",
      "Loss: 1.212570, Train accuracy: 0.671111, val accuracy: 0.663000\n",
      "Loss: 1.160443, Train accuracy: 0.658667, val accuracy: 0.619000\n",
      "Loss: 1.057498, Train accuracy: 0.704667, val accuracy: 0.672000\n",
      "Loss: 0.996747, Train accuracy: 0.700111, val accuracy: 0.644000\n",
      "Loss: 0.924891, Train accuracy: 0.696000, val accuracy: 0.628000\n",
      "Loss: 0.870537, Train accuracy: 0.779222, val accuracy: 0.709000\n",
      "Loss: 0.826304, Train accuracy: 0.782000, val accuracy: 0.699000\n",
      "Loss: 0.809250, Train accuracy: 0.780556, val accuracy: 0.705000\n",
      "Loss: 0.779999, Train accuracy: 0.800333, val accuracy: 0.710000\n",
      "Loss: 0.732993, Train accuracy: 0.784333, val accuracy: 0.690000\n",
      "Loss: 0.674367, Train accuracy: 0.826000, val accuracy: 0.716000\n",
      "Loss: 0.645094, Train accuracy: 0.813778, val accuracy: 0.715000\n",
      "Loss: 0.612978, Train accuracy: 0.811778, val accuracy: 0.709000\n",
      "Loss: 0.610074, Train accuracy: 0.822556, val accuracy: 0.712000\n",
      "Loss: 0.589756, Train accuracy: 0.835000, val accuracy: 0.729000\n",
      "Loss: 0.564291, Train accuracy: 0.835444, val accuracy: 0.708000\n",
      "Loss: 0.516019, Train accuracy: 0.851667, val accuracy: 0.722000\n"
     ]
    }
   ],
   "source": [
    "# TODO: Implement MomentumSGD.update function in optim.py\n",
    "\n",
    "model = TwoLayerNet(n_input = train_X.shape[1], n_output = 10, hidden_layer_size = 100, reg = 1e-5)\n",
    "dataset = Dataset(train_X, train_y, val_X, val_y)\n",
    "trainer = Trainer(model, dataset, MomentumSGD(), \n",
    "                  num_epochs=20,\n",
    "                  batch_size=100,\n",
    "                  learning_rate=1e-1, \n",
    "                  learning_rate_decay=0.99)\n",
    "\n",
    "# You should see even better results than before!\n",
    "loss_history, train_history, val_history = trainer.fit()"
   ]
  },
  {
   "cell_type": "code",
   "execution_count": 41,
   "metadata": {
    "ExecuteTime": {
     "end_time": "2019-06-30T14:28:28.786713Z",
     "start_time": "2019-06-30T14:28:28.565193Z"
    }
   },
   "outputs": [
    {
     "data": {
      "image/png": "[encoded data removed]",
      "text/plain": [
       "<Figure size 720x576 with 2 Axes>"
      ]
     },
     "metadata": {
      "needs_background": "light"
     },
     "output_type": "display_data"
    }
   ],
   "source": [
    "fig, ax = plt.subplots(nrows=2, ncols=1, figsize=(10,8))\n",
    "ax[0].plot(loss_history)\n",
    "ax[1].plot(train_history, label='train')\n",
    "ax[1].plot(val_history, label='valid')\n",
    "ax[0].set_title('Loss')\n",
    "ax[1].set_title('Accuracy')\n",
    "plt.legend()\n",
    "plt.show()"
   ]
  },
  {
   "cell_type": "markdown",
   "metadata": {},
   "source": [
    "# Ну что, давайте уже тренировать сеть!"
   ]
  },
  {
   "cell_type": "markdown",
   "metadata": {},
   "source": [
    "## Последний тест - переобучимся (overfit) на маленьком наборе данных\n",
    "\n",
    "Хороший способ проверить, все ли реализовано корректно - переобучить сеть на маленьком наборе данных.  \n",
    "Наша модель обладает достаточной мощностью, чтобы приблизить маленький набор данных идеально, поэтому мы ожидаем, что на нем мы быстро дойдем до 100% точности на тренировочном наборе. \n",
    "\n",
    "Если этого не происходит, то где-то была допущена ошибка!"
   ]
  },
  {
   "cell_type": "code",
   "execution_count": 42,
   "metadata": {
    "ExecuteTime": {
     "end_time": "2019-06-30T14:29:34.227506Z",
     "start_time": "2019-06-30T14:29:32.033908Z"
    }
   },
   "outputs": [
    {
     "name": "stdout",
     "output_type": "stream",
     "text": [
      "Loss: 2.333323, Train accuracy: 0.333333, val accuracy: 0.000000\n",
      "Loss: 2.325340, Train accuracy: 0.200000, val accuracy: 0.133333\n",
      "Loss: 2.309947, Train accuracy: 0.200000, val accuracy: 0.133333\n",
      "Loss: 2.297261, Train accuracy: 0.200000, val accuracy: 0.133333\n",
      "Loss: 2.289399, Train accuracy: 0.200000, val accuracy: 0.066667\n",
      "Loss: 2.278224, Train accuracy: 0.266667, val accuracy: 0.000000\n",
      "Loss: 2.269147, Train accuracy: 0.200000, val accuracy: 0.066667\n",
      "Loss: 2.253734, Train accuracy: 0.266667, val accuracy: 0.000000\n",
      "Loss: 2.220744, Train accuracy: 0.400000, val accuracy: 0.000000\n",
      "Loss: 2.170077, Train accuracy: 0.400000, val accuracy: 0.000000\n",
      "Loss: 2.097331, Train accuracy: 0.400000, val accuracy: 0.000000\n",
      "Loss: 2.033233, Train accuracy: 0.400000, val accuracy: 0.000000\n",
      "Loss: 1.951012, Train accuracy: 0.400000, val accuracy: 0.000000\n",
      "Loss: 1.917145, Train accuracy: 0.333333, val accuracy: 0.000000\n",
      "Loss: 1.874289, Train accuracy: 0.333333, val accuracy: 0.000000\n",
      "Loss: 1.892855, Train accuracy: 0.333333, val accuracy: 0.000000\n",
      "Loss: 1.843416, Train accuracy: 0.400000, val accuracy: 0.000000\n",
      "Loss: 1.777748, Train accuracy: 0.400000, val accuracy: 0.000000\n",
      "Loss: 1.778371, Train accuracy: 0.400000, val accuracy: 0.000000\n",
      "Loss: 1.784442, Train accuracy: 0.400000, val accuracy: 0.000000\n",
      "Loss: 1.779588, Train accuracy: 0.400000, val accuracy: 0.000000\n",
      "Loss: 1.780974, Train accuracy: 0.466667, val accuracy: 0.000000\n",
      "Loss: 1.797801, Train accuracy: 0.400000, val accuracy: 0.066667\n",
      "Loss: 1.773846, Train accuracy: 0.466667, val accuracy: 0.066667\n",
      "Loss: 1.742103, Train accuracy: 0.400000, val accuracy: 0.066667\n",
      "Loss: 1.770535, Train accuracy: 0.466667, val accuracy: 0.066667\n",
      "Loss: 1.696870, Train accuracy: 0.466667, val accuracy: 0.066667\n",
      "Loss: 1.722393, Train accuracy: 0.466667, val accuracy: 0.066667\n",
      "Loss: 1.754788, Train accuracy: 0.466667, val accuracy: 0.066667\n",
      "Loss: 1.700258, Train accuracy: 0.533333, val accuracy: 0.066667\n",
      "Loss: 1.683772, Train accuracy: 0.533333, val accuracy: 0.066667\n",
      "Loss: 1.659244, Train accuracy: 0.533333, val accuracy: 0.066667\n",
      "Loss: 1.645100, Train accuracy: 0.533333, val accuracy: 0.066667\n",
      "Loss: 1.662236, Train accuracy: 0.533333, val accuracy: 0.066667\n",
      "Loss: 1.636236, Train accuracy: 0.533333, val accuracy: 0.066667\n",
      "Loss: 1.607607, Train accuracy: 0.666667, val accuracy: 0.066667\n",
      "Loss: 1.562849, Train accuracy: 0.666667, val accuracy: 0.066667\n",
      "Loss: 1.568145, Train accuracy: 0.600000, val accuracy: 0.066667\n",
      "Loss: 1.562136, Train accuracy: 0.666667, val accuracy: 0.066667\n",
      "Loss: 1.563580, Train accuracy: 0.666667, val accuracy: 0.066667\n",
      "Loss: 1.535607, Train accuracy: 0.600000, val accuracy: 0.066667\n",
      "Loss: 1.539216, Train accuracy: 0.666667, val accuracy: 0.066667\n",
      "Loss: 1.547838, Train accuracy: 0.733333, val accuracy: 0.066667\n",
      "Loss: 1.520081, Train accuracy: 0.666667, val accuracy: 0.066667\n",
      "Loss: 1.501525, Train accuracy: 0.666667, val accuracy: 0.066667\n",
      "Loss: 1.491459, Train accuracy: 0.666667, val accuracy: 0.066667\n",
      "Loss: 1.456608, Train accuracy: 0.733333, val accuracy: 0.066667\n",
      "Loss: 1.462496, Train accuracy: 0.733333, val accuracy: 0.066667\n",
      "Loss: 1.459684, Train accuracy: 0.733333, val accuracy: 0.066667\n",
      "Loss: 1.415873, Train accuracy: 0.733333, val accuracy: 0.066667\n",
      "Loss: 1.444516, Train accuracy: 0.733333, val accuracy: 0.133333\n",
      "Loss: 1.460879, Train accuracy: 0.733333, val accuracy: 0.133333\n",
      "Loss: 1.442370, Train accuracy: 0.666667, val accuracy: 0.000000\n",
      "Loss: 1.433458, Train accuracy: 0.733333, val accuracy: 0.066667\n",
      "Loss: 1.388567, Train accuracy: 0.733333, val accuracy: 0.066667\n",
      "Loss: 1.414182, Train accuracy: 0.733333, val accuracy: 0.066667\n",
      "Loss: 1.411197, Train accuracy: 0.733333, val accuracy: 0.066667\n",
      "Loss: 1.432071, Train accuracy: 0.733333, val accuracy: 0.066667\n",
      "Loss: 1.370050, Train accuracy: 0.733333, val accuracy: 0.066667\n",
      "Loss: 1.389043, Train accuracy: 0.733333, val accuracy: 0.066667\n",
      "Loss: 1.376585, Train accuracy: 0.733333, val accuracy: 0.066667\n",
      "Loss: 1.369477, Train accuracy: 0.733333, val accuracy: 0.066667\n",
      "Loss: 1.373425, Train accuracy: 0.733333, val accuracy: 0.066667\n",
      "Loss: 1.381087, Train accuracy: 0.733333, val accuracy: 0.066667\n",
      "Loss: 1.384933, Train accuracy: 0.733333, val accuracy: 0.066667\n",
      "Loss: 1.386364, Train accuracy: 0.733333, val accuracy: 0.066667\n",
      "Loss: 1.370978, Train accuracy: 0.733333, val accuracy: 0.066667\n",
      "Loss: 1.368315, Train accuracy: 0.733333, val accuracy: 0.066667\n",
      "Loss: 1.387168, Train accuracy: 0.800000, val accuracy: 0.066667\n",
      "Loss: 1.369530, Train accuracy: 0.800000, val accuracy: 0.066667\n",
      "Loss: 1.360808, Train accuracy: 0.800000, val accuracy: 0.066667\n",
      "Loss: 1.372124, Train accuracy: 0.800000, val accuracy: 0.066667\n",
      "Loss: 1.359068, Train accuracy: 0.800000, val accuracy: 0.066667\n",
      "Loss: 1.364226, Train accuracy: 0.800000, val accuracy: 0.066667\n",
      "Loss: 1.393396, Train accuracy: 0.800000, val accuracy: 0.066667\n",
      "Loss: 1.353230, Train accuracy: 0.800000, val accuracy: 0.066667\n",
      "Loss: 1.360164, Train accuracy: 0.800000, val accuracy: 0.066667\n",
      "Loss: 1.349012, Train accuracy: 0.800000, val accuracy: 0.066667\n",
      "Loss: 1.339332, Train accuracy: 0.866667, val accuracy: 0.066667\n",
      "Loss: 1.355615, Train accuracy: 0.866667, val accuracy: 0.066667\n",
      "Loss: 1.342568, Train accuracy: 0.866667, val accuracy: 0.066667\n",
      "Loss: 1.345912, Train accuracy: 0.866667, val accuracy: 0.066667\n",
      "Loss: 1.353740, Train accuracy: 0.866667, val accuracy: 0.066667\n",
      "Loss: 1.330122, Train accuracy: 0.866667, val accuracy: 0.066667\n",
      "Loss: 1.331041, Train accuracy: 0.866667, val accuracy: 0.066667\n",
      "Loss: 1.361011, Train accuracy: 0.866667, val accuracy: 0.066667\n",
      "Loss: 1.345824, Train accuracy: 0.866667, val accuracy: 0.066667\n",
      "Loss: 1.338094, Train accuracy: 0.866667, val accuracy: 0.066667\n",
      "Loss: 1.322797, Train accuracy: 0.866667, val accuracy: 0.066667\n",
      "Loss: 1.340866, Train accuracy: 0.866667, val accuracy: 0.066667\n",
      "Loss: 1.337666, Train accuracy: 0.866667, val accuracy: 0.000000\n",
      "Loss: 1.328092, Train accuracy: 0.866667, val accuracy: 0.000000\n",
      "Loss: 1.326012, Train accuracy: 0.933333, val accuracy: 0.000000\n",
      "Loss: 1.312741, Train accuracy: 0.866667, val accuracy: 0.000000\n",
      "Loss: 1.326779, Train accuracy: 0.866667, val accuracy: 0.000000\n",
      "Loss: 1.311309, Train accuracy: 0.866667, val accuracy: 0.000000\n",
      "Loss: 1.312757, Train accuracy: 0.933333, val accuracy: 0.000000\n",
      "Loss: 1.325415, Train accuracy: 0.933333, val accuracy: 0.000000\n",
      "Loss: 1.311600, Train accuracy: 0.866667, val accuracy: 0.000000\n",
      "Loss: 1.307933, Train accuracy: 0.933333, val accuracy: 0.000000\n",
      "Loss: 1.302742, Train accuracy: 0.933333, val accuracy: 0.000000\n",
      "Loss: 1.319412, Train accuracy: 0.933333, val accuracy: 0.000000\n",
      "Loss: 1.305799, Train accuracy: 0.933333, val accuracy: 0.000000\n",
      "Loss: 1.289219, Train accuracy: 0.933333, val accuracy: 0.000000\n",
      "Loss: 1.313874, Train accuracy: 1.000000, val accuracy: 0.000000\n",
      "Loss: 1.292896, Train accuracy: 0.933333, val accuracy: 0.000000\n",
      "Loss: 1.297654, Train accuracy: 0.933333, val accuracy: 0.000000\n",
      "Loss: 1.284091, Train accuracy: 0.933333, val accuracy: 0.000000\n",
      "Loss: 1.291770, Train accuracy: 1.000000, val accuracy: 0.000000\n",
      "Loss: 1.281975, Train accuracy: 1.000000, val accuracy: 0.000000\n",
      "Loss: 1.286978, Train accuracy: 1.000000, val accuracy: 0.000000\n",
      "Loss: 1.280336, Train accuracy: 1.000000, val accuracy: 0.000000\n",
      "Loss: 1.314440, Train accuracy: 1.000000, val accuracy: 0.000000\n",
      "Loss: 1.290354, Train accuracy: 1.000000, val accuracy: 0.000000\n",
      "Loss: 1.287222, Train accuracy: 1.000000, val accuracy: 0.000000\n",
      "Loss: 1.283449, Train accuracy: 1.000000, val accuracy: 0.000000\n",
      "Loss: 1.274523, Train accuracy: 1.000000, val accuracy: 0.000000\n",
      "Loss: 1.270385, Train accuracy: 0.933333, val accuracy: 0.000000\n",
      "Loss: 1.274124, Train accuracy: 1.000000, val accuracy: 0.000000\n",
      "Loss: 1.263480, Train accuracy: 1.000000, val accuracy: 0.000000\n",
      "Loss: 1.260810, Train accuracy: 1.000000, val accuracy: 0.000000\n",
      "Loss: 1.260835, Train accuracy: 1.000000, val accuracy: 0.000000\n",
      "Loss: 1.269449, Train accuracy: 1.000000, val accuracy: 0.000000\n",
      "Loss: 1.290428, Train accuracy: 1.000000, val accuracy: 0.000000\n",
      "Loss: 1.279915, Train accuracy: 1.000000, val accuracy: 0.000000\n",
      "Loss: 1.275261, Train accuracy: 1.000000, val accuracy: 0.000000\n",
      "Loss: 1.279314, Train accuracy: 1.000000, val accuracy: 0.000000\n",
      "Loss: 1.270395, Train accuracy: 1.000000, val accuracy: 0.000000\n",
      "Loss: 1.284608, Train accuracy: 1.000000, val accuracy: 0.000000\n",
      "Loss: 1.249910, Train accuracy: 1.000000, val accuracy: 0.000000\n",
      "Loss: 1.253875, Train accuracy: 1.000000, val accuracy: 0.000000\n",
      "Loss: 1.287103, Train accuracy: 1.000000, val accuracy: 0.000000\n",
      "Loss: 1.259585, Train accuracy: 1.000000, val accuracy: 0.000000\n",
      "Loss: 1.271418, Train accuracy: 1.000000, val accuracy: 0.000000\n",
      "Loss: 1.275745, Train accuracy: 1.000000, val accuracy: 0.000000\n"
     ]
    },
    {
     "name": "stdout",
     "output_type": "stream",
     "text": [
      "Loss: 1.278184, Train accuracy: 1.000000, val accuracy: 0.000000\n",
      "Loss: 1.260578, Train accuracy: 1.000000, val accuracy: 0.000000\n",
      "Loss: 1.263023, Train accuracy: 1.000000, val accuracy: 0.000000\n",
      "Loss: 1.288826, Train accuracy: 1.000000, val accuracy: 0.000000\n",
      "Loss: 1.281909, Train accuracy: 1.000000, val accuracy: 0.000000\n",
      "Loss: 1.275696, Train accuracy: 1.000000, val accuracy: 0.000000\n",
      "Loss: 1.260827, Train accuracy: 1.000000, val accuracy: 0.000000\n",
      "Loss: 1.271397, Train accuracy: 1.000000, val accuracy: 0.000000\n",
      "Loss: 1.270824, Train accuracy: 1.000000, val accuracy: 0.000000\n",
      "Loss: 1.266289, Train accuracy: 1.000000, val accuracy: 0.000000\n",
      "Loss: 1.249203, Train accuracy: 1.000000, val accuracy: 0.000000\n",
      "Loss: 1.255833, Train accuracy: 1.000000, val accuracy: 0.000000\n",
      "Loss: 1.250009, Train accuracy: 1.000000, val accuracy: 0.000000\n",
      "Loss: 1.277981, Train accuracy: 1.000000, val accuracy: 0.000000\n",
      "Loss: 1.255047, Train accuracy: 1.000000, val accuracy: 0.000000\n"
     ]
    }
   ],
   "source": [
    "data_size = 15\n",
    "model = TwoLayerNet(n_input = train_X.shape[1], n_output = 10, hidden_layer_size = 100, reg = 1e-1)\n",
    "dataset = Dataset(train_X[:data_size], train_y[:data_size], val_X[:data_size], val_y[:data_size])\n",
    "trainer = Trainer(model, dataset, SGD(), learning_rate=1e-1, num_epochs=150, batch_size=5)\n",
    "\n",
    "# You should expect this to reach 1.0 training accuracy \n",
    "loss_history, train_history, val_history = trainer.fit()"
   ]
  },
  {
   "cell_type": "markdown",
   "metadata": {},
   "source": [
    "Теперь найдем гипепараметры, для которых этот процесс сходится быстрее.\n",
    "Если все реализовано корректно, то существуют параметры, при которых процесс сходится в **20** эпох или еще быстрее.\n",
    "Найдите их!"
   ]
  },
  {
   "cell_type": "code",
   "execution_count": 45,
   "metadata": {
    "ExecuteTime": {
     "end_time": "2019-06-30T14:30:44.278515Z",
     "start_time": "2019-06-30T14:30:44.010720Z"
    }
   },
   "outputs": [
    {
     "name": "stdout",
     "output_type": "stream",
     "text": [
      "Loss: 2.313372, Train accuracy: 0.200000, val accuracy: 0.133333\n",
      "Loss: 2.274754, Train accuracy: 0.200000, val accuracy: 0.133333\n",
      "Loss: 2.250813, Train accuracy: 0.266667, val accuracy: 0.000000\n",
      "Loss: 2.179876, Train accuracy: 0.466667, val accuracy: 0.000000\n",
      "Loss: 2.104700, Train accuracy: 0.466667, val accuracy: 0.000000\n",
      "Loss: 1.799439, Train accuracy: 0.400000, val accuracy: 0.000000\n",
      "Loss: 1.857966, Train accuracy: 0.466667, val accuracy: 0.000000\n",
      "Loss: 1.647138, Train accuracy: 0.400000, val accuracy: 0.000000\n",
      "Loss: 1.462960, Train accuracy: 0.466667, val accuracy: 0.000000\n",
      "Loss: 1.404425, Train accuracy: 0.533333, val accuracy: 0.066667\n",
      "Loss: 1.401456, Train accuracy: 0.466667, val accuracy: 0.000000\n",
      "Loss: 1.127004, Train accuracy: 0.533333, val accuracy: 0.066667\n",
      "Loss: 0.984321, Train accuracy: 0.666667, val accuracy: 0.000000\n",
      "Loss: 0.875162, Train accuracy: 0.666667, val accuracy: 0.066667\n",
      "Loss: 0.772199, Train accuracy: 0.800000, val accuracy: 0.000000\n",
      "Loss: 0.589244, Train accuracy: 0.800000, val accuracy: 0.000000\n",
      "Loss: 0.496756, Train accuracy: 0.866667, val accuracy: 0.000000\n",
      "Loss: 0.438895, Train accuracy: 1.000000, val accuracy: 0.000000\n",
      "Loss: 0.341993, Train accuracy: 1.000000, val accuracy: 0.000000\n",
      "Loss: 0.255695, Train accuracy: 1.000000, val accuracy: 0.000000\n"
     ]
    }
   ],
   "source": [
    "# Now, tweak some hyper parameters and make it train to 1.0 accuracy in 20 epochs or less\n",
    "\n",
    "model = TwoLayerNet(n_input = train_X.shape[1], n_output = 10, hidden_layer_size = 100, reg = 1e-5)\n",
    "dataset = Dataset(train_X[:data_size], train_y[:data_size], val_X[:data_size], val_y[:data_size])\n",
    "# TODO: Change any hyperparamers or optimizators to reach training accuracy in 20 epochs\n",
    "trainer = Trainer(model, dataset, SGD(), learning_rate=3e-1, num_epochs=20, batch_size=5)\n",
    "\n",
    "loss_history, train_history, val_history = trainer.fit()"
   ]
  },
  {
   "cell_type": "markdown",
   "metadata": {},
   "source": [
    "# Итак, основное мероприятие!\n",
    "\n",
    "Натренируйте лучшую нейросеть! Можно добавлять и изменять параметры, менять количество нейронов в слоях сети и как угодно экспериментировать. \n",
    "\n",
    "Добейтесь точности лучше **40%** на validation set."
   ]
  },
  {
   "cell_type": "code",
   "execution_count": 9,
   "metadata": {
    "ExecuteTime": {
     "end_time": "2019-06-30T15:05:09.155783Z",
     "start_time": "2019-06-30T15:03:54.591391Z"
    },
    "scrolled": true
   },
   "outputs": [
    {
     "name": "stdout",
     "output_type": "stream",
     "text": [
      "Loss: 2.270915, Train accuracy: 0.196667, val accuracy: 0.206000\n",
      "Loss: 2.235318, Train accuracy: 0.196667, val accuracy: 0.206000\n",
      "Loss: 2.230293, Train accuracy: 0.196667, val accuracy: 0.206000\n",
      "Loss: 2.228190, Train accuracy: 0.196667, val accuracy: 0.206000\n",
      "Loss: 2.227432, Train accuracy: 0.196667, val accuracy: 0.206000\n",
      "Loss: 2.227579, Train accuracy: 0.196667, val accuracy: 0.206000\n",
      "Loss: 2.226535, Train accuracy: 0.196667, val accuracy: 0.206000\n",
      "Loss: 2.219354, Train accuracy: 0.196667, val accuracy: 0.206000\n",
      "Loss: 2.196976, Train accuracy: 0.196667, val accuracy: 0.206000\n",
      "Loss: 2.155300, Train accuracy: 0.228444, val accuracy: 0.240000\n",
      "Loss: 2.113304, Train accuracy: 0.264556, val accuracy: 0.263000\n",
      "Loss: 2.078260, Train accuracy: 0.272444, val accuracy: 0.273000\n",
      "Loss: 2.042505, Train accuracy: 0.273444, val accuracy: 0.275000\n",
      "Loss: 1.996168, Train accuracy: 0.307444, val accuracy: 0.316000\n",
      "Loss: 1.927468, Train accuracy: 0.347333, val accuracy: 0.343000\n",
      "Loss: 1.833449, Train accuracy: 0.390889, val accuracy: 0.390000\n",
      "Loss: 1.731977, Train accuracy: 0.426889, val accuracy: 0.422000\n",
      "Loss: 1.642365, Train accuracy: 0.454556, val accuracy: 0.439000\n",
      "Loss: 1.571822, Train accuracy: 0.481000, val accuracy: 0.475000\n",
      "Loss: 1.518561, Train accuracy: 0.505556, val accuracy: 0.504000\n",
      "Loss: 1.459555, Train accuracy: 0.537889, val accuracy: 0.536000\n",
      "Loss: 1.397434, Train accuracy: 0.561000, val accuracy: 0.569000\n",
      "Loss: 1.350795, Train accuracy: 0.583222, val accuracy: 0.577000\n",
      "Loss: 1.295603, Train accuracy: 0.611667, val accuracy: 0.606000\n",
      "Loss: 1.247790, Train accuracy: 0.626889, val accuracy: 0.626000\n",
      "Loss: 1.205122, Train accuracy: 0.640444, val accuracy: 0.638000\n",
      "Loss: 1.168712, Train accuracy: 0.650667, val accuracy: 0.639000\n",
      "Loss: 1.139537, Train accuracy: 0.664556, val accuracy: 0.654000\n",
      "Loss: 1.103106, Train accuracy: 0.673556, val accuracy: 0.660000\n",
      "Loss: 1.071720, Train accuracy: 0.685111, val accuracy: 0.669000\n",
      "Loss: 1.046364, Train accuracy: 0.691444, val accuracy: 0.679000\n",
      "Loss: 1.023335, Train accuracy: 0.700778, val accuracy: 0.672000\n",
      "Loss: 0.996409, Train accuracy: 0.703000, val accuracy: 0.685000\n",
      "Loss: 0.979737, Train accuracy: 0.699222, val accuracy: 0.682000\n",
      "Loss: 0.965657, Train accuracy: 0.712556, val accuracy: 0.697000\n",
      "Loss: 0.936079, Train accuracy: 0.718333, val accuracy: 0.699000\n",
      "Loss: 0.928642, Train accuracy: 0.722333, val accuracy: 0.691000\n",
      "Loss: 0.912476, Train accuracy: 0.733556, val accuracy: 0.702000\n",
      "Loss: 0.890380, Train accuracy: 0.738667, val accuracy: 0.697000\n",
      "Loss: 0.876570, Train accuracy: 0.738333, val accuracy: 0.712000\n",
      "Loss: 0.866830, Train accuracy: 0.746222, val accuracy: 0.702000\n",
      "Loss: 0.848293, Train accuracy: 0.752778, val accuracy: 0.709000\n",
      "Loss: 0.835968, Train accuracy: 0.756778, val accuracy: 0.707000\n",
      "Loss: 0.816694, Train accuracy: 0.761444, val accuracy: 0.714000\n",
      "Loss: 0.805499, Train accuracy: 0.770111, val accuracy: 0.711000\n",
      "Loss: 0.793915, Train accuracy: 0.772889, val accuracy: 0.713000\n",
      "Loss: 0.780495, Train accuracy: 0.779111, val accuracy: 0.724000\n",
      "Loss: 0.763518, Train accuracy: 0.780778, val accuracy: 0.726000\n",
      "Loss: 0.753586, Train accuracy: 0.782000, val accuracy: 0.717000\n",
      "Loss: 0.738828, Train accuracy: 0.790000, val accuracy: 0.717000\n",
      "Loss: 0.724282, Train accuracy: 0.791222, val accuracy: 0.725000\n",
      "Loss: 0.716434, Train accuracy: 0.799444, val accuracy: 0.724000\n",
      "Loss: 0.710263, Train accuracy: 0.804667, val accuracy: 0.724000\n",
      "Loss: 0.693699, Train accuracy: 0.801444, val accuracy: 0.722000\n",
      "Loss: 0.679775, Train accuracy: 0.807889, val accuracy: 0.730000\n",
      "Loss: 0.676089, Train accuracy: 0.813556, val accuracy: 0.735000\n",
      "Loss: 0.661940, Train accuracy: 0.814556, val accuracy: 0.732000\n",
      "Loss: 0.657378, Train accuracy: 0.821889, val accuracy: 0.735000\n",
      "Loss: 0.640353, Train accuracy: 0.828000, val accuracy: 0.733000\n",
      "Loss: 0.631906, Train accuracy: 0.820889, val accuracy: 0.731000\n",
      "Loss: 0.620765, Train accuracy: 0.820333, val accuracy: 0.722000\n",
      "Loss: 0.618360, Train accuracy: 0.821111, val accuracy: 0.731000\n",
      "Loss: 0.606900, Train accuracy: 0.837333, val accuracy: 0.737000\n",
      "Loss: 0.605757, Train accuracy: 0.839222, val accuracy: 0.737000\n",
      "Loss: 0.585918, Train accuracy: 0.845556, val accuracy: 0.750000\n",
      "Loss: 0.577338, Train accuracy: 0.845556, val accuracy: 0.741000\n",
      "Loss: 0.573922, Train accuracy: 0.843444, val accuracy: 0.752000\n",
      "Loss: 0.568041, Train accuracy: 0.849556, val accuracy: 0.743000\n",
      "Loss: 0.561216, Train accuracy: 0.856333, val accuracy: 0.759000\n",
      "Loss: 0.548557, Train accuracy: 0.855333, val accuracy: 0.755000\n",
      "Loss: 0.544517, Train accuracy: 0.860333, val accuracy: 0.747000\n",
      "Loss: 0.535962, Train accuracy: 0.857778, val accuracy: 0.755000\n",
      "Loss: 0.530885, Train accuracy: 0.867000, val accuracy: 0.755000\n",
      "Loss: 0.521900, Train accuracy: 0.866222, val accuracy: 0.746000\n",
      "Loss: 0.519172, Train accuracy: 0.868778, val accuracy: 0.754000\n",
      "Loss: 0.506755, Train accuracy: 0.865222, val accuracy: 0.744000\n",
      "Loss: 0.503511, Train accuracy: 0.875111, val accuracy: 0.756000\n",
      "Loss: 0.500465, Train accuracy: 0.874889, val accuracy: 0.755000\n",
      "Loss: 0.488884, Train accuracy: 0.874889, val accuracy: 0.755000\n",
      "Loss: 0.492659, Train accuracy: 0.880667, val accuracy: 0.756000\n",
      "Loss: 0.490725, Train accuracy: 0.878111, val accuracy: 0.750000\n",
      "Loss: 0.474013, Train accuracy: 0.888889, val accuracy: 0.755000\n",
      "Loss: 0.467570, Train accuracy: 0.889111, val accuracy: 0.757000\n",
      "Loss: 0.467513, Train accuracy: 0.883667, val accuracy: 0.752000\n",
      "Loss: 0.465101, Train accuracy: 0.885667, val accuracy: 0.764000\n",
      "Loss: 0.453875, Train accuracy: 0.897111, val accuracy: 0.769000\n",
      "Loss: 0.449445, Train accuracy: 0.884667, val accuracy: 0.759000\n",
      "Loss: 0.448669, Train accuracy: 0.892889, val accuracy: 0.756000\n",
      "Loss: 0.439587, Train accuracy: 0.893444, val accuracy: 0.763000\n",
      "Loss: 0.442670, Train accuracy: 0.900222, val accuracy: 0.763000\n",
      "Loss: 0.436728, Train accuracy: 0.897667, val accuracy: 0.758000\n",
      "Loss: 0.424536, Train accuracy: 0.900222, val accuracy: 0.764000\n",
      "Loss: 0.421813, Train accuracy: 0.907000, val accuracy: 0.773000\n",
      "Loss: 0.415007, Train accuracy: 0.906667, val accuracy: 0.766000\n",
      "Loss: 0.417538, Train accuracy: 0.909556, val accuracy: 0.764000\n",
      "Loss: 0.410517, Train accuracy: 0.906667, val accuracy: 0.762000\n",
      "Loss: 0.404348, Train accuracy: 0.911444, val accuracy: 0.766000\n",
      "Loss: 0.402937, Train accuracy: 0.910667, val accuracy: 0.765000\n",
      "Loss: 0.395738, Train accuracy: 0.915444, val accuracy: 0.757000\n",
      "Loss: 0.397562, Train accuracy: 0.888889, val accuracy: 0.757000\n"
     ]
    }
   ],
   "source": [
    "# Let's train the best one-hidden-layer network we can\n",
    "\n",
    "learning_rates = 1e-2\n",
    "reg_strength = 1e-4\n",
    "learning_rate_decay = 0.999\n",
    "hidden_layer_size = 128\n",
    "num_epochs = 100\n",
    "batch_size = 128\n",
    "\n",
    "best_classifier = None\n",
    "best_val_accuracy = None\n",
    "\n",
    "loss_history = []\n",
    "train_history = []\n",
    "val_history = []\n",
    "\n",
    "# TODO find the best hyperparameters to train the network\n",
    "# Don't hesitate to add new values to the arrays above, perform experiments, use any tricks you want\n",
    "# You should expect to get to at least 40% of valudation accuracy\n",
    "# Save loss/train/history of the best classifier to the variables above\n",
    "model = TwoLayerNet(n_input = train_X.shape[1], \n",
    "                    n_output = 10,\n",
    "                    hidden_layer_size=hidden_layer_size,\n",
    "                    reg=reg_strength)\n",
    "dataset = Dataset(train_X, train_y, val_X, val_y)\n",
    "trainer = Trainer(model, dataset, MomentumSGD(), \n",
    "                  num_epochs=num_epochs,\n",
    "                  batch_size=batch_size,\n",
    "                  learning_rate=learning_rates, \n",
    "                  learning_rate_decay=learning_rate_decay)\n",
    "\n",
    "# You should see even better results than before!\n",
    "loss_history, train_history, val_history = trainer.fit()"
   ]
  },
  {
   "cell_type": "code",
   "execution_count": 10,
   "metadata": {
    "ExecuteTime": {
     "end_time": "2019-06-30T15:05:22.469771Z",
     "start_time": "2019-06-30T15:05:22.447568Z"
    }
   },
   "outputs": [
    {
     "name": "stdout",
     "output_type": "stream",
     "text": [
      "best validation accuracy achieved: 0.757000\n"
     ]
    }
   ],
   "source": [
    "# weghit initializing with *sqrt(2/n_input)\n",
    "best_classifier = model\n",
    "best_val_accuracy = multiclass_accuracy(val_y, model.predict(val_X))\n",
    "print('best validation accuracy achieved: %f' % best_val_accuracy)"
   ]
  },
  {
   "cell_type": "code",
   "execution_count": 57,
   "metadata": {
    "ExecuteTime": {
     "end_time": "2019-06-30T14:42:42.255609Z",
     "start_time": "2019-06-30T14:42:42.236232Z"
    }
   },
   "outputs": [
    {
     "name": "stdout",
     "output_type": "stream",
     "text": [
      "best validation accuracy achieved: 0.766000\n"
     ]
    }
   ],
   "source": [
    "best_classifier = model\n",
    "best_val_accuracy = multiclass_accuracy(val_y, model.predict(val_X))\n",
    "print('best validation accuracy achieved: %f' % best_val_accuracy)"
   ]
  },
  {
   "cell_type": "code",
   "execution_count": 58,
   "metadata": {
    "ExecuteTime": {
     "end_time": "2019-06-30T14:42:46.052210Z",
     "start_time": "2019-06-30T14:42:45.784259Z"
    }
   },
   "outputs": [
    {
     "data": {
      "image/png": "[encoded data removed]",
      "text/plain": [
       "<Figure size 1080x576 with 2 Axes>"
      ]
     },
     "metadata": {
      "needs_background": "light"
     },
     "output_type": "display_data"
    }
   ],
   "source": [
    "fig, ax = plt.subplots(nrows=2, ncols=1, figsize=(15,8))\n",
    "ax[0].plot(loss_history)\n",
    "ax[1].plot(train_history, label='train')\n",
    "ax[1].plot(val_history, label='valid')\n",
    "ax[0].set_title('Loss')\n",
    "ax[1].set_title('Accuracy')\n",
    "plt.legend()\n",
    "plt.show()"
   ]
  },
  {
   "cell_type": "markdown",
   "metadata": {},
   "source": [
    "# Как обычно, посмотрим, как наша лучшая модель работает на тестовых данных"
   ]
  },
  {
   "cell_type": "code",
   "execution_count": 59,
   "metadata": {
    "ExecuteTime": {
     "end_time": "2019-06-30T14:42:54.603481Z",
     "start_time": "2019-06-30T14:42:54.572085Z"
    }
   },
   "outputs": [
    {
     "name": "stdout",
     "output_type": "stream",
     "text": [
      "Neural net test set accuracy: 0.738000\n"
     ]
    }
   ],
   "source": [
    "test_pred = best_classifier.predict(test_X)\n",
    "test_accuracy = multiclass_accuracy(test_pred, test_y)\n",
    "print('Neural net test set accuracy: %f' % (test_accuracy, ))"
   ]
  },
  {
   "cell_type": "code",
   "execution_count": null,
   "metadata": {},
   "outputs": [],
   "source": []
  }
 ],
 "metadata": {
  "kernelspec": {
   "display_name": "Python 3",
   "language": "python",
   "name": "python3"
  },
  "language_info": {
   "codemirror_mode": {
    "name": "ipython",
    "version": 3
   },
   "file_extension": ".py",
   "mimetype": "text/x-python",
   "name": "python",
   "nbconvert_exporter": "python",
   "pygments_lexer": "ipython3",
   "version": "3.6.8"
  },
  "varInspector": {
   "cols": {
    "lenName": 16,
    "lenType": 16,
    "lenVar": 40
   },
   "kernels_config": {
    "python": {
     "delete_cmd_postfix": "",
     "delete_cmd_prefix": "del ",
     "library": "var_list.py",
     "varRefreshCmd": "print(var_dic_list())"
    },
    "r": {
     "delete_cmd_postfix": ") ",
     "delete_cmd_prefix": "rm(",
     "library": "var_list.r",
     "varRefreshCmd": "cat(var_dic_list()) "
    }
   },
   "types_to_exclude": [
    "module",
    "function",
    "builtin_function_or_method",
    "instance",
    "_Feature"
   ],
   "window_display": false
  }
 },
 "nbformat": 4,
 "nbformat_minor": 2
}
