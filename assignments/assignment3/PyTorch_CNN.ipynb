{
 "cells": [
  {
   "cell_type": "markdown",
   "metadata": {},
   "source": [
    "# Задание 3.2 - сверточные нейронные сети (CNNs) в PyTorch\n",
    "\n",
    "Это упражнение мы буде выполнять в Google Colab - https://colab.research.google.com/  \n",
    "Google Colab позволяет запускать код в notebook в облаке Google, где можно воспользоваться бесплатным GPU!  \n",
    "\n",
    "Авторы курса благодарят компанию Google и надеятся, что праздник не закончится.\n",
    "\n",
    "Туториал по настройке Google Colab:  \n",
    "https://medium.com/deep-learning-turkey/google-colab-free-gpu-tutorial-e113627b9f5d  \n",
    "(Keras инсталлировать не нужно, наш notebook сам установит PyTorch)\n"
   ]
  },
  {
   "cell_type": "raw",
   "metadata": {
    "colab": {},
    "colab_type": "code",
    "id": "FcXBeP1O7cnY"
   },
   "source": [
    "# Intstall PyTorch and download data\n",
    "!pip3 install torch torchvision\n",
    "\n",
    "!wget -c http://ufldl.stanford.edu/housenumbers/train_32x32.mat http://ufldl.stanford.edu/housenumbers/test_32x32.mat"
   ]
  },
  {
   "cell_type": "code",
   "execution_count": 1,
   "metadata": {
    "ExecuteTime": {
     "end_time": "2019-07-27T18:48:29.682543Z",
     "start_time": "2019-07-27T18:48:29.256891Z"
    },
    "colab": {},
    "colab_type": "code",
    "id": "-afwWw-Q85vD"
   },
   "outputs": [],
   "source": [
    "from collections import namedtuple\n",
    "\n",
    "import matplotlib.pyplot as plt\n",
    "import numpy as np\n",
    "import PIL\n",
    "import torch\n",
    "import torch.nn as nn\n",
    "import torch.optim as optim\n",
    "import torchvision.datasets as dset\n",
    "from torch.utils.data.sampler import SubsetRandomSampler\n",
    "\n",
    "from torchvision import transforms"
   ]
  },
  {
   "cell_type": "code",
   "execution_count": 2,
   "metadata": {
    "ExecuteTime": {
     "end_time": "2019-07-27T18:48:30.666576Z",
     "start_time": "2019-07-27T18:48:30.662206Z"
    },
    "colab": {},
    "colab_type": "code",
    "id": "NNU-OD9O9ltP"
   },
   "outputs": [],
   "source": [
    "device = torch.device(\"cuda:0\") # Let's make sure GPU is available!"
   ]
  },
  {
   "cell_type": "markdown",
   "metadata": {},
   "source": [
    "# Загружаем данные"
   ]
  },
  {
   "cell_type": "code",
   "execution_count": 3,
   "metadata": {
    "ExecuteTime": {
     "end_time": "2019-07-27T18:48:36.296592Z",
     "start_time": "2019-07-27T18:48:34.507346Z"
    },
    "colab": {},
    "colab_type": "code",
    "id": "YAvkoRx-9FsP"
   },
   "outputs": [],
   "source": [
    "# First, lets load the dataset\n",
    "data_train = dset.SVHN('./data/', \n",
    "                       transform=transforms.Compose([\n",
    "                           transforms.ToTensor(),\n",
    "                           transforms.Normalize(mean=[0.43,0.44,0.47],\n",
    "                                               std=[0.20,0.20,0.20])                           \n",
    "                       ])\n",
    "                      )\n",
    "data_test = dset.SVHN('./data/', split='test', transform=transforms.Compose([\n",
    "                           transforms.ToTensor(),\n",
    "                           transforms.Normalize(mean=[0.43,0.44,0.47],\n",
    "                                               std=[0.20,0.20,0.20])                           \n",
    "                       ]))"
   ]
  },
  {
   "cell_type": "markdown",
   "metadata": {},
   "source": [
    "Разделяем данные на training и validation.\n",
    "\n",
    "На всякий случай для подробностей - https://pytorch.org/tutorials/beginner/data_loading_tutorial.html"
   ]
  },
  {
   "cell_type": "code",
   "execution_count": 4,
   "metadata": {
    "ExecuteTime": {
     "end_time": "2019-07-27T18:52:23.164429Z",
     "start_time": "2019-07-27T18:52:23.154710Z"
    },
    "colab": {},
    "colab_type": "code",
    "id": "YRnr8CPg7Hli"
   },
   "outputs": [],
   "source": [
    "batch_size = 64\n",
    "\n",
    "data_size = data_train.data.shape[0]\n",
    "validation_split = .2\n",
    "split = int(np.floor(validation_split * data_size))\n",
    "indices = list(range(data_size))\n",
    "np.random.shuffle(indices)\n",
    "\n",
    "train_indices, val_indices = indices[split:], indices[:split]\n",
    "\n",
    "train_sampler = SubsetRandomSampler(train_indices)\n",
    "val_sampler = SubsetRandomSampler(val_indices)\n",
    "\n",
    "train_loader = torch.utils.data.DataLoader(data_train, batch_size=batch_size, \n",
    "                                           sampler=train_sampler)\n",
    "val_loader = torch.utils.data.DataLoader(data_train, batch_size=batch_size,\n",
    "                                         sampler=val_sampler)"
   ]
  },
  {
   "cell_type": "code",
   "execution_count": 5,
   "metadata": {
    "ExecuteTime": {
     "end_time": "2019-07-27T18:52:30.346160Z",
     "start_time": "2019-07-27T18:52:30.336843Z"
    },
    "colab": {},
    "colab_type": "code",
    "id": "LyYvt-T67PBG"
   },
   "outputs": [],
   "source": [
    "# We'll use a special helper module to shape it into a flat tensor\n",
    "class Flattener(nn.Module):\n",
    "    def forward(self, x):\n",
    "        batch_size, *_ = x.shape\n",
    "        return x.view(batch_size, -1)"
   ]
  },
  {
   "cell_type": "markdown",
   "metadata": {},
   "source": [
    "Создадим простейшую сеть с новыми слоями:  \n",
    "Convolutional - `nn.Conv2d`  \n",
    "MaxPool - `nn.MaxPool2d`"
   ]
  },
  {
   "cell_type": "code",
   "execution_count": 35,
   "metadata": {
    "ExecuteTime": {
     "end_time": "2019-07-27T21:15:24.668647Z",
     "start_time": "2019-07-27T21:15:24.663751Z"
    },
    "colab": {},
    "colab_type": "code",
    "id": "w9SFVGZP7SQd"
   },
   "outputs": [],
   "source": [
    "nn_model = nn.Sequential(\n",
    "            nn.Conv2d(3, 64, 3, padding=1),\n",
    "            nn.ReLU(inplace=True),\n",
    "            nn.MaxPool2d(4),\n",
    "            nn.Conv2d(64, 64, 3, padding=1),\n",
    "            nn.ReLU(inplace=True),\n",
    "            nn.MaxPool2d(4),    \n",
    "            Flattener(),\n",
    "            nn.Linear(64*2*2, 10),\n",
    "          )\n",
    "\n",
    "nn_model.type(torch.cuda.FloatTensor)\n",
    "nn_model.to(device)\n",
    "\n",
    "loss = nn.CrossEntropyLoss().type(torch.cuda.FloatTensor)\n",
    "optimizer = optim.SGD(nn_model.parameters(), lr=1e-1, weight_decay=1e-4)"
   ]
  },
  {
   "cell_type": "markdown",
   "metadata": {},
   "source": [
    "Восстановите функцию `compute_accuracy` из прошлого задания.  \n",
    "Единственное отличие в новом - она должна передать данные на GPU прежде чем прогонять через модель. Сделайте это так же, как это делает функция `train_model`"
   ]
  },
  {
   "cell_type": "code",
   "execution_count": 57,
   "metadata": {
    "ExecuteTime": {
     "end_time": "2019-07-27T21:29:29.574748Z",
     "start_time": "2019-07-27T21:29:29.564825Z"
    },
    "colab": {},
    "colab_type": "code",
    "id": "2ek3KVQK7hJ6"
   },
   "outputs": [],
   "source": [
    "def train_model(model, train_loader, val_loader, loss, optimizer, num_epochs, \n",
    "                scheduler=None):    \n",
    "    loss_history = []\n",
    "    train_history = []\n",
    "    val_history = []\n",
    "    for epoch in range(num_epochs):\n",
    "        model.train() # Enter train mode\n",
    "        \n",
    "        loss_accum = 0\n",
    "        correct_samples = 0\n",
    "        total_samples = 0\n",
    "        for i_step, (x, y) in enumerate(train_loader):\n",
    "          \n",
    "            x_gpu = x.cuda()#.to(device)\n",
    "            y_gpu = y.cuda()#.to(device)\n",
    "            prediction = model(x_gpu)    \n",
    "            loss_value = loss(prediction, y_gpu)\n",
    "            optimizer.zero_grad()\n",
    "            loss_value.backward()\n",
    "            optimizer.step()\n",
    "            \n",
    "            _, indices = torch.max(prediction, 1)\n",
    "            correct_samples += torch.sum(indices == y_gpu)\n",
    "            total_samples += y.shape[0]\n",
    "            \n",
    "            loss_accum += loss_value\n",
    "            \n",
    "        if scheduler is not None:\n",
    "            # Decay Learning Rate\n",
    "            print('Epoch:', epoch,'LR:', \n",
    "                  [pg['lr'] for pg in optimizer.param_groups])#scheduler.get_lr())\n",
    "            scheduler.step()\n",
    "            \n",
    "        ave_loss = loss_accum / i_step\n",
    "        train_accuracy = float(correct_samples) / total_samples\n",
    "        val_accuracy = compute_accuracy(model, val_loader, use_gpu=True)\n",
    "        \n",
    "        loss_history.append(float(ave_loss))\n",
    "        train_history.append(train_accuracy)\n",
    "        val_history.append(val_accuracy)\n",
    "        \n",
    "        print(\"Epoch: %d, Average loss: %f, Train accuracy: %f, Val accuracy: %f\" % \\\n",
    "                (epoch, ave_loss, train_accuracy, val_accuracy))\n",
    "        \n",
    "    return loss_history, train_history, val_history\n",
    "        \n",
    "def compute_accuracy(model, loader, use_gpu=False):\n",
    "    \"\"\"\n",
    "    Computes accuracy on the dataset wrapped in a loader\n",
    "    \n",
    "    Returns: accuracy as a float value between 0 and 1\n",
    "    \"\"\"\n",
    "    model.eval() # Evaluation mode\n",
    "    # TODO: Copy implementation from previous assignment\n",
    "    # Don't forget to move the data to device before running it through the model!\n",
    "    correct_samples = 0\n",
    "    total_samples = 0\n",
    "    for i_step, (x, y) in enumerate(loader):\n",
    "        if use_gpu:\n",
    "            x = x.cuda()\n",
    "            y = y.cuda()            \n",
    "        prediction = model(x)    \n",
    "            \n",
    "        _, indices = torch.max(prediction, 1)\n",
    "        correct_samples += torch.sum(indices == y)\n",
    "        total_samples += y.shape[0]    \n",
    "    \n",
    "    return float(correct_samples) / total_samples"
   ]
  },
  {
   "cell_type": "code",
   "execution_count": 37,
   "metadata": {
    "ExecuteTime": {
     "end_time": "2019-07-27T21:16:14.271221Z",
     "start_time": "2019-07-27T21:15:28.123930Z"
    }
   },
   "outputs": [
    {
     "name": "stdout",
     "output_type": "stream",
     "text": [
      "Epoch: 0, Average loss: 1.368979, Train accuracy: 0.544023, Val accuracy: 0.748140\n",
      "Epoch: 1, Average loss: 0.690190, Train accuracy: 0.791301, Val accuracy: 0.775988\n",
      "Epoch: 2, Average loss: 0.589990, Train accuracy: 0.823653, Val accuracy: 0.828135\n",
      "Epoch: 3, Average loss: 0.537732, Train accuracy: 0.840204, Val accuracy: 0.837076\n",
      "Epoch: 4, Average loss: 0.508874, Train accuracy: 0.848940, Val accuracy: 0.847041\n"
     ]
    }
   ],
   "source": [
    "loss_history, train_history, val_history = train_model(nn_model, train_loader, val_loader, loss, optimizer, 5)"
   ]
  },
  {
   "cell_type": "code",
   "execution_count": 14,
   "metadata": {
    "ExecuteTime": {
     "end_time": "2019-07-21T19:58:04.769535Z",
     "start_time": "2019-07-21T19:58:04.554414Z"
    }
   },
   "outputs": [
    {
     "data": {
      "image/png": "[encoded data removed]",
      "text/plain": [
       "<Figure size 720x576 with 2 Axes>"
      ]
     },
     "metadata": {
      "needs_background": "light"
     },
     "output_type": "display_data"
    }
   ],
   "source": [
    "fig, ax = plt.subplots(nrows=2, ncols=1, figsize=(10,8))\n",
    "ax[0].plot(loss_history)\n",
    "ax[1].plot(train_history, label='train')\n",
    "ax[1].plot(val_history, label='valid')\n",
    "ax[0].set_title('Loss')\n",
    "ax[1].set_title('Accuracy')\n",
    "plt.legend()\n",
    "plt.show()"
   ]
  },
  {
   "cell_type": "markdown",
   "metadata": {
    "colab_type": "text",
    "id": "6a-3a1ZFGEw_"
   },
   "source": [
    "# Аугментация данных (Data augmentation)\n",
    "\n",
    "В работе с изображениями одним из особенно важных методов является аугментация данных - то есть, генерация дополнительных данных для тренировки на основе изначальных.   \n",
    "Таким образом, мы получаем возможность \"увеличить\" набор данных для тренировки, что ведет к лучшей работе сети.\n",
    "Важно, чтобы аугментированные данные были похожи на те, которые могут встретиться в реальной жизни, иначе польза от аугментаций уменьшается и может ухудшить работу сети.\n",
    "\n",
    "С PyTorch идут несколько таких алгоритмов, называемых `transforms`. Более подробно про них можно прочитать тут -\n",
    "https://pytorch.org/tutorials/beginner/data_loading_tutorial.html#transforms\n",
    "\n",
    "Ниже мы используем следующие алгоритмы генерации:\n",
    "- ColorJitter - случайное изменение цвета\n",
    "- RandomHorizontalFlip - горизонтальное отражение с вероятностью 50%\n",
    "- RandomVerticalFlip - вертикальное отражение с вероятностью 50%\n",
    "- RandomRotation - случайный поворот"
   ]
  },
  {
   "cell_type": "code",
   "execution_count": 9,
   "metadata": {
    "ExecuteTime": {
     "end_time": "2019-07-27T19:48:28.134700Z",
     "start_time": "2019-07-27T19:48:26.857917Z"
    },
    "colab": {},
    "colab_type": "code",
    "id": "jCWMUWmr7t5g"
   },
   "outputs": [],
   "source": [
    "tfs = transforms.Compose([\n",
    "    transforms.ColorJitter(hue=.50, saturation=.50),\n",
    "    transforms.RandomHorizontalFlip(),\n",
    "    transforms.RandomVerticalFlip(),\n",
    "    transforms.RandomRotation(50, resample=PIL.Image.BILINEAR),\n",
    "    transforms.ToTensor(),\n",
    "    transforms.Normalize(mean=[0.43,0.44,0.47],\n",
    "                       std=[0.20,0.20,0.20])                           \n",
    "])\n",
    "\n",
    "# Create augmented train dataset\n",
    "data_aug_train = dset.SVHN('./data/', \n",
    "                       transform=tfs\n",
    "                      )\n",
    "\n",
    "train_aug_loader = torch.utils.data.DataLoader(data_aug_train, batch_size=batch_size, \n",
    "                                           sampler=train_sampler)"
   ]
  },
  {
   "cell_type": "markdown",
   "metadata": {},
   "source": [
    "Визуализируем результаты агментации (вообще, смотреть на сгенерированные данные всегда очень полезно)."
   ]
  },
  {
   "cell_type": "code",
   "execution_count": 10,
   "metadata": {
    "ExecuteTime": {
     "end_time": "2019-07-27T19:49:27.983035Z",
     "start_time": "2019-07-27T19:49:26.457099Z"
    },
    "colab": {},
    "colab_type": "code",
    "id": "YlJJEro1KZ45"
   },
   "outputs": [
    {
     "data": {
      "image/png": "[encoded data removed]",
      "text/plain": [
       "<Figure size 2160x216 with 10 Axes>"
      ]
     },
     "metadata": {
      "needs_background": "light"
     },
     "output_type": "display_data"
    }
   ],
   "source": [
    "# TODO: Visualize some augmented images!\n",
    "# hint: you can create new datasets and loaders to accomplish this\n",
    "\n",
    "# Based on the visualizations, should we keep all the augmentations?\n",
    "\n",
    "tfs = transforms.Compose([\n",
    "    transforms.ColorJitter(hue=.20, saturation=.20),\n",
    "    transforms.RandomHorizontalFlip(),\n",
    "    transforms.RandomVerticalFlip(),\n",
    "    transforms.RandomRotation(10, resample=PIL.Image.BILINEAR),\n",
    "])\n",
    "\n",
    "data_aug_vis = dset.SVHN('./data/', \n",
    "                       transform=tfs\n",
    "                      )\n",
    "\n",
    "plt.figure(figsize=(30, 3))\n",
    "\n",
    "for i, (x, y) in enumerate(data_aug_vis):\n",
    "    if i == 10:\n",
    "        break\n",
    "    plt.subplot(1, 10, i+1)\n",
    "    plt.grid(False)\n",
    "    plt.imshow(x)\n",
    "    plt.axis('off')"
   ]
  },
  {
   "cell_type": "markdown",
   "metadata": {
    "colab_type": "text",
    "id": "o2LrmsYHoguB"
   },
   "source": [
    "Все ли агментации одинаково полезны на этом наборе данных? Могут ли быть среди них те, которые собьют модель с толку?\n",
    "\n",
    "Выберите из них только корректные"
   ]
  },
  {
   "cell_type": "code",
   "execution_count": 93,
   "metadata": {
    "ExecuteTime": {
     "end_time": "2019-07-28T09:46:44.072433Z",
     "start_time": "2019-07-28T09:46:42.547326Z"
    },
    "colab": {},
    "colab_type": "code",
    "id": "evro9ksXGs9u"
   },
   "outputs": [
    {
     "data": {
      "image/png": "[encoded data removed]",
      "text/plain": [
       "<Figure size 2160x216 with 10 Axes>"
      ]
     },
     "metadata": {
      "needs_background": "light"
     },
     "output_type": "display_data"
    }
   ],
   "source": [
    "# TODO: \n",
    "tfs = transforms.Compose([\n",
    "    # TODO: Add good augmentations\n",
    "    transforms.RandomCrop(size=32),\n",
    "    transforms.ColorJitter(hue=.50, saturation=.50),\n",
    "    transforms.RandomRotation(50, resample=PIL.Image.BILINEAR),\n",
    "    #transforms.ToTensor(),\n",
    "    #transforms.Normalize(mean=[0.43,0.44,0.47],\n",
    "                       #std=[0.20,0.20,0.20])                           \n",
    "])\n",
    "\n",
    "# TODO create new instances of loaders with the augmentations you chose\n",
    "data_aug_train =  dset.SVHN('./data/', \n",
    "                       transform=tfs\n",
    "                      )\n",
    "\n",
    "plt.figure(figsize=(30, 3))\n",
    "\n",
    "for i, (x, y) in enumerate(data_aug_train):\n",
    "    if i == 10:\n",
    "        break\n",
    "    plt.subplot(1, 10, i+1)\n",
    "    plt.grid(False)\n",
    "    plt.imshow(x)\n",
    "    plt.axis('off')"
   ]
  },
  {
   "cell_type": "code",
   "execution_count": 17,
   "metadata": {
    "ExecuteTime": {
     "end_time": "2019-07-27T20:12:18.912497Z",
     "start_time": "2019-07-27T20:10:23.995203Z"
    },
    "colab": {},
    "colab_type": "code",
    "id": "PeO6Zw0DHqPR"
   },
   "outputs": [
    {
     "name": "stdout",
     "output_type": "stream",
     "text": [
      "Epoch: 0, Average loss: 1.343473, Train accuracy: 0.561393, Val accuracy: 0.720156\n",
      "Epoch: 1, Average loss: 0.996578, Train accuracy: 0.677064, Val accuracy: 0.720770\n",
      "Epoch: 2, Average loss: 0.913479, Train accuracy: 0.706020, Val accuracy: 0.765886\n",
      "Epoch: 3, Average loss: 0.866423, Train accuracy: 0.722417, Val accuracy: 0.760767\n",
      "Epoch: 4, Average loss: 0.837563, Train accuracy: 0.732502, Val accuracy: 0.686028\n",
      "CPU times: user 1min 53s, sys: 833 ms, total: 1min 54s\n",
      "Wall time: 1min 54s\n"
     ]
    }
   ],
   "source": [
    "%%time\n",
    "# Finally, let's train with augmentations!\n",
    "# TODO: \n",
    "tfs = transforms.Compose([\n",
    "    # TODO: Add good augmentations\n",
    "    transforms.ColorJitter(hue=.50, saturation=.50),\n",
    "    transforms.RandomRotation(50, resample=PIL.Image.BILINEAR),\n",
    "    transforms.ToTensor(),\n",
    "    transforms.Normalize(mean=[0.43,0.44,0.47],\n",
    "                       std=[0.20,0.20,0.20])                           \n",
    "])\n",
    "\n",
    "# TODO create new instances of loaders with the augmentations you chose\n",
    "data_aug_train =  dset.SVHN('./data/', \n",
    "                       transform=tfs\n",
    "                      )\n",
    "train_aug_loader = torch.utils.data.DataLoader(data_aug_train, batch_size=batch_size, \n",
    "                                               sampler=train_sampler)\n",
    "# Note we shouldn't use augmentations on validation\n",
    "\n",
    "loss_history, train_history, val_history = train_model(nn_model, train_aug_loader, val_loader, loss, optimizer, 5)"
   ]
  },
  {
   "cell_type": "markdown",
   "metadata": {
    "colab_type": "text",
    "id": "r0bcioK6JBDK"
   },
   "source": [
    "# LeNet\n",
    "Попробуем имплементировать классическую архитектуру сверточной нейронной сети, предложенную Яном ЛеКуном в 1998 году. В свое время она достигла впечатляющих результатов на MNIST, посмотрим как она справится с SVHN?\n",
    "Она описана в статье [\"Gradient Based Learning Applied to Document Recognition\"](http://yann.lecun.com/exdb/publis/pdf/lecun-01a.pdf), попробуйте прочитать ключевые части и имплементировать предложенную архитетуру на PyTorch.\n",
    "\n",
    "Реализовывать слои и функцию ошибки LeNet, которых нет в PyTorch, **не нужно** - просто возьмите их размеры и переведите в уже известные нам Convolutional, Pooling и Fully Connected layers.\n",
    "\n",
    "Если в статье не очень понятно, можно просто погуглить LeNet и разобраться в деталях :)"
   ]
  },
  {
   "cell_type": "code",
   "execution_count": 24,
   "metadata": {
    "ExecuteTime": {
     "end_time": "2019-07-27T20:44:11.248338Z",
     "start_time": "2019-07-27T20:44:11.241816Z"
    },
    "colab": {},
    "colab_type": "code",
    "id": "ieEzZUglJAUB"
   },
   "outputs": [],
   "source": [
    "# TODO: Implement LeNet-like architecture for SVHN task\n",
    "lenet_model = nn.Sequential(\n",
    "    nn.Conv2d(3, 6, 5, stride=1, padding=0),\n",
    "    nn.MaxPool2d(2, stride=2),\n",
    "    nn.Conv2d(6, 16, 5, stride=1, padding=0),\n",
    "    nn.MaxPool2d(2, stride=2),   \n",
    "    Flattener(),\n",
    "    nn.Linear(16*5*5, 120),\n",
    "    nn.Linear(120, 84),\n",
    "    nn.Linear(84, 10),\n",
    ")\n",
    "\n",
    "lenet_model.type(torch.cuda.FloatTensor)\n",
    "lenet_model.to(device)\n",
    "\n",
    "loss = nn.CrossEntropyLoss().type(torch.cuda.FloatTensor)\n",
    "optimizer = optim.SGD(lenet_model.parameters(), lr=1e-1, weight_decay=1e-4)"
   ]
  },
  {
   "cell_type": "code",
   "execution_count": 25,
   "metadata": {
    "ExecuteTime": {
     "end_time": "2019-07-27T20:48:20.363313Z",
     "start_time": "2019-07-27T20:44:35.235235Z"
    },
    "colab": {},
    "colab_type": "code",
    "id": "WMmaPfdeKk9H"
   },
   "outputs": [
    {
     "name": "stdout",
     "output_type": "stream",
     "text": [
      "Epoch: 0, Average loss: 1.696324, Train accuracy: 0.423199, Val accuracy: 0.586376\n",
      "Epoch: 1, Average loss: 1.248226, Train accuracy: 0.604392, Val accuracy: 0.662549\n",
      "Epoch: 2, Average loss: 1.191893, Train accuracy: 0.627598, Val accuracy: 0.697222\n",
      "Epoch: 3, Average loss: 1.159600, Train accuracy: 0.641487, Val accuracy: 0.598730\n",
      "Epoch: 4, Average loss: 1.144803, Train accuracy: 0.648193, Val accuracy: 0.664460\n",
      "Epoch: 5, Average loss: 1.129906, Train accuracy: 0.653397, Val accuracy: 0.671285\n",
      "Epoch: 6, Average loss: 1.118301, Train accuracy: 0.655223, Val accuracy: 0.666439\n",
      "Epoch: 7, Average loss: 1.105809, Train accuracy: 0.657936, Val accuracy: 0.638796\n",
      "Epoch: 8, Average loss: nan, Train accuracy: 0.235590, Val accuracy: 0.070712\n",
      "Epoch: 9, Average loss: nan, Train accuracy: 0.066751, Val accuracy: 0.070712\n",
      "CPU times: user 3min 43s, sys: 1.73 s, total: 3min 44s\n",
      "Wall time: 3min 45s\n"
     ]
    }
   ],
   "source": [
    "%%time\n",
    "# Let's train it!\n",
    "loss_history, train_history, val_history = train_model(lenet_model, train_aug_loader, \n",
    "                                                       val_loader, loss, optimizer, 10)"
   ]
  },
  {
   "cell_type": "markdown",
   "metadata": {
    "colab_type": "text",
    "id": "u_O9qiYySvuj"
   },
   "source": [
    "# Подбор гиперпараметров"
   ]
  },
  {
   "cell_type": "code",
   "execution_count": 79,
   "metadata": {
    "ExecuteTime": {
     "end_time": "2019-07-27T21:49:02.108107Z",
     "start_time": "2019-07-27T21:49:02.103009Z"
    },
    "colab": {},
    "colab_type": "code",
    "id": "i6mhfdQ9K-N3"
   },
   "outputs": [],
   "source": [
    "# The key hyperparameters we're going to tune are learning speed, annealing rate and regularization\n",
    "# We also encourage you to try different optimizers as well\n",
    "import random \n",
    "\n",
    "Hyperparams = namedtuple(\"Hyperparams\", ['learning_rate', 'anneal_coeff', 'anneal_epochs', 'reg'])\n",
    "RunResult = namedtuple(\"RunResult\", ['model', 'train_history', 'val_history', 'final_val_accuracy'])\n",
    "\n",
    "learning_rates = [1e0, 1e-1, 1e-2, 1e-3, 1e-4]\n",
    "anneal_coeff = [0.1, 0.2, 0.5]\n",
    "anneal_epochs = [1, 2, 4, 5, 10]\n",
    "reg = [1e-3, 1e-4, 1e-5, 1e-7]\n",
    "\n",
    "batch_size = 64\n",
    "epoch_num = 20\n",
    "\n",
    "NUM_ITERATIONS = 10\n",
    "# Record all the runs here\n",
    "# Key should be Hyperparams and values should be RunResult\n",
    "run_record = {} \n",
    "\n",
    "# Use grid search or random search and record all runs in run_record dictionnary \n",
    "# Important: perform search in logarithmic space!\n",
    "\n",
    "# TODO: Your code here!"
   ]
  },
  {
   "cell_type": "code",
   "execution_count": 80,
   "metadata": {
    "ExecuteTime": {
     "end_time": "2019-07-27T23:05:01.046278Z",
     "start_time": "2019-07-27T21:49:11.250582Z"
    },
    "scrolled": true
   },
   "outputs": [
    {
     "name": "stdout",
     "output_type": "stream",
     "text": [
      "Iteration 0\n",
      "Params: Hyperparams(learning_rate=0.1, anneal_coeff=0.5, anneal_epochs=2, reg=1e-07)\n",
      "Epoch: 0 LR: [0.1]\n",
      "Epoch: 0, Average loss: 1078.316284, Train accuracy: 0.183224, Val accuracy: 0.273633\n",
      "Epoch: 1 LR: [0.1]\n",
      "Epoch: 1, Average loss: 1.998591, Train accuracy: 0.348155, Val accuracy: 0.464815\n",
      "Epoch: 2 LR: [0.05]\n",
      "Epoch: 2, Average loss: 1.556352, Train accuracy: 0.489540, Val accuracy: 0.574705\n",
      "Epoch: 3 LR: [0.05]\n",
      "Epoch: 3, Average loss: 1.450237, Train accuracy: 0.533580, Val accuracy: 0.587059\n",
      "Epoch: 4 LR: [0.025]\n",
      "Epoch: 4, Average loss: 1.295274, Train accuracy: 0.592363, Val accuracy: 0.612450\n",
      "Epoch: 5 LR: [0.025]\n",
      "Epoch: 5, Average loss: 1.274094, Train accuracy: 0.600007, Val accuracy: 0.623643\n",
      "Epoch: 6 LR: [0.0125]\n",
      "Epoch: 6, Average loss: 1.171939, Train accuracy: 0.638075, Val accuracy: 0.682889\n",
      "Epoch: 7 LR: [0.0125]\n",
      "Epoch: 7, Average loss: 1.185040, Train accuracy: 0.631881, Val accuracy: 0.650672\n",
      "Epoch: 8 LR: [0.00625]\n",
      "Epoch: 8, Average loss: 1.108596, Train accuracy: 0.661212, Val accuracy: 0.676063\n",
      "Epoch: 9 LR: [0.00625]\n",
      "Epoch: 9, Average loss: 1.130090, Train accuracy: 0.651913, Val accuracy: 0.665211\n",
      "Epoch: 10 LR: [0.003125]\n",
      "Epoch: 10, Average loss: 1.064750, Train accuracy: 0.674300, Val accuracy: 0.702409\n",
      "Epoch: 11 LR: [0.003125]\n",
      "Epoch: 11, Average loss: 1.101592, Train accuracy: 0.661809, Val accuracy: 0.645144\n",
      "Epoch: 12 LR: [0.0015625]\n",
      "Epoch: 12, Average loss: 1.039470, Train accuracy: 0.685988, Val accuracy: 0.690874\n",
      "Epoch: 13 LR: [0.0015625]\n",
      "Epoch: 13, Average loss: 1.057214, Train accuracy: 0.678275, Val accuracy: 0.698860\n",
      "Epoch: 14 LR: [0.00078125]\n",
      "Epoch: 14, Average loss: 1.004014, Train accuracy: 0.695867, Val accuracy: 0.719883\n",
      "Epoch: 15 LR: [0.00078125]\n",
      "Epoch: 15, Average loss: 1.009742, Train accuracy: 0.695645, Val accuracy: 0.721111\n",
      "Epoch: 16 LR: [0.000390625]\n",
      "Epoch: 16, Average loss: 0.962165, Train accuracy: 0.712026, Val accuracy: 0.722272\n",
      "Epoch: 17 LR: [0.000390625]\n",
      "Epoch: 17, Average loss: 0.963473, Train accuracy: 0.713033, Val accuracy: 0.725753\n",
      "Epoch: 18 LR: [0.0001953125]\n",
      "Epoch: 18, Average loss: 0.925419, Train accuracy: 0.726001, Val accuracy: 0.735308\n",
      "Epoch: 19 LR: [0.0001953125]\n",
      "Epoch: 19, Average loss: 0.926597, Train accuracy: 0.726956, Val accuracy: 0.740837\n",
      "Hyperparams(learning_rate=0.1, anneal_coeff=0.5, anneal_epochs=2, reg=1e-07) \n",
      " RunResult(model=Sequential(\n",
      "  (0): Conv2d(3, 6, kernel_size=(5, 5), stride=(1, 1))\n",
      "  (1): MaxPool2d(kernel_size=2, stride=2, padding=0, dilation=1, ceil_mode=False)\n",
      "  (2): Conv2d(6, 16, kernel_size=(5, 5), stride=(1, 1))\n",
      "  (3): MaxPool2d(kernel_size=2, stride=2, padding=0, dilation=1, ceil_mode=False)\n",
      "  (4): Flattener()\n",
      "  (5): Linear(in_features=400, out_features=120, bias=True)\n",
      "  (6): Linear(in_features=120, out_features=84, bias=True)\n",
      "  (7): Linear(in_features=84, out_features=10, bias=True)\n",
      "), train_history=[0.18322356072757057, 0.34815547896119853, 0.48954032010374365, 0.5335801795038051, 0.5923625567348053, 0.6000068252397366, 0.6380745998703204, 0.6318806948094052, 0.6612121625772105, 0.6519127734361669, 0.674299559772037, 0.6618093710541583, 0.6859877828208716, 0.6782752619185749, 0.6958673173395216, 0.6956454970480838, 0.7120260724157936, 0.7130327952769341, 0.726000750776371, 0.7269562843394874], val_history=[0.2736331990990376, 0.4648146884171729, 0.5747047983072828, 0.5870589038290902, 0.6124496621391031, 0.6236434373080336, 0.6828885400313972, 0.6506723090574023, 0.6760630673674152, 0.6652105658316838, 0.7024093918503856, 0.6451436761995768, 0.6908743430482561, 0.698860146065115, 0.7198826018701795, 0.7211111869496962, 0.7222715173025732, 0.725752508361204, 0.7353081700907788, 0.7408368029486042], final_val_accuracy=0.7408368029486042)\n",
      "***************************************\n",
      "\n",
      "Iteration 1\n",
      "Params: Hyperparams(learning_rate=0.001, anneal_coeff=0.2, anneal_epochs=5, reg=1e-07)\n",
      "Epoch: 0 LR: [0.001]\n",
      "Epoch: 0, Average loss: 1.465449, Train accuracy: 0.515562, Val accuracy: 0.674630\n",
      "Epoch: 1 LR: [0.001]\n",
      "Epoch: 1, Average loss: 1.149565, Train accuracy: 0.646862, Val accuracy: 0.679339\n",
      "Epoch: 2 LR: [0.001]\n",
      "Epoch: 2, Average loss: 1.087951, Train accuracy: 0.668549, Val accuracy: 0.702614\n",
      "Epoch: 3 LR: [0.001]\n",
      "Epoch: 3, Average loss: 1.064235, Train accuracy: 0.676091, Val accuracy: 0.705822\n",
      "Epoch: 4 LR: [0.001]\n",
      "Epoch: 4, Average loss: 1.036536, Train accuracy: 0.686193, Val accuracy: 0.719746\n",
      "Epoch: 5 LR: [0.0008]\n",
      "Epoch: 5, Average loss: 1.004130, Train accuracy: 0.697557, Val accuracy: 0.734489\n",
      "Epoch: 6 LR: [0.0008]\n",
      "Epoch: 6, Average loss: 0.987670, Train accuracy: 0.704279, Val accuracy: 0.726981\n",
      "Epoch: 7 LR: [0.0008]\n",
      "Epoch: 7, Average loss: 0.986946, Train accuracy: 0.703409, Val accuracy: 0.731145\n",
      "Epoch: 8 LR: [0.0008]\n",
      "Epoch: 8, Average loss: 0.971111, Train accuracy: 0.708170, Val accuracy: 0.730257\n",
      "Epoch: 9 LR: [0.0008]\n",
      "Epoch: 9, Average loss: 0.963913, Train accuracy: 0.710388, Val accuracy: 0.733056\n",
      "Epoch: 10 LR: [0.00064]\n",
      "Epoch: 10, Average loss: 0.940774, Train accuracy: 0.718595, Val accuracy: 0.740496\n",
      "Epoch: 11 LR: [0.00064]\n",
      "Epoch: 11, Average loss: 0.937834, Train accuracy: 0.719824, Val accuracy: 0.742680\n",
      "Epoch: 12 LR: [0.00064]\n",
      "Epoch: 12, Average loss: 0.931234, Train accuracy: 0.721889, Val accuracy: 0.741861\n",
      "Epoch: 13 LR: [0.00064]\n",
      "Epoch: 13, Average loss: 0.931095, Train accuracy: 0.723475, Val accuracy: 0.728824\n",
      "Epoch: 14 LR: [0.00064]\n",
      "Epoch: 14, Average loss: 0.930709, Train accuracy: 0.722878, Val accuracy: 0.744318\n",
      "Epoch: 15 LR: [0.0005120000000000001]\n",
      "Epoch: 15, Average loss: 0.905181, Train accuracy: 0.729635, Val accuracy: 0.754556\n",
      "Epoch: 16 LR: [0.0005120000000000001]\n",
      "Epoch: 16, Average loss: 0.903737, Train accuracy: 0.731768, Val accuracy: 0.754897\n",
      "Epoch: 17 LR: [0.0005120000000000001]\n",
      "Epoch: 17, Average loss: 0.899606, Train accuracy: 0.732980, Val accuracy: 0.745956\n",
      "Epoch: 18 LR: [0.0005120000000000001]\n",
      "Epoch: 18, Average loss: 0.897976, Train accuracy: 0.732451, Val accuracy: 0.760562\n",
      "Epoch: 19 LR: [0.0005120000000000001]\n",
      "Epoch: 19, Average loss: 0.895626, Train accuracy: 0.735010, Val accuracy: 0.747184\n",
      "Hyperparams(learning_rate=0.001, anneal_coeff=0.2, anneal_epochs=5, reg=1e-07) \n",
      " RunResult(model=Sequential(\n",
      "  (0): Conv2d(3, 6, kernel_size=(5, 5), stride=(1, 1))\n",
      "  (1): MaxPool2d(kernel_size=2, stride=2, padding=0, dilation=1, ceil_mode=False)\n",
      "  (2): Conv2d(6, 16, kernel_size=(5, 5), stride=(1, 1))\n",
      "  (3): MaxPool2d(kernel_size=2, stride=2, padding=0, dilation=1, ceil_mode=False)\n",
      "  (4): Flattener()\n",
      "  (5): Linear(in_features=400, out_features=120, bias=True)\n",
      "  (6): Linear(in_features=120, out_features=84, bias=True)\n",
      "  (7): Linear(in_features=84, out_features=10, bias=True)\n",
      "), train_history=[0.5155615465993243, 0.6468620960311231, 0.6685492952939972, 0.6760911852028803, 0.6861925400129679, 0.6975565641743167, 0.7042794253148141, 0.7034092072484046, 0.7081698119646452, 0.7103880148790226, 0.7185953656622189, 0.7198239088147971, 0.7218885438351023, 0.7234754120738491, 0.7228782035969014, 0.7296351909360816, 0.7317680783537521, 0.732979558406989, 0.7324506023274068, 0.7350100672286114], val_history=[0.674629718107979, 0.6793392942461265, 0.7026141560303051, 0.7058221281823767, 0.7197460924168999, 0.7344891133711009, 0.7269810934407208, 0.7311446317657497, 0.7302573203194321, 0.7330557641116647, 0.7404955293154051, 0.7426796805678794, 0.7418606238482015, 0.7288239710599959, 0.744317794007235, 0.754556003003208, 0.754897276636407, 0.7459559074465907, 0.7605624189475121, 0.7471844925261074], final_val_accuracy=0.7471844925261074)\n",
      "***************************************\n",
      "\n",
      "Iteration 2\n",
      "Params: Hyperparams(learning_rate=1.0, anneal_coeff=0.5, anneal_epochs=4, reg=1e-07)\n",
      "Epoch: 0 LR: [1.0]\n",
      "Epoch: 0, Average loss: 86063368.000000, Train accuracy: 0.174760, Val accuracy: 0.191181\n",
      "Epoch: 1 LR: [1.0]\n",
      "Epoch: 1, Average loss: 21190.013672, Train accuracy: 0.198853, Val accuracy: 0.140127\n",
      "Epoch: 2 LR: [1.0]\n",
      "Epoch: 2, Average loss: 21366.738281, Train accuracy: 0.223117, Val accuracy: 0.251655\n",
      "Epoch: 3 LR: [1.0]\n",
      "Epoch: 3, Average loss: 39574.472656, Train accuracy: 0.203426, Val accuracy: 0.200942\n",
      "Epoch: 4 LR: [0.5]\n",
      "Epoch: 4, Average loss: 718.263794, Train accuracy: 0.240982, Val accuracy: 0.241076\n",
      "Epoch: 5 LR: [0.5]\n",
      "Epoch: 5, Average loss: 523.347412, Train accuracy: 0.243968, Val accuracy: 0.288444\n"
     ]
    },
    {
     "name": "stdout",
     "output_type": "stream",
     "text": [
      "Epoch: 6 LR: [0.5]\n",
      "Epoch: 6, Average loss: 432.161804, Train accuracy: 0.243200, Val accuracy: 0.199850\n",
      "Epoch: 7 LR: [0.5]\n",
      "Epoch: 7, Average loss: 8586143232.000000, Train accuracy: 0.169675, Val accuracy: 0.122654\n",
      "Epoch: 8 LR: [0.25]\n",
      "Epoch: 8, Average loss: 5888305.000000, Train accuracy: 0.155684, Val accuracy: 0.134530\n",
      "Epoch: 9 LR: [0.25]\n",
      "Epoch: 9, Average loss: 4757037.000000, Train accuracy: 0.144644, Val accuracy: 0.185721\n",
      "Epoch: 10 LR: [0.25]\n",
      "Epoch: 10, Average loss: 2934782.500000, Train accuracy: 0.146828, Val accuracy: 0.139922\n",
      "Epoch: 11 LR: [0.25]\n",
      "Epoch: 11, Average loss: 2187379.750000, Train accuracy: 0.148330, Val accuracy: 0.134394\n",
      "Epoch: 12 LR: [0.125]\n",
      "Epoch: 12, Average loss: 695731.000000, Train accuracy: 0.159591, Val accuracy: 0.157395\n",
      "Epoch: 13 LR: [0.125]\n",
      "Epoch: 13, Average loss: 1123187.625000, Train accuracy: 0.149695, Val accuracy: 0.214183\n",
      "Epoch: 14 LR: [0.125]\n",
      "Epoch: 14, Average loss: 24188086.000000, Train accuracy: 0.143176, Val accuracy: 0.180056\n",
      "Epoch: 15 LR: [0.125]\n",
      "Epoch: 15, Average loss: 171795.796875, Train accuracy: 0.151486, Val accuracy: 0.179851\n",
      "Epoch: 16 LR: [0.0625]\n",
      "Epoch: 16, Average loss: 78260.351562, Train accuracy: 0.146504, Val accuracy: 0.152003\n",
      "Epoch: 17 LR: [0.0625]\n",
      "Epoch: 17, Average loss: 95032.281250, Train accuracy: 0.145889, Val accuracy: 0.185312\n",
      "Epoch: 18 LR: [0.0625]\n",
      "Epoch: 18, Average loss: 2091041.375000, Train accuracy: 0.137256, Val accuracy: 0.157941\n",
      "Epoch: 19 LR: [0.0625]\n",
      "Epoch: 19, Average loss: 45287.101562, Train accuracy: 0.146777, Val accuracy: 0.136305\n",
      "Hyperparams(learning_rate=1.0, anneal_coeff=0.5, anneal_epochs=4, reg=1e-07) \n",
      " RunResult(model=Sequential(\n",
      "  (0): Conv2d(3, 6, kernel_size=(5, 5), stride=(1, 1))\n",
      "  (1): MaxPool2d(kernel_size=2, stride=2, padding=0, dilation=1, ceil_mode=False)\n",
      "  (2): Conv2d(6, 16, kernel_size=(5, 5), stride=(1, 1))\n",
      "  (3): MaxPool2d(kernel_size=2, stride=2, padding=0, dilation=1, ceil_mode=False)\n",
      "  (4): Flattener()\n",
      "  (5): Linear(in_features=400, out_features=120, bias=True)\n",
      "  (6): Linear(in_features=120, out_features=84, bias=True)\n",
      "  (7): Linear(in_features=84, out_features=10, bias=True)\n",
      "), train_history=[0.17476026345425383, 0.19885335972426033, 0.22311708698768043, 0.20342627034774596, 0.24098215199808892, 0.24396819438282769, 0.2432003549124663, 0.16967545985052726, 0.15568371839060846, 0.14464389311674572, 0.14682796983244037, 0.14832952257448043, 0.15959116813978091, 0.14969457052178958, 0.1431764665733884, 0.15148619595263282, 0.14650377094495445, 0.14588949936866533, 0.13725557110193495, 0.14677678053441628], val_history=[0.19118148931813528, 0.14012695379155007, 0.25165517712101565, 0.20094191522762953, 0.24107569449184357, 0.2884444747798785, 0.1998498396013924, 0.1226537437717562, 0.13453006620708485, 0.1857211111869497, 0.1399221896116306, 0.1343935567538052, 0.1573953996314245, 0.21418333219575456, 0.18005596887584466, 0.1798512046959252, 0.1520032762268787, 0.18531158282711077, 0.15794143744454303, 0.13630468909972016], final_val_accuracy=0.13630468909972016)\n",
      "***************************************\n",
      "\n",
      "Iteration 3\n",
      "Params: Hyperparams(learning_rate=0.001, anneal_coeff=0.2, anneal_epochs=2, reg=0.0001)\n",
      "Epoch: 0 LR: [0.001]\n",
      "Epoch: 0, Average loss: 1.480794, Train accuracy: 0.505426, Val accuracy: 0.674493\n",
      "Epoch: 1 LR: [0.001]\n",
      "Epoch: 1, Average loss: 1.128265, Train accuracy: 0.650633, Val accuracy: 0.704662\n",
      "Epoch: 2 LR: [0.0008]\n",
      "Epoch: 2, Average loss: 1.052661, Train accuracy: 0.681500, Val accuracy: 0.712102\n",
      "Epoch: 3 LR: [0.0008]\n",
      "Epoch: 3, Average loss: 1.024282, Train accuracy: 0.690544, Val accuracy: 0.716402\n",
      "Epoch: 4 LR: [0.00064]\n",
      "Epoch: 4, Average loss: 1.000461, Train accuracy: 0.699911, Val accuracy: 0.717698\n",
      "Epoch: 5 LR: [0.00064]\n",
      "Epoch: 5, Average loss: 0.986124, Train accuracy: 0.704314, Val accuracy: 0.733534\n",
      "Epoch: 6 LR: [0.0005120000000000001]\n",
      "Epoch: 6, Average loss: 0.959161, Train accuracy: 0.714108, Val accuracy: 0.735786\n",
      "Epoch: 7 LR: [0.0005120000000000001]\n",
      "Epoch: 7, Average loss: 0.951222, Train accuracy: 0.716343, Val accuracy: 0.742475\n",
      "Epoch: 8 LR: [0.0004096000000000001]\n",
      "Epoch: 8, Average loss: 0.936730, Train accuracy: 0.723049, Val accuracy: 0.740564\n",
      "Epoch: 9 LR: [0.0004096000000000001]\n",
      "Epoch: 9, Average loss: 0.932256, Train accuracy: 0.721650, Val accuracy: 0.747458\n",
      "Epoch: 10 LR: [0.0003276800000000001]\n",
      "Epoch: 10, Average loss: 0.922544, Train accuracy: 0.725438, Val accuracy: 0.753396\n",
      "Epoch: 11 LR: [0.0003276800000000001]\n",
      "Epoch: 11, Average loss: 0.913729, Train accuracy: 0.728901, Val accuracy: 0.745888\n",
      "Epoch: 12 LR: [0.0002621440000000001]\n",
      "Epoch: 12, Average loss: 0.902075, Train accuracy: 0.732229, Val accuracy: 0.754283\n",
      "Epoch: 13 LR: [0.0002621440000000001]\n",
      "Epoch: 13, Average loss: 0.898068, Train accuracy: 0.734276, Val accuracy: 0.761586\n",
      "Epoch: 14 LR: [0.00020971520000000012]\n",
      "Epoch: 14, Average loss: 0.886970, Train accuracy: 0.738627, Val accuracy: 0.757832\n",
      "Epoch: 15 LR: [0.00020971520000000012]\n",
      "Epoch: 15, Average loss: 0.890139, Train accuracy: 0.735914, Val accuracy: 0.756604\n",
      "Epoch: 16 LR: [0.0001677721600000001]\n",
      "Epoch: 16, Average loss: 0.880680, Train accuracy: 0.742944, Val accuracy: 0.755307\n",
      "Epoch: 17 LR: [0.0001677721600000001]\n",
      "Epoch: 17, Average loss: 0.877302, Train accuracy: 0.740504, Val accuracy: 0.753259\n",
      "Epoch: 18 LR: [0.00013421772800000008]\n",
      "Epoch: 18, Average loss: 0.870191, Train accuracy: 0.742944, Val accuracy: 0.758924\n",
      "Epoch: 19 LR: [0.00013421772800000008]\n",
      "Epoch: 19, Average loss: 0.864961, Train accuracy: 0.745930, Val accuracy: 0.760085\n",
      "Hyperparams(learning_rate=0.001, anneal_coeff=0.2, anneal_epochs=2, reg=0.0001) \n",
      " RunResult(model=Sequential(\n",
      "  (0): Conv2d(3, 6, kernel_size=(5, 5), stride=(1, 1))\n",
      "  (1): MaxPool2d(kernel_size=2, stride=2, padding=0, dilation=1, ceil_mode=False)\n",
      "  (2): Conv2d(6, 16, kernel_size=(5, 5), stride=(1, 1))\n",
      "  (3): MaxPool2d(kernel_size=2, stride=2, padding=0, dilation=1, ceil_mode=False)\n",
      "  (4): Flattener()\n",
      "  (5): Linear(in_features=400, out_features=120, bias=True)\n",
      "  (6): Linear(in_features=120, out_features=84, bias=True)\n",
      "  (7): Linear(in_features=84, out_features=10, bias=True)\n",
      "), train_history=[0.5054260655905539, 0.6506330409855646, 0.6815001876940927, 0.6905436303450159, 0.699911271883425, 0.704313551513497, 0.7141077705354401, 0.7163430365491588, 0.723048834590315, 0.7216496604443231, 0.725437668498106, 0.7289014776644029, 0.732228782035969, 0.7342763539569327, 0.7386274442889806, 0.7359144114937037, 0.7429444084223459, 0.7405043852165307, 0.7429444084223459, 0.7459304508070846], val_history=[0.6744932086546993, 0.7046617978294997, 0.71210156303324, 0.7164016108115487, 0.7176984506177053, 0.7335335471981435, 0.7357859531772575, 0.7424749163879598, 0.7405637840420449, 0.7474575114326667, 0.753395672650331, 0.7458876527199508, 0.7542829840966487, 0.7615862398471094, 0.7578322298819193, 0.7566036448024026, 0.755306804996246, 0.7532591631970514, 0.7589243055081565, 0.7600846358610334], final_val_accuracy=0.7600846358610334)\n",
      "***************************************\n",
      "\n",
      "Iteration 4\n",
      "Params: Hyperparams(learning_rate=0.001, anneal_coeff=0.2, anneal_epochs=10, reg=0.0001)\n",
      "Epoch: 0 LR: [0.001]\n",
      "Epoch: 0, Average loss: 1.423045, Train accuracy: 0.529297, Val accuracy: 0.679612\n",
      "Epoch: 1 LR: [0.001]\n",
      "Epoch: 1, Average loss: 1.109576, Train accuracy: 0.657322, Val accuracy: 0.709713\n",
      "Epoch: 2 LR: [0.001]\n",
      "Epoch: 2, Average loss: 1.064556, Train accuracy: 0.674334, Val accuracy: 0.712579\n",
      "Epoch: 3 LR: [0.001]\n",
      "Epoch: 3, Average loss: 1.042144, Train accuracy: 0.682968, Val accuracy: 0.710736\n",
      "Epoch: 4 LR: [0.001]\n",
      "Epoch: 4, Average loss: 1.016898, Train accuracy: 0.690987, Val accuracy: 0.716879\n",
      "Epoch: 5 LR: [0.001]\n",
      "Epoch: 5, Average loss: 1.005040, Train accuracy: 0.698324, Val accuracy: 0.727254\n",
      "Epoch: 6 LR: [0.001]\n",
      "Epoch: 6, Average loss: 1.002005, Train accuracy: 0.698000, Val accuracy: 0.735376\n",
      "Epoch: 7 LR: [0.001]\n",
      "Epoch: 7, Average loss: 0.986941, Train accuracy: 0.702095, Val accuracy: 0.723432\n",
      "Epoch: 8 LR: [0.001]\n",
      "Epoch: 8, Average loss: 0.978093, Train accuracy: 0.707965, Val accuracy: 0.720906\n",
      "Epoch: 9 LR: [0.001]\n",
      "Epoch: 9, Average loss: 0.973735, Train accuracy: 0.708921, Val accuracy: 0.733056\n",
      "Epoch: 10 LR: [0.0008]\n",
      "Epoch: 10, Average loss: 0.946527, Train accuracy: 0.717452, Val accuracy: 0.749505\n"
     ]
    },
    {
     "name": "stdout",
     "output_type": "stream",
     "text": [
      "Epoch: 11 LR: [0.0008]\n",
      "Epoch: 11, Average loss: 0.936235, Train accuracy: 0.716923, Val accuracy: 0.741246\n",
      "Epoch: 12 LR: [0.0008]\n",
      "Epoch: 12, Average loss: 0.931509, Train accuracy: 0.722776, Val accuracy: 0.743840\n",
      "Epoch: 13 LR: [0.0008]\n",
      "Epoch: 13, Average loss: 0.927836, Train accuracy: 0.723237, Val accuracy: 0.750597\n",
      "Epoch: 14 LR: [0.0008]\n",
      "Epoch: 14, Average loss: 0.922814, Train accuracy: 0.724960, Val accuracy: 0.750392\n",
      "Epoch: 15 LR: [0.0008]\n",
      "Epoch: 15, Average loss: 0.919951, Train accuracy: 0.724926, Val accuracy: 0.747526\n",
      "Epoch: 16 LR: [0.0008]\n",
      "Epoch: 16, Average loss: 0.911768, Train accuracy: 0.727263, Val accuracy: 0.744796\n",
      "Epoch: 17 LR: [0.0008]\n",
      "Epoch: 17, Average loss: 0.913738, Train accuracy: 0.727724, Val accuracy: 0.745751\n",
      "Epoch: 18 LR: [0.0008]\n",
      "Epoch: 18, Average loss: 0.914406, Train accuracy: 0.728219, Val accuracy: 0.750392\n",
      "Epoch: 19 LR: [0.0008]\n",
      "Epoch: 19, Average loss: 0.909858, Train accuracy: 0.731017, Val accuracy: 0.741929\n",
      "Hyperparams(learning_rate=0.001, anneal_coeff=0.2, anneal_epochs=10, reg=0.0001) \n",
      " RunResult(model=Sequential(\n",
      "  (0): Conv2d(3, 6, kernel_size=(5, 5), stride=(1, 1))\n",
      "  (1): MaxPool2d(kernel_size=2, stride=2, padding=0, dilation=1, ceil_mode=False)\n",
      "  (2): Conv2d(6, 16, kernel_size=(5, 5), stride=(1, 1))\n",
      "  (3): MaxPool2d(kernel_size=2, stride=2, padding=0, dilation=1, ceil_mode=False)\n",
      "  (4): Flattener()\n",
      "  (5): Linear(in_features=400, out_features=120, bias=True)\n",
      "  (6): Linear(in_features=120, out_features=84, bias=True)\n",
      "  (7): Linear(in_features=84, out_features=10, bias=True)\n",
      "), train_history=[0.5292973415691227, 0.6573217759273795, 0.6743336859707197, 0.6829676142374501, 0.6909872709278914, 0.6983244036446781, 0.698000204757192, 0.7020953485991196, 0.7079650547725489, 0.7089205883356653, 0.7174521380063474, 0.7169231819267652, 0.7227758250008531, 0.72323652868307, 0.7249599017165478, 0.7249257755178651, 0.727263420127632, 0.7277241238098489, 0.7282189536907484, 0.7310173019827322], val_history=[0.6796123131526858, 0.7097126476008464, 0.7125793461197187, 0.7107364685004437, 0.7168793938980275, 0.7272541123472801, 0.7353764248174186, 0.7234318476554501, 0.7209064227697768, 0.7330557641116647, 0.7495051532318613, 0.7412463313084431, 0.7438400109207562, 0.7505972288580984, 0.750392464678179, 0.7475257661593065, 0.7447955770937137, 0.7457511432666712, 0.750392464678179, 0.7419288785748414], final_val_accuracy=0.7419288785748414)\n",
      "***************************************\n",
      "\n",
      "Iteration 5\n",
      "Params: Hyperparams(learning_rate=0.1, anneal_coeff=0.1, anneal_epochs=2, reg=1e-05)\n",
      "Epoch: 0 LR: [0.1]\n",
      "Epoch: 0, Average loss: 656.262451, Train accuracy: 0.194400, Val accuracy: 0.286124\n",
      "Epoch: 1 LR: [0.1]\n",
      "Epoch: 1, Average loss: 1.996610, Train accuracy: 0.354844, Val accuracy: 0.434305\n",
      "Epoch: 2 LR: [0.09000000000000001]\n",
      "Epoch: 2, Average loss: 1.602669, Train accuracy: 0.487817, Val accuracy: 0.587468\n",
      "Epoch: 3 LR: [0.09000000000000001]\n",
      "Epoch: 3, Average loss: 1.448139, Train accuracy: 0.542982, Val accuracy: 0.592997\n",
      "Epoch: 4 LR: [0.08100000000000002]\n",
      "Epoch: 4, Average loss: 1.315366, Train accuracy: 0.586561, Val accuracy: 0.630742\n",
      "Epoch: 5 LR: [0.08100000000000002]\n",
      "Epoch: 5, Average loss: 1.288474, Train accuracy: 0.594717, Val accuracy: 0.582691\n",
      "Epoch: 6 LR: [0.07290000000000002]\n",
      "Epoch: 6, Average loss: 1.270700, Train accuracy: 0.603727, Val accuracy: 0.675585\n",
      "Epoch: 7 LR: [0.07290000000000002]\n",
      "Epoch: 7, Average loss: 1.322189, Train accuracy: 0.585725, Val accuracy: 0.618729\n",
      "Epoch: 8 LR: [0.06561000000000002]\n",
      "Epoch: 8, Average loss: 1.343236, Train accuracy: 0.577484, Val accuracy: 0.617910\n",
      "Epoch: 9 LR: [0.06561000000000002]\n",
      "Epoch: 9, Average loss: 1.422477, Train accuracy: 0.549773, Val accuracy: 0.560576\n",
      "Epoch: 10 LR: [0.05904900000000002]\n",
      "Epoch: 10, Average loss: 1.442935, Train accuracy: 0.541753, Val accuracy: 0.561941\n",
      "Epoch: 11 LR: [0.05904900000000002]\n",
      "Epoch: 11, Average loss: 1.575725, Train accuracy: 0.493107, Val accuracy: 0.440789\n",
      "Epoch: 12 LR: [0.05314410000000002]\n",
      "Epoch: 12, Average loss: 158666.406250, Train accuracy: 0.255127, Val accuracy: 0.144973\n",
      "Epoch: 13 LR: [0.05314410000000002]\n",
      "Epoch: 13, Average loss: 215.356094, Train accuracy: 0.149217, Val accuracy: 0.130708\n",
      "Epoch: 14 LR: [0.04782969000000002]\n",
      "Epoch: 14, Average loss: 100.434952, Train accuracy: 0.138348, Val accuracy: 0.103679\n",
      "Epoch: 15 LR: [0.04782969000000002]\n",
      "Epoch: 15, Average loss: 60.444950, Train accuracy: 0.138945, Val accuracy: 0.152686\n",
      "Epoch: 16 LR: [0.043046721000000024]\n",
      "Epoch: 16, Average loss: 39.441193, Train accuracy: 0.142323, Val accuracy: 0.158351\n",
      "Epoch: 17 LR: [0.043046721000000024]\n",
      "Epoch: 17, Average loss: 89.602280, Train accuracy: 0.138535, Val accuracy: 0.135690\n",
      "Epoch: 18 LR: [0.03874204890000002]\n",
      "Epoch: 18, Average loss: 253.062088, Train accuracy: 0.135993, Val accuracy: 0.103474\n",
      "Epoch: 19 LR: [0.03874204890000002]\n",
      "Epoch: 19, Average loss: 6.476468, Train accuracy: 0.129697, Val accuracy: 0.124360\n",
      "Hyperparams(learning_rate=0.1, anneal_coeff=0.1, anneal_epochs=2, reg=1e-05) \n",
      " RunResult(model=Sequential(\n",
      "  (0): Conv2d(3, 6, kernel_size=(5, 5), stride=(1, 1))\n",
      "  (1): MaxPool2d(kernel_size=2, stride=2, padding=0, dilation=1, ceil_mode=False)\n",
      "  (2): Conv2d(6, 16, kernel_size=(5, 5), stride=(1, 1))\n",
      "  (3): MaxPool2d(kernel_size=2, stride=2, padding=0, dilation=1, ceil_mode=False)\n",
      "  (4): Flattener()\n",
      "  (5): Linear(in_features=400, out_features=120, bias=True)\n",
      "  (6): Linear(in_features=120, out_features=84, bias=True)\n",
      "  (7): Linear(in_features=84, out_features=10, bias=True)\n",
      "), train_history=[0.1943998907961642, 0.35484421390301335, 0.48781694707026585, 0.5429819472408969, 0.5865611029587414, 0.5947172644439136, 0.6037265808961539, 0.5857250110910146, 0.5774835341091356, 0.5497730607787599, 0.5417534040883186, 0.4931065078660888, 0.25512746135208, 0.14921680374023139, 0.13834760945978228, 0.13894481793673003, 0.14232331160632017, 0.1385353035525373, 0.135992901750674, 0.12969661809371055], val_history=[0.2861238140741246, 0.43430482560917344, 0.5874684321889291, 0.5929970650467545, 0.6307419288785748, 0.5826906013241417, 0.6755852842809364, 0.6187290969899666, 0.6179100402702887, 0.56057606989284, 0.5619411644256365, 0.44078902463995634, 0.14497303938297726, 0.13070780151525493, 0.10367892976588629, 0.15268582349327692, 0.15835096580438196, 0.1356903965599618, 0.10347416558596682, 0.12436011193775169], final_val_accuracy=0.12436011193775169)\n",
      "***************************************\n",
      "\n",
      "Iteration 6\n",
      "Params: Hyperparams(learning_rate=0.0001, anneal_coeff=0.1, anneal_epochs=5, reg=0.001)\n",
      "Epoch: 0 LR: [0.0001]\n",
      "Epoch: 0, Average loss: 2.104728, Train accuracy: 0.249036, Val accuracy: 0.433554\n",
      "Epoch: 1 LR: [0.0001]\n",
      "Epoch: 1, Average loss: 1.585016, Train accuracy: 0.472887, Val accuracy: 0.584329\n",
      "Epoch: 2 LR: [0.0001]\n",
      "Epoch: 2, Average loss: 1.367131, Train accuracy: 0.562860, Val accuracy: 0.645690\n",
      "Epoch: 3 LR: [0.0001]\n",
      "Epoch: 3, Average loss: 1.259346, Train accuracy: 0.605604, Val accuracy: 0.676473\n",
      "Epoch: 4 LR: [0.0001]\n",
      "Epoch: 4, Average loss: 1.192523, Train accuracy: 0.630277, Val accuracy: 0.686438\n",
      "Epoch: 5 LR: [9e-05]\n",
      "Epoch: 5, Average loss: 1.155251, Train accuracy: 0.642682, Val accuracy: 0.698997\n",
      "Epoch: 6 LR: [9e-05]\n",
      "Epoch: 6, Average loss: 1.123152, Train accuracy: 0.656963, Val accuracy: 0.704730\n",
      "Epoch: 7 LR: [9e-05]\n",
      "Epoch: 7, Average loss: 1.105748, Train accuracy: 0.663243, Val accuracy: 0.708621\n",
      "Epoch: 8 LR: [9e-05]\n",
      "Epoch: 8, Average loss: 1.083451, Train accuracy: 0.670239, Val accuracy: 0.716743\n",
      "Epoch: 9 LR: [9e-05]\n",
      "Epoch: 9, Average loss: 1.061121, Train accuracy: 0.678770, Val accuracy: 0.718791\n",
      "Epoch: 10 LR: [8.1e-05]\n",
      "Epoch: 10, Average loss: 1.056188, Train accuracy: 0.680988, Val accuracy: 0.716060\n",
      "Epoch: 11 LR: [8.1e-05]\n",
      "Epoch: 11, Average loss: 1.042722, Train accuracy: 0.686141, Val accuracy: 0.721794\n",
      "Epoch: 12 LR: [8.1e-05]\n",
      "Epoch: 12, Average loss: 1.032753, Train accuracy: 0.687489, Val accuracy: 0.718927\n",
      "Epoch: 13 LR: [8.1e-05]\n",
      "Epoch: 13, Average loss: 1.026430, Train accuracy: 0.692182, Val accuracy: 0.724114\n",
      "Epoch: 14 LR: [8.1e-05]\n",
      "Epoch: 14, Average loss: 1.017696, Train accuracy: 0.693137, Val accuracy: 0.727595\n",
      "Epoch: 15 LR: [7.290000000000001e-05]\n",
      "Epoch: 15, Average loss: 1.008237, Train accuracy: 0.697795, Val accuracy: 0.733534\n"
     ]
    },
    {
     "name": "stdout",
     "output_type": "stream",
     "text": [
      "Epoch: 16 LR: [7.290000000000001e-05]\n",
      "Epoch: 16, Average loss: 0.998807, Train accuracy: 0.700355, Val accuracy: 0.735649\n",
      "Epoch: 17 LR: [7.290000000000001e-05]\n",
      "Epoch: 17, Average loss: 0.992884, Train accuracy: 0.702471, Val accuracy: 0.732919\n",
      "Epoch: 18 LR: [7.290000000000001e-05]\n",
      "Epoch: 18, Average loss: 0.992581, Train accuracy: 0.703034, Val accuracy: 0.736946\n",
      "Epoch: 19 LR: [7.290000000000001e-05]\n",
      "Epoch: 19, Average loss: 0.987328, Train accuracy: 0.704382, Val accuracy: 0.735786\n",
      "Hyperparams(learning_rate=0.0001, anneal_coeff=0.1, anneal_epochs=5, reg=0.001) \n",
      " RunResult(model=Sequential(\n",
      "  (0): Conv2d(3, 6, kernel_size=(5, 5), stride=(1, 1))\n",
      "  (1): MaxPool2d(kernel_size=2, stride=2, padding=0, dilation=1, ceil_mode=False)\n",
      "  (2): Conv2d(6, 16, kernel_size=(5, 5), stride=(1, 1))\n",
      "  (3): MaxPool2d(kernel_size=2, stride=2, padding=0, dilation=1, ceil_mode=False)\n",
      "  (4): Flattener()\n",
      "  (5): Linear(in_features=400, out_features=120, bias=True)\n",
      "  (6): Linear(in_features=120, out_features=84, bias=True)\n",
      "  (7): Linear(in_features=84, out_features=10, bias=True)\n",
      "), train_history=[0.2490359348872129, 0.47288673514657203, 0.5628604579735863, 0.605603521823704, 0.6302767634713169, 0.6426816366924888, 0.6569634508412108, 0.6632426713988329, 0.6702385421287923, 0.6787700917994745, 0.6809882947138518, 0.6861413507149439, 0.6874893355629117, 0.6921816878817868, 0.6931372214449033, 0.6977954475650957, 0.7003549124663003, 0.7024707367846296, 0.7030338190628946, 0.7043818039108624], val_history=[0.43355402361613543, 0.5843287147634973, 0.6456897140126954, 0.6764725957272542, 0.6864377858166678, 0.6989966555183946, 0.7047300525561395, 0.7086205719746093, 0.7167428844447478, 0.7187905262439424, 0.7160603371783496, 0.7217937342160945, 0.718927035697222, 0.7241143949218484, 0.7275953859804791, 0.7335335471981435, 0.7356494437239779, 0.7329192546583851, 0.7369462835301345, 0.7357859531772575], final_val_accuracy=0.7357859531772575)\n",
      "***************************************\n",
      "\n",
      "Iteration 7\n",
      "Params: Hyperparams(learning_rate=0.0001, anneal_coeff=0.2, anneal_epochs=4, reg=0.0001)\n",
      "Epoch: 0 LR: [0.0001]\n",
      "Epoch: 0, Average loss: 2.165312, Train accuracy: 0.223185, Val accuracy: 0.350761\n",
      "Epoch: 1 LR: [0.0001]\n",
      "Epoch: 1, Average loss: 1.672278, Train accuracy: 0.441149, Val accuracy: 0.584533\n",
      "Epoch: 2 LR: [0.0001]\n",
      "Epoch: 2, Average loss: 1.386437, Train accuracy: 0.555455, Val accuracy: 0.648352\n",
      "Epoch: 3 LR: [0.0001]\n",
      "Epoch: 3, Average loss: 1.283419, Train accuracy: 0.594513, Val accuracy: 0.673265\n",
      "Epoch: 4 LR: [8e-05]\n",
      "Epoch: 4, Average loss: 1.213375, Train accuracy: 0.621540, Val accuracy: 0.679612\n",
      "Epoch: 5 LR: [8e-05]\n",
      "Epoch: 5, Average loss: 1.181769, Train accuracy: 0.634986, Val accuracy: 0.694560\n",
      "Epoch: 6 LR: [8e-05]\n",
      "Epoch: 6, Average loss: 1.150870, Train accuracy: 0.646487, Val accuracy: 0.703501\n",
      "Epoch: 7 LR: [8e-05]\n",
      "Epoch: 7, Average loss: 1.135059, Train accuracy: 0.653363, Val accuracy: 0.704798\n",
      "Epoch: 8 LR: [6.400000000000001e-05]\n",
      "Epoch: 8, Average loss: 1.109960, Train accuracy: 0.662390, Val accuracy: 0.709849\n",
      "Epoch: 9 LR: [6.400000000000001e-05]\n",
      "Epoch: 9, Average loss: 1.095907, Train accuracy: 0.665836, Val accuracy: 0.716948\n",
      "Epoch: 10 LR: [6.400000000000001e-05]\n",
      "Epoch: 10, Average loss: 1.083118, Train accuracy: 0.673515, Val accuracy: 0.720770\n",
      "Epoch: 11 LR: [6.400000000000001e-05]\n",
      "Epoch: 11, Average loss: 1.075242, Train accuracy: 0.675596, Val accuracy: 0.717221\n",
      "Epoch: 12 LR: [5.120000000000001e-05]\n",
      "Epoch: 12, Average loss: 1.060148, Train accuracy: 0.680852, Val accuracy: 0.721725\n",
      "Epoch: 13 LR: [5.120000000000001e-05]\n",
      "Epoch: 13, Average loss: 1.057599, Train accuracy: 0.681142, Val accuracy: 0.724524\n",
      "Epoch: 14 LR: [5.120000000000001e-05]\n",
      "Epoch: 14, Average loss: 1.041812, Train accuracy: 0.686995, Val accuracy: 0.728141\n",
      "Epoch: 15 LR: [5.120000000000001e-05]\n",
      "Epoch: 15, Average loss: 1.044318, Train accuracy: 0.685561, Val accuracy: 0.729302\n",
      "Epoch: 16 LR: [4.0960000000000014e-05]\n",
      "Epoch: 16, Average loss: 1.029184, Train accuracy: 0.692864, Val accuracy: 0.732100\n",
      "Epoch: 17 LR: [4.0960000000000014e-05]\n",
      "Epoch: 17, Average loss: 1.032437, Train accuracy: 0.691380, Val accuracy: 0.730735\n",
      "Epoch: 18 LR: [4.0960000000000014e-05]\n",
      "Epoch: 18, Average loss: 1.021704, Train accuracy: 0.694263, Val accuracy: 0.729984\n",
      "Epoch: 19 LR: [4.0960000000000014e-05]\n",
      "Epoch: 19, Average loss: 1.020340, Train accuracy: 0.695287, Val accuracy: 0.732988\n",
      "Hyperparams(learning_rate=0.0001, anneal_coeff=0.2, anneal_epochs=4, reg=0.0001) \n",
      " RunResult(model=Sequential(\n",
      "  (0): Conv2d(3, 6, kernel_size=(5, 5), stride=(1, 1))\n",
      "  (1): MaxPool2d(kernel_size=2, stride=2, padding=0, dilation=1, ceil_mode=False)\n",
      "  (2): Conv2d(6, 16, kernel_size=(5, 5), stride=(1, 1))\n",
      "  (3): MaxPool2d(kernel_size=2, stride=2, padding=0, dilation=1, ceil_mode=False)\n",
      "  (4): Flattener()\n",
      "  (5): Linear(in_features=400, out_features=120, bias=True)\n",
      "  (6): Linear(in_features=120, out_features=84, bias=True)\n",
      "  (7): Linear(in_features=84, out_features=10, bias=True)\n",
      "), train_history=[0.2231853393850459, 0.4411493703716343, 0.5554550728594342, 0.5945125072518173, 0.6215404566085384, 0.6349861788895335, 0.6464867078456131, 0.6533631368801829, 0.6623895164317647, 0.6658362624987203, 0.6735146572023343, 0.6755963553219807, 0.6808517899191209, 0.6811418626079241, 0.686994505682012, 0.6855612053373374, 0.6928642118554414, 0.6913797222127427, 0.6942633860014333, 0.6952871719619151], val_history=[0.35076104020203397, 0.5845334789434168, 0.6483516483516484, 0.6732646235751826, 0.6796123131526858, 0.6945600982868063, 0.7035014674766228, 0.7047983072827794, 0.709849157054126, 0.7169476486246673, 0.7207699133164972, 0.7172206675312265, 0.7217254794894546, 0.7245239232816872, 0.7281414237935977, 0.7293017541464747, 0.7321001979387073, 0.7307351034059109, 0.7299843014128728, 0.7329875093850249], final_val_accuracy=0.7329875093850249)\n",
      "***************************************\n",
      "\n",
      "Iteration 8\n",
      "Params: Hyperparams(learning_rate=0.01, anneal_coeff=0.1, anneal_epochs=4, reg=0.001)\n",
      "Epoch: 0 LR: [0.01]\n",
      "Epoch: 0, Average loss: 1.766477, Train accuracy: 0.400471, Val accuracy: 0.495939\n",
      "Epoch: 1 LR: [0.01]\n",
      "Epoch: 1, Average loss: 1.482216, Train accuracy: 0.511739, Val accuracy: 0.588424\n",
      "Epoch: 2 LR: [0.01]\n",
      "Epoch: 2, Average loss: 1.460680, Train accuracy: 0.523138, Val accuracy: 0.583237\n",
      "Epoch: 3 LR: [0.01]\n",
      "Epoch: 3, Average loss: 1.428957, Train accuracy: 0.534689, Val accuracy: 0.582076\n",
      "Epoch: 4 LR: [0.009000000000000001]\n",
      "Epoch: 4, Average loss: 1.364503, Train accuracy: 0.560659, Val accuracy: 0.596888\n",
      "Epoch: 5 LR: [0.009000000000000001]\n",
      "Epoch: 5, Average loss: 1.371277, Train accuracy: 0.560301, Val accuracy: 0.606580\n",
      "Epoch: 6 LR: [0.009000000000000001]\n",
      "Epoch: 6, Average loss: 1.362199, Train accuracy: 0.562707, Val accuracy: 0.601188\n",
      "Epoch: 7 LR: [0.009000000000000001]\n",
      "Epoch: 7, Average loss: 1.372298, Train accuracy: 0.559516, Val accuracy: 0.612313\n",
      "Epoch: 8 LR: [0.008100000000000001]\n",
      "Epoch: 8, Average loss: 1.306515, Train accuracy: 0.583882, Val accuracy: 0.594772\n",
      "Epoch: 9 LR: [0.008100000000000001]\n",
      "Epoch: 9, Average loss: 1.310044, Train accuracy: 0.581732, Val accuracy: 0.636475\n",
      "Epoch: 10 LR: [0.008100000000000001]\n",
      "Epoch: 10, Average loss: 1.312264, Train accuracy: 0.579924, Val accuracy: 0.615112\n",
      "Epoch: 11 LR: [0.008100000000000001]\n",
      "Epoch: 11, Average loss: 1.314615, Train accuracy: 0.579889, Val accuracy: 0.589243\n",
      "Epoch: 12 LR: [0.007290000000000001]\n",
      "Epoch: 12, Average loss: 1.263997, Train accuracy: 0.600297, Val accuracy: 0.634155\n",
      "Epoch: 13 LR: [0.007290000000000001]\n",
      "Epoch: 13, Average loss: 1.261814, Train accuracy: 0.600741, Val accuracy: 0.628080\n",
      "Epoch: 14 LR: [0.007290000000000001]\n",
      "Epoch: 14, Average loss: 1.266460, Train accuracy: 0.598113, Val accuracy: 0.608832\n",
      "Epoch: 15 LR: [0.007290000000000001]\n",
      "Epoch: 15, Average loss: 1.271495, Train accuracy: 0.596594, Val accuracy: 0.608354\n",
      "Epoch: 16 LR: [0.006561000000000002]\n",
      "Epoch: 16, Average loss: 1.226920, Train accuracy: 0.614135, Val accuracy: 0.638591\n",
      "Epoch: 17 LR: [0.006561000000000002]\n",
      "Epoch: 17, Average loss: 1.233768, Train accuracy: 0.613674, Val accuracy: 0.642823\n",
      "Epoch: 18 LR: [0.006561000000000002]\n",
      "Epoch: 18, Average loss: 1.235878, Train accuracy: 0.610245, Val accuracy: 0.648966\n",
      "Epoch: 19 LR: [0.006561000000000002]\n"
     ]
    },
    {
     "name": "stdout",
     "output_type": "stream",
     "text": [
      "Epoch: 19, Average loss: 1.227414, Train accuracy: 0.613248, Val accuracy: 0.628353\n",
      "Hyperparams(learning_rate=0.01, anneal_coeff=0.1, anneal_epochs=4, reg=0.001) \n",
      " RunResult(model=Sequential(\n",
      "  (0): Conv2d(3, 6, kernel_size=(5, 5), stride=(1, 1))\n",
      "  (1): MaxPool2d(kernel_size=2, stride=2, padding=0, dilation=1, ceil_mode=False)\n",
      "  (2): Conv2d(6, 16, kernel_size=(5, 5), stride=(1, 1))\n",
      "  (3): MaxPool2d(kernel_size=2, stride=2, padding=0, dilation=1, ceil_mode=False)\n",
      "  (4): Flattener()\n",
      "  (5): Linear(in_features=400, out_features=120, bias=True)\n",
      "  (6): Linear(in_features=120, out_features=84, bias=True)\n",
      "  (7): Linear(in_features=84, out_features=10, bias=True)\n",
      "), train_history=[0.40047094154182167, 0.5117394123468587, 0.52313756270689, 0.5346892809609938, 0.5606593181585503, 0.5603009930723817, 0.562706890079514, 0.5595160905026789, 0.5838821963621472, 0.5817322458451353, 0.5799235573149507, 0.579889431116268, 0.6002968979285397, 0.6007405385114152, 0.5981128212128451, 0.5965942053714637, 0.6141350714943863, 0.6136743678121694, 0.6102446848445552, 0.6132477903286353], val_history=[0.49593884376493075, 0.5884239983618865, 0.5832366391372602, 0.5820763087843833, 0.5968875844652242, 0.6065797556480786, 0.6011876322435329, 0.6123131526858235, 0.5947716879393898, 0.6364753259163197, 0.6151115964780561, 0.5892430550815644, 0.6341546652105658, 0.6280799945396218, 0.6088321616271927, 0.608354378540714, 0.6385912224421542, 0.6428230154938229, 0.6489659408914067, 0.6283530134461811], final_val_accuracy=0.6283530134461811)\n",
      "***************************************\n",
      "\n",
      "Iteration 9\n",
      "Params: Hyperparams(learning_rate=0.1, anneal_coeff=0.2, anneal_epochs=2, reg=0.0001)\n",
      "Epoch: 0 LR: [0.1]\n",
      "Epoch: 0, Average loss: 873.685486, Train accuracy: 0.194536, Val accuracy: 0.322640\n",
      "Epoch: 1 LR: [0.1]\n",
      "Epoch: 1, Average loss: 1.955759, Train accuracy: 0.363598, Val accuracy: 0.496144\n",
      "Epoch: 2 LR: [0.08000000000000002]\n",
      "Epoch: 2, Average loss: 1.597241, Train accuracy: 0.485633, Val accuracy: 0.463586\n",
      "Epoch: 3 LR: [0.08000000000000002]\n",
      "Epoch: 3, Average loss: 1.478996, Train accuracy: 0.531652, Val accuracy: 0.563579\n",
      "Epoch: 4 LR: [0.06400000000000002]\n",
      "Epoch: 4, Average loss: 1.356082, Train accuracy: 0.574907, Val accuracy: 0.625759\n",
      "Epoch: 5 LR: [0.06400000000000002]\n",
      "Epoch: 5, Average loss: 1.371299, Train accuracy: 0.572552, Val accuracy: 0.629104\n",
      "Epoch: 6 LR: [0.051200000000000016]\n",
      "Epoch: 6, Average loss: 1.275766, Train accuracy: 0.601969, Val accuracy: 0.587605\n",
      "Epoch: 7 LR: [0.051200000000000016]\n",
      "Epoch: 7, Average loss: 1.329884, Train accuracy: 0.582910, Val accuracy: 0.593270\n",
      "Epoch: 8 LR: [0.04096000000000002]\n",
      "Epoch: 8, Average loss: 1.288472, Train accuracy: 0.597891, Val accuracy: 0.602553\n",
      "Epoch: 9 LR: [0.04096000000000002]\n",
      "Epoch: 9, Average loss: 1.342454, Train accuracy: 0.577705, Val accuracy: 0.631697\n",
      "Epoch: 10 LR: [0.03276800000000001]\n",
      "Epoch: 10, Average loss: 1.289527, Train accuracy: 0.593062, Val accuracy: 0.620708\n",
      "Epoch: 11 LR: [0.03276800000000001]\n",
      "Epoch: 11, Average loss: 1.352636, Train accuracy: 0.572535, Val accuracy: 0.607262\n",
      "Epoch: 12 LR: [0.026214400000000013]\n",
      "Epoch: 12, Average loss: 1.311533, Train accuracy: 0.583609, Val accuracy: 0.627875\n",
      "Epoch: 13 LR: [0.026214400000000013]\n",
      "Epoch: 13, Average loss: 1.396178, Train accuracy: 0.553971, Val accuracy: 0.496075\n",
      "Epoch: 14 LR: [0.02097152000000001]\n",
      "Epoch: 14, Average loss: 1.424802, Train accuracy: 0.543153, Val accuracy: 0.524947\n",
      "Epoch: 15 LR: [0.02097152000000001]\n",
      "Epoch: 15, Average loss: 3531.604736, Train accuracy: 0.428113, Val accuracy: 0.120128\n",
      "Epoch: 16 LR: [0.016777216000000008]\n",
      "Epoch: 16, Average loss: 20.462669, Train accuracy: 0.148654, Val accuracy: 0.163061\n",
      "Epoch: 17 LR: [0.016777216000000008]\n",
      "Epoch: 17, Average loss: 4.661362, Train accuracy: 0.163516, Val accuracy: 0.212955\n",
      "Epoch: 18 LR: [0.013421772800000007]\n",
      "Epoch: 18, Average loss: 3.195616, Train accuracy: 0.182814, Val accuracy: 0.202102\n",
      "Epoch: 19 LR: [0.013421772800000007]\n",
      "Epoch: 19, Average loss: 2.892360, Train accuracy: 0.208904, Val accuracy: 0.306873\n",
      "Hyperparams(learning_rate=0.1, anneal_coeff=0.2, anneal_epochs=2, reg=0.0001) \n",
      " RunResult(model=Sequential(\n",
      "  (0): Conv2d(3, 6, kernel_size=(5, 5), stride=(1, 1))\n",
      "  (1): MaxPool2d(kernel_size=2, stride=2, padding=0, dilation=1, ceil_mode=False)\n",
      "  (2): Conv2d(6, 16, kernel_size=(5, 5), stride=(1, 1))\n",
      "  (3): MaxPool2d(kernel_size=2, stride=2, padding=0, dilation=1, ceil_mode=False)\n",
      "  (4): Flattener()\n",
      "  (5): Linear(in_features=400, out_features=120, bias=True)\n",
      "  (6): Linear(in_features=120, out_features=84, bias=True)\n",
      "  (7): Linear(in_features=84, out_features=10, bias=True)\n",
      "), train_history=[0.19453639559089514, 0.36359758386513324, 0.4856328703545712, 0.5316520492782308, 0.5749070061085896, 0.5725522983994813, 0.6019690816639934, 0.5829095996996895, 0.5978910009214073, 0.5777053544005734, 0.5930621438078012, 0.5725352353001399, 0.5836091867726854, 0.5539705832167355, 0.5431525782343105, 0.42811316247483194, 0.14865372146196634, 0.16351568098829472, 0.1828140463433778, 0.20890352523632394], val_history=[0.32264009282642825, 0.4961436079448502, 0.46358610333765615, 0.5635792778649922, 0.625759333833868, 0.6291038154392191, 0.5876049416422088, 0.5932700839533138, 0.6025527267763292, 0.6316974950515323, 0.6207084840625213, 0.6072623029144768, 0.6278752303597024, 0.49607535321821034, 0.5249471025868542, 0.12012831888608286, 0.16306054194252953, 0.2129547471162378, 0.20210224558050646, 0.30687325097262985], final_val_accuracy=0.30687325097262985)\n",
      "***************************************\n",
      "\n",
      "CPU times: user 1h 15min, sys: 42.2 s, total: 1h 15min 42s\n",
      "Wall time: 1h 15min 49s\n"
     ]
    }
   ],
   "source": [
    "%%time\n",
    "run_record = {} \n",
    "\n",
    "for iter_ in range(NUM_ITERATIONS):\n",
    "    # select params randomly \n",
    "    lr_ = random.choice(learning_rates)\n",
    "    ann_c_ = random.choice(anneal_coeff)\n",
    "    ann_e_ = random.choice(anneal_epochs)\n",
    "    reg_ = random.choice(reg)\n",
    "    hp = Hyperparams(lr_, ann_c_, ann_e_, reg_)\n",
    "    print('Iteration {}'.format(iter_))\n",
    "    print('Params:', hp)\n",
    "    \n",
    "    lenet_model = nn.Sequential(\n",
    "        nn.Conv2d(3, 6, 5, stride=1, padding=0),\n",
    "        nn.MaxPool2d(2, stride=2),\n",
    "        nn.Conv2d(6, 16, 5, stride=1, padding=0),\n",
    "        nn.MaxPool2d(2, stride=2),   \n",
    "        Flattener(),\n",
    "        nn.Linear(16*5*5, 120),\n",
    "        nn.Linear(120, 84),\n",
    "        nn.Linear(84, 10),\n",
    "    )\n",
    "    \n",
    "    lenet_model.type(torch.cuda.FloatTensor)\n",
    "    lenet_model.to(device)\n",
    "    # set optimazer\n",
    "    loss = nn.CrossEntropyLoss().type(torch.cuda.FloatTensor)\n",
    "    optimizer = optim.Adam(lenet_model.parameters(), lr=lr_, weight_decay=reg_)\n",
    "    lr_scheduler = optim.lr_scheduler.StepLR(optimizer, step_size=ann_e_, gamma=1-ann_c_)\n",
    "    # train model\n",
    "    loss_history, train_history, val_history = train_model(lenet_model, train_aug_loader, val_loader, \n",
    "                                                       loss, optimizer, epoch_num, lr_scheduler)\n",
    "    # save results\n",
    "    run_res = RunResult(lenet_model, train_history, val_history, val_history[-1])\n",
    "    run_record[hp] = run_res\n",
    "    print(hp, '\\n', run_res)\n",
    "    print('***************************************\\n')"
   ]
  },
  {
   "cell_type": "code",
   "execution_count": 81,
   "metadata": {
    "ExecuteTime": {
     "end_time": "2019-07-28T08:45:28.156006Z",
     "start_time": "2019-07-28T08:45:28.152384Z"
    },
    "colab": {
     "base_uri": "https://localhost:8080/",
     "height": 34
    },
    "colab_type": "code",
    "id": "Y6xExdw8JB1l",
    "outputId": "a9ad86f8-3e29-45cc-d33f-e6170018a4ed"
   },
   "outputs": [
    {
     "name": "stdout",
     "output_type": "stream",
     "text": [
      "Best validation accuracy: 0.76, best hyperparams: Hyperparams(learning_rate=0.001, anneal_coeff=0.2, anneal_epochs=2, reg=0.0001)\n"
     ]
    }
   ],
   "source": [
    "best_val_accuracy = None\n",
    "best_hyperparams = None\n",
    "best_run = None\n",
    "\n",
    "for hyperparams, run_result in run_record.items():\n",
    "    if best_val_accuracy is None or best_val_accuracy < run_result.final_val_accuracy:\n",
    "        best_val_accuracy = run_result.final_val_accuracy\n",
    "        best_hyperparams = hyperparams\n",
    "        best_run = run_result\n",
    "        \n",
    "print(\"Best validation accuracy: %4.2f, best hyperparams: %s\" % (best_val_accuracy, best_hyperparams))"
   ]
  },
  {
   "cell_type": "markdown",
   "metadata": {
    "colab_type": "text",
    "id": "LOmsR0uVgtgf"
   },
   "source": [
    "# Свободное упражнение - догоним и перегоним LeNet!\n",
    "\n",
    "Попробуйте найти архитектуру и настройки тренировки, чтобы выступить лучше наших бейзлайнов.\n",
    "\n",
    "Что можно и нужно попробовать:\n",
    "- BatchNormalization (для convolution layers он в PyTorch называется [batchnorm2d](https://pytorch.org/docs/stable/nn.html#batchnorm2d))\n",
    "- Изменить количество слоев и их толщину\n",
    "- Изменять количество эпох тренировки\n",
    "- Попробовать и другие агментации"
   ]
  },
  {
   "cell_type": "code",
   "execution_count": 112,
   "metadata": {
    "ExecuteTime": {
     "end_time": "2019-07-28T10:52:14.503112Z",
     "start_time": "2019-07-28T10:48:13.243641Z"
    },
    "colab": {},
    "colab_type": "code",
    "id": "tSVhD747icoc",
    "scrolled": true
   },
   "outputs": [
    {
     "name": "stdout",
     "output_type": "stream",
     "text": [
      "Epoch: 0 LR: [0.001]\n",
      "Epoch: 0, Average loss: 1.410571, Train accuracy: 0.523598, Val accuracy: 0.793939\n",
      "Epoch: 1 LR: [0.001]\n",
      "Epoch: 1, Average loss: 0.594571, Train accuracy: 0.813978, Val accuracy: 0.858371\n",
      "Epoch: 2 LR: [0.001]\n",
      "Epoch: 2, Average loss: 0.460731, Train accuracy: 0.856056, Val accuracy: 0.872773\n",
      "Epoch: 3 LR: [0.001]\n",
      "Epoch: 3, Average loss: 0.402791, Train accuracy: 0.877862, Val accuracy: 0.882943\n",
      "Epoch: 4 LR: [0.001]\n",
      "Epoch: 4, Average loss: 0.369167, Train accuracy: 0.887930, Val accuracy: 0.887721\n",
      "Epoch: 5 LR: [0.0005]\n",
      "Epoch: 5, Average loss: 0.314545, Train accuracy: 0.906733, Val accuracy: 0.907993\n",
      "Epoch: 6 LR: [0.0005]\n",
      "Epoch: 6, Average loss: 0.279829, Train accuracy: 0.916203, Val accuracy: 0.913248\n",
      "Epoch: 7 LR: [0.0005]\n",
      "Epoch: 7, Average loss: 0.263934, Train accuracy: 0.922448, Val accuracy: 0.915569\n",
      "Epoch: 8 LR: [0.0005]\n",
      "Epoch: 8, Average loss: 0.254638, Train accuracy: 0.924274, Val accuracy: 0.914545\n",
      "Epoch: 9 LR: [0.0005]\n",
      "Epoch: 9, Average loss: 0.239552, Train accuracy: 0.929018, Val accuracy: 0.918299\n",
      "Epoch: 10 LR: [0.00025]\n",
      "Epoch: 10, Average loss: 0.219808, Train accuracy: 0.937327, Val accuracy: 0.922121\n",
      "Epoch: 11 LR: [0.00025]\n",
      "Epoch: 11, Average loss: 0.205222, Train accuracy: 0.940945, Val accuracy: 0.922121\n",
      "Epoch: 12 LR: [0.00025]\n",
      "Epoch: 12, Average loss: 0.196875, Train accuracy: 0.943316, Val accuracy: 0.923350\n",
      "Epoch: 13 LR: [0.00025]\n",
      "Epoch: 13, Average loss: 0.187083, Train accuracy: 0.945995, Val accuracy: 0.921371\n",
      "Epoch: 14 LR: [0.00025]\n",
      "Epoch: 14, Average loss: 0.175779, Train accuracy: 0.949988, Val accuracy: 0.922326\n",
      "Epoch: 15 LR: [0.000125]\n",
      "Epoch: 15, Average loss: 0.168353, Train accuracy: 0.951882, Val accuracy: 0.923623\n",
      "Epoch: 16 LR: [0.000125]\n",
      "Epoch: 16, Average loss: 0.157009, Train accuracy: 0.956011, Val accuracy: 0.924579\n",
      "Epoch: 17 LR: [0.000125]\n",
      "Epoch: 17, Average loss: 0.152379, Train accuracy: 0.957445, Val accuracy: 0.925056\n",
      "Epoch: 18 LR: [0.000125]\n",
      "Epoch: 18, Average loss: 0.147024, Train accuracy: 0.958161, Val accuracy: 0.925193\n",
      "Epoch: 19 LR: [0.000125]\n",
      "Epoch: 19, Average loss: 0.143685, Train accuracy: 0.959833, Val accuracy: 0.925125\n",
      "Epoch: 20 LR: [6.25e-05]\n",
      "Epoch: 20, Average loss: 0.136266, Train accuracy: 0.961727, Val accuracy: 0.927582\n",
      "Epoch: 21 LR: [6.25e-05]\n",
      "Epoch: 21, Average loss: 0.134697, Train accuracy: 0.962700, Val accuracy: 0.927240\n",
      "Epoch: 22 LR: [6.25e-05]\n",
      "Epoch: 22, Average loss: 0.132089, Train accuracy: 0.963843, Val accuracy: 0.927786\n",
      "Epoch: 23 LR: [6.25e-05]\n",
      "Epoch: 23, Average loss: 0.126864, Train accuracy: 0.964748, Val accuracy: 0.927991\n",
      "Epoch: 24 LR: [6.25e-05]\n",
      "Epoch: 24, Average loss: 0.124764, Train accuracy: 0.965584, Val accuracy: 0.928674\n",
      "Epoch: 25 LR: [3.125e-05]\n",
      "Epoch: 25, Average loss: 0.123335, Train accuracy: 0.966113, Val accuracy: 0.927445\n",
      "Epoch: 26 LR: [3.125e-05]\n",
      "Epoch: 26, Average loss: 0.120901, Train accuracy: 0.966932, Val accuracy: 0.928606\n",
      "Epoch: 27 LR: [3.125e-05]\n",
      "Epoch: 27, Average loss: 0.116147, Train accuracy: 0.968484, Val accuracy: 0.927513\n",
      "Epoch: 28 LR: [3.125e-05]\n",
      "Epoch: 28, Average loss: 0.115635, Train accuracy: 0.968638, Val accuracy: 0.928128\n",
      "Epoch: 29 LR: [3.125e-05]\n",
      "Epoch: 29, Average loss: 0.113347, Train accuracy: 0.969269, Val accuracy: 0.927377\n",
      "Epoch: 30 LR: [1.5625e-05]\n",
      "Epoch: 30, Average loss: 0.112607, Train accuracy: 0.969048, Val accuracy: 0.927309\n",
      "Epoch: 31 LR: [1.5625e-05]\n",
      "Epoch: 31, Average loss: 0.111515, Train accuracy: 0.969832, Val accuracy: 0.928128\n",
      "Epoch: 32 LR: [1.5625e-05]\n",
      "Epoch: 32, Average loss: 0.109722, Train accuracy: 0.969559, Val accuracy: 0.927582\n",
      "Epoch: 33 LR: [1.5625e-05]\n",
      "Epoch: 33, Average loss: 0.113177, Train accuracy: 0.970276, Val accuracy: 0.927718\n",
      "Epoch: 34 LR: [1.5625e-05]\n",
      "Epoch: 34, Average loss: 0.110538, Train accuracy: 0.969918, Val accuracy: 0.928128\n",
      "Epoch: 35 LR: [7.8125e-06]\n",
      "Epoch: 35, Average loss: 0.108193, Train accuracy: 0.971078, Val accuracy: 0.927513\n",
      "Epoch: 36 LR: [7.8125e-06]\n",
      "Epoch: 36, Average loss: 0.109231, Train accuracy: 0.970703, Val accuracy: 0.927923\n",
      "Epoch: 37 LR: [7.8125e-06]\n",
      "Epoch: 37, Average loss: 0.105376, Train accuracy: 0.971402, Val accuracy: 0.927718\n",
      "Epoch: 38 LR: [7.8125e-06]\n",
      "Epoch: 38, Average loss: 0.107496, Train accuracy: 0.970771, Val accuracy: 0.927991\n",
      "Epoch: 39 LR: [7.8125e-06]\n",
      "Epoch: 39, Average loss: 0.106808, Train accuracy: 0.971300, Val accuracy: 0.927650\n",
      "Epoch: 40 LR: [3.90625e-06]\n",
      "Epoch: 40, Average loss: 0.105889, Train accuracy: 0.971470, Val accuracy: 0.927786\n",
      "Epoch: 41 LR: [3.90625e-06]\n",
      "Epoch: 41, Average loss: 0.105881, Train accuracy: 0.971505, Val accuracy: 0.927991\n",
      "Epoch: 42 LR: [3.90625e-06]\n",
      "Epoch: 42, Average loss: 0.108923, Train accuracy: 0.970327, Val accuracy: 0.927172\n",
      "Epoch: 43 LR: [3.90625e-06]\n",
      "Epoch: 43, Average loss: 0.106187, Train accuracy: 0.971778, Val accuracy: 0.927582\n",
      "Epoch: 44 LR: [3.90625e-06]\n",
      "Epoch: 44, Average loss: 0.103114, Train accuracy: 0.971505, Val accuracy: 0.928128\n",
      "Epoch: 45 LR: [1.953125e-06]\n",
      "Epoch: 45, Average loss: 0.107161, Train accuracy: 0.971249, Val accuracy: 0.927650\n",
      "Epoch: 46 LR: [1.953125e-06]\n",
      "Epoch: 46, Average loss: 0.105353, Train accuracy: 0.971556, Val accuracy: 0.927991\n",
      "Epoch: 47 LR: [1.953125e-06]\n",
      "Epoch: 47, Average loss: 0.104904, Train accuracy: 0.970634, Val accuracy: 0.927991\n",
      "Epoch: 48 LR: [1.953125e-06]\n",
      "Epoch: 48, Average loss: 0.102888, Train accuracy: 0.971846, Val accuracy: 0.927718\n",
      "Epoch: 49 LR: [1.953125e-06]\n",
      "Epoch: 49, Average loss: 0.106242, Train accuracy: 0.971590, Val accuracy: 0.928674\n",
      "CPU times: user 2min 7s, sys: 52.2 s, total: 2min 59s\n",
      "Wall time: 4min 1s\n"
     ]
    }
   ],
   "source": [
    "%%time\n",
    "BATCH_SIZE=1024\n",
    "NUM_EPOCH = 30\n",
    "\n",
    "tfs = transforms.Compose([\n",
    "    # TODO: Add good augmentations\n",
    "    transforms.RandomCrop(size=32),\n",
    "    transforms.ColorJitter(hue=.50, saturation=.50),\n",
    "    transforms.RandomRotation(50, resample=PIL.Image.BILINEAR),\n",
    "    transforms.ToTensor(),\n",
    "    transforms.Normalize(mean=[0.43,0.44,0.47],\n",
    "                       std=[0.20,0.20,0.20])                           \n",
    "])\n",
    "\n",
    "# TODO create new instances of loaders with the augmentations you chose\n",
    "data_aug_train =  dset.SVHN('./data/', \n",
    "                       transform=tfs\n",
    "                      )\n",
    "train_aug_loader = torch.utils.data.DataLoader(data_aug_train, \n",
    "                                               batch_size=BATCH_SIZE, \n",
    "                                               sampler=train_sampler,\n",
    "                                               num_workers=8)\n",
    "val_loader = torch.utils.data.DataLoader(data_train, \n",
    "                                         batch_size=BATCH_SIZE,\n",
    "                                         sampler=val_sampler,\n",
    "                                         num_workers=8)\n",
    "# Experiment here!\n",
    "nn_model = nn.Sequential(\n",
    "    nn.Conv2d(3, 64, 3, stride=1, padding=1),\n",
    "    nn.ReLU(inplace=True),\n",
    "    nn.BatchNorm2d(64),\n",
    "    nn.MaxPool2d(2, stride=2),\n",
    "    \n",
    "    nn.Conv2d(64, 128, 3, stride=1, padding=1),\n",
    "    nn.ReLU(inplace=True),\n",
    "    nn.BatchNorm2d(128),\n",
    "    nn.MaxPool2d(2, stride=2),  \n",
    "\n",
    "    nn.Conv2d(128, 256, 3, stride=1, padding=1),\n",
    "    nn.ReLU(inplace=True),\n",
    "    nn.BatchNorm2d(256),\n",
    "    nn.MaxPool2d(2, stride=2),  \n",
    "    \n",
    "    Flattener(),\n",
    "    nn.Linear(4*4*256, 1024),\n",
    "    nn.ReLU(inplace=True),\n",
    "    nn.BatchNorm1d(1024),\n",
    "    nn.Dropout(p=0.2),\n",
    "    \n",
    "    nn.Linear(1024, 256),\n",
    "    nn.ReLU(inplace=True),\n",
    "    #nn.BatchNorm1d(256),\n",
    "    nn.Linear(256, 10),\n",
    ")\n",
    "nn_model.cuda()\n",
    "loss = nn.CrossEntropyLoss().type(torch.FloatTensor)\n",
    "optimizer = optim.Adam(nn_model.parameters(), lr=1e-3, weight_decay=1e-5)\n",
    "lr_scheduler = optim.lr_scheduler.StepLR(optimizer, step_size=5, gamma=0.5)\n",
    "loss_history, train_history, val_history = train_model(nn_model, train_aug_loader, val_loader, \n",
    "                                                       loss, optimizer, NUM_EPOCH, lr_scheduler)"
   ]
  },
  {
   "cell_type": "code",
   "execution_count": 113,
   "metadata": {
    "ExecuteTime": {
     "end_time": "2019-07-28T10:52:53.805582Z",
     "start_time": "2019-07-28T10:52:53.603973Z"
    }
   },
   "outputs": [
    {
     "data": {
      "image/png": "[encoded data removed]",
      "text/plain": [
       "<Figure size 720x576 with 2 Axes>"
      ]
     },
     "metadata": {
      "needs_background": "light"
     },
     "output_type": "display_data"
    }
   ],
   "source": [
    "fig, ax = plt.subplots(nrows=2, ncols=1, figsize=(10,8))\n",
    "ax[0].plot(loss_history)\n",
    "ax[1].plot(train_history, label='train')\n",
    "ax[1].plot(val_history, label='valid')\n",
    "ax[0].set_title('Loss')\n",
    "ax[1].set_title('Accuracy')\n",
    "plt.legend()\n",
    "plt.show()"
   ]
  },
  {
   "cell_type": "markdown",
   "metadata": {
    "colab_type": "text",
    "id": "ubeKgBcnhx7N"
   },
   "source": [
    "# Финальный аккорд - проверим лучшую модель на test set\n",
    "\n",
    "В качестве разнообразия - напишите код для прогона модели на test set вы.\n",
    "\n",
    "В результате вы должны натренировать модель, которая покажет более **90%** точности на test set.  \n",
    "Как водится, лучший результат в группе получит дополнительные баллы!"
   ]
  },
  {
   "cell_type": "code",
   "execution_count": 114,
   "metadata": {
    "ExecuteTime": {
     "end_time": "2019-07-28T10:52:59.059590Z",
     "start_time": "2019-07-28T10:52:58.119514Z"
    },
    "colab": {},
    "colab_type": "code",
    "id": "BfH6qip6kVX_"
   },
   "outputs": [
    {
     "name": "stdout",
     "output_type": "stream",
     "text": [
      "Test accuracy: 0.9288\n"
     ]
    }
   ],
   "source": [
    "# TODO Write the code to compute accuracy on test set\n",
    "test_loader = torch.utils.data.DataLoader(data_test, batch_size=BATCH_SIZE, num_workers=8)\n",
    "test_accuracy = compute_accuracy(nn_model, test_loader, True)\n",
    "print(\"Test accuracy: %2.4f\" % test_accuracy)"
   ]
  },
  {
   "cell_type": "code",
   "execution_count": null,
   "metadata": {},
   "outputs": [],
   "source": []
  }
 ],
 "metadata": {
  "accelerator": "GPU",
  "colab": {
   "collapsed_sections": [],
   "name": "PyTorch_CNN.ipynb",
   "provenance": [],
   "version": "0.3.2"
  },
  "kernelspec": {
   "display_name": "Python 3",
   "language": "python",
   "name": "python3"
  },
  "language_info": {
   "codemirror_mode": {
    "name": "ipython",
    "version": 3
   },
   "file_extension": ".py",
   "mimetype": "text/x-python",
   "name": "python",
   "nbconvert_exporter": "python",
   "pygments_lexer": "ipython3",
   "version": "3.6.8"
  },
  "varInspector": {
   "cols": {
    "lenName": 16,
    "lenType": 16,
    "lenVar": 40
   },
   "kernels_config": {
    "python": {
     "delete_cmd_postfix": "",
     "delete_cmd_prefix": "del ",
     "library": "var_list.py",
     "varRefreshCmd": "print(var_dic_list())"
    },
    "r": {
     "delete_cmd_postfix": ") ",
     "delete_cmd_prefix": "rm(",
     "library": "var_list.r",
     "varRefreshCmd": "cat(var_dic_list()) "
    }
   },
   "types_to_exclude": [
    "module",
    "function",
    "builtin_function_or_method",
    "instance",
    "_Feature"
   ],
   "window_display": false
  }
 },
 "nbformat": 4,
 "nbformat_minor": 1
}
