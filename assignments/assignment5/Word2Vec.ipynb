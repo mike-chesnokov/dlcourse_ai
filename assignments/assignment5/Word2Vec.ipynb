{
 "cells": [
  {
   "cell_type": "markdown",
   "metadata": {},
   "source": [
    "# Задание 5.1 - Word2Vec\n",
    "\n",
    "В этом задании мы натренируем свои word vectors на очень небольшом датасете.\n",
    "Мы будем использовать самую простую версию word2vec, без negative sampling и других оптимизаций.\n",
    "\n",
    "Перед запуском нужно запустить скрипт `download_data.sh` чтобы скачать данные.\n",
    "\n",
    "Датасет и модель очень небольшие, поэтому это задание можно выполнить и без GPU."
   ]
  },
  {
   "cell_type": "code",
   "execution_count": 15,
   "metadata": {
    "ExecuteTime": {
     "end_time": "2019-08-10T10:21:08.513858Z",
     "start_time": "2019-08-10T10:21:08.502573Z"
    }
   },
   "outputs": [],
   "source": [
    "import torch\n",
    "import torch.nn as nn\n",
    "import torch.optim as optim\n",
    "from torch.utils.data import Dataset, SubsetRandomSampler\n",
    "\n",
    "from torchvision import transforms\n",
    "\n",
    "import numpy as np\n",
    "import matplotlib.pyplot as plt\n",
    "\n",
    "# We'll use Principal Component Analysis (PCA) to visualize word vectors,\n",
    "# so make sure you install dependencies from requirements.txt!\n",
    "from sklearn.decomposition import PCA \n",
    "\n",
    "device = torch.device(\"cuda:0\")\n",
    "\n",
    "%matplotlib inline"
   ]
  },
  {
   "cell_type": "code",
   "execution_count": 2,
   "metadata": {
    "ExecuteTime": {
     "end_time": "2019-08-10T10:11:17.210815Z",
     "start_time": "2019-08-10T10:11:17.119070Z"
    },
    "scrolled": false
   },
   "outputs": [
    {
     "name": "stdout",
     "output_type": "stream",
     "text": [
      "Num tokens: 19538\n",
      "self-pitying ['martin', 'lawrence', 'collection']\n",
      "questions ['consciousness', 'lingering', 'really']\n",
      "far-flung ['story', 'illogical']\n",
      "demanding ['kahn', 'progresses', 'manner']\n",
      "humorless ['similarly', 'morose', 'commended', 'straight-ahead']\n"
     ]
    }
   ],
   "source": [
    "import os\n",
    "import numpy as np\n",
    "\n",
    "class StanfordTreeBank:\n",
    "    '''\n",
    "    Wrapper for accessing Stanford Tree Bank Dataset\n",
    "    https://nlp.stanford.edu/sentiment/treebank.html\n",
    "    \n",
    "    Parses dataset, gives each token and index and provides lookups\n",
    "    from string token to index and back\n",
    "    \n",
    "    Allows to generate random context with sampling strategy described in\n",
    "    word2vec paper:\n",
    "    https://papers.nips.cc/paper/5021-distributed-representations-of-words-and-phrases-and-their-compositionality.pdf\n",
    "    '''\n",
    "    def __init__(self):\n",
    "        self.index_by_token = {}\n",
    "        self.token_by_index = []\n",
    "\n",
    "        self.sentences = []\n",
    "\n",
    "        self.token_freq = {}\n",
    "        \n",
    "        self.token_reject_by_index = None\n",
    "\n",
    "    def load_dataset(self, folder):\n",
    "        filename = os.path.join(folder, \"datasetSentences.txt\")\n",
    "\n",
    "        with open(filename, \"r\", encoding=\"latin1\") as f:\n",
    "            l = f.readline() # skip the first line\n",
    "            \n",
    "            for l in f:\n",
    "                splitted_line = l.strip().split()\n",
    "                words = [w.lower() for w in splitted_line[1:]] # First one is a number\n",
    "                    \n",
    "                self.sentences.append(words)\n",
    "                for word in words:\n",
    "                    if word in self.token_freq:\n",
    "                        self.token_freq[word] +=1 \n",
    "                    else:\n",
    "                        index = len(self.token_by_index)\n",
    "                        self.token_freq[word] = 1\n",
    "                        self.index_by_token[word] = index\n",
    "                        self.token_by_index.append(word)\n",
    "        self.compute_token_prob()\n",
    "                        \n",
    "    def compute_token_prob(self):\n",
    "        words_count = np.array([self.token_freq[token] for token in self.token_by_index])\n",
    "        words_freq = words_count / np.sum(words_count)\n",
    "        \n",
    "        # Following sampling strategy from word2vec paper:\n",
    "        # https://papers.nips.cc/paper/5021-distributed-representations-of-words-and-phrases-and-their-compositionality.pdf\n",
    "        self.token_reject_by_index = 1- np.sqrt(1e-5/words_freq)\n",
    "    \n",
    "    def check_reject(self, word):\n",
    "        return np.random.rand() > self.token_reject_by_index[self.index_by_token[word]]\n",
    "        \n",
    "    def get_random_context(self, context_length=5):\n",
    "        \"\"\"\n",
    "        Returns tuple of center word and list of context words\n",
    "        \"\"\"\n",
    "        sentence_sampled = []\n",
    "        while len(sentence_sampled) <= 2:\n",
    "            sentence_index = np.random.randint(len(self.sentences)) \n",
    "            sentence = self.sentences[sentence_index]\n",
    "            sentence_sampled = [word for word in sentence if self.check_reject(word)]\n",
    "    \n",
    "        center_word_index = np.random.randint(len(sentence_sampled))\n",
    "        \n",
    "        words_before = sentence_sampled[max(center_word_index - context_length//2,0):center_word_index]\n",
    "        words_after = sentence_sampled[center_word_index+1: center_word_index+1+context_length//2]\n",
    "        \n",
    "        return sentence_sampled[center_word_index], words_before+words_after\n",
    "    \n",
    "    def num_tokens(self):\n",
    "        return len(self.token_by_index)\n",
    "        \n",
    "data = StanfordTreeBank()\n",
    "data.load_dataset(\"./stanfordSentimentTreebank/\")\n",
    "\n",
    "print(\"Num tokens:\", data.num_tokens())\n",
    "for i in range(5):\n",
    "    center_word, other_words = data.get_random_context(5)\n",
    "    print(center_word, other_words)"
   ]
  },
  {
   "cell_type": "markdown",
   "metadata": {},
   "source": [
    "# Имплеменируем PyTorch-style Dataset для Word2Vec\n",
    "\n",
    "Этот Dataset должен сгенерировать много случайных контекстов и превратить их в сэмплы для тренировки.\n",
    "\n",
    "Напоминаем, что word2vec модель получает на вход One-hot вектор слова и тренирует простую сеть для предсказания на его основе соседних слов.\n",
    "Из набора слово-контекст создается N сэмплов (где N - количество слов в контексте):\n",
    "\n",
    "Например:\n",
    "\n",
    "Слово: `orders` и контекст: `['love', 'nicest', 'to', '50-year']` создадут 4 сэмпла:\n",
    "- input: `orders`, target: `love`\n",
    "- input: `orders`, target: `nicest`\n",
    "- input: `orders`, target: `to`\n",
    "- input: `orders`, target: `50-year`\n",
    "\n",
    "Все слова на входе и на выходе закодированы через one-hot encoding, с размером вектора равным количеству токенов."
   ]
  },
  {
   "cell_type": "code",
   "execution_count": 3,
   "metadata": {
    "ExecuteTime": {
     "end_time": "2019-08-10T10:11:19.547542Z",
     "start_time": "2019-08-10T10:11:19.519904Z"
    }
   },
   "outputs": [
    {
     "name": "stdout",
     "output_type": "stream",
     "text": [
      "Sample - input: tensor([[0],\n",
      "        [0],\n",
      "        [0],\n",
      "        ...,\n",
      "        [0],\n",
      "        [0],\n",
      "        [0]], dtype=torch.int32), target: 32\n"
     ]
    }
   ],
   "source": [
    "class Word2VecPlain(Dataset):\n",
    "    '''\n",
    "    PyTorch Dataset for plain Word2Vec.\n",
    "    Accepts StanfordTreebank as data and is able to generate dataset based on\n",
    "    a number of random contexts\n",
    "    '''\n",
    "    def __init__(self, data, num_contexts=30000, context_length=5):\n",
    "        '''\n",
    "        Initializes Word2VecPlain, but doesn't generate the samples yet\n",
    "        (for that, use generate_dataset)\n",
    "        Arguments:\n",
    "        data - StanfordTreebank instace\n",
    "        num_contexts - number of random contexts to use when generating a dataset\n",
    "        '''\n",
    "        # TODO: Implement what you need for other methods!\n",
    "        self.num_contexts = num_contexts\n",
    "        self.context_length = context_length\n",
    "        self.data = data\n",
    "        self.samples = []\n",
    "    \n",
    "    \n",
    "    def generate_dataset(self):\n",
    "        '''\n",
    "        Generates dataset samples from random contexts\n",
    "        Note: there will be more samples than contexts because every context\n",
    "        can generate more than one sample\n",
    "        '''\n",
    "        # TODO: Implement generating the dataset\n",
    "        # You should sample num_contexts contexts from the data and turn them into samples\n",
    "        # Note you will have several samples from one context\n",
    "        self.samples = []\n",
    "        for ind in range(self.num_contexts):\n",
    "            temp = self.data.get_random_context(self.context_length)\n",
    "            self.samples.extend([(temp[0], target) for target in temp[1]])\n",
    "        \n",
    "        \n",
    "    def __len__(self):\n",
    "        '''\n",
    "        Returns total number of samples\n",
    "        '''\n",
    "        # TODO: Return the number of samples\n",
    "        return len(self.samples)\n",
    "    \n",
    "    \n",
    "    def __getitem__(self, index):\n",
    "        '''\n",
    "        Returns i-th sample\n",
    "        \n",
    "        Return values:\n",
    "        input_vector - torch.Tensor with one-hot representation of the input vector\n",
    "        output_index - index of the target word (not torch.Tensor!)\n",
    "        '''\n",
    "        # TODO: Generate tuple of 2 return arguments for i-th sample\n",
    "        inp, target = self.samples[index]\n",
    "        \n",
    "        output_index = self.data.index_by_token[target]\n",
    "        # create vector with 1 non zero element (at the index of word)\n",
    "        input_vector = torch.zeros([self.data.num_tokens(), 1], dtype=torch.int32)\n",
    "        input_vector[self.data.index_by_token[inp]] = 1\n",
    "        \n",
    "        return input_vector, output_index\n",
    "        \n",
    "\n",
    "dataset = Word2VecPlain(data, 10)\n",
    "dataset.generate_dataset()\n",
    "input_vector, target = dataset[3]\n",
    "print(\"Sample - input: %s, target: %s\" % (input_vector, int(target))) # target should be able to convert to int\n",
    "assert isinstance(input_vector, torch.Tensor)\n",
    "assert torch.sum(input_vector) == 1.0\n",
    "assert input_vector.shape[0] == data.num_tokens()"
   ]
  },
  {
   "cell_type": "markdown",
   "metadata": {},
   "source": [
    "# Создаем модель и тренируем ее"
   ]
  },
  {
   "cell_type": "code",
   "execution_count": 8,
   "metadata": {
    "ExecuteTime": {
     "end_time": "2019-08-10T10:15:08.411029Z",
     "start_time": "2019-08-10T10:15:07.846314Z"
    },
    "code_folding": []
   },
   "outputs": [
    {
     "name": "stdout",
     "output_type": "stream",
     "text": [
      "CPU times: user 559 ms, sys: 0 ns, total: 559 ms\n",
      "Wall time: 559 ms\n"
     ]
    },
    {
     "data": {
      "text/plain": [
       "Sequential(\n",
       "  (0): Linear(in_features=19538, out_features=10, bias=False)\n",
       "  (1): Linear(in_features=10, out_features=19538, bias=False)\n",
       ")"
      ]
     },
     "execution_count": 8,
     "metadata": {},
     "output_type": "execute_result"
    }
   ],
   "source": [
    "%%time\n",
    "# Create the usual PyTorch structures\n",
    "dataset = Word2VecPlain(data, 30000)\n",
    "dataset.generate_dataset()\n",
    "\n",
    "BATCH_SIZE = 64\n",
    "train_sampler = SubsetRandomSampler(list(range(len(dataset))))\n",
    "train_loader = torch.utils.data.DataLoader(dataset,\n",
    "                                           batch_size=BATCH_SIZE, \n",
    "                                           sampler=train_sampler,\n",
    "                                           num_workers=8)\n",
    "\n",
    "# We'll be training very small word vectors!\n",
    "wordvec_dim = 10\n",
    "\n",
    "# We can use a standard sequential model for this\n",
    "nn_model = nn.Sequential(\n",
    "            nn.Linear(data.num_tokens(), wordvec_dim, bias=False),\n",
    "            nn.Linear(wordvec_dim, data.num_tokens(), bias=False), \n",
    "         )\n",
    "nn_model.type(torch.FloatTensor)"
   ]
  },
  {
   "cell_type": "code",
   "execution_count": 9,
   "metadata": {
    "ExecuteTime": {
     "end_time": "2019-08-10T10:15:11.232595Z",
     "start_time": "2019-08-10T10:15:11.229465Z"
    }
   },
   "outputs": [
    {
     "name": "stdout",
     "output_type": "stream",
     "text": [
      "0.weight torch.Size([10, 19538])\n",
      "1.weight torch.Size([19538, 10])\n"
     ]
    }
   ],
   "source": [
    "for name, param in nn_model.named_parameters():\n",
    "    print(name, param.shape)"
   ]
  },
  {
   "cell_type": "code",
   "execution_count": 10,
   "metadata": {
    "ExecuteTime": {
     "end_time": "2019-08-10T10:15:13.217591Z",
     "start_time": "2019-08-10T10:15:13.212473Z"
    }
   },
   "outputs": [],
   "source": [
    "def extract_word_vectors(nn_model):\n",
    "    '''\n",
    "    Extracts word vectors from the model\n",
    "    \n",
    "    Returns:\n",
    "    input_vectors: torch.Tensor with dimensions (num_tokens, num_dimensions)\n",
    "    output_vectors: torch.Tensor with dimensions (num_tokens, num_dimensions)\n",
    "    '''\n",
    "    # TODO: Implement extracting word vectors from param weights\n",
    "    # return tuple of input vectors and output vectos \n",
    "    # Hint: you can access weights as Tensors through nn.Linear class attributes\n",
    "    input_vectors = nn_model[0].weight.t().clone()\n",
    "    output_vectors = nn_model[1].weight.clone()\n",
    "    \n",
    "    return input_vectors, output_vectors\n",
    "    \n",
    "untrained_input_vectors, untrained_output_vectors = extract_word_vectors(nn_model)\n",
    "assert untrained_input_vectors.shape == (data.num_tokens(), wordvec_dim)\n",
    "assert untrained_output_vectors.shape == (data.num_tokens(), wordvec_dim)"
   ]
  },
  {
   "cell_type": "code",
   "execution_count": 117,
   "metadata": {
    "ExecuteTime": {
     "end_time": "2019-08-10T11:53:18.321639Z",
     "start_time": "2019-08-10T11:53:18.309278Z"
    }
   },
   "outputs": [],
   "source": [
    "def train_model(model, dataset, train_loader, optimizer, scheduler, num_epochs):\n",
    "    '''\n",
    "    Trains plain word2vec using cross-entropy loss and regenerating dataset every epoch\n",
    "    \n",
    "    Returns:\n",
    "    loss_history, train_history\n",
    "    '''\n",
    "    \n",
    "    loss = nn.CrossEntropyLoss().type(torch.FloatTensor)\n",
    "    \n",
    "    loss_history = []\n",
    "    train_history = []\n",
    "    for epoch in range(num_epochs):\n",
    "        model.train() # Enter train mode\n",
    "        \n",
    "        dataset.generate_dataset() # Regenerate dataset every epoch\n",
    "        \n",
    "        # TODO Implement training for this model\n",
    "        # Note we don't have any validation set here because our purpose is the word vectors,\n",
    "        # not the predictive performance of the model\n",
    "        #\n",
    "        # And don't forget to step the learing rate scheduler!\n",
    "        loss_accum = 0\n",
    "        correct_samples = 0\n",
    "        total_samples = 0\n",
    "        \n",
    "        for i_step, (x, y) in enumerate(train_loader):\n",
    "          \n",
    "            x_gpu = x.to(device)\n",
    "            y_gpu = y.to(device)\n",
    "            \n",
    "            #x_gpu = x_gpu.float()#.reshape(BATCH_SIZE, data.num_tokens())\n",
    "            #print(x_gpu.shape)\n",
    "            bs, inp_s, _ = x_gpu.shape\n",
    "            prediction = model(x_gpu.float().reshape(bs, inp_s))  \n",
    "            \n",
    "            loss_value = loss(prediction, y_gpu)\n",
    "            optimizer.zero_grad()\n",
    "            loss_value.backward()\n",
    "            optimizer.step()\n",
    "            \n",
    "            _, indices = torch.max(prediction, 1)\n",
    "            correct_samples += torch.sum(indices == y_gpu)\n",
    "            total_samples += y.shape[0]\n",
    "            \n",
    "            loss_accum += loss_value\n",
    "            \n",
    "        if scheduler is not None:\n",
    "            # Decay Learning Rate\n",
    "            print('Epoch:', epoch,'LR:', \n",
    "                  [pg['lr'] for pg in optimizer.param_groups])\n",
    "            scheduler.step()\n",
    "        \n",
    "        ave_loss = loss_accum / i_step\n",
    "        train_accuracy = float(correct_samples) / total_samples\n",
    "        \n",
    "        loss_history.append(float(ave_loss))\n",
    "        train_history.append(train_accuracy)            \n",
    "        \n",
    "        print(\"Epoch %i, Average loss: %f, Train accuracy: %f\" % (epoch, ave_loss, train_accuracy))\n",
    "        \n",
    "    return loss_history, train_history"
   ]
  },
  {
   "cell_type": "markdown",
   "metadata": {},
   "source": [
    "# Ну и наконец тренировка!\n",
    "\n",
    "Добейтесь значения ошибки меньше **8.0**."
   ]
  },
  {
   "cell_type": "code",
   "execution_count": 174,
   "metadata": {
    "ExecuteTime": {
     "end_time": "2019-08-10T12:16:40.147219Z",
     "start_time": "2019-08-10T12:16:39.580560Z"
    }
   },
   "outputs": [],
   "source": [
    "# Create the usual PyTorch structures\n",
    "dataset = Word2VecPlain(data, 30000)\n",
    "dataset.generate_dataset()\n",
    "\n",
    "#train_sampler = SubsetRandomSampler(list(range(len(dataset))))\n",
    "#train_loader = torch.utils.data.DataLoader(dataset,\n",
    "#                                           batch_size=BATCH_SIZE, \n",
    "#                                           sampler=train_sampler,\n",
    "#                                           num_workers=8)\n",
    "\n",
    "# We'll be training very small word vectors!\n",
    "wordvec_dim = 10\n",
    "\n",
    "# We can use a standard sequential model for this\n",
    "nn_model = nn.Sequential(\n",
    "            nn.Linear(data.num_tokens(), wordvec_dim, bias=False),\n",
    "            nn.Linear(wordvec_dim, data.num_tokens(), bias=False), \n",
    "         )\n",
    "nn_model.type(torch.FloatTensor)\n",
    "\n",
    "# Finally, let's train the model!\n",
    "BATCH_SIZE=128\n",
    "nn_model.to(device)\n",
    "# TODO: We use placeholder values for hyperparameters - you will need to find better values!\n",
    "optimizer = optim.SGD(nn_model.parameters(), lr=3e+1, weight_decay=1e-8)\n",
    "scheduler = optim.lr_scheduler.StepLR(optimizer, step_size=10, gamma=0.5)\n",
    "train_loader = torch.utils.data.DataLoader(dataset, batch_size=BATCH_SIZE, num_workers=8)"
   ]
  },
  {
   "cell_type": "code",
   "execution_count": 175,
   "metadata": {
    "ExecuteTime": {
     "end_time": "2019-08-10T12:20:03.537297Z",
     "start_time": "2019-08-10T12:16:40.241738Z"
    },
    "scrolled": true
   },
   "outputs": [
    {
     "name": "stdout",
     "output_type": "stream",
     "text": [
      "Epoch: 0 LR: [30.0]\n",
      "Epoch 0, Average loss: 9.885531, Train accuracy: 0.001221\n",
      "Epoch: 1 LR: [30.0]\n",
      "Epoch 1, Average loss: 9.776799, Train accuracy: 0.002205\n",
      "Epoch: 2 LR: [30.0]\n",
      "Epoch 2, Average loss: 9.592524, Train accuracy: 0.002107\n",
      "Epoch: 3 LR: [30.0]\n",
      "Epoch 3, Average loss: 9.459579, Train accuracy: 0.003263\n",
      "Epoch: 4 LR: [30.0]\n",
      "Epoch 4, Average loss: 9.358930, Train accuracy: 0.004491\n",
      "Epoch: 5 LR: [30.0]\n",
      "Epoch 5, Average loss: 9.248764, Train accuracy: 0.005977\n",
      "Epoch: 6 LR: [30.0]\n",
      "Epoch 6, Average loss: 9.160006, Train accuracy: 0.008339\n",
      "Epoch: 7 LR: [30.0]\n",
      "Epoch 7, Average loss: 9.091569, Train accuracy: 0.009423\n",
      "Epoch: 8 LR: [30.0]\n",
      "Epoch 8, Average loss: 9.027348, Train accuracy: 0.010277\n",
      "Epoch: 9 LR: [30.0]\n",
      "Epoch 9, Average loss: 8.972164, Train accuracy: 0.012586\n",
      "Epoch: 10 LR: [15.0]\n",
      "Epoch 10, Average loss: 8.813927, Train accuracy: 0.016473\n",
      "Epoch: 11 LR: [15.0]\n",
      "Epoch 11, Average loss: 8.675268, Train accuracy: 0.017450\n",
      "Epoch: 12 LR: [15.0]\n",
      "Epoch 12, Average loss: 8.593120, Train accuracy: 0.018973\n",
      "Epoch: 13 LR: [15.0]\n",
      "Epoch 13, Average loss: 8.538952, Train accuracy: 0.019731\n",
      "Epoch: 14 LR: [15.0]\n",
      "Epoch 14, Average loss: 8.497890, Train accuracy: 0.020452\n",
      "Epoch: 15 LR: [15.0]\n",
      "Epoch 15, Average loss: 8.458976, Train accuracy: 0.021413\n",
      "Epoch: 16 LR: [15.0]\n",
      "Epoch 16, Average loss: 8.453433, Train accuracy: 0.022007\n",
      "Epoch: 17 LR: [15.0]\n",
      "Epoch 17, Average loss: 8.418679, Train accuracy: 0.022434\n",
      "Epoch: 18 LR: [15.0]\n",
      "Epoch 18, Average loss: 8.390121, Train accuracy: 0.023009\n",
      "Epoch: 19 LR: [15.0]\n",
      "Epoch 19, Average loss: 8.357171, Train accuracy: 0.023511\n",
      "Epoch: 20 LR: [7.5]\n",
      "Epoch 20, Average loss: 8.269372, Train accuracy: 0.026407\n",
      "Epoch: 21 LR: [7.5]\n",
      "Epoch 21, Average loss: 8.218831, Train accuracy: 0.026917\n",
      "Epoch: 22 LR: [7.5]\n",
      "Epoch 22, Average loss: 8.167409, Train accuracy: 0.028457\n",
      "Epoch: 23 LR: [7.5]\n",
      "Epoch 23, Average loss: 8.135221, Train accuracy: 0.029530\n",
      "Epoch: 24 LR: [7.5]\n",
      "Epoch 24, Average loss: 8.121166, Train accuracy: 0.028963\n",
      "Epoch: 25 LR: [7.5]\n",
      "Epoch 25, Average loss: 8.101333, Train accuracy: 0.028801\n",
      "Epoch: 26 LR: [7.5]\n",
      "Epoch 26, Average loss: 8.083067, Train accuracy: 0.028856\n",
      "Epoch: 27 LR: [7.5]\n",
      "Epoch 27, Average loss: 8.065342, Train accuracy: 0.029708\n",
      "Epoch: 28 LR: [7.5]\n",
      "Epoch 28, Average loss: 8.046029, Train accuracy: 0.029950\n",
      "Epoch: 29 LR: [7.5]\n",
      "Epoch 29, Average loss: 8.056579, Train accuracy: 0.029570\n",
      "Epoch: 30 LR: [3.75]\n",
      "Epoch 30, Average loss: 7.993690, Train accuracy: 0.031770\n",
      "Epoch: 31 LR: [3.75]\n",
      "Epoch 31, Average loss: 7.959861, Train accuracy: 0.033743\n",
      "Epoch: 32 LR: [3.75]\n",
      "Epoch 32, Average loss: 7.941754, Train accuracy: 0.032806\n",
      "Epoch: 33 LR: [3.75]\n",
      "Epoch 33, Average loss: 7.936110, Train accuracy: 0.032812\n",
      "Epoch: 34 LR: [3.75]\n",
      "Epoch 34, Average loss: 7.919207, Train accuracy: 0.034061\n",
      "Epoch: 35 LR: [3.75]\n",
      "Epoch 35, Average loss: 7.907434, Train accuracy: 0.034834\n",
      "Epoch: 36 LR: [3.75]\n",
      "Epoch 36, Average loss: 7.899483, Train accuracy: 0.033613\n",
      "Epoch: 37 LR: [3.75]\n",
      "Epoch 37, Average loss: 7.875200, Train accuracy: 0.035208\n",
      "Epoch: 38 LR: [3.75]\n",
      "Epoch 38, Average loss: 7.895198, Train accuracy: 0.033893\n",
      "Epoch: 39 LR: [3.75]\n",
      "Epoch 39, Average loss: 7.881465, Train accuracy: 0.033508\n",
      "Epoch: 40 LR: [1.875]\n",
      "Epoch 40, Average loss: 7.868042, Train accuracy: 0.034302\n",
      "Epoch: 41 LR: [1.875]\n",
      "Epoch 41, Average loss: 7.849254, Train accuracy: 0.035702\n",
      "Epoch: 42 LR: [1.875]\n",
      "Epoch 42, Average loss: 7.830858, Train accuracy: 0.035406\n",
      "Epoch: 43 LR: [1.875]\n",
      "Epoch 43, Average loss: 7.819797, Train accuracy: 0.035112\n",
      "Epoch: 44 LR: [1.875]\n",
      "Epoch 44, Average loss: 7.821610, Train accuracy: 0.035082\n",
      "Epoch: 45 LR: [1.875]\n",
      "Epoch 45, Average loss: 7.805471, Train accuracy: 0.035568\n",
      "Epoch: 46 LR: [1.875]\n",
      "Epoch 46, Average loss: 7.802055, Train accuracy: 0.035449\n",
      "Epoch: 47 LR: [1.875]\n",
      "Epoch 47, Average loss: 7.813186, Train accuracy: 0.034912\n",
      "Epoch: 48 LR: [1.875]\n",
      "Epoch 48, Average loss: 7.803046, Train accuracy: 0.035347\n",
      "Epoch: 49 LR: [1.875]\n",
      "Epoch 49, Average loss: 7.790776, Train accuracy: 0.036196\n",
      "CPU times: user 2min, sys: 1min 12s, total: 3min 12s\n",
      "Wall time: 3min 23s\n"
     ]
    }
   ],
   "source": [
    "%%time\n",
    "loss_history, train_history = train_model(nn_model, dataset, train_loader, optimizer, scheduler, 50)"
   ]
  },
  {
   "cell_type": "code",
   "execution_count": 177,
   "metadata": {
    "ExecuteTime": {
     "end_time": "2019-08-10T12:21:53.683807Z",
     "start_time": "2019-08-10T12:21:53.473535Z"
    }
   },
   "outputs": [
    {
     "data": {
      "image/png": "[encoded data removed]",
      "text/plain": [
       "<Figure size 720x576 with 2 Axes>"
      ]
     },
     "metadata": {
      "needs_background": "light"
     },
     "output_type": "display_data"
    }
   ],
   "source": [
    "# Visualize training graphs\n",
    "fig, ax = plt.subplots(nrows=2, ncols=1, figsize=(10,8))\n",
    "ax[0].plot(loss_history)\n",
    "ax[1].plot(train_history, label='train')\n",
    "#ax[1].plot(val_history, label='valid')\n",
    "ax[0].set_title('Loss')\n",
    "ax[1].set_title('Accuracy')\n",
    "plt.legend()\n",
    "plt.show()"
   ]
  },
  {
   "cell_type": "markdown",
   "metadata": {},
   "source": [
    "# Визуализируем вектора для разного вида слов до и после тренировки\n",
    "\n",
    "В случае успешной тренировки вы должны увидеть как вектора слов разных типов (например, знаков препинания, предлогов и остальных) разделяются семантически.\n",
    "\n",
    "Студенты - в качестве выполненного задания присылайте notebook с диаграммами!"
   ]
  },
  {
   "cell_type": "code",
   "execution_count": 190,
   "metadata": {
    "ExecuteTime": {
     "end_time": "2019-08-10T12:26:21.800363Z",
     "start_time": "2019-08-10T12:26:21.793403Z"
    }
   },
   "outputs": [],
   "source": [
    "trained_input_vectors, trained_output_vectors = extract_word_vectors(nn_model)\n",
    "assert trained_input_vectors.shape == (data.num_tokens(), wordvec_dim)\n",
    "assert trained_output_vectors.shape == (data.num_tokens(), wordvec_dim)\n",
    "\n",
    "def visualize_vectors(input_vectors, output_vectors, title=''):\n",
    "    full_vectors = torch.cat((input_vectors, output_vectors), 0).cpu().detach().numpy()\n",
    "    wordvec_embedding = PCA(n_components=2).fit_transform(full_vectors)\n",
    "\n",
    "    # Helpful words form CS244D example\n",
    "    # http://cs224d.stanford.edu/assignment1/index.html\n",
    "    visualize_words = {'green': [\"the\", \"a\", \"an\"], \n",
    "                      'blue': [\",\", \".\", \"?\", \"!\", \"``\", \"''\", \"--\"], \n",
    "                      'brown': [\"good\", \"great\", \"cool\", \"brilliant\", \"wonderful\", \n",
    "                              \"well\", \"amazing\", \"worth\", \"sweet\", \"enjoyable\"],\n",
    "                      'orange': [\"boring\", \"bad\", \"waste\", \"dumb\", \"annoying\", \"stupid\"],\n",
    "                      'red': ['tell', 'told', 'said', 'say', 'says', 'tells', 'goes', 'go', 'went']\n",
    "                     }\n",
    "\n",
    "    plt.figure(figsize=(7,7))\n",
    "    plt.suptitle(title)\n",
    "    for color, words in visualize_words.items():\n",
    "        points = np.array([wordvec_embedding[data.index_by_token[w]] for w in words])\n",
    "        for i, word in enumerate(words):\n",
    "            plt.text(points[i, 0], points[i, 1], word, color=color,horizontalalignment='center')\n",
    "        plt.scatter(points[:, 0], points[:, 1], c=color, alpha=0.3, s=0.5)"
   ]
  },
  {
   "cell_type": "code",
   "execution_count": 191,
   "metadata": {
    "ExecuteTime": {
     "end_time": "2019-08-10T12:26:24.926748Z",
     "start_time": "2019-08-10T12:26:24.174953Z"
    }
   },
   "outputs": [
    {
     "data": {
      "image/png": "[encoded data removed]",
      "text/plain": [
       "<Figure size 504x504 with 1 Axes>"
      ]
     },
     "metadata": {
      "needs_background": "light"
     },
     "output_type": "display_data"
    },
    {
     "data": {
      "image/png": "[encoded data removed]",
      "text/plain": [
       "<Figure size 504x504 with 1 Axes>"
      ]
     },
     "metadata": {
      "needs_background": "light"
     },
     "output_type": "display_data"
    }
   ],
   "source": [
    "visualize_vectors(untrained_input_vectors, untrained_output_vectors, \"Untrained word vectors\")\n",
    "visualize_vectors(trained_input_vectors, trained_output_vectors, \"Trained word vectors\")"
   ]
  },
  {
   "cell_type": "code",
   "execution_count": null,
   "metadata": {},
   "outputs": [],
   "source": []
  }
 ],
 "metadata": {
  "kernelspec": {
   "display_name": "Python 3",
   "language": "python",
   "name": "python3"
  },
  "language_info": {
   "codemirror_mode": {
    "name": "ipython",
    "version": 3
   },
   "file_extension": ".py",
   "mimetype": "text/x-python",
   "name": "python",
   "nbconvert_exporter": "python",
   "pygments_lexer": "ipython3",
   "version": "3.6.8"
  },
  "varInspector": {
   "cols": {
    "lenName": 16,
    "lenType": 16,
    "lenVar": 40
   },
   "kernels_config": {
    "python": {
     "delete_cmd_postfix": "",
     "delete_cmd_prefix": "del ",
     "library": "var_list.py",
     "varRefreshCmd": "print(var_dic_list())"
    },
    "r": {
     "delete_cmd_postfix": ") ",
     "delete_cmd_prefix": "rm(",
     "library": "var_list.r",
     "varRefreshCmd": "cat(var_dic_list()) "
    }
   },
   "types_to_exclude": [
    "module",
    "function",
    "builtin_function_or_method",
    "instance",
    "_Feature"
   ],
   "window_display": false
  }
 },
 "nbformat": 4,
 "nbformat_minor": 2
}
